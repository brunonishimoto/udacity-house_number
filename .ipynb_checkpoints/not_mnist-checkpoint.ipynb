{
 "cells": [
  {
   "cell_type": "code",
   "execution_count": 1,
   "metadata": {},
   "outputs": [],
   "source": [
    "# These are all the modules we'll be using later. Make sure you can import them\n",
    "# before proceeding further.\n",
    "from __future__ import print_function\n",
    "import imageio\n",
    "import matplotlib.pyplot as plt\n",
    "import numpy as np\n",
    "import os\n",
    "import sys\n",
    "import tarfile\n",
    "import scipy\n",
    "import skimage\n",
    "import tensorflow as tf\n",
    "from IPython.display import display, Image\n",
    "from sklearn.linear_model import LogisticRegression\n",
    "from six.moves.urllib.request import urlretrieve\n",
    "from six.moves import cPickle as pickle\n",
    "\n",
    "# Config the matplotlib backend as plotting inline in IPython\n",
    "%matplotlib inline"
   ]
  },
  {
   "cell_type": "code",
   "execution_count": 2,
   "metadata": {},
   "outputs": [
    {
     "name": "stdout",
     "output_type": "stream",
     "text": [
      "Found and verified ./dataset/notmnist/notMNIST_large.tar.gz\n",
      "Found and verified ./dataset/notmnist/notMNIST_small.tar.gz\n"
     ]
    }
   ],
   "source": [
    "url = 'https://commondatastorage.googleapis.com/books1000/'\n",
    "last_percent_reported = None\n",
    "data_root = './dataset/notmnist' # Change me to store data elsewhere\n",
    "\n",
    "def download_progress_hook(count, blockSize, totalSize):\n",
    "    \"\"\"A hook to report the progress of a download. This is mostly intended for users with\n",
    "    slow internet connections. Reports every 5% change in download progress.\n",
    "    \"\"\"\n",
    "    global last_percent_reported\n",
    "    percent = int(count * blockSize * 100 / totalSize)\n",
    "\n",
    "    if last_percent_reported != percent:\n",
    "        if percent % 5 == 0:\n",
    "            sys.stdout.write(\"%s%%\" % percent)\n",
    "            sys.stdout.flush()\n",
    "        else:\n",
    "            sys.stdout.write(\".\")\n",
    "            sys.stdout.flush()\n",
    "      \n",
    "        last_percent_reported = percent\n",
    "        \n",
    "def maybe_download(filename, expected_bytes, force=False):\n",
    "    \"\"\"Download a file if not present, and make sure it's the right size.\"\"\"\n",
    "    dest_filename = os.path.join(data_root, filename)\n",
    "    if force or not os.path.exists(dest_filename):\n",
    "        print('Attempting to download:', filename) \n",
    "        filename, _ = urlretrieve(url + filename, dest_filename, reporthook=download_progress_hook)\n",
    "        print('\\nDownload Complete!')\n",
    "    statinfo = os.stat(dest_filename)\n",
    "    if statinfo.st_size == expected_bytes:\n",
    "        print('Found and verified', dest_filename)\n",
    "    else:\n",
    "        raise Exception('Failed to verify ' + dest_filename + '. Can you get to it with a browser?')\n",
    "    return dest_filename\n",
    "\n",
    "train_filename = maybe_download('notMNIST_large.tar.gz', 247336696)\n",
    "test_filename = maybe_download('notMNIST_small.tar.gz', 8458043)"
   ]
  },
  {
   "cell_type": "code",
   "execution_count": 3,
   "metadata": {},
   "outputs": [
    {
     "name": "stdout",
     "output_type": "stream",
     "text": [
      "./dataset/notmnist/notMNIST_large already present - Skipping extraction of ./dataset/notmnist/notMNIST_large.tar.gz.\n",
      "['./dataset/notmnist/notMNIST_large/A', './dataset/notmnist/notMNIST_large/B', './dataset/notmnist/notMNIST_large/C', './dataset/notmnist/notMNIST_large/D', './dataset/notmnist/notMNIST_large/E', './dataset/notmnist/notMNIST_large/F', './dataset/notmnist/notMNIST_large/G', './dataset/notmnist/notMNIST_large/H', './dataset/notmnist/notMNIST_large/I', './dataset/notmnist/notMNIST_large/J']\n",
      "./dataset/notmnist/notMNIST_small already present - Skipping extraction of ./dataset/notmnist/notMNIST_small.tar.gz.\n",
      "['./dataset/notmnist/notMNIST_small/A', './dataset/notmnist/notMNIST_small/B', './dataset/notmnist/notMNIST_small/C', './dataset/notmnist/notMNIST_small/D', './dataset/notmnist/notMNIST_small/E', './dataset/notmnist/notMNIST_small/F', './dataset/notmnist/notMNIST_small/G', './dataset/notmnist/notMNIST_small/H', './dataset/notmnist/notMNIST_small/I', './dataset/notmnist/notMNIST_small/J']\n"
     ]
    }
   ],
   "source": [
    "num_classes = 10\n",
    "np.random.seed(133)\n",
    "\n",
    "def maybe_extract(filename, force=False):\n",
    "    root = os.path.splitext(os.path.splitext(filename)[0])[0]  # remove .tar.gz\n",
    "    if os.path.isdir(root) and not force:\n",
    "        # You may override by setting force=True.\n",
    "        print('%s already present - Skipping extraction of %s.' % (root, filename))\n",
    "    else:\n",
    "        print('Extracting data for %s. This may take a while. Please wait.' % root)\n",
    "        tar = tarfile.open(filename)\n",
    "        sys.stdout.flush()\n",
    "        tar.extractall(data_root)\n",
    "        tar.close()\n",
    "    data_folders = [\n",
    "        os.path.join(root, d) for d in sorted(os.listdir(root)) if os.path.isdir(os.path.join(root, d))]\n",
    "    if len(data_folders) != num_classes:\n",
    "        raise Exception('Expected %d folders, one per class. Found %d instead.' % (num_classes, len(data_folders)))\n",
    "    print(data_folders)\n",
    "    return data_folders\n",
    "  \n",
    "train_folders = maybe_extract(train_filename)\n",
    "test_folders  = maybe_extract(test_filename)"
   ]
  },
  {
   "cell_type": "code",
   "execution_count": 4,
   "metadata": {},
   "outputs": [
    {
     "name": "stdout",
     "output_type": "stream",
     "text": [
      "Displaying images in:  notMNIST_large\n",
      "Label:  A\n"
     ]
    },
    {
     "data": {
      "image/png": "[encoded data removed]",
      "text/plain": [
       "<IPython.core.display.Image object>"
      ]
     },
     "metadata": {
      "image/png": {
       "height": 20,
       "width": 20
      }
     },
     "output_type": "display_data"
    },
    {
     "data": {
      "image/png": "[encoded data removed]",
      "text/plain": [
       "<IPython.core.display.Image object>"
      ]
     },
     "metadata": {
      "image/png": {
       "height": 20,
       "width": 20
      }
     },
     "output_type": "display_data"
    },
    {
     "data": {
      "image/png": "[encoded data removed]",
      "text/plain": [
       "<IPython.core.display.Image object>"
      ]
     },
     "metadata": {
      "image/png": {
       "height": 20,
       "width": 20
      }
     },
     "output_type": "display_data"
    },
    {
     "data": {
      "image/png": "[encoded data removed]",
      "text/plain": [
       "<IPython.core.display.Image object>"
      ]
     },
     "metadata": {
      "image/png": {
       "height": 20,
       "width": 20
      }
     },
     "output_type": "display_data"
    },
    {
     "data": {
      "image/png": "[encoded data removed]",
      "text/plain": [
       "<IPython.core.display.Image object>"
      ]
     },
     "metadata": {
      "image/png": {
       "height": 20,
       "width": 20
      }
     },
     "output_type": "display_data"
    },
    {
     "name": "stdout",
     "output_type": "stream",
     "text": [
      "Label:  B\n"
     ]
    },
    {
     "data": {
      "image/png": "[encoded data removed]",
      "text/plain": [
       "<IPython.core.display.Image object>"
      ]
     },
     "metadata": {
      "image/png": {
       "height": 20,
       "width": 20
      }
     },
     "output_type": "display_data"
    },
    {
     "data": {
      "image/png": "[encoded data removed]",
      "text/plain": [
       "<IPython.core.display.Image object>"
      ]
     },
     "metadata": {
      "image/png": {
       "height": 20,
       "width": 20
      }
     },
     "output_type": "display_data"
    },
    {
     "data": {
      "image/png": "[encoded data removed]",
      "text/plain": [
       "<IPython.core.display.Image object>"
      ]
     },
     "metadata": {
      "image/png": {
       "height": 20,
       "width": 20
      }
     },
     "output_type": "display_data"
    },
    {
     "data": {
      "image/png": "[encoded data removed]",
      "text/plain": [
       "<IPython.core.display.Image object>"
      ]
     },
     "metadata": {
      "image/png": {
       "height": 20,
       "width": 20
      }
     },
     "output_type": "display_data"
    },
    {
     "data": {
      "image/png": "[encoded data removed]",
      "text/plain": [
       "<IPython.core.display.Image object>"
      ]
     },
     "metadata": {
      "image/png": {
       "height": 20,
       "width": 20
      }
     },
     "output_type": "display_data"
    },
    {
     "name": "stdout",
     "output_type": "stream",
     "text": [
      "Label:  C\n"
     ]
    },
    {
     "data": {
      "image/png": "[encoded data removed]",
      "text/plain": [
       "<IPython.core.display.Image object>"
      ]
     },
     "metadata": {
      "image/png": {
       "height": 20,
       "width": 20
      }
     },
     "output_type": "display_data"
    },
    {
     "data": {
      "image/png": "[encoded data removed]",
      "text/plain": [
       "<IPython.core.display.Image object>"
      ]
     },
     "metadata": {
      "image/png": {
       "height": 20,
       "width": 20
      }
     },
     "output_type": "display_data"
    },
    {
     "data": {
      "image/png": "[encoded data removed]",
      "text/plain": [
       "<IPython.core.display.Image object>"
      ]
     },
     "metadata": {
      "image/png": {
       "height": 20,
       "width": 20
      }
     },
     "output_type": "display_data"
    },
    {
     "data": {
      "image/png": "[encoded data removed]",
      "text/plain": [
       "<IPython.core.display.Image object>"
      ]
     },
     "metadata": {
      "image/png": {
       "height": 20,
       "width": 20
      }
     },
     "output_type": "display_data"
    },
    {
     "data": {
      "image/png": "[encoded data removed]",
      "text/plain": [
       "<IPython.core.display.Image object>"
      ]
     },
     "metadata": {
      "image/png": {
       "height": 20,
       "width": 20
      }
     },
     "output_type": "display_data"
    },
    {
     "name": "stdout",
     "output_type": "stream",
     "text": [
      "Label:  D\n"
     ]
    },
    {
     "data": {
      "image/png": "[encoded data removed]",
      "text/plain": [
       "<IPython.core.display.Image object>"
      ]
     },
     "metadata": {
      "image/png": {
       "height": 20,
       "width": 20
      }
     },
     "output_type": "display_data"
    },
    {
     "data": {
      "image/png": "[encoded data removed]",
      "text/plain": [
       "<IPython.core.display.Image object>"
      ]
     },
     "metadata": {
      "image/png": {
       "height": 20,
       "width": 20
      }
     },
     "output_type": "display_data"
    },
    {
     "data": {
      "image/png": "[encoded data removed]",
      "text/plain": [
       "<IPython.core.display.Image object>"
      ]
     },
     "metadata": {
      "image/png": {
       "height": 20,
       "width": 20
      }
     },
     "output_type": "display_data"
    },
    {
     "data": {
      "image/png": "[encoded data removed]",
      "text/plain": [
       "<IPython.core.display.Image object>"
      ]
     },
     "metadata": {
      "image/png": {
       "height": 20,
       "width": 20
      }
     },
     "output_type": "display_data"
    },
    {
     "data": {
      "image/png": "[encoded data removed]",
      "text/plain": [
       "<IPython.core.display.Image object>"
      ]
     },
     "metadata": {
      "image/png": {
       "height": 20,
       "width": 20
      }
     },
     "output_type": "display_data"
    },
    {
     "name": "stdout",
     "output_type": "stream",
     "text": [
      "Label:  E\n"
     ]
    },
    {
     "data": {
      "image/png": "[encoded data removed]",
      "text/plain": [
       "<IPython.core.display.Image object>"
      ]
     },
     "metadata": {
      "image/png": {
       "height": 20,
       "width": 20
      }
     },
     "output_type": "display_data"
    },
    {
     "data": {
      "image/png": "[encoded data removed]",
      "text/plain": [
       "<IPython.core.display.Image object>"
      ]
     },
     "metadata": {
      "image/png": {
       "height": 20,
       "width": 20
      }
     },
     "output_type": "display_data"
    },
    {
     "data": {
      "image/png": "[encoded data removed]",
      "text/plain": [
       "<IPython.core.display.Image object>"
      ]
     },
     "metadata": {
      "image/png": {
       "height": 20,
       "width": 20
      }
     },
     "output_type": "display_data"
    },
    {
     "data": {
      "image/png": "[encoded data removed]",
      "text/plain": [
       "<IPython.core.display.Image object>"
      ]
     },
     "metadata": {
      "image/png": {
       "height": 20,
       "width": 20
      }
     },
     "output_type": "display_data"
    },
    {
     "data": {
      "image/png": "[encoded data removed]",
      "text/plain": [
       "<IPython.core.display.Image object>"
      ]
     },
     "metadata": {
      "image/png": {
       "height": 20,
       "width": 20
      }
     },
     "output_type": "display_data"
    },
    {
     "name": "stdout",
     "output_type": "stream",
     "text": [
      "Label:  F\n"
     ]
    },
    {
     "data": {
      "image/png": "[encoded data removed]",
      "text/plain": [
       "<IPython.core.display.Image object>"
      ]
     },
     "metadata": {
      "image/png": {
       "height": 20,
       "width": 20
      }
     },
     "output_type": "display_data"
    },
    {
     "data": {
      "image/png": "[encoded data removed]",
      "text/plain": [
       "<IPython.core.display.Image object>"
      ]
     },
     "metadata": {
      "image/png": {
       "height": 20,
       "width": 20
      }
     },
     "output_type": "display_data"
    },
    {
     "data": {
      "image/png": "[encoded data removed]",
      "text/plain": [
       "<IPython.core.display.Image object>"
      ]
     },
     "metadata": {
      "image/png": {
       "height": 20,
       "width": 20
      }
     },
     "output_type": "display_data"
    },
    {
     "data": {
      "image/png": "[encoded data removed]",
      "text/plain": [
       "<IPython.core.display.Image object>"
      ]
     },
     "metadata": {
      "image/png": {
       "height": 20,
       "width": 20
      }
     },
     "output_type": "display_data"
    },
    {
     "data": {
      "image/png": "[encoded data removed]",
      "text/plain": [
       "<IPython.core.display.Image object>"
      ]
     },
     "metadata": {
      "image/png": {
       "height": 20,
       "width": 20
      }
     },
     "output_type": "display_data"
    },
    {
     "name": "stdout",
     "output_type": "stream",
     "text": [
      "Label:  G\n"
     ]
    },
    {
     "data": {
      "image/png": "[encoded data removed]",
      "text/plain": [
       "<IPython.core.display.Image object>"
      ]
     },
     "metadata": {
      "image/png": {
       "height": 20,
       "width": 20
      }
     },
     "output_type": "display_data"
    },
    {
     "data": {
      "image/png": "[encoded data removed]",
      "text/plain": [
       "<IPython.core.display.Image object>"
      ]
     },
     "metadata": {
      "image/png": {
       "height": 20,
       "width": 20
      }
     },
     "output_type": "display_data"
    },
    {
     "data": {
      "image/png": "[encoded data removed]",
      "text/plain": [
       "<IPython.core.display.Image object>"
      ]
     },
     "metadata": {
      "image/png": {
       "height": 20,
       "width": 20
      }
     },
     "output_type": "display_data"
    },
    {
     "data": {
      "image/png": "[encoded data removed]",
      "text/plain": [
       "<IPython.core.display.Image object>"
      ]
     },
     "metadata": {
      "image/png": {
       "height": 20,
       "width": 20
      }
     },
     "output_type": "display_data"
    },
    {
     "data": {
      "image/png": "[encoded data removed]",
      "text/plain": [
       "<IPython.core.display.Image object>"
      ]
     },
     "metadata": {
      "image/png": {
       "height": 20,
       "width": 20
      }
     },
     "output_type": "display_data"
    },
    {
     "name": "stdout",
     "output_type": "stream",
     "text": [
      "Label:  H\n"
     ]
    },
    {
     "data": {
      "image/png": "[encoded data removed]",
      "text/plain": [
       "<IPython.core.display.Image object>"
      ]
     },
     "metadata": {
      "image/png": {
       "height": 20,
       "width": 20
      }
     },
     "output_type": "display_data"
    },
    {
     "data": {
      "image/png": "[encoded data removed]",
      "text/plain": [
       "<IPython.core.display.Image object>"
      ]
     },
     "metadata": {
      "image/png": {
       "height": 20,
       "width": 20
      }
     },
     "output_type": "display_data"
    },
    {
     "data": {
      "image/png": "[encoded data removed]",
      "text/plain": [
       "<IPython.core.display.Image object>"
      ]
     },
     "metadata": {
      "image/png": {
       "height": 20,
       "width": 20
      }
     },
     "output_type": "display_data"
    },
    {
     "data": {
      "image/png": "[encoded data removed]",
      "text/plain": [
       "<IPython.core.display.Image object>"
      ]
     },
     "metadata": {
      "image/png": {
       "height": 20,
       "width": 20
      }
     },
     "output_type": "display_data"
    },
    {
     "data": {
      "image/png": "[encoded data removed]",
      "text/plain": [
       "<IPython.core.display.Image object>"
      ]
     },
     "metadata": {
      "image/png": {
       "height": 20,
       "width": 20
      }
     },
     "output_type": "display_data"
    },
    {
     "name": "stdout",
     "output_type": "stream",
     "text": [
      "Label:  I\n"
     ]
    },
    {
     "data": {
      "image/png": "[encoded data removed]",
      "text/plain": [
       "<IPython.core.display.Image object>"
      ]
     },
     "metadata": {
      "image/png": {
       "height": 20,
       "width": 20
      }
     },
     "output_type": "display_data"
    },
    {
     "data": {
      "image/png": "[encoded data removed]",
      "text/plain": [
       "<IPython.core.display.Image object>"
      ]
     },
     "metadata": {
      "image/png": {
       "height": 20,
       "width": 20
      }
     },
     "output_type": "display_data"
    },
    {
     "data": {
      "image/png": "[encoded data removed]",
      "text/plain": [
       "<IPython.core.display.Image object>"
      ]
     },
     "metadata": {
      "image/png": {
       "height": 20,
       "width": 20
      }
     },
     "output_type": "display_data"
    },
    {
     "data": {
      "image/png": "[encoded data removed]",
      "text/plain": [
       "<IPython.core.display.Image object>"
      ]
     },
     "metadata": {
      "image/png": {
       "height": 20,
       "width": 20
      }
     },
     "output_type": "display_data"
    },
    {
     "data": {
      "image/png": "[encoded data removed]",
      "text/plain": [
       "<IPython.core.display.Image object>"
      ]
     },
     "metadata": {
      "image/png": {
       "height": 20,
       "width": 20
      }
     },
     "output_type": "display_data"
    },
    {
     "name": "stdout",
     "output_type": "stream",
     "text": [
      "Label:  J\n"
     ]
    },
    {
     "data": {
      "image/png": "[encoded data removed]",
      "text/plain": [
       "<IPython.core.display.Image object>"
      ]
     },
     "metadata": {
      "image/png": {
       "height": 20,
       "width": 20
      }
     },
     "output_type": "display_data"
    },
    {
     "data": {
      "image/png": "[encoded data removed]",
      "text/plain": [
       "<IPython.core.display.Image object>"
      ]
     },
     "metadata": {
      "image/png": {
       "height": 20,
       "width": 20
      }
     },
     "output_type": "display_data"
    },
    {
     "data": {
      "image/png": "[encoded data removed]",
      "text/plain": [
       "<IPython.core.display.Image object>"
      ]
     },
     "metadata": {
      "image/png": {
       "height": 20,
       "width": 20
      }
     },
     "output_type": "display_data"
    },
    {
     "data": {
      "image/png": "[encoded data removed]",
      "text/plain": [
       "<IPython.core.display.Image object>"
      ]
     },
     "metadata": {
      "image/png": {
       "height": 20,
       "width": 20
      }
     },
     "output_type": "display_data"
    },
    {
     "data": {
      "image/png": "[encoded data removed]",
      "text/plain": [
       "<IPython.core.display.Image object>"
      ]
     },
     "metadata": {
      "image/png": {
       "height": 20,
       "width": 20
      }
     },
     "output_type": "display_data"
    },
    {
     "name": "stdout",
     "output_type": "stream",
     "text": [
      "Displaying images in:  notMNIST_small\n",
      "Label:  A\n"
     ]
    },
    {
     "data": {
      "image/png": "[encoded data removed]",
      "text/plain": [
       "<IPython.core.display.Image object>"
      ]
     },
     "metadata": {
      "image/png": {
       "height": 20,
       "width": 20
      }
     },
     "output_type": "display_data"
    },
    {
     "data": {
      "image/png": "[encoded data removed]",
      "text/plain": [
       "<IPython.core.display.Image object>"
      ]
     },
     "metadata": {
      "image/png": {
       "height": 20,
       "width": 20
      }
     },
     "output_type": "display_data"
    },
    {
     "data": {
      "image/png": "[encoded data removed]",
      "text/plain": [
       "<IPython.core.display.Image object>"
      ]
     },
     "metadata": {
      "image/png": {
       "height": 20,
       "width": 20
      }
     },
     "output_type": "display_data"
    },
    {
     "data": {
      "image/png": "[encoded data removed]",
      "text/plain": [
       "<IPython.core.display.Image object>"
      ]
     },
     "metadata": {
      "image/png": {
       "height": 20,
       "width": 20
      }
     },
     "output_type": "display_data"
    },
    {
     "data": {
      "image/png": "[encoded data removed]",
      "text/plain": [
       "<IPython.core.display.Image object>"
      ]
     },
     "metadata": {
      "image/png": {
       "height": 20,
       "width": 20
      }
     },
     "output_type": "display_data"
    },
    {
     "name": "stdout",
     "output_type": "stream",
     "text": [
      "Label:  B\n"
     ]
    },
    {
     "data": {
      "image/png": "[encoded data removed]",
      "text/plain": [
       "<IPython.core.display.Image object>"
      ]
     },
     "metadata": {
      "image/png": {
       "height": 20,
       "width": 20
      }
     },
     "output_type": "display_data"
    },
    {
     "data": {
      "image/png": "[encoded data removed]",
      "text/plain": [
       "<IPython.core.display.Image object>"
      ]
     },
     "metadata": {
      "image/png": {
       "height": 20,
       "width": 20
      }
     },
     "output_type": "display_data"
    },
    {
     "data": {
      "image/png": "[encoded data removed]",
      "text/plain": [
       "<IPython.core.display.Image object>"
      ]
     },
     "metadata": {
      "image/png": {
       "height": 20,
       "width": 20
      }
     },
     "output_type": "display_data"
    },
    {
     "data": {
      "image/png": "[encoded data removed]",
      "text/plain": [
       "<IPython.core.display.Image object>"
      ]
     },
     "metadata": {
      "image/png": {
       "height": 20,
       "width": 20
      }
     },
     "output_type": "display_data"
    },
    {
     "data": {
      "image/png": "[encoded data removed]",
      "text/plain": [
       "<IPython.core.display.Image object>"
      ]
     },
     "metadata": {
      "image/png": {
       "height": 20,
       "width": 20
      }
     },
     "output_type": "display_data"
    },
    {
     "name": "stdout",
     "output_type": "stream",
     "text": [
      "Label:  C\n"
     ]
    },
    {
     "data": {
      "image/png": "[encoded data removed]",
      "text/plain": [
       "<IPython.core.display.Image object>"
      ]
     },
     "metadata": {
      "image/png": {
       "height": 20,
       "width": 20
      }
     },
     "output_type": "display_data"
    },
    {
     "data": {
      "image/png": "[encoded data removed]",
      "text/plain": [
       "<IPython.core.display.Image object>"
      ]
     },
     "metadata": {
      "image/png": {
       "height": 20,
       "width": 20
      }
     },
     "output_type": "display_data"
    },
    {
     "data": {
      "image/png": "[encoded data removed]",
      "text/plain": [
       "<IPython.core.display.Image object>"
      ]
     },
     "metadata": {
      "image/png": {
       "height": 20,
       "width": 20
      }
     },
     "output_type": "display_data"
    },
    {
     "data": {
      "image/png": "[encoded data removed]",
      "text/plain": [
       "<IPython.core.display.Image object>"
      ]
     },
     "metadata": {
      "image/png": {
       "height": 20,
       "width": 20
      }
     },
     "output_type": "display_data"
    },
    {
     "data": {
      "image/png": "[encoded data removed]",
      "text/plain": [
       "<IPython.core.display.Image object>"
      ]
     },
     "metadata": {
      "image/png": {
       "height": 20,
       "width": 20
      }
     },
     "output_type": "display_data"
    },
    {
     "name": "stdout",
     "output_type": "stream",
     "text": [
      "Label:  D\n"
     ]
    },
    {
     "data": {
      "image/png": "[encoded data removed]",
      "text/plain": [
       "<IPython.core.display.Image object>"
      ]
     },
     "metadata": {
      "image/png": {
       "height": 20,
       "width": 20
      }
     },
     "output_type": "display_data"
    },
    {
     "data": {
      "image/png": "[encoded data removed]",
      "text/plain": [
       "<IPython.core.display.Image object>"
      ]
     },
     "metadata": {
      "image/png": {
       "height": 20,
       "width": 20
      }
     },
     "output_type": "display_data"
    },
    {
     "data": {
      "image/png": "[encoded data removed]",
      "text/plain": [
       "<IPython.core.display.Image object>"
      ]
     },
     "metadata": {
      "image/png": {
       "height": 20,
       "width": 20
      }
     },
     "output_type": "display_data"
    },
    {
     "data": {
      "image/png": "[encoded data removed]",
      "text/plain": [
       "<IPython.core.display.Image object>"
      ]
     },
     "metadata": {
      "image/png": {
       "height": 20,
       "width": 20
      }
     },
     "output_type": "display_data"
    },
    {
     "data": {
      "image/png": "[encoded data removed]",
      "text/plain": [
       "<IPython.core.display.Image object>"
      ]
     },
     "metadata": {
      "image/png": {
       "height": 20,
       "width": 20
      }
     },
     "output_type": "display_data"
    },
    {
     "name": "stdout",
     "output_type": "stream",
     "text": [
      "Label:  E\n"
     ]
    },
    {
     "data": {
      "image/png": "[encoded data removed]",
      "text/plain": [
       "<IPython.core.display.Image object>"
      ]
     },
     "metadata": {
      "image/png": {
       "height": 20,
       "width": 20
      }
     },
     "output_type": "display_data"
    },
    {
     "data": {
      "image/png": "[encoded data removed]",
      "text/plain": [
       "<IPython.core.display.Image object>"
      ]
     },
     "metadata": {
      "image/png": {
       "height": 20,
       "width": 20
      }
     },
     "output_type": "display_data"
    },
    {
     "data": {
      "image/png": "[encoded data removed]",
      "text/plain": [
       "<IPython.core.display.Image object>"
      ]
     },
     "metadata": {
      "image/png": {
       "height": 20,
       "width": 20
      }
     },
     "output_type": "display_data"
    },
    {
     "data": {
      "image/png": "[encoded data removed]",
      "text/plain": [
       "<IPython.core.display.Image object>"
      ]
     },
     "metadata": {
      "image/png": {
       "height": 20,
       "width": 20
      }
     },
     "output_type": "display_data"
    },
    {
     "data": {
      "image/png": "[encoded data removed]",
      "text/plain": [
       "<IPython.core.display.Image object>"
      ]
     },
     "metadata": {
      "image/png": {
       "height": 20,
       "width": 20
      }
     },
     "output_type": "display_data"
    },
    {
     "name": "stdout",
     "output_type": "stream",
     "text": [
      "Label:  F\n"
     ]
    },
    {
     "data": {
      "image/png": "[encoded data removed]",
      "text/plain": [
       "<IPython.core.display.Image object>"
      ]
     },
     "metadata": {
      "image/png": {
       "height": 20,
       "width": 20
      }
     },
     "output_type": "display_data"
    },
    {
     "data": {
      "image/png": "[encoded data removed]",
      "text/plain": [
       "<IPython.core.display.Image object>"
      ]
     },
     "metadata": {
      "image/png": {
       "height": 20,
       "width": 20
      }
     },
     "output_type": "display_data"
    },
    {
     "data": {
      "image/png": "[encoded data removed]",
      "text/plain": [
       "<IPython.core.display.Image object>"
      ]
     },
     "metadata": {
      "image/png": {
       "height": 20,
       "width": 20
      }
     },
     "output_type": "display_data"
    },
    {
     "data": {
      "image/png": "[encoded data removed]",
      "text/plain": [
       "<IPython.core.display.Image object>"
      ]
     },
     "metadata": {
      "image/png": {
       "height": 20,
       "width": 20
      }
     },
     "output_type": "display_data"
    },
    {
     "data": {
      "image/png": "[encoded data removed]",
      "text/plain": [
       "<IPython.core.display.Image object>"
      ]
     },
     "metadata": {
      "image/png": {
       "height": 20,
       "width": 20
      }
     },
     "output_type": "display_data"
    },
    {
     "name": "stdout",
     "output_type": "stream",
     "text": [
      "Label:  G\n"
     ]
    },
    {
     "data": {
      "image/png": "[encoded data removed]",
      "text/plain": [
       "<IPython.core.display.Image object>"
      ]
     },
     "metadata": {
      "image/png": {
       "height": 20,
       "width": 20
      }
     },
     "output_type": "display_data"
    },
    {
     "data": {
      "image/png": "[encoded data removed]",
      "text/plain": [
       "<IPython.core.display.Image object>"
      ]
     },
     "metadata": {
      "image/png": {
       "height": 20,
       "width": 20
      }
     },
     "output_type": "display_data"
    },
    {
     "data": {
      "image/png": "[encoded data removed]",
      "text/plain": [
       "<IPython.core.display.Image object>"
      ]
     },
     "metadata": {
      "image/png": {
       "height": 20,
       "width": 20
      }
     },
     "output_type": "display_data"
    },
    {
     "data": {
      "image/png": "[encoded data removed]",
      "text/plain": [
       "<IPython.core.display.Image object>"
      ]
     },
     "metadata": {
      "image/png": {
       "height": 20,
       "width": 20
      }
     },
     "output_type": "display_data"
    },
    {
     "data": {
      "image/png": "[encoded data removed]",
      "text/plain": [
       "<IPython.core.display.Image object>"
      ]
     },
     "metadata": {
      "image/png": {
       "height": 20,
       "width": 20
      }
     },
     "output_type": "display_data"
    },
    {
     "name": "stdout",
     "output_type": "stream",
     "text": [
      "Label:  H\n"
     ]
    },
    {
     "data": {
      "image/png": "[encoded data removed]",
      "text/plain": [
       "<IPython.core.display.Image object>"
      ]
     },
     "metadata": {
      "image/png": {
       "height": 20,
       "width": 20
      }
     },
     "output_type": "display_data"
    },
    {
     "data": {
      "image/png": "[encoded data removed]",
      "text/plain": [
       "<IPython.core.display.Image object>"
      ]
     },
     "metadata": {
      "image/png": {
       "height": 20,
       "width": 20
      }
     },
     "output_type": "display_data"
    },
    {
     "data": {
      "image/png": "[encoded data removed]",
      "text/plain": [
       "<IPython.core.display.Image object>"
      ]
     },
     "metadata": {
      "image/png": {
       "height": 20,
       "width": 20
      }
     },
     "output_type": "display_data"
    },
    {
     "data": {
      "image/png": "[encoded data removed]",
      "text/plain": [
       "<IPython.core.display.Image object>"
      ]
     },
     "metadata": {
      "image/png": {
       "height": 20,
       "width": 20
      }
     },
     "output_type": "display_data"
    },
    {
     "data": {
      "image/png": "[encoded data removed]",
      "text/plain": [
       "<IPython.core.display.Image object>"
      ]
     },
     "metadata": {
      "image/png": {
       "height": 20,
       "width": 20
      }
     },
     "output_type": "display_data"
    },
    {
     "name": "stdout",
     "output_type": "stream",
     "text": [
      "Label:  I\n"
     ]
    },
    {
     "data": {
      "image/png": "[encoded data removed]",
      "text/plain": [
       "<IPython.core.display.Image object>"
      ]
     },
     "metadata": {
      "image/png": {
       "height": 20,
       "width": 20
      }
     },
     "output_type": "display_data"
    },
    {
     "data": {
      "image/png": "[encoded data removed]",
      "text/plain": [
       "<IPython.core.display.Image object>"
      ]
     },
     "metadata": {
      "image/png": {
       "height": 20,
       "width": 20
      }
     },
     "output_type": "display_data"
    },
    {
     "data": {
      "image/png": "[encoded data removed]",
      "text/plain": [
       "<IPython.core.display.Image object>"
      ]
     },
     "metadata": {
      "image/png": {
       "height": 20,
       "width": 20
      }
     },
     "output_type": "display_data"
    },
    {
     "data": {
      "image/png": "[encoded data removed]",
      "text/plain": [
       "<IPython.core.display.Image object>"
      ]
     },
     "metadata": {
      "image/png": {
       "height": 20,
       "width": 20
      }
     },
     "output_type": "display_data"
    },
    {
     "data": {
      "image/png": "[encoded data removed]",
      "text/plain": [
       "<IPython.core.display.Image object>"
      ]
     },
     "metadata": {
      "image/png": {
       "height": 20,
       "width": 20
      }
     },
     "output_type": "display_data"
    },
    {
     "name": "stdout",
     "output_type": "stream",
     "text": [
      "Label:  J\n"
     ]
    },
    {
     "data": {
      "image/png": "[encoded data removed]",
      "text/plain": [
       "<IPython.core.display.Image object>"
      ]
     },
     "metadata": {
      "image/png": {
       "height": 20,
       "width": 20
      }
     },
     "output_type": "display_data"
    },
    {
     "data": {
      "image/png": "[encoded data removed]",
      "text/plain": [
       "<IPython.core.display.Image object>"
      ]
     },
     "metadata": {
      "image/png": {
       "height": 20,
       "width": 20
      }
     },
     "output_type": "display_data"
    },
    {
     "data": {
      "image/png": "[encoded data removed]",
      "text/plain": [
       "<IPython.core.display.Image object>"
      ]
     },
     "metadata": {
      "image/png": {
       "height": 20,
       "width": 20
      }
     },
     "output_type": "display_data"
    },
    {
     "data": {
      "image/png": "[encoded data removed]",
      "text/plain": [
       "<IPython.core.display.Image object>"
      ]
     },
     "metadata": {
      "image/png": {
       "height": 20,
       "width": 20
      }
     },
     "output_type": "display_data"
    },
    {
     "data": {
      "image/png": "[encoded data removed]",
      "text/plain": [
       "<IPython.core.display.Image object>"
      ]
     },
     "metadata": {
      "image/png": {
       "height": 20,
       "width": 20
      }
     },
     "output_type": "display_data"
    }
   ],
   "source": [
    "import random\n",
    "\n",
    "# Visualise a sample of each label\n",
    "def display_images(filename, samples_per_label):\n",
    "    print ('Displaying images in: ', filename)\n",
    "    folder = os.path.join(data_root, filename)\n",
    "    for label in sorted(os.listdir(folder)):\n",
    "        if(label.endswith('.pickle') == False):\n",
    "            print ('Label: ', label)\n",
    "            label_folder = os.path.join(folder, label)\n",
    "            dirs = os.listdir(label_folder)\n",
    "            random.shuffle(dirs)\n",
    "            for image in dirs[:samples_per_label]:\n",
    "                display(Image(filename=os.path.join(label_folder, image), width=20.0, height=20.0))\n",
    "            \n",
    "display_images('notMNIST_large', 5)\n",
    "display_images('notMNIST_small', 5)"
   ]
  },
  {
   "cell_type": "code",
   "execution_count": 5,
   "metadata": {},
   "outputs": [],
   "source": [
    "def saveAsPickle(data,filename):\n",
    "    try:\n",
    "        with open(filename, 'wb') as f:\n",
    "            pickle.dump(data, f, pickle.HIGHEST_PROTOCOL)\n",
    "            print (filename + \" pickled!\")\n",
    "    except Exception as e:\n",
    "        print('Unable to save data to', filename, ':', e)\n",
    "        \n",
    "def loadPickle(file):\n",
    "    with open(file, 'rb') as pickle_file:\n",
    "        return pickle.load(pickle_file)"
   ]
  },
  {
   "cell_type": "code",
   "execution_count": 6,
   "metadata": {},
   "outputs": [
    {
     "name": "stdout",
     "output_type": "stream",
     "text": [
      "./dataset/notmnist/notMNIST_large/A.pickle already present - Skipping pickling.\n",
      "./dataset/notmnist/notMNIST_large/B.pickle already present - Skipping pickling.\n",
      "./dataset/notmnist/notMNIST_large/C.pickle already present - Skipping pickling.\n",
      "./dataset/notmnist/notMNIST_large/D.pickle already present - Skipping pickling.\n",
      "./dataset/notmnist/notMNIST_large/E.pickle already present - Skipping pickling.\n",
      "./dataset/notmnist/notMNIST_large/F.pickle already present - Skipping pickling.\n",
      "./dataset/notmnist/notMNIST_large/G.pickle already present - Skipping pickling.\n",
      "./dataset/notmnist/notMNIST_large/H.pickle already present - Skipping pickling.\n",
      "./dataset/notmnist/notMNIST_large/I.pickle already present - Skipping pickling.\n",
      "./dataset/notmnist/notMNIST_large/J.pickle already present - Skipping pickling.\n",
      "./dataset/notmnist/notMNIST_small/A.pickle already present - Skipping pickling.\n",
      "./dataset/notmnist/notMNIST_small/B.pickle already present - Skipping pickling.\n",
      "./dataset/notmnist/notMNIST_small/C.pickle already present - Skipping pickling.\n",
      "./dataset/notmnist/notMNIST_small/D.pickle already present - Skipping pickling.\n",
      "./dataset/notmnist/notMNIST_small/E.pickle already present - Skipping pickling.\n",
      "./dataset/notmnist/notMNIST_small/F.pickle already present - Skipping pickling.\n",
      "./dataset/notmnist/notMNIST_small/G.pickle already present - Skipping pickling.\n",
      "./dataset/notmnist/notMNIST_small/H.pickle already present - Skipping pickling.\n",
      "./dataset/notmnist/notMNIST_small/I.pickle already present - Skipping pickling.\n",
      "./dataset/notmnist/notMNIST_small/J.pickle already present - Skipping pickling.\n"
     ]
    }
   ],
   "source": [
    "image_size = 28  # Pixel width and height.\n",
    "pixel_depth = 255.0  # Number of levels per pixel.\n",
    "\n",
    "def load_letter(folder, min_num_images):\n",
    "    \"\"\"Load the data for a single letter label.\"\"\"\n",
    "    image_files = os.listdir(folder)\n",
    "    dataset = np.ndarray(shape=(len(image_files), image_size, image_size), dtype=np.float32)\n",
    "    print(folder)\n",
    "    num_images = 0\n",
    "    for image in image_files:\n",
    "        image_file = os.path.join(folder, image)\n",
    "        try:\n",
    "            image_data = (imageio.imread(image_file).astype(float) - pixel_depth / 2) / pixel_depth\n",
    "            if image_data.shape != (image_size, image_size):\n",
    "                raise Exception('Unexpected image shape: %s' % str(image_data.shape))\n",
    "            dataset[num_images, :, :] = image_data\n",
    "            num_images = num_images + 1\n",
    "        except (IOError, ValueError) as e:\n",
    "            print('Could not read:', image_file, ':', e, '- it\\'s ok, skipping.')\n",
    "    \n",
    "    dataset = dataset[0:num_images, :, :]\n",
    "    if num_images < min_num_images:\n",
    "        raise Exception('Many fewer images than expected: %d < %d' % (num_images, min_num_images))\n",
    "    \n",
    "    print('Full dataset tensor:', dataset.shape)\n",
    "    print('Mean:', np.mean(dataset))\n",
    "    print('Standard deviation:', np.std(dataset))\n",
    "    return dataset\n",
    "        \n",
    "def maybe_pickle(data_folders, min_num_images_per_class, force=False):\n",
    "    dataset_names = []\n",
    "    for folder in data_folders:\n",
    "        set_filename = folder + '.pickle'\n",
    "        dataset_names.append(set_filename)\n",
    "        if os.path.exists(set_filename) and not force:\n",
    "            # You may override by setting force=True.\n",
    "            print('%s already present - Skipping pickling.' % set_filename)\n",
    "        else:\n",
    "            print('Pickling %s.' % set_filename)\n",
    "            dataset = load_letter(folder, min_num_images_per_class)\n",
    "            saveAsPickle(dataset, set_filename)\n",
    "    return dataset_names\n",
    "\n",
    "train_datasets = maybe_pickle(train_folders, 45000)\n",
    "test_datasets = maybe_pickle(test_folders, 1800)"
   ]
  },
  {
   "cell_type": "code",
   "execution_count": 7,
   "metadata": {},
   "outputs": [
    {
     "name": "stdout",
     "output_type": "stream",
     "text": [
      "Displaying pickles from train dataset\n"
     ]
    },
    {
     "data": {
      "image/png": "[encoded data removed]",
      "text/plain": [
       "<Figure size 720x720 with 50 Axes>"
      ]
     },
     "metadata": {
      "needs_background": "light"
     },
     "output_type": "display_data"
    },
    {
     "name": "stdout",
     "output_type": "stream",
     "text": [
      "Displaying pickles from test dataset\n"
     ]
    },
    {
     "data": {
      "image/png": "[encoded data removed]",
      "text/plain": [
       "<Figure size 720x720 with 50 Axes>"
      ]
     },
     "metadata": {
      "needs_background": "light"
     },
     "output_type": "display_data"
    }
   ],
   "source": [
    "plt.rcParams['figure.figsize'] = (10.0, 10.0) # set default size of plots\n",
    "labels = ['A', 'B', 'C', 'D', 'E', 'F', 'G', 'H', 'I', 'J']\n",
    "num_labels = len(labels)\n",
    "\n",
    "def display_pickle(dataset, samples_per_label):\n",
    "    for y, label in enumerate(labels):\n",
    "        pickles = loadPickle(dataset[y])\n",
    "        idxs = np.random.choice(pickles.shape[0], samples_per_label, replace=False)\n",
    "        for i, idx in enumerate(idxs):\n",
    "            plt_idx = i * num_labels + y + 1\n",
    "            plt.subplot(samples_per_label, num_labels, plt_idx)\n",
    "            plt.imshow(pickles[idx, :, :])\n",
    "            plt.axis('off')\n",
    "            if i == 0:\n",
    "                plt.title(label)\n",
    "    plt.show()\n",
    "    \n",
    "\n",
    "print ('Displaying pickles from train dataset')\n",
    "display_pickle(train_datasets, 5)\n",
    "print ('Displaying pickles from test dataset')\n",
    "display_pickle(test_datasets, 5)"
   ]
  },
  {
   "cell_type": "code",
   "execution_count": 8,
   "metadata": {},
   "outputs": [
    {
     "name": "stdout",
     "output_type": "stream",
     "text": [
      "Train Dataset\n",
      "Label: A --- num example: 52909\n",
      "Label: B --- num example: 52911\n",
      "Label: C --- num example: 52912\n",
      "Label: D --- num example: 52911\n",
      "Label: E --- num example: 52912\n",
      "Label: F --- num example: 52912\n",
      "Label: G --- num example: 52912\n",
      "Label: H --- num example: 52912\n",
      "Label: I --- num example: 52912\n",
      "Label: J --- num example: 52911\n",
      "Test Dataset\n",
      "Label: A --- num example: 1872\n",
      "Label: B --- num example: 1873\n",
      "Label: C --- num example: 1873\n",
      "Label: D --- num example: 1873\n",
      "Label: E --- num example: 1873\n",
      "Label: F --- num example: 1872\n",
      "Label: G --- num example: 1872\n",
      "Label: H --- num example: 1872\n",
      "Label: I --- num example: 1872\n",
      "Label: J --- num example: 1872\n"
     ]
    }
   ],
   "source": [
    "# Verify if the data is balanced across classes\n",
    "labels = ['A', 'B', 'C', 'D', 'E', 'F', 'G', 'H', 'I', 'J']\n",
    "num_labels = len(labels)\n",
    "\n",
    "def print_num_example(dataset):\n",
    "    for y, label in enumerate(labels):\n",
    "        pickles = loadPickle(dataset[y])\n",
    "        print ('Label: %s --- num example: %d' % (label, pickles.shape[0]))\n",
    "\n",
    "print ('Train Dataset')\n",
    "print_num_example(train_datasets)\n",
    "print ('Test Dataset')\n",
    "print_num_example(test_datasets)"
   ]
  },
  {
   "cell_type": "code",
   "execution_count": 9,
   "metadata": {},
   "outputs": [
    {
     "name": "stdout",
     "output_type": "stream",
     "text": [
      "Datasets already exists\n"
     ]
    }
   ],
   "source": [
    "img_size = image_size\n",
    "new_size = (28, 56)\n",
    "\n",
    "def make_arrays(nb_rows, size):\n",
    "    if nb_rows:\n",
    "        dataset = np.ndarray((nb_rows, size[0], size[1]), dtype=np.float32)\n",
    "        labels = np.ndarray((nb_rows, 6), dtype=np.int32)\n",
    "    else:\n",
    "        dataset, labels = None, None\n",
    "    return dataset, labels\n",
    "\n",
    "def merge_datasets(pickle_files, dataset_size):\n",
    "    dataset, labels = make_arrays(dataset_size, new_size)\n",
    "    pickles = []\n",
    "    for i in range(10):\n",
    "        pickles.append(pickle.load(open(pickle_files[i], 'rb')))\n",
    "\n",
    "    for i in range(dataset_size):\n",
    "        # Generate a random label with max length 5 chars\n",
    "        data_length  = np.random.choice(5, 1)[0] + 1\n",
    "#         data_length = 5\n",
    "#         random_chars = np.random.choice(10, data_length)\n",
    "        random_chars = np.random.choice(9, data_length)\n",
    "        data_label   = np.append(random_chars, np.full(5 - data_length, 0, dtype=int))\n",
    "        data_label   = np.insert(data_label, 0, data_length - 1)\n",
    "        \n",
    "        chars = []\n",
    "        \n",
    "        for char in random_chars:\n",
    "            index = np.random.choice(len(pickles[char]), 1)\n",
    "            chars.append(np.reshape(pickles[char][index, :, :], (img_size, img_size)))\n",
    "\n",
    "        image = np.ndarray((img_size, data_length * img_size))\n",
    "        \n",
    "        for idx, char in enumerate(chars):\n",
    "            image[:, img_size*idx:img_size*(idx+1)] = char\n",
    "\n",
    "        image = skimage.transform.resize(image, new_size)\n",
    "\n",
    "        dataset[i] = image\n",
    "        labels[i]  = data_label\n",
    "    return (dataset, labels)\n",
    "\n",
    "if not os.path.exists(os.path.join(data_root, 'train.pickle')):\n",
    "    train = merge_datasets(train_datasets, 200000)\n",
    "    saveAsPickle(train, os.path.join(data_root, 'train.pickle'))\n",
    "if not os.path.exists(os.path.join(data_root, 'valid.pickle')):\n",
    "    valid = merge_datasets(train_datasets, 5000)\n",
    "    saveAsPickle(valid, os.path.join(data_root, 'valid.pickle'))\n",
    "if not os.path.exists(os.path.join(data_root, 'test.pickle')):\n",
    "    test  = merge_datasets(test_datasets, 10000)\n",
    "    saveAsPickle(test, os.path.join(data_root, 'test.pickle'))\n",
    "else:\n",
    "    print('Datasets already exists')\n",
    "    train = loadPickle(os.path.join(data_root, 'train.pickle'))\n",
    "    valid = loadPickle(os.path.join(data_root, 'valid.pickle'))\n",
    "    test  = loadPickle(os.path.join(data_root, 'test.pickle'))"
   ]
  },
  {
   "cell_type": "code",
   "execution_count": 10,
   "metadata": {},
   "outputs": [],
   "source": [
    "def randomize(dataset, labels):\n",
    "    permutation = np.random.permutation(labels.shape[0])\n",
    "    shuffled_dataset = dataset[permutation,:,:]\n",
    "    shuffled_labels = labels[permutation]\n",
    "    return shuffled_dataset, shuffled_labels\n",
    "\n",
    "train_dataset, train_labels = randomize(train[0], train[1])\n",
    "test_dataset, test_labels = randomize(test[0], test[1])\n",
    "valid_dataset, valid_labels = randomize(valid[0], valid[1])"
   ]
  },
  {
   "cell_type": "code",
   "execution_count": 11,
   "metadata": {},
   "outputs": [
    {
     "name": "stdout",
     "output_type": "stream",
     "text": [
      "Displaying training images\n",
      "[[2 2 8 0 0 0]\n",
      " [2 1 1 1 0 0]\n",
      " [4 6 8 3 1 0]]\n"
     ]
    },
    {
     "data": {
      "image/png": "[encoded data removed]",
      "text/plain": [
       "<Figure size 720x720 with 3 Axes>"
      ]
     },
     "metadata": {
      "needs_background": "light"
     },
     "output_type": "display_data"
    },
    {
     "name": "stdout",
     "output_type": "stream",
     "text": [
      "Displaying test images\n",
      "[[1 5 2 0 0 0]\n",
      " [1 2 0 0 0 0]\n",
      " [0 7 0 0 0 0]]\n"
     ]
    },
    {
     "data": {
      "image/png": "[encoded data removed]",
      "text/plain": [
       "<Figure size 720x720 with 3 Axes>"
      ]
     },
     "metadata": {
      "needs_background": "light"
     },
     "output_type": "display_data"
    },
    {
     "name": "stdout",
     "output_type": "stream",
     "text": [
      "Displaying validation images\n",
      "[[0 0 0 0 0 0]\n",
      " [1 0 5 0 0 0]\n",
      " [1 2 8 0 0 0]]\n"
     ]
    },
    {
     "data": {
      "image/png": "[encoded data removed]",
      "text/plain": [
       "<Figure size 720x720 with 3 Axes>"
      ]
     },
     "metadata": {
      "needs_background": "light"
     },
     "output_type": "display_data"
    }
   ],
   "source": [
    "def display_dataset(dataset, labels, samples_per_label):\n",
    "    idxs = np.random.choice(dataset.shape[0], samples_per_label, replace=False)\n",
    "    for i, idx in enumerate(idxs):\n",
    "        plt_idx = i + 1\n",
    "        plt.subplot(1, samples_per_label, plt_idx)\n",
    "        plt.imshow(dataset[idx])\n",
    "        plt.axis('off')\n",
    "    print(labels[idxs])\n",
    "    plt.show()\n",
    "    \n",
    "print ('Displaying training images')\n",
    "display_dataset(train_dataset, train_labels, 3)\n",
    "print ('Displaying test images')\n",
    "display_dataset(test_dataset, test_labels, 3)\n",
    "print ('Displaying validation images')\n",
    "display_dataset(valid_dataset, valid_labels, 3)"
   ]
  },
  {
   "cell_type": "code",
   "execution_count": 12,
   "metadata": {},
   "outputs": [
    {
     "name": "stdout",
     "output_type": "stream",
     "text": [
      "Training set (200000, 28, 56, 1) (200000, 5) (200000, 5, 10)\n",
      "Validation set (5000, 28, 56, 1) (5000, 5) (5000, 5, 10)\n",
      "Test set (10000, 28, 56, 1) (10000, 5) (10000, 5, 10)\n"
     ]
    }
   ],
   "source": [
    "new_size = (28, 56)\n",
    "num_labels = 10\n",
    "num_channels = 1 # grayscale\n",
    "\n",
    "import numpy as np\n",
    "\n",
    "def reformat(dataset, labels):\n",
    "    dataset = dataset.reshape((-1, new_size[0], new_size[1], num_channels)).astype(np.float32)\n",
    "    length_labels = np.eye(5)[labels[:, 0]]\n",
    "    labels = np.eye(10)[labels[:, 1:]]\n",
    "    \n",
    "    return dataset, length_labels, labels\n",
    "\n",
    "train_dataset, train_length, train_labels = reformat(train_dataset, train_labels)\n",
    "valid_dataset, valid_length, valid_labels = reformat(valid_dataset, valid_labels)\n",
    "test_dataset, test_length, test_labels = reformat(test_dataset, test_labels)\n",
    "\n",
    "print('Training set', train_dataset.shape, train_length.shape, train_labels.shape)\n",
    "print('Validation set', valid_dataset.shape, valid_length.shape, valid_labels.shape)\n",
    "print('Test set', test_dataset.shape, test_length.shape, test_labels.shape)"
   ]
  },
  {
   "cell_type": "code",
   "execution_count": 209,
   "metadata": {},
   "outputs": [],
   "source": [
    "def accuracy_labels(predictions, pmasked, labels, lmasked, masks, labels_length):\n",
    "    predictions = np.transpose(predictions, (1, 0, 2))\n",
    "    correct = np.multiply(np.argmax(predictions, 2) == np.argmax(labels, 2), np.transpose(masks))\n",
    "    global_accuracy = np.mean(np.sum(correct, 1) == np.argmax(labels_length, 1) + 1) * 100\n",
    "    correct_masked = [np.mean(np.argmax(pmasked[i], 1) == np.argmax(lmasked[i], 1)) * 100 for i in range(len(pmasked))]\n",
    "    return [global_accuracy, correct_masked]\n",
    "\n",
    "def accuracy_length(predictions, labels_length):\n",
    "    return (100.0 * np.sum(np.argmax(predictions, 1) == np.argmax(labels_length, 1), 0) / predictions.shape[0])"
   ]
  },
  {
   "cell_type": "markdown",
   "metadata": {},
   "source": [
    "## Network"
   ]
  },
  {
   "cell_type": "code",
   "execution_count": 210,
   "metadata": {},
   "outputs": [
    {
     "name": "stderr",
     "output_type": "stream",
     "text": [
      "/Users/brunonishimoto/anaconda3/envs/udacity/lib/python3.6/site-packages/tensorflow/python/ops/gradients_impl.py:108: UserWarning: Converting sparse IndexedSlices to a dense Tensor of unknown shape. This may consume a large amount of memory.\n",
      "  \"Converting sparse IndexedSlices to a dense Tensor of unknown shape. \"\n"
     ]
    }
   ],
   "source": [
    "batch_size = 32\n",
    "patch_size = 5\n",
    "depth = 16\n",
    "num_hidden = 64\n",
    "image_size = (28, 56)\n",
    "num_outputs = 5\n",
    "\n",
    "graph = tf.Graph()\n",
    "\n",
    "with graph.as_default():\n",
    "\n",
    "    # Input data.\n",
    "    tf_data     = tf.placeholder(tf.float32, shape=(None, image_size[0], image_size[1], num_channels))\n",
    "    tf_labels   = tf.placeholder(tf.float32, shape=(None, num_outputs, num_labels))\n",
    "    tf_length   = tf.placeholder(tf.float32, shape=(None, num_outputs))\n",
    "    tf_training = tf.placeholder(tf.bool)\n",
    "\n",
    "    # Variables.\n",
    "    ## First convolutional layer\n",
    "    conv1_weights = tf.Variable(tf.truncated_normal([patch_size, patch_size, num_channels, depth], stddev=0.1))\n",
    "    conv1_biases  = tf.Variable(tf.zeros([depth]))\n",
    "    \n",
    "    ## Second convolutional layer\n",
    "    conv2_weights = tf.Variable(tf.truncated_normal([patch_size, patch_size, depth, depth], stddev=0.1))\n",
    "    conv2_biases  = tf.Variable(tf.constant(1.0, shape=[depth]))\n",
    "    \n",
    "    ## fully connected layer\n",
    "    fc1_weights = tf.Variable(tf.truncated_normal(\n",
    "        [image_size[0] // 4 * image_size[1] // 4 * depth, num_hidden], stddev=0.1))\n",
    "    fc1_biases  = tf.Variable(tf.constant(1.0, shape=[num_hidden]))\n",
    "    \n",
    "    ## softmax\n",
    "    softmax0_weights = tf.Variable(tf.truncated_normal([num_hidden, num_outputs], stddev=0.1))\n",
    "    softmax0_biases  = tf.Variable(tf.constant(1.0, shape=[num_outputs]))\n",
    "    \n",
    "    softmax1_weights = tf.Variable(tf.truncated_normal([num_hidden, num_labels], stddev=0.1))\n",
    "    softmax1_biases  = tf.Variable(tf.constant(1.0, shape=[num_labels]))\n",
    "    \n",
    "    softmax2_weights = tf.Variable(tf.truncated_normal([num_hidden, num_labels], stddev=0.1))\n",
    "    softmax2_biases  = tf.Variable(tf.constant(1.0, shape=[num_labels]))\n",
    "    \n",
    "    softmax3_weights = tf.Variable(tf.truncated_normal([num_hidden, num_labels], stddev=0.1))\n",
    "    softmax3_biases  = tf.Variable(tf.constant(1.0, shape=[num_labels]))\n",
    "    \n",
    "    softmax4_weights = tf.Variable(tf.truncated_normal([num_hidden, num_labels], stddev=0.1))\n",
    "    softmax4_biases  = tf.Variable(tf.constant(1.0, shape=[num_labels]))\n",
    "    \n",
    "    softmax5_weights = tf.Variable(tf.truncated_normal([num_hidden, num_labels], stddev=0.1))\n",
    "    softmax5_biases  = tf.Variable(tf.constant(1.0, shape=[num_labels]))\n",
    "  \n",
    "    # Model.\n",
    "    def model(data):\n",
    "        # first conv\n",
    "        conv   = tf.nn.conv2d(data, conv1_weights, [1, 1, 1, 1], padding='SAME')\n",
    "        conv   = tf.nn.relu(conv + conv1_biases)\n",
    "        hidden = tf.nn.max_pool(conv, ksize=[1, 2, 2, 1], strides=[1, 2, 2, 1], padding='SAME')\n",
    "        \n",
    "        # second conv\n",
    "        conv   = tf.nn.conv2d(hidden, conv2_weights, [1, 1, 1, 1], padding='SAME')\n",
    "        conv   = tf.nn.relu(conv + conv2_biases)\n",
    "        hidden = tf.nn.max_pool(conv, ksize=[1, 2, 2, 1], strides=[1, 2, 2, 1], padding='SAME')\n",
    "        \n",
    "        # flatten\n",
    "        shape   = hidden.get_shape().as_list()\n",
    "        reshape = tf.reshape(hidden, [-1, shape[1] * shape[2] * shape[3]])\n",
    "        \n",
    "        # fc\n",
    "        hidden  = tf.nn.relu(tf.matmul(reshape, fc1_weights) + fc1_biases)\n",
    "        \n",
    "        # classifiers\n",
    "        classifier0 = tf.matmul(hidden, softmax0_weights) + softmax0_biases\n",
    "        classifier1 = tf.matmul(hidden, softmax1_weights) + softmax1_biases\n",
    "        classifier2 = tf.matmul(hidden, softmax2_weights) + softmax2_biases\n",
    "        classifier3 = tf.matmul(hidden, softmax3_weights) + softmax3_biases\n",
    "        classifier4 = tf.matmul(hidden, softmax4_weights) + softmax4_biases\n",
    "        classifier5 = tf.matmul(hidden, softmax5_weights) + softmax5_biases\n",
    "        \n",
    "        return classifier0, [classifier1, classifier2, classifier3, classifier4, classifier5]\n",
    "  \n",
    "    # Training computation.\n",
    "    logits_length, logits = model(tf_data)\n",
    "    \n",
    "    total_loss = tf.reduce_mean(tf.nn.softmax_cross_entropy_with_logits_v2(\n",
    "            labels=tf_length, logits=logits_length))\n",
    "    tf.summary.scalar('loss_length', total_loss)\n",
    "    \n",
    "    # generating a tensor (?,num_labels) where each row contains 1s, 2s, 3s,... Will be used\n",
    "    fills = tf.stack([tf.fill([tf.shape(tf_data)[0]], i + 1) for i in range(0, num_outputs)])\n",
    "\n",
    "    masks   = list()   \n",
    "    dmasked = list()\n",
    "    lmasked = list()\n",
    "    for i in range(0, len(logits)):\n",
    "        # http://stackoverflow.com/questions/34128104/tensorflow-creating-mask-of-varied-lengths\n",
    "        # get a mask of logits for the first (length - 1) digits\n",
    "        masks.append(tf.less_equal(fills[i], tf.argmax(tf_length, 1, output_type=tf.int32) + 1))\n",
    "        dmasked.append(tf.boolean_mask(logits[i], masks[i]))\n",
    "        lmasked.append(tf.boolean_mask(tf_labels[:, i], masks[i]))\n",
    "        loss = tf.cond(tf.less(0, tf.shape(lmasked[i])[0]),\n",
    "                        lambda: tf.reduce_mean(tf.nn.softmax_cross_entropy_with_logits_v2(\n",
    "                            labels=lmasked[i], logits=dmasked[i])),\n",
    "                        lambda: tf.constant(0.0))\n",
    "\n",
    "        tf.summary.scalar(f'loss_{i}', loss)\n",
    "        total_loss += loss\n",
    "    masks   = tf.stack(masks)\n",
    "    merged  = tf.summary.merge_all()\n",
    "\n",
    "    # Optimizer.\n",
    "    optimizer = tf.cond(tf_training, lambda: tf.train.GradientDescentOptimizer(0.05).minimize(total_loss), lambda: False)\n",
    "  \n",
    "    # Predictions for the training, validation, and test data.\n",
    "    def prediction(length, logits):\n",
    "        prediction = [tf.nn.softmax(logit) for logit in logits]\n",
    "        return tf.nn.softmax(length), tf.stack(prediction)\n",
    "    \n",
    "    def prediction_masked(logits, masks):\n",
    "        return [tf.nn.softmax(tf.boolean_mask(logits[i], masks[i])) for i in range(0, len(logits))]   \n",
    "    \n",
    "    length_predictions, predictions = prediction(logits_length, logits)\n",
    "    pmasked = prediction_masked(logits, masks)\n"
   ]
  },
  {
   "cell_type": "code",
   "execution_count": 211,
   "metadata": {},
   "outputs": [],
   "source": [
    "def tensorboardGraph(session):\n",
    "    if not os.path.exists('summaries'):\n",
    "        os.mkdir('summaries')\n",
    "    return tf.summary.FileWriter('summaries', session.graph)"
   ]
  },
  {
   "cell_type": "code",
   "execution_count": 212,
   "metadata": {},
   "outputs": [
    {
     "name": "stdout",
     "output_type": "stream",
     "text": [
      "Initialized\n",
      "step 0:\n",
      "\tMinibatch loss: 22.928512573242188\n",
      "\tMinibatch accuracies: 18.75, [0.0, [3.125, 0.0, 4.761904761904762, 38.46153846153847, 0.0]]\n",
      "\tValidation accuracies: 20.44, [1.94, [10.72, 0.0, 11.885790172642762, 10.349926071956629, 10.568295114656031]]\n",
      "step 50:\n",
      "\tMinibatch loss: 12.313810348510742\n",
      "\tMinibatch accuracies: 31.25, [3.125, [9.375, 19.230769230769234, 4.545454545454546, 15.384615384615385, 33.33333333333333]]\n",
      "\tValidation accuracies: 39.78, [3.94, [14.2, 12.331165582791396, 14.043824701195218, 13.011335633316905, 14.556331006979061]]\n",
      "step 100:\n",
      "\tMinibatch loss: 12.210831642150879\n",
      "\tMinibatch accuracies: 50.0, [3.125, [3.125, 20.689655172413794, 21.052631578947366, 0.0, 0.0]]\n",
      "\tValidation accuracies: 62.3, [6.279999999999999, [19.24, 14.4072036018009, 17.131474103585656, 18.18629866929522, 26.719840478564304]]\n",
      "step 150:\n",
      "\tMinibatch loss: 10.445640563964844\n",
      "\tMinibatch accuracies: 87.5, [15.625, [37.5, 28.000000000000004, 35.294117647058826, 36.36363636363637, 33.33333333333333]]\n",
      "\tValidation accuracies: 66.48, [7.22, [23.880000000000003, 16.758379189594798, 19.322709163346612, 26.17052735337605, 40.777666999002996]]\n",
      "step 200:\n",
      "\tMinibatch loss: 8.960124969482422\n",
      "\tMinibatch accuracies: 78.125, [12.5, [31.25, 39.285714285714285, 30.0, 41.66666666666667, 83.33333333333334]]\n",
      "\tValidation accuracies: 84.6, [11.200000000000001, [30.0, 21.635817908954476, 26.660026560424967, 35.18974864465254, 45.76271186440678]]\n",
      "step 250:\n",
      "\tMinibatch loss: 8.808341979980469\n",
      "\tMinibatch accuracies: 87.5, [12.5, [28.125, 30.76923076923077, 40.909090909090914, 30.76923076923077, 75.0]]\n",
      "\tValidation accuracies: 81.12, [14.16, [40.02, 24.412206103051524, 29.415670650730412, 36.86545096106457, 63.808574277168496]]\n",
      "step 300:\n",
      "\tMinibatch loss: 8.83578872680664\n",
      "\tMinibatch accuracies: 93.75, [21.875, [40.625, 44.0, 47.368421052631575, 41.66666666666667, 50.0]]\n",
      "\tValidation accuracies: 88.74, [16.64, [42.84, 28.414207103551774, 34.462151394422314, 43.765401675702314, 67.39780658025923]]\n",
      "step 350:\n",
      "\tMinibatch loss: 7.331644058227539\n",
      "\tMinibatch accuracies: 96.875, [28.125, [56.25, 44.0, 43.75, 33.33333333333333, 100.0]]\n",
      "\tValidation accuracies: 90.8, [18.9, [46.14, 33.96698349174587, 37.64940239043825, 43.22326269098078, 62.412761714855435]]\n",
      "step 400:\n",
      "\tMinibatch loss: 7.978049278259277\n",
      "\tMinibatch accuracies: 84.375, [9.375, [50.0, 28.57142857142857, 50.0, 35.714285714285715, 66.66666666666666]]\n",
      "\tValidation accuracies: 90.92, [20.64, [49.86, 36.14307153576789, 40.0066401062417, 44.8989650073928, 67.99601196410767]]\n",
      "step 450:\n",
      "\tMinibatch loss: 8.788115501403809\n",
      "\tMinibatch accuracies: 96.875, [12.5, [46.875, 41.37931034482759, 45.45454545454545, 46.666666666666664, 66.66666666666666]]\n",
      "\tValidation accuracies: 92.92, [21.94, [51.54, 37.41870935467734, 43.92430278884462, 54.95317890586497, 68.79361914257228]]\n",
      "step 500:\n",
      "\tMinibatch loss: 8.372718811035156\n",
      "\tMinibatch accuracies: 90.625, [18.75, [53.125, 33.33333333333333, 36.36363636363637, 43.75, 44.44444444444444]]\n",
      "\tValidation accuracies: 94.12, [22.939999999999998, [55.52, 37.41870935467734, 41.53386454183267, 54.361754558896, 66.40079760717846]]\n",
      "step 550:\n",
      "\tMinibatch loss: 6.599915504455566\n",
      "\tMinibatch accuracies: 90.625, [25.0, [43.75, 36.0, 56.25, 88.88888888888889, 83.33333333333334]]\n",
      "\tValidation accuracies: 94.38, [24.36, [56.32, 40.495247623811906, 45.949535192563076, 53.32676195170034, 69.19242273180458]]\n",
      "step 600:\n",
      "\tMinibatch loss: 5.7737202644348145\n",
      "\tMinibatch accuracies: 87.5, [40.625, [65.625, 50.0, 46.15384615384615, 50.0, 100.0]]\n",
      "\tValidation accuracies: 93.54, [24.92, [54.54, 42.92146073036518, 46.513944223107565, 56.136027599802865, 72.48255234297109]]\n",
      "step 650:\n",
      "\tMinibatch loss: 5.725503444671631\n",
      "\tMinibatch accuracies: 81.25, [40.625, [81.25, 47.82608695652174, 66.66666666666666, 55.55555555555556, 66.66666666666666]]\n",
      "\tValidation accuracies: 95.08, [27.08, [59.98, 45.29764882441221, 50.332005312084995, 59.33957614588468, 66.40079760717846]]\n",
      "step 700:\n",
      "\tMinibatch loss: 5.00653076171875\n",
      "\tMinibatch accuracies: 100.0, [40.625, [68.75, 55.55555555555556, 55.55555555555556, 55.55555555555556, 100.0]]\n",
      "\tValidation accuracies: 95.42, [27.779999999999998, [60.699999999999996, 47.42371185592796, 52.158034528552456, 64.31739773287333, 75.97208374875373]]\n",
      "step 750:\n",
      "\tMinibatch loss: 5.038829326629639\n",
      "\tMinibatch accuracies: 96.875, [25.0, [50.0, 57.692307692307686, 34.78260869565217, 93.33333333333333, 87.5]]\n",
      "\tValidation accuracies: 95.68, [29.98, [63.38, 50.0, 54.18326693227091, 62.937407589945785, 75.47357926221336]]\n",
      "step 800:\n",
      "\tMinibatch loss: 6.73256254196167\n",
      "\tMinibatch accuracies: 93.75, [21.875, [71.875, 39.285714285714285, 63.63636363636363, 54.54545454545454, 60.0]]\n",
      "\tValidation accuracies: 95.7, [27.74, [59.96, 48.699349674837414, 56.90571049136787, 63.67668802365697, 69.59122632103688]]\n",
      "step 850:\n",
      "\tMinibatch loss: 6.494838714599609\n",
      "\tMinibatch accuracies: 96.875, [40.625, [78.125, 60.0, 60.86956521739131, 53.333333333333336, 62.5]]\n",
      "\tValidation accuracies: 96.5, [28.92, [60.56, 53.251625812906454, 54.24966799468791, 65.94381468703794, 73.47956131605184]]\n",
      "step 900:\n",
      "\tMinibatch loss: 5.071276664733887\n",
      "\tMinibatch accuracies: 96.875, [37.5, [87.5, 62.96296296296296, 50.0, 61.53846153846154, 87.5]]\n",
      "\tValidation accuracies: 96.52, [30.220000000000002, [61.7, 53.276638319159574, 55.94289508632138, 67.52094627895515, 77.06879361914257]]\n",
      "step 950:\n",
      "\tMinibatch loss: 5.722881317138672\n",
      "\tMinibatch accuracies: 100.0, [34.375, [71.875, 60.86956521739131, 64.70588235294117, 50.0, 83.33333333333334]]\n",
      "\tValidation accuracies: 96.54, [30.8, [62.7, 54.97748874437218, 58.897742363877825, 64.41596845736817, 77.16849451645065]]\n",
      "step 1000:\n",
      "\tMinibatch loss: 6.423678874969482\n",
      "\tMinibatch accuracies: 100.0, [46.875, [65.625, 42.10526315789473, 52.94117647058824, 71.42857142857143, 55.55555555555556]]\n",
      "\tValidation accuracies: 96.08, [34.699999999999996, [66.7, 57.22861430715358, 61.75298804780876, 66.19024149827501, 77.86640079760718]]\n",
      "step 1050:\n",
      "\tMinibatch loss: 5.154384613037109\n",
      "\tMinibatch accuracies: 96.875, [31.25, [50.0, 80.76923076923077, 61.904761904761905, 64.28571428571429, 71.42857142857143]]\n",
      "\tValidation accuracies: 97.08, [34.760000000000005, [67.0, 58.12906453226613, 62.01859229747676, 64.51453918186299, 76.76969092721835]]\n",
      "step 1100:\n",
      "\tMinibatch loss: 5.969741344451904\n",
      "\tMinibatch accuracies: 96.875, [37.5, [75.0, 50.0, 44.44444444444444, 83.33333333333334, 50.0]]\n",
      "\tValidation accuracies: 96.2, [33.339999999999996, [68.84, 54.302151075537765, 60.2589641434263, 66.04238541153278, 69.69092721834497]]\n",
      "step 1150:\n",
      "\tMinibatch loss: 5.421967506408691\n",
      "\tMinibatch accuracies: 100.0, [46.875, [71.875, 57.14285714285714, 52.63157894736842, 53.333333333333336, 90.0]]\n",
      "\tValidation accuracies: 97.18, [35.68, [66.9, 60.80540270135067, 64.6082337317397, 69.04879250862493, 76.5702891326022]]\n",
      "step 1200:\n",
      "\tMinibatch loss: 5.6654462814331055\n",
      "\tMinibatch accuracies: 100.0, [40.625, [62.5, 69.23076923076923, 60.0, 58.333333333333336, 66.66666666666666]]\n",
      "\tValidation accuracies: 96.62, [32.28, [65.75999999999999, 56.75337668834417, 61.65338645418327, 68.01379990142927, 77.16849451645065]]\n",
      "step 1250:\n",
      "\tMinibatch loss: 3.6670119762420654\n",
      "\tMinibatch accuracies: 100.0, [37.5, [71.875, 62.06896551724138, 72.72727272727273, 86.66666666666667, 85.71428571428571]]\n",
      "\tValidation accuracies: 97.12, [38.86, [72.1, 62.58129064532266, 66.66666666666666, 69.64021685559388, 79.26221335992024]]\n",
      "step 1300:\n",
      "\tMinibatch loss: 5.766110420227051\n",
      "\tMinibatch accuracies: 100.0, [31.25, [65.625, 60.71428571428571, 75.0, 50.0, 50.0]]\n",
      "\tValidation accuracies: 96.16, [36.559999999999995, [70.86, 59.15457728864432, 66.76626826029216, 71.75948743223263, 76.86939182452642]]\n",
      "step 1350:\n",
      "\tMinibatch loss: 5.051634311676025\n",
      "\tMinibatch accuracies: 96.875, [43.75, [71.875, 68.0, 83.33333333333334, 30.0, 100.0]]\n",
      "\tValidation accuracies: 97.06, [38.24, [71.54, 62.15607803901951, 67.26427622841965, 70.4287826515525, 78.76370887337985]]\n",
      "step 1400:\n",
      "\tMinibatch loss: 4.835239410400391\n",
      "\tMinibatch accuracies: 100.0, [34.375, [68.75, 60.71428571428571, 83.33333333333334, 64.28571428571429, 66.66666666666666]]\n",
      "\tValidation accuracies: 97.12, [39.6, [71.74000000000001, 64.232116058029, 67.36387782204515, 72.8437654016757, 77.86640079760718]]\n"
     ]
    },
    {
     "name": "stdout",
     "output_type": "stream",
     "text": [
      "step 1450:\n",
      "\tMinibatch loss: 5.053452491760254\n",
      "\tMinibatch accuracies: 90.625, [34.375, [68.75, 41.66666666666667, 72.22222222222221, 54.54545454545454, 75.0]]\n",
      "\tValidation accuracies: 96.8, [38.98, [71.22, 63.6568284142071, 68.35989375830013, 71.11877772301627, 76.27118644067797]]\n",
      "step 1500:\n",
      "\tMinibatch loss: 3.2786712646484375\n",
      "\tMinibatch accuracies: 100.0, [50.0, [75.0, 69.23076923076923, 76.19047619047619, 83.33333333333334, 80.0]]\n",
      "\tValidation accuracies: 97.06, [39.18, [70.04, 64.68234117058529, 68.29349269588313, 73.68161655988172, 77.86640079760718]]\n",
      "step 1550:\n",
      "\tMinibatch loss: 4.69915246963501\n",
      "\tMinibatch accuracies: 100.0, [31.25, [62.5, 62.06896551724138, 84.21052631578947, 70.0, 83.33333333333334]]\n",
      "\tValidation accuracies: 97.5, [37.22, [70.84, 63.00650325162581, 64.40903054448872, 70.77378018728437, 78.26520438683949]]\n",
      "step 1600:\n",
      "\tMinibatch loss: 5.429601669311523\n",
      "\tMinibatch accuracies: 100.0, [43.75, [65.625, 70.83333333333334, 61.904761904761905, 71.42857142857143, 66.66666666666666]]\n",
      "\tValidation accuracies: 97.96, [40.92, [73.02, 66.05802901450726, 68.75830013280213, 73.87875800887137, 78.76370887337985]]\n",
      "step 1650:\n",
      "\tMinibatch loss: 4.362698078155518\n",
      "\tMinibatch accuracies: 100.0, [37.5, [62.5, 60.71428571428571, 75.0, 77.77777777777779, 100.0]]\n",
      "\tValidation accuracies: 98.1, [41.699999999999996, [73.4, 66.45822911455727, 69.82071713147411, 73.87875800887137, 80.6580259222333]]\n",
      "step 1700:\n",
      "\tMinibatch loss: 4.442201137542725\n",
      "\tMinibatch accuracies: 93.75, [40.625, [71.875, 61.53846153846154, 68.42105263157895, 73.33333333333333, 66.66666666666666]]\n",
      "\tValidation accuracies: 97.7, [40.660000000000004, [73.0, 64.98249124562281, 68.02788844621513, 73.48447511089206, 79.76071784646062]]\n",
      "step 1750:\n",
      "\tMinibatch loss: 5.0922746658325195\n",
      "\tMinibatch accuracies: 96.875, [46.875, [68.75, 68.18181818181817, 69.23076923076923, 77.77777777777779, 75.0]]\n",
      "\tValidation accuracies: 97.66, [40.94, [72.78, 66.70835417708855, 68.95750332005312, 73.73090192212914, 75.2741774675972]]\n",
      "step 1800:\n",
      "\tMinibatch loss: 5.154328346252441\n",
      "\tMinibatch accuracies: 96.875, [31.25, [71.875, 68.96551724137932, 70.37037037037037, 86.66666666666667, 50.0]]\n",
      "\tValidation accuracies: 96.62, [34.98, [67.74, 59.329664832416206, 66.26826029216467, 69.295219319862, 74.47657028913261]]\n",
      "step 1850:\n",
      "\tMinibatch loss: 4.157125949859619\n",
      "\tMinibatch accuracies: 96.875, [40.625, [78.125, 48.0, 100.0, 50.0, 100.0]]\n",
      "\tValidation accuracies: 97.8, [43.56, [74.16, 68.7343671835918, 71.87915006640107, 75.70231641202562, 80.45862412761716]]\n",
      "step 1900:\n",
      "\tMinibatch loss: 4.662039279937744\n",
      "\tMinibatch accuracies: 100.0, [37.5, [71.875, 60.71428571428571, 61.904761904761905, 81.25, 81.81818181818183]]\n",
      "\tValidation accuracies: 98.08, [43.4, [73.42, 69.98499249624813, 70.4183266932271, 75.45588960078857, 79.66101694915254]]\n",
      "step 1950:\n",
      "\tMinibatch loss: 4.409496307373047\n",
      "\tMinibatch accuracies: 100.0, [46.875, [68.75, 80.0, 77.27272727272727, 71.42857142857143, 80.0]]\n",
      "\tValidation accuracies: 97.66, [43.419999999999995, [75.3, 67.1335667833917, 72.84196547144755, 75.65303104977822, 78.26520438683949]]\n",
      "step 2000:\n",
      "\tMinibatch loss: 4.351324558258057\n",
      "\tMinibatch accuracies: 100.0, [37.5, [71.875, 69.23076923076923, 60.0, 90.0, 62.5]]\n",
      "\tValidation accuracies: 97.76, [43.8, [74.83999999999999, 67.18359179589794, 70.4183266932271, 75.35731887629375, 78.5643070787637]]\n",
      "step 2050:\n",
      "\tMinibatch loss: 4.06449556350708\n",
      "\tMinibatch accuracies: 96.875, [56.25, [87.5, 65.21739130434783, 76.47058823529412, 61.53846153846154, 100.0]]\n",
      "\tValidation accuracies: 98.0, [42.32, [75.08, 65.03251625812906, 68.39309428950862, 73.68161655988172, 79.26221335992024]]\n",
      "step 2100:\n",
      "\tMinibatch loss: 3.562739372253418\n",
      "\tMinibatch accuracies: 100.0, [31.25, [68.75, 73.33333333333333, 71.42857142857143, 76.47058823529412, 88.88888888888889]]\n",
      "\tValidation accuracies: 98.14, [43.64, [76.22, 66.60830415207603, 72.34395750332006, 75.9980285855101, 80.45862412761716]]\n",
      "step 2150:\n",
      "\tMinibatch loss: 5.783349990844727\n",
      "\tMinibatch accuracies: 100.0, [53.125, [84.375, 64.0, 50.0, 88.88888888888889, 66.66666666666666]]\n",
      "\tValidation accuracies: 97.58, [41.839999999999996, [73.11999999999999, 66.45822911455727, 69.8539176626826, 73.04090685066535, 77.16849451645065]]\n",
      "step 2200:\n",
      "\tMinibatch loss: 5.724048614501953\n",
      "\tMinibatch accuracies: 96.875, [46.875, [78.125, 60.0, 73.33333333333333, 70.0, 80.0]]\n",
      "\tValidation accuracies: 98.04, [44.379999999999995, [75.06, 69.00950475237619, 73.33997343957503, 76.88516510596352, 79.06281156530409]]\n",
      "step 2250:\n",
      "\tMinibatch loss: 3.9594836235046387\n",
      "\tMinibatch accuracies: 93.75, [50.0, [71.875, 73.07692307692307, 72.22222222222221, 100.0, 75.0]]\n",
      "\tValidation accuracies: 98.08, [43.94, [75.66000000000001, 68.15907953976989, 73.60557768924303, 75.75160177427304, 81.75473579262214]]\n",
      "step 2300:\n",
      "\tMinibatch loss: 4.405299663543701\n",
      "\tMinibatch accuracies: 96.875, [37.5, [65.625, 74.07407407407408, 68.18181818181817, 66.66666666666666, 91.66666666666666]]\n",
      "\tValidation accuracies: 98.4, [46.9, [77.22, 71.38569284642321, 73.60557768924303, 73.97732873336619, 80.85742771684946]]\n",
      "step 2350:\n",
      "\tMinibatch loss: 4.490969181060791\n",
      "\tMinibatch accuracies: 100.0, [43.75, [68.75, 73.68421052631578, 78.57142857142857, 91.66666666666666, 50.0]]\n",
      "\tValidation accuracies: 98.0, [45.4, [76.48, 69.70985492746374, 74.9003984063745, 75.89945786101528, 76.37088733798603]]\n",
      "step 2400:\n",
      "\tMinibatch loss: 6.224547386169434\n",
      "\tMinibatch accuracies: 96.875, [53.125, [87.5, 73.91304347826086, 62.5, 44.44444444444444, 50.0]]\n",
      "\tValidation accuracies: 98.06, [45.6, [75.84, 69.45972986493246, 73.47277556440903, 73.18876293740759, 78.76370887337985]]\n",
      "step 2450:\n",
      "\tMinibatch loss: 3.3306994438171387\n",
      "\tMinibatch accuracies: 96.875, [62.5, [81.25, 86.95652173913044, 52.94117647058824, 88.88888888888889, 100.0]]\n",
      "\tValidation accuracies: 98.26, [47.8, [78.03999999999999, 72.28614307153578, 75.79681274900398, 75.20946278955151, 79.26221335992024]]\n",
      "step 2500:\n",
      "\tMinibatch loss: 3.2799108028411865\n",
      "\tMinibatch accuracies: 100.0, [56.25, [90.625, 64.0, 81.25, 80.0, 100.0]]\n",
      "\tValidation accuracies: 98.28, [45.94, [75.92, 71.11055527763882, 74.9003984063745, 77.62444553967471, 75.77268195413758]]\n",
      "step 2550:\n",
      "\tMinibatch loss: 3.8663153648376465\n",
      "\tMinibatch accuracies: 96.875, [50.0, [81.25, 69.56521739130434, 88.23529411764706, 71.42857142857143, 83.33333333333334]]\n",
      "\tValidation accuracies: 97.88, [43.64, [76.02, 69.43471735867934, 72.80876494023904, 71.41448989650074, 80.85742771684946]]\n",
      "step 2600:\n",
      "\tMinibatch loss: 4.373660087585449\n",
      "\tMinibatch accuracies: 100.0, [37.5, [81.25, 64.28571428571429, 78.26086956521739, 86.66666666666667, 80.0]]\n",
      "\tValidation accuracies: 98.12, [47.5, [77.78, 71.68584292146073, 74.9003984063745, 79.1522917693445, 80.95712861415753]]\n",
      "step 2650:\n",
      "\tMinibatch loss: 4.565427303314209\n",
      "\tMinibatch accuracies: 93.75, [43.75, [87.5, 72.0, 52.94117647058824, 64.28571428571429, 85.71428571428571]]\n",
      "\tValidation accuracies: 98.4, [48.64, [78.0, 72.98649324662331, 75.99601593625498, 79.5465746673238, 81.0568295114656]]\n",
      "step 2700:\n",
      "\tMinibatch loss: 3.8540704250335693\n",
      "\tMinibatch accuracies: 100.0, [50.0, [84.375, 66.66666666666666, 84.0, 78.94736842105263, 83.33333333333334]]\n",
      "\tValidation accuracies: 98.28, [49.34, [78.60000000000001, 72.8864432216108, 77.05843293492696, 77.87087235091178, 79.66101694915254]]\n",
      "step 2750:\n",
      "\tMinibatch loss: 5.29694128036499\n",
      "\tMinibatch accuracies: 96.875, [28.125, [71.875, 71.42857142857143, 47.61904761904761, 58.82352941176471, 72.72727272727273]]\n",
      "\tValidation accuracies: 98.36, [48.22, [78.06, 71.91095547773887, 75.56440903054448, 76.73730901922129, 81.15653040877368]]\n",
      "step 2800:\n",
      "\tMinibatch loss: 5.0287766456604\n",
      "\tMinibatch accuracies: 100.0, [34.375, [65.625, 72.41379310344827, 79.16666666666666, 57.89473684210527, 92.85714285714286]]\n",
      "\tValidation accuracies: 97.78, [46.96, [77.3, 70.28514257128565, 74.36918990703852, 76.14588467225234, 79.46161515453639]]\n",
      "step 2850:\n",
      "\tMinibatch loss: 4.541123390197754\n",
      "\tMinibatch accuracies: 100.0, [40.625, [75.0, 71.42857142857143, 58.82352941176471, 92.3076923076923, 87.5]]\n",
      "\tValidation accuracies: 97.74, [48.18, [77.78, 71.58579289644823, 75.3652058432935, 77.180877279448, 78.5643070787637]]\n",
      "step 2900:\n",
      "\tMinibatch loss: 3.843334674835205\n",
      "\tMinibatch accuracies: 96.875, [43.75, [65.625, 81.48148148148148, 75.0, 88.88888888888889, 75.0]]\n"
     ]
    },
    {
     "name": "stdout",
     "output_type": "stream",
     "text": [
      "\tValidation accuracies: 98.2, [48.82, [77.3, 72.26113056528264, 75.76361221779548, 78.16658452439626, 82.65204386839483]]\n",
      "step 2950:\n",
      "\tMinibatch loss: 3.8689205646514893\n",
      "\tMinibatch accuracies: 100.0, [59.375, [87.5, 82.75862068965517, 75.0, 58.333333333333336, 100.0]]\n",
      "\tValidation accuracies: 97.3, [47.88, [76.86, 73.56178089044522, 75.265604249668, 79.34943321833416, 81.55533399800599]]\n",
      "step 3000:\n",
      "\tMinibatch loss: 3.0678184032440186\n",
      "\tMinibatch accuracies: 100.0, [46.875, [71.875, 73.07692307692307, 80.0, 87.5, 100.0]]\n",
      "\tValidation accuracies: 98.58, [50.260000000000005, [79.2, 73.11155577788895, 77.09163346613546, 80.23656973878758, 81.65503489531406]]\n",
      "step 3050:\n",
      "\tMinibatch loss: 4.902940273284912\n",
      "\tMinibatch accuracies: 93.75, [50.0, [78.125, 70.37037037037037, 72.72727272727273, 58.82352941176471, 77.77777777777779]]\n",
      "\tValidation accuracies: 98.52, [49.84, [78.52, 75.1375687843922, 75.46480743691899, 79.05372104484968, 81.45563310069791]]\n",
      "step 3100:\n",
      "\tMinibatch loss: 3.309840202331543\n",
      "\tMinibatch accuracies: 100.0, [53.125, [75.0, 77.77777777777779, 75.0, 80.0, 80.0]]\n",
      "\tValidation accuracies: 98.52, [49.480000000000004, [78.8, 73.4367183591796, 77.02523240371846, 78.46229669788073, 79.86041874376869]]\n",
      "step 3150:\n",
      "\tMinibatch loss: 3.7439537048339844\n",
      "\tMinibatch accuracies: 100.0, [43.75, [68.75, 88.88888888888889, 81.81818181818183, 62.5, 88.88888888888889]]\n",
      "\tValidation accuracies: 98.16, [48.1, [78.44, 72.91145572786392, 75.265604249668, 76.7865943814687, 81.35593220338984]]\n",
      "step 3200:\n",
      "\tMinibatch loss: 2.9820823669433594\n",
      "\tMinibatch accuracies: 100.0, [59.375, [90.625, 69.23076923076923, 90.47619047619048, 78.57142857142857, 83.33333333333334]]\n",
      "\tValidation accuracies: 98.6, [50.56, [78.66, 75.1375687843922, 77.29083665338645, 79.74371611631345, 80.95712861415753]]\n",
      "step 3250:\n",
      "\tMinibatch loss: 3.3130786418914795\n",
      "\tMinibatch accuracies: 100.0, [43.75, [71.875, 73.07692307692307, 66.66666666666666, 69.23076923076923, 87.5]]\n",
      "\tValidation accuracies: 98.06, [50.22, [78.08, 74.28714357178589, 77.35723771580345, 80.18728437654016, 82.45264207377866]]\n",
      "step 3300:\n",
      "\tMinibatch loss: 4.617123126983643\n",
      "\tMinibatch accuracies: 96.875, [46.875, [87.5, 65.38461538461539, 76.47058823529412, 81.81818181818183, 66.66666666666666]]\n",
      "\tValidation accuracies: 98.72, [50.68, [79.38, 74.4872436218109, 77.72244355909694, 79.39871858058156, 77.56729810568295]]\n",
      "step 3350:\n",
      "\tMinibatch loss: 3.5652475357055664\n",
      "\tMinibatch accuracies: 100.0, [50.0, [93.75, 66.66666666666666, 81.81818181818183, 64.28571428571429, 71.42857142857143]]\n",
      "\tValidation accuracies: 98.7, [48.26, [76.84, 73.3616808404202, 76.72642762284197, 77.23016264169542, 81.45563310069791]]\n",
      "step 3400:\n",
      "\tMinibatch loss: 2.430361747741699\n",
      "\tMinibatch accuracies: 100.0, [65.625, [84.375, 81.48148148148148, 88.88888888888889, 88.88888888888889, 100.0]]\n",
      "\tValidation accuracies: 97.32, [48.86, [78.75999999999999, 73.96198099049525, 75.3652058432935, 74.96303597831444, 78.1655034895314]]\n",
      "step 3450:\n",
      "\tMinibatch loss: 2.5791831016540527\n",
      "\tMinibatch accuracies: 96.875, [53.125, [71.875, 91.66666666666666, 81.25, 63.63636363636363, 100.0]]\n",
      "\tValidation accuracies: 98.66, [50.239999999999995, [79.7, 74.51225612806404, 77.22443559096945, 77.52587481517989, 81.85443668993021]]\n",
      "step 3500:\n",
      "\tMinibatch loss: 3.057720184326172\n",
      "\tMinibatch accuracies: 96.875, [50.0, [81.25, 82.75862068965517, 80.95238095238095, 75.0, 87.5]]\n",
      "\tValidation accuracies: 98.46, [51.35999999999999, [79.60000000000001, 75.01250625312656, 76.82602921646746, 78.11729916214884, 83.25024925224326]]\n",
      "step 3550:\n",
      "\tMinibatch loss: 3.8347890377044678\n",
      "\tMinibatch accuracies: 100.0, [50.0, [78.125, 71.42857142857143, 70.0, 84.61538461538461, 100.0]]\n",
      "\tValidation accuracies: 98.54, [51.62, [79.36, 74.6623311655828, 78.38645418326693, 79.59586002957121, 81.55533399800599]]\n",
      "step 3600:\n",
      "\tMinibatch loss: 3.213552474975586\n",
      "\tMinibatch accuracies: 100.0, [46.875, [78.125, 82.14285714285714, 63.63636363636363, 92.3076923076923, 83.33333333333334]]\n",
      "\tValidation accuracies: 98.8, [50.660000000000004, [78.86, 74.6623311655828, 77.65604249667994, 79.99014292755052, 82.55234297108674]]\n",
      "step 3650:\n",
      "\tMinibatch loss: 3.35028338432312\n",
      "\tMinibatch accuracies: 100.0, [62.5, [84.375, 76.0, 86.66666666666667, 83.33333333333334, 50.0]]\n",
      "\tValidation accuracies: 98.44, [50.92, [78.22, 75.53776888444223, 77.55644090305445, 81.71513060620995, 79.46161515453639]]\n",
      "step 3700:\n",
      "\tMinibatch loss: 3.651735305786133\n",
      "\tMinibatch accuracies: 93.75, [50.0, [68.75, 83.33333333333334, 75.0, 90.0, 60.0]]\n",
      "\tValidation accuracies: 98.58, [52.82, [79.9, 76.5632816408204, 78.75166002656042, 81.07442089699359, 81.75473579262214]]\n"
     ]
    },
    {
     "ename": "KeyboardInterrupt",
     "evalue": "",
     "output_type": "error",
     "traceback": [
      "\u001b[0;31m---------------------------------------------------------------------------\u001b[0m",
      "\u001b[0;31mKeyboardInterrupt\u001b[0m                         Traceback (most recent call last)",
      "\u001b[0;32m<ipython-input-212-b6e4fed6a037>\u001b[0m in \u001b[0;36m<module>\u001b[0;34m()\u001b[0m\n\u001b[1;32m     14\u001b[0m         _, t_loss, t_length_pred, t_predictions, t_pmasked, t_masks, t_lmasked, summary = session.run(\n\u001b[1;32m     15\u001b[0m             [optimizer, total_loss, length_predictions, predictions, pmasked,\n\u001b[0;32m---> 16\u001b[0;31m              masks, lmasked, merged], feed_dict=feed_dict)\n\u001b[0m\u001b[1;32m     17\u001b[0m         \u001b[0mtrain_writer\u001b[0m\u001b[0;34m.\u001b[0m\u001b[0madd_summary\u001b[0m\u001b[0;34m(\u001b[0m\u001b[0msummary\u001b[0m\u001b[0;34m,\u001b[0m \u001b[0mstep\u001b[0m\u001b[0;34m)\u001b[0m\u001b[0;34m\u001b[0m\u001b[0m\n\u001b[1;32m     18\u001b[0m         \u001b[0;32mif\u001b[0m \u001b[0;34m(\u001b[0m\u001b[0mstep\u001b[0m \u001b[0;34m%\u001b[0m \u001b[0;36m50\u001b[0m \u001b[0;34m==\u001b[0m \u001b[0;36m0\u001b[0m\u001b[0;34m)\u001b[0m\u001b[0;34m:\u001b[0m\u001b[0;34m\u001b[0m\u001b[0m\n",
      "\u001b[0;32m~/anaconda3/envs/udacity/lib/python3.6/site-packages/tensorflow/python/client/session.py\u001b[0m in \u001b[0;36mrun\u001b[0;34m(self, fetches, feed_dict, options, run_metadata)\u001b[0m\n\u001b[1;32m    875\u001b[0m     \u001b[0;32mtry\u001b[0m\u001b[0;34m:\u001b[0m\u001b[0;34m\u001b[0m\u001b[0m\n\u001b[1;32m    876\u001b[0m       result = self._run(None, fetches, feed_dict, options_ptr,\n\u001b[0;32m--> 877\u001b[0;31m                          run_metadata_ptr)\n\u001b[0m\u001b[1;32m    878\u001b[0m       \u001b[0;32mif\u001b[0m \u001b[0mrun_metadata\u001b[0m\u001b[0;34m:\u001b[0m\u001b[0;34m\u001b[0m\u001b[0m\n\u001b[1;32m    879\u001b[0m         \u001b[0mproto_data\u001b[0m \u001b[0;34m=\u001b[0m \u001b[0mtf_session\u001b[0m\u001b[0;34m.\u001b[0m\u001b[0mTF_GetBuffer\u001b[0m\u001b[0;34m(\u001b[0m\u001b[0mrun_metadata_ptr\u001b[0m\u001b[0;34m)\u001b[0m\u001b[0;34m\u001b[0m\u001b[0m\n",
      "\u001b[0;32m~/anaconda3/envs/udacity/lib/python3.6/site-packages/tensorflow/python/client/session.py\u001b[0m in \u001b[0;36m_run\u001b[0;34m(self, handle, fetches, feed_dict, options, run_metadata)\u001b[0m\n\u001b[1;32m   1098\u001b[0m     \u001b[0;32mif\u001b[0m \u001b[0mfinal_fetches\u001b[0m \u001b[0;32mor\u001b[0m \u001b[0mfinal_targets\u001b[0m \u001b[0;32mor\u001b[0m \u001b[0;34m(\u001b[0m\u001b[0mhandle\u001b[0m \u001b[0;32mand\u001b[0m \u001b[0mfeed_dict_tensor\u001b[0m\u001b[0;34m)\u001b[0m\u001b[0;34m:\u001b[0m\u001b[0;34m\u001b[0m\u001b[0m\n\u001b[1;32m   1099\u001b[0m       results = self._do_run(handle, final_targets, final_fetches,\n\u001b[0;32m-> 1100\u001b[0;31m                              feed_dict_tensor, options, run_metadata)\n\u001b[0m\u001b[1;32m   1101\u001b[0m     \u001b[0;32melse\u001b[0m\u001b[0;34m:\u001b[0m\u001b[0;34m\u001b[0m\u001b[0m\n\u001b[1;32m   1102\u001b[0m       \u001b[0mresults\u001b[0m \u001b[0;34m=\u001b[0m \u001b[0;34m[\u001b[0m\u001b[0;34m]\u001b[0m\u001b[0;34m\u001b[0m\u001b[0m\n",
      "\u001b[0;32m~/anaconda3/envs/udacity/lib/python3.6/site-packages/tensorflow/python/client/session.py\u001b[0m in \u001b[0;36m_do_run\u001b[0;34m(self, handle, target_list, fetch_list, feed_dict, options, run_metadata)\u001b[0m\n\u001b[1;32m   1270\u001b[0m     \u001b[0;32mif\u001b[0m \u001b[0mhandle\u001b[0m \u001b[0;32mis\u001b[0m \u001b[0;32mNone\u001b[0m\u001b[0;34m:\u001b[0m\u001b[0;34m\u001b[0m\u001b[0m\n\u001b[1;32m   1271\u001b[0m       return self._do_call(_run_fn, feeds, fetches, targets, options,\n\u001b[0;32m-> 1272\u001b[0;31m                            run_metadata)\n\u001b[0m\u001b[1;32m   1273\u001b[0m     \u001b[0;32melse\u001b[0m\u001b[0;34m:\u001b[0m\u001b[0;34m\u001b[0m\u001b[0m\n\u001b[1;32m   1274\u001b[0m       \u001b[0;32mreturn\u001b[0m \u001b[0mself\u001b[0m\u001b[0;34m.\u001b[0m\u001b[0m_do_call\u001b[0m\u001b[0;34m(\u001b[0m\u001b[0m_prun_fn\u001b[0m\u001b[0;34m,\u001b[0m \u001b[0mhandle\u001b[0m\u001b[0;34m,\u001b[0m \u001b[0mfeeds\u001b[0m\u001b[0;34m,\u001b[0m \u001b[0mfetches\u001b[0m\u001b[0;34m)\u001b[0m\u001b[0;34m\u001b[0m\u001b[0m\n",
      "\u001b[0;32m~/anaconda3/envs/udacity/lib/python3.6/site-packages/tensorflow/python/client/session.py\u001b[0m in \u001b[0;36m_do_call\u001b[0;34m(self, fn, *args)\u001b[0m\n\u001b[1;32m   1276\u001b[0m   \u001b[0;32mdef\u001b[0m \u001b[0m_do_call\u001b[0m\u001b[0;34m(\u001b[0m\u001b[0mself\u001b[0m\u001b[0;34m,\u001b[0m \u001b[0mfn\u001b[0m\u001b[0;34m,\u001b[0m \u001b[0;34m*\u001b[0m\u001b[0margs\u001b[0m\u001b[0;34m)\u001b[0m\u001b[0;34m:\u001b[0m\u001b[0;34m\u001b[0m\u001b[0m\n\u001b[1;32m   1277\u001b[0m     \u001b[0;32mtry\u001b[0m\u001b[0;34m:\u001b[0m\u001b[0;34m\u001b[0m\u001b[0m\n\u001b[0;32m-> 1278\u001b[0;31m       \u001b[0;32mreturn\u001b[0m \u001b[0mfn\u001b[0m\u001b[0;34m(\u001b[0m\u001b[0;34m*\u001b[0m\u001b[0margs\u001b[0m\u001b[0;34m)\u001b[0m\u001b[0;34m\u001b[0m\u001b[0m\n\u001b[0m\u001b[1;32m   1279\u001b[0m     \u001b[0;32mexcept\u001b[0m \u001b[0merrors\u001b[0m\u001b[0;34m.\u001b[0m\u001b[0mOpError\u001b[0m \u001b[0;32mas\u001b[0m \u001b[0me\u001b[0m\u001b[0;34m:\u001b[0m\u001b[0;34m\u001b[0m\u001b[0m\n\u001b[1;32m   1280\u001b[0m       \u001b[0mmessage\u001b[0m \u001b[0;34m=\u001b[0m \u001b[0mcompat\u001b[0m\u001b[0;34m.\u001b[0m\u001b[0mas_text\u001b[0m\u001b[0;34m(\u001b[0m\u001b[0me\u001b[0m\u001b[0;34m.\u001b[0m\u001b[0mmessage\u001b[0m\u001b[0;34m)\u001b[0m\u001b[0;34m\u001b[0m\u001b[0m\n",
      "\u001b[0;32m~/anaconda3/envs/udacity/lib/python3.6/site-packages/tensorflow/python/client/session.py\u001b[0m in \u001b[0;36m_run_fn\u001b[0;34m(feed_dict, fetch_list, target_list, options, run_metadata)\u001b[0m\n\u001b[1;32m   1261\u001b[0m       \u001b[0mself\u001b[0m\u001b[0;34m.\u001b[0m\u001b[0m_extend_graph\u001b[0m\u001b[0;34m(\u001b[0m\u001b[0;34m)\u001b[0m\u001b[0;34m\u001b[0m\u001b[0m\n\u001b[1;32m   1262\u001b[0m       return self._call_tf_sessionrun(\n\u001b[0;32m-> 1263\u001b[0;31m           options, feed_dict, fetch_list, target_list, run_metadata)\n\u001b[0m\u001b[1;32m   1264\u001b[0m \u001b[0;34m\u001b[0m\u001b[0m\n\u001b[1;32m   1265\u001b[0m     \u001b[0;32mdef\u001b[0m \u001b[0m_prun_fn\u001b[0m\u001b[0;34m(\u001b[0m\u001b[0mhandle\u001b[0m\u001b[0;34m,\u001b[0m \u001b[0mfeed_dict\u001b[0m\u001b[0;34m,\u001b[0m \u001b[0mfetch_list\u001b[0m\u001b[0;34m)\u001b[0m\u001b[0;34m:\u001b[0m\u001b[0;34m\u001b[0m\u001b[0m\n",
      "\u001b[0;32m~/anaconda3/envs/udacity/lib/python3.6/site-packages/tensorflow/python/client/session.py\u001b[0m in \u001b[0;36m_call_tf_sessionrun\u001b[0;34m(self, options, feed_dict, fetch_list, target_list, run_metadata)\u001b[0m\n\u001b[1;32m   1348\u001b[0m     return tf_session.TF_SessionRun_wrapper(\n\u001b[1;32m   1349\u001b[0m         \u001b[0mself\u001b[0m\u001b[0;34m.\u001b[0m\u001b[0m_session\u001b[0m\u001b[0;34m,\u001b[0m \u001b[0moptions\u001b[0m\u001b[0;34m,\u001b[0m \u001b[0mfeed_dict\u001b[0m\u001b[0;34m,\u001b[0m \u001b[0mfetch_list\u001b[0m\u001b[0;34m,\u001b[0m \u001b[0mtarget_list\u001b[0m\u001b[0;34m,\u001b[0m\u001b[0;34m\u001b[0m\u001b[0m\n\u001b[0;32m-> 1350\u001b[0;31m         run_metadata)\n\u001b[0m\u001b[1;32m   1351\u001b[0m \u001b[0;34m\u001b[0m\u001b[0m\n\u001b[1;32m   1352\u001b[0m   \u001b[0;32mdef\u001b[0m \u001b[0m_call_tf_sessionprun\u001b[0m\u001b[0;34m(\u001b[0m\u001b[0mself\u001b[0m\u001b[0;34m,\u001b[0m \u001b[0mhandle\u001b[0m\u001b[0;34m,\u001b[0m \u001b[0mfeed_dict\u001b[0m\u001b[0;34m,\u001b[0m \u001b[0mfetch_list\u001b[0m\u001b[0;34m)\u001b[0m\u001b[0;34m:\u001b[0m\u001b[0;34m\u001b[0m\u001b[0m\n",
      "\u001b[0;31mKeyboardInterrupt\u001b[0m: "
     ]
    }
   ],
   "source": [
    "num_steps = 7001\n",
    "\n",
    "with tf.Session(graph=graph) as session:\n",
    "    train_writer = tensorboardGraph(session)\n",
    "    \n",
    "    tf.global_variables_initializer().run()\n",
    "    print('Initialized')\n",
    "    for step in range(num_steps):\n",
    "        offset = (step * batch_size) % (train_labels.shape[0] - batch_size)\n",
    "        batch_data = train_dataset[offset:(offset + batch_size), :, :, :]\n",
    "        batch_labels = train_labels[offset:(offset + batch_size), :]\n",
    "        batch_length = train_length[offset:(offset + batch_size)]\n",
    "        feed_dict = {tf_data : batch_data, tf_labels : batch_labels, tf_length : batch_length, tf_training: True}\n",
    "        _, t_loss, t_length_pred, t_predictions, t_pmasked, t_masks, t_lmasked, summary = session.run(\n",
    "            [optimizer, total_loss, length_predictions, predictions, pmasked,\n",
    "             masks, lmasked, merged], feed_dict=feed_dict)\n",
    "        train_writer.add_summary(summary, step)\n",
    "        if (step % 50 == 0):\n",
    "            train_accuracy = accuracy_labels(t_predictions, t_pmasked, batch_labels, t_lmasked, t_masks, batch_length)\n",
    "            train_length_accuracy = accuracy_length(t_length_pred, batch_length)\n",
    "            print(f'step {step}:')\n",
    "            print(f'\\tMinibatch loss: {t_loss}')\n",
    "            print(f'\\tMinibatch accuracies: {train_length_accuracy}, {train_accuracy}')\n",
    "            feed_dict = {tf_data : valid_dataset, tf_labels : valid_labels, \n",
    "                         tf_length : valid_length, tf_training: False}\n",
    "            v_loss, v_length_pred, v_predictions, v_pmasked, v_masks, v_lmasked, summary = session.run(\n",
    "                [total_loss, length_predictions, predictions, pmasked,\n",
    "                 masks, lmasked, merged], feed_dict=feed_dict)\n",
    "            valid_accuracy = accuracy_labels(v_predictions, v_pmasked, valid_labels, v_lmasked, v_masks, valid_length)\n",
    "            valid_length_accuracy = accuracy_length(v_length_pred, valid_length)\n",
    "            print(f'\\tValidation accuracies: {valid_length_accuracy}, {valid_accuracy}')\n",
    "\n",
    "    feed_dict = {tf_data : test_dataset, tf_labels : test_labels, \n",
    "                 tf_length : test_length, tf_training: False}\n",
    "    test_loss, test_length_pred, test_predictions, test_pmasked, test_masks, test_lmasked, summary = session.run(\n",
    "        [total_loss, length_predictions, predictions, pmasked,\n",
    "         masks, lmasked, merged], feed_dict=feed_dict)\n",
    "    test_accuracy = accuracy_labels(test_predictions, test_pmasked, test_labels, test_lmasked, test_masks, test_length)\n",
    "    test_length_accuracy = accuracy_length(test_length_pred, test_length)\n",
    "    print(f'\\tTest accuracies: {test_length_accuracy}, {test_accuracy}')"
   ]
  },
  {
   "cell_type": "code",
   "execution_count": null,
   "metadata": {},
   "outputs": [],
   "source": []
  }
 ],
 "metadata": {
  "kernelspec": {
   "display_name": "Python 3",
   "language": "python",
   "name": "python3"
  },
  "language_info": {
   "codemirror_mode": {
    "name": "ipython",
    "version": 3
   },
   "file_extension": ".py",
   "mimetype": "text/x-python",
   "name": "python",
   "nbconvert_exporter": "python",
   "pygments_lexer": "ipython3",
   "version": "3.6.6"
  }
 },
 "nbformat": 4,
 "nbformat_minor": 2
}
