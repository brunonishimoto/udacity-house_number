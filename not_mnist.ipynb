{
 "cells": [
  {
   "cell_type": "code",
   "execution_count": 1,
   "metadata": {},
   "outputs": [],
   "source": [
    "# These are all the modules we'll be using later. Make sure you can import them\n",
    "# before proceeding further.\n",
    "from __future__ import print_function\n",
    "import imageio\n",
    "import matplotlib.pyplot as plt\n",
    "import numpy as np\n",
    "import os\n",
    "import sys\n",
    "import tarfile\n",
    "import scipy\n",
    "import skimage\n",
    "import tensorflow as tf\n",
    "from IPython.display import display, Image\n",
    "from sklearn.linear_model import LogisticRegression\n",
    "from six.moves.urllib.request import urlretrieve\n",
    "from six.moves import cPickle as pickle\n",
    "\n",
    "# Config the matplotlib backend as plotting inline in IPython\n",
    "%matplotlib inline"
   ]
  },
  {
   "cell_type": "code",
   "execution_count": 2,
   "metadata": {},
   "outputs": [
    {
     "name": "stdout",
     "output_type": "stream",
     "text": [
      "Found and verified ./dataset/notmnist/notMNIST_large.tar.gz\n",
      "Found and verified ./dataset/notmnist/notMNIST_small.tar.gz\n"
     ]
    }
   ],
   "source": [
    "url = 'https://commondatastorage.googleapis.com/books1000/'\n",
    "last_percent_reported = None\n",
    "data_root = './dataset/notmnist' # Change me to store data elsewhere\n",
    "\n",
    "def download_progress_hook(count, blockSize, totalSize):\n",
    "    \"\"\"A hook to report the progress of a download. This is mostly intended for users with\n",
    "    slow internet connections. Reports every 5% change in download progress.\n",
    "    \"\"\"\n",
    "    global last_percent_reported\n",
    "    percent = int(count * blockSize * 100 / totalSize)\n",
    "\n",
    "    if last_percent_reported != percent:\n",
    "        if percent % 5 == 0:\n",
    "            sys.stdout.write(\"%s%%\" % percent)\n",
    "            sys.stdout.flush()\n",
    "        else:\n",
    "            sys.stdout.write(\".\")\n",
    "            sys.stdout.flush()\n",
    "      \n",
    "        last_percent_reported = percent\n",
    "        \n",
    "def maybe_download(filename, expected_bytes, force=False):\n",
    "    \"\"\"Download a file if not present, and make sure it's the right size.\"\"\"\n",
    "    dest_filename = os.path.join(data_root, filename)\n",
    "    if force or not os.path.exists(dest_filename):\n",
    "        print('Attempting to download:', filename) \n",
    "        filename, _ = urlretrieve(url + filename, dest_filename, reporthook=download_progress_hook)\n",
    "        print('\\nDownload Complete!')\n",
    "    statinfo = os.stat(dest_filename)\n",
    "    if statinfo.st_size == expected_bytes:\n",
    "        print('Found and verified', dest_filename)\n",
    "    else:\n",
    "        raise Exception('Failed to verify ' + dest_filename + '. Can you get to it with a browser?')\n",
    "    return dest_filename\n",
    "\n",
    "train_filename = maybe_download('notMNIST_large.tar.gz', 247336696)\n",
    "test_filename = maybe_download('notMNIST_small.tar.gz', 8458043)"
   ]
  },
  {
   "cell_type": "code",
   "execution_count": 3,
   "metadata": {},
   "outputs": [
    {
     "name": "stdout",
     "output_type": "stream",
     "text": [
      "./dataset/notmnist/notMNIST_large already present - Skipping extraction of ./dataset/notmnist/notMNIST_large.tar.gz.\n",
      "['./dataset/notmnist/notMNIST_large/A', './dataset/notmnist/notMNIST_large/B', './dataset/notmnist/notMNIST_large/C', './dataset/notmnist/notMNIST_large/D', './dataset/notmnist/notMNIST_large/E', './dataset/notmnist/notMNIST_large/F', './dataset/notmnist/notMNIST_large/G', './dataset/notmnist/notMNIST_large/H', './dataset/notmnist/notMNIST_large/I', './dataset/notmnist/notMNIST_large/J']\n",
      "./dataset/notmnist/notMNIST_small already present - Skipping extraction of ./dataset/notmnist/notMNIST_small.tar.gz.\n",
      "['./dataset/notmnist/notMNIST_small/A', './dataset/notmnist/notMNIST_small/B', './dataset/notmnist/notMNIST_small/C', './dataset/notmnist/notMNIST_small/D', './dataset/notmnist/notMNIST_small/E', './dataset/notmnist/notMNIST_small/F', './dataset/notmnist/notMNIST_small/G', './dataset/notmnist/notMNIST_small/H', './dataset/notmnist/notMNIST_small/I', './dataset/notmnist/notMNIST_small/J']\n"
     ]
    }
   ],
   "source": [
    "num_classes = 10\n",
    "np.random.seed(133)\n",
    "\n",
    "def maybe_extract(filename, force=False):\n",
    "    root = os.path.splitext(os.path.splitext(filename)[0])[0]  # remove .tar.gz\n",
    "    if os.path.isdir(root) and not force:\n",
    "        # You may override by setting force=True.\n",
    "        print('%s already present - Skipping extraction of %s.' % (root, filename))\n",
    "    else:\n",
    "        print('Extracting data for %s. This may take a while. Please wait.' % root)\n",
    "        tar = tarfile.open(filename)\n",
    "        sys.stdout.flush()\n",
    "        tar.extractall(data_root)\n",
    "        tar.close()\n",
    "    data_folders = [\n",
    "        os.path.join(root, d) for d in sorted(os.listdir(root)) if os.path.isdir(os.path.join(root, d))]\n",
    "    if len(data_folders) != num_classes:\n",
    "        raise Exception('Expected %d folders, one per class. Found %d instead.' % (num_classes, len(data_folders)))\n",
    "    print(data_folders)\n",
    "    return data_folders\n",
    "  \n",
    "train_folders = maybe_extract(train_filename)\n",
    "test_folders  = maybe_extract(test_filename)"
   ]
  },
  {
   "cell_type": "code",
   "execution_count": 4,
   "metadata": {},
   "outputs": [
    {
     "name": "stdout",
     "output_type": "stream",
     "text": [
      "Displaying images in:  notMNIST_large\n",
      "Label:  A\n"
     ]
    },
    {
     "data": {
      "image/png": "[encoded data removed]",
      "text/plain": [
       "<IPython.core.display.Image object>"
      ]
     },
     "metadata": {
      "image/png": {
       "height": 20,
       "width": 20
      }
     },
     "output_type": "display_data"
    },
    {
     "data": {
      "image/png": "[encoded data removed]",
      "text/plain": [
       "<IPython.core.display.Image object>"
      ]
     },
     "metadata": {
      "image/png": {
       "height": 20,
       "width": 20
      }
     },
     "output_type": "display_data"
    },
    {
     "data": {
      "image/png": "[encoded data removed]",
      "text/plain": [
       "<IPython.core.display.Image object>"
      ]
     },
     "metadata": {
      "image/png": {
       "height": 20,
       "width": 20
      }
     },
     "output_type": "display_data"
    },
    {
     "data": {
      "image/png": "[encoded data removed]",
      "text/plain": [
       "<IPython.core.display.Image object>"
      ]
     },
     "metadata": {
      "image/png": {
       "height": 20,
       "width": 20
      }
     },
     "output_type": "display_data"
    },
    {
     "data": {
      "image/png": "[encoded data removed]",
      "text/plain": [
       "<IPython.core.display.Image object>"
      ]
     },
     "metadata": {
      "image/png": {
       "height": 20,
       "width": 20
      }
     },
     "output_type": "display_data"
    },
    {
     "name": "stdout",
     "output_type": "stream",
     "text": [
      "Label:  B\n"
     ]
    },
    {
     "data": {
      "image/png": "[encoded data removed]",
      "text/plain": [
       "<IPython.core.display.Image object>"
      ]
     },
     "metadata": {
      "image/png": {
       "height": 20,
       "width": 20
      }
     },
     "output_type": "display_data"
    },
    {
     "data": {
      "image/png": "[encoded data removed]",
      "text/plain": [
       "<IPython.core.display.Image object>"
      ]
     },
     "metadata": {
      "image/png": {
       "height": 20,
       "width": 20
      }
     },
     "output_type": "display_data"
    },
    {
     "data": {
      "image/png": "[encoded data removed]",
      "text/plain": [
       "<IPython.core.display.Image object>"
      ]
     },
     "metadata": {
      "image/png": {
       "height": 20,
       "width": 20
      }
     },
     "output_type": "display_data"
    },
    {
     "data": {
      "image/png": "[encoded data removed]",
      "text/plain": [
       "<IPython.core.display.Image object>"
      ]
     },
     "metadata": {
      "image/png": {
       "height": 20,
       "width": 20
      }
     },
     "output_type": "display_data"
    },
    {
     "data": {
      "image/png": "[encoded data removed]",
      "text/plain": [
       "<IPython.core.display.Image object>"
      ]
     },
     "metadata": {
      "image/png": {
       "height": 20,
       "width": 20
      }
     },
     "output_type": "display_data"
    },
    {
     "name": "stdout",
     "output_type": "stream",
     "text": [
      "Label:  C\n"
     ]
    },
    {
     "data": {
      "image/png": "[encoded data removed]",
      "text/plain": [
       "<IPython.core.display.Image object>"
      ]
     },
     "metadata": {
      "image/png": {
       "height": 20,
       "width": 20
      }
     },
     "output_type": "display_data"
    },
    {
     "data": {
      "image/png": "[encoded data removed]",
      "text/plain": [
       "<IPython.core.display.Image object>"
      ]
     },
     "metadata": {
      "image/png": {
       "height": 20,
       "width": 20
      }
     },
     "output_type": "display_data"
    },
    {
     "data": {
      "image/png": "[encoded data removed]",
      "text/plain": [
       "<IPython.core.display.Image object>"
      ]
     },
     "metadata": {
      "image/png": {
       "height": 20,
       "width": 20
      }
     },
     "output_type": "display_data"
    },
    {
     "data": {
      "image/png": "[encoded data removed]",
      "text/plain": [
       "<IPython.core.display.Image object>"
      ]
     },
     "metadata": {
      "image/png": {
       "height": 20,
       "width": 20
      }
     },
     "output_type": "display_data"
    },
    {
     "data": {
      "image/png": "[encoded data removed]",
      "text/plain": [
       "<IPython.core.display.Image object>"
      ]
     },
     "metadata": {
      "image/png": {
       "height": 20,
       "width": 20
      }
     },
     "output_type": "display_data"
    },
    {
     "name": "stdout",
     "output_type": "stream",
     "text": [
      "Label:  D\n"
     ]
    },
    {
     "data": {
      "image/png": "[encoded data removed]",
      "text/plain": [
       "<IPython.core.display.Image object>"
      ]
     },
     "metadata": {
      "image/png": {
       "height": 20,
       "width": 20
      }
     },
     "output_type": "display_data"
    },
    {
     "data": {
      "image/png": "[encoded data removed]",
      "text/plain": [
       "<IPython.core.display.Image object>"
      ]
     },
     "metadata": {
      "image/png": {
       "height": 20,
       "width": 20
      }
     },
     "output_type": "display_data"
    },
    {
     "data": {
      "image/png": "[encoded data removed]",
      "text/plain": [
       "<IPython.core.display.Image object>"
      ]
     },
     "metadata": {
      "image/png": {
       "height": 20,
       "width": 20
      }
     },
     "output_type": "display_data"
    },
    {
     "data": {
      "image/png": "[encoded data removed]",
      "text/plain": [
       "<IPython.core.display.Image object>"
      ]
     },
     "metadata": {
      "image/png": {
       "height": 20,
       "width": 20
      }
     },
     "output_type": "display_data"
    },
    {
     "data": {
      "image/png": "[encoded data removed]",
      "text/plain": [
       "<IPython.core.display.Image object>"
      ]
     },
     "metadata": {
      "image/png": {
       "height": 20,
       "width": 20
      }
     },
     "output_type": "display_data"
    },
    {
     "name": "stdout",
     "output_type": "stream",
     "text": [
      "Label:  E\n"
     ]
    },
    {
     "data": {
      "image/png": "[encoded data removed]",
      "text/plain": [
       "<IPython.core.display.Image object>"
      ]
     },
     "metadata": {
      "image/png": {
       "height": 20,
       "width": 20
      }
     },
     "output_type": "display_data"
    },
    {
     "data": {
      "image/png": "[encoded data removed]",
      "text/plain": [
       "<IPython.core.display.Image object>"
      ]
     },
     "metadata": {
      "image/png": {
       "height": 20,
       "width": 20
      }
     },
     "output_type": "display_data"
    },
    {
     "data": {
      "image/png": "[encoded data removed]",
      "text/plain": [
       "<IPython.core.display.Image object>"
      ]
     },
     "metadata": {
      "image/png": {
       "height": 20,
       "width": 20
      }
     },
     "output_type": "display_data"
    },
    {
     "data": {
      "image/png": "[encoded data removed]",
      "text/plain": [
       "<IPython.core.display.Image object>"
      ]
     },
     "metadata": {
      "image/png": {
       "height": 20,
       "width": 20
      }
     },
     "output_type": "display_data"
    },
    {
     "data": {
      "image/png": "[encoded data removed]",
      "text/plain": [
       "<IPython.core.display.Image object>"
      ]
     },
     "metadata": {
      "image/png": {
       "height": 20,
       "width": 20
      }
     },
     "output_type": "display_data"
    },
    {
     "name": "stdout",
     "output_type": "stream",
     "text": [
      "Label:  F\n"
     ]
    },
    {
     "data": {
      "image/png": "[encoded data removed]",
      "text/plain": [
       "<IPython.core.display.Image object>"
      ]
     },
     "metadata": {
      "image/png": {
       "height": 20,
       "width": 20
      }
     },
     "output_type": "display_data"
    },
    {
     "data": {
      "image/png": "[encoded data removed]",
      "text/plain": [
       "<IPython.core.display.Image object>"
      ]
     },
     "metadata": {
      "image/png": {
       "height": 20,
       "width": 20
      }
     },
     "output_type": "display_data"
    },
    {
     "data": {
      "image/png": "[encoded data removed]",
      "text/plain": [
       "<IPython.core.display.Image object>"
      ]
     },
     "metadata": {
      "image/png": {
       "height": 20,
       "width": 20
      }
     },
     "output_type": "display_data"
    },
    {
     "data": {
      "image/png": "[encoded data removed]",
      "text/plain": [
       "<IPython.core.display.Image object>"
      ]
     },
     "metadata": {
      "image/png": {
       "height": 20,
       "width": 20
      }
     },
     "output_type": "display_data"
    },
    {
     "data": {
      "image/png": "[encoded data removed]",
      "text/plain": [
       "<IPython.core.display.Image object>"
      ]
     },
     "metadata": {
      "image/png": {
       "height": 20,
       "width": 20
      }
     },
     "output_type": "display_data"
    },
    {
     "name": "stdout",
     "output_type": "stream",
     "text": [
      "Label:  G\n"
     ]
    },
    {
     "data": {
      "image/png": "[encoded data removed]",
      "text/plain": [
       "<IPython.core.display.Image object>"
      ]
     },
     "metadata": {
      "image/png": {
       "height": 20,
       "width": 20
      }
     },
     "output_type": "display_data"
    },
    {
     "data": {
      "image/png": "[encoded data removed]",
      "text/plain": [
       "<IPython.core.display.Image object>"
      ]
     },
     "metadata": {
      "image/png": {
       "height": 20,
       "width": 20
      }
     },
     "output_type": "display_data"
    },
    {
     "data": {
      "image/png": "[encoded data removed]",
      "text/plain": [
       "<IPython.core.display.Image object>"
      ]
     },
     "metadata": {
      "image/png": {
       "height": 20,
       "width": 20
      }
     },
     "output_type": "display_data"
    },
    {
     "data": {
      "image/png": "[encoded data removed]",
      "text/plain": [
       "<IPython.core.display.Image object>"
      ]
     },
     "metadata": {
      "image/png": {
       "height": 20,
       "width": 20
      }
     },
     "output_type": "display_data"
    },
    {
     "data": {
      "image/png": "[encoded data removed]",
      "text/plain": [
       "<IPython.core.display.Image object>"
      ]
     },
     "metadata": {
      "image/png": {
       "height": 20,
       "width": 20
      }
     },
     "output_type": "display_data"
    },
    {
     "name": "stdout",
     "output_type": "stream",
     "text": [
      "Label:  H\n"
     ]
    },
    {
     "data": {
      "image/png": "[encoded data removed]",
      "text/plain": [
       "<IPython.core.display.Image object>"
      ]
     },
     "metadata": {
      "image/png": {
       "height": 20,
       "width": 20
      }
     },
     "output_type": "display_data"
    },
    {
     "data": {
      "image/png": "[encoded data removed]",
      "text/plain": [
       "<IPython.core.display.Image object>"
      ]
     },
     "metadata": {
      "image/png": {
       "height": 20,
       "width": 20
      }
     },
     "output_type": "display_data"
    },
    {
     "data": {
      "image/png": "[encoded data removed]",
      "text/plain": [
       "<IPython.core.display.Image object>"
      ]
     },
     "metadata": {
      "image/png": {
       "height": 20,
       "width": 20
      }
     },
     "output_type": "display_data"
    },
    {
     "data": {
      "image/png": "[encoded data removed]",
      "text/plain": [
       "<IPython.core.display.Image object>"
      ]
     },
     "metadata": {
      "image/png": {
       "height": 20,
       "width": 20
      }
     },
     "output_type": "display_data"
    },
    {
     "data": {
      "image/png": "[encoded data removed]",
      "text/plain": [
       "<IPython.core.display.Image object>"
      ]
     },
     "metadata": {
      "image/png": {
       "height": 20,
       "width": 20
      }
     },
     "output_type": "display_data"
    },
    {
     "name": "stdout",
     "output_type": "stream",
     "text": [
      "Label:  I\n"
     ]
    },
    {
     "data": {
      "image/png": "[encoded data removed]",
      "text/plain": [
       "<IPython.core.display.Image object>"
      ]
     },
     "metadata": {
      "image/png": {
       "height": 20,
       "width": 20
      }
     },
     "output_type": "display_data"
    },
    {
     "data": {
      "image/png": "[encoded data removed]",
      "text/plain": [
       "<IPython.core.display.Image object>"
      ]
     },
     "metadata": {
      "image/png": {
       "height": 20,
       "width": 20
      }
     },
     "output_type": "display_data"
    },
    {
     "data": {
      "image/png": "[encoded data removed]",
      "text/plain": [
       "<IPython.core.display.Image object>"
      ]
     },
     "metadata": {
      "image/png": {
       "height": 20,
       "width": 20
      }
     },
     "output_type": "display_data"
    },
    {
     "data": {
      "image/png": "[encoded data removed]",
      "text/plain": [
       "<IPython.core.display.Image object>"
      ]
     },
     "metadata": {
      "image/png": {
       "height": 20,
       "width": 20
      }
     },
     "output_type": "display_data"
    },
    {
     "data": {
      "image/png": "[encoded data removed]",
      "text/plain": [
       "<IPython.core.display.Image object>"
      ]
     },
     "metadata": {
      "image/png": {
       "height": 20,
       "width": 20
      }
     },
     "output_type": "display_data"
    },
    {
     "name": "stdout",
     "output_type": "stream",
     "text": [
      "Label:  J\n"
     ]
    },
    {
     "data": {
      "image/png": "[encoded data removed]",
      "text/plain": [
       "<IPython.core.display.Image object>"
      ]
     },
     "metadata": {
      "image/png": {
       "height": 20,
       "width": 20
      }
     },
     "output_type": "display_data"
    },
    {
     "data": {
      "image/png": "[encoded data removed]",
      "text/plain": [
       "<IPython.core.display.Image object>"
      ]
     },
     "metadata": {
      "image/png": {
       "height": 20,
       "width": 20
      }
     },
     "output_type": "display_data"
    },
    {
     "data": {
      "image/png": "[encoded data removed]",
      "text/plain": [
       "<IPython.core.display.Image object>"
      ]
     },
     "metadata": {
      "image/png": {
       "height": 20,
       "width": 20
      }
     },
     "output_type": "display_data"
    },
    {
     "data": {
      "image/png": "[encoded data removed]",
      "text/plain": [
       "<IPython.core.display.Image object>"
      ]
     },
     "metadata": {
      "image/png": {
       "height": 20,
       "width": 20
      }
     },
     "output_type": "display_data"
    },
    {
     "data": {
      "image/png": "[encoded data removed]",
      "text/plain": [
       "<IPython.core.display.Image object>"
      ]
     },
     "metadata": {
      "image/png": {
       "height": 20,
       "width": 20
      }
     },
     "output_type": "display_data"
    },
    {
     "name": "stdout",
     "output_type": "stream",
     "text": [
      "Displaying images in:  notMNIST_small\n",
      "Label:  A\n"
     ]
    },
    {
     "data": {
      "image/png": "[encoded data removed]",
      "text/plain": [
       "<IPython.core.display.Image object>"
      ]
     },
     "metadata": {
      "image/png": {
       "height": 20,
       "width": 20
      }
     },
     "output_type": "display_data"
    },
    {
     "data": {
      "image/png": "[encoded data removed]",
      "text/plain": [
       "<IPython.core.display.Image object>"
      ]
     },
     "metadata": {
      "image/png": {
       "height": 20,
       "width": 20
      }
     },
     "output_type": "display_data"
    },
    {
     "data": {
      "image/png": "[encoded data removed]",
      "text/plain": [
       "<IPython.core.display.Image object>"
      ]
     },
     "metadata": {
      "image/png": {
       "height": 20,
       "width": 20
      }
     },
     "output_type": "display_data"
    },
    {
     "data": {
      "image/png": "[encoded data removed]",
      "text/plain": [
       "<IPython.core.display.Image object>"
      ]
     },
     "metadata": {
      "image/png": {
       "height": 20,
       "width": 20
      }
     },
     "output_type": "display_data"
    },
    {
     "data": {
      "image/png": "[encoded data removed]",
      "text/plain": [
       "<IPython.core.display.Image object>"
      ]
     },
     "metadata": {
      "image/png": {
       "height": 20,
       "width": 20
      }
     },
     "output_type": "display_data"
    },
    {
     "name": "stdout",
     "output_type": "stream",
     "text": [
      "Label:  B\n"
     ]
    },
    {
     "data": {
      "image/png": "[encoded data removed]",
      "text/plain": [
       "<IPython.core.display.Image object>"
      ]
     },
     "metadata": {
      "image/png": {
       "height": 20,
       "width": 20
      }
     },
     "output_type": "display_data"
    },
    {
     "data": {
      "image/png": "[encoded data removed]",
      "text/plain": [
       "<IPython.core.display.Image object>"
      ]
     },
     "metadata": {
      "image/png": {
       "height": 20,
       "width": 20
      }
     },
     "output_type": "display_data"
    },
    {
     "data": {
      "image/png": "[encoded data removed]",
      "text/plain": [
       "<IPython.core.display.Image object>"
      ]
     },
     "metadata": {
      "image/png": {
       "height": 20,
       "width": 20
      }
     },
     "output_type": "display_data"
    },
    {
     "data": {
      "image/png": "[encoded data removed]",
      "text/plain": [
       "<IPython.core.display.Image object>"
      ]
     },
     "metadata": {
      "image/png": {
       "height": 20,
       "width": 20
      }
     },
     "output_type": "display_data"
    },
    {
     "data": {
      "image/png": "[encoded data removed]",
      "text/plain": [
       "<IPython.core.display.Image object>"
      ]
     },
     "metadata": {
      "image/png": {
       "height": 20,
       "width": 20
      }
     },
     "output_type": "display_data"
    },
    {
     "name": "stdout",
     "output_type": "stream",
     "text": [
      "Label:  C\n"
     ]
    },
    {
     "data": {
      "image/png": "[encoded data removed]",
      "text/plain": [
       "<IPython.core.display.Image object>"
      ]
     },
     "metadata": {
      "image/png": {
       "height": 20,
       "width": 20
      }
     },
     "output_type": "display_data"
    },
    {
     "data": {
      "image/png": "[encoded data removed]",
      "text/plain": [
       "<IPython.core.display.Image object>"
      ]
     },
     "metadata": {
      "image/png": {
       "height": 20,
       "width": 20
      }
     },
     "output_type": "display_data"
    },
    {
     "data": {
      "image/png": "[encoded data removed]",
      "text/plain": [
       "<IPython.core.display.Image object>"
      ]
     },
     "metadata": {
      "image/png": {
       "height": 20,
       "width": 20
      }
     },
     "output_type": "display_data"
    },
    {
     "data": {
      "image/png": "[encoded data removed]",
      "text/plain": [
       "<IPython.core.display.Image object>"
      ]
     },
     "metadata": {
      "image/png": {
       "height": 20,
       "width": 20
      }
     },
     "output_type": "display_data"
    },
    {
     "data": {
      "image/png": "[encoded data removed]",
      "text/plain": [
       "<IPython.core.display.Image object>"
      ]
     },
     "metadata": {
      "image/png": {
       "height": 20,
       "width": 20
      }
     },
     "output_type": "display_data"
    },
    {
     "name": "stdout",
     "output_type": "stream",
     "text": [
      "Label:  D\n"
     ]
    },
    {
     "data": {
      "image/png": "[encoded data removed]",
      "text/plain": [
       "<IPython.core.display.Image object>"
      ]
     },
     "metadata": {
      "image/png": {
       "height": 20,
       "width": 20
      }
     },
     "output_type": "display_data"
    },
    {
     "data": {
      "image/png": "[encoded data removed]",
      "text/plain": [
       "<IPython.core.display.Image object>"
      ]
     },
     "metadata": {
      "image/png": {
       "height": 20,
       "width": 20
      }
     },
     "output_type": "display_data"
    },
    {
     "data": {
      "image/png": "[encoded data removed]",
      "text/plain": [
       "<IPython.core.display.Image object>"
      ]
     },
     "metadata": {
      "image/png": {
       "height": 20,
       "width": 20
      }
     },
     "output_type": "display_data"
    },
    {
     "data": {
      "image/png": "[encoded data removed]",
      "text/plain": [
       "<IPython.core.display.Image object>"
      ]
     },
     "metadata": {
      "image/png": {
       "height": 20,
       "width": 20
      }
     },
     "output_type": "display_data"
    },
    {
     "data": {
      "image/png": "[encoded data removed]",
      "text/plain": [
       "<IPython.core.display.Image object>"
      ]
     },
     "metadata": {
      "image/png": {
       "height": 20,
       "width": 20
      }
     },
     "output_type": "display_data"
    },
    {
     "name": "stdout",
     "output_type": "stream",
     "text": [
      "Label:  E\n"
     ]
    },
    {
     "data": {
      "image/png": "[encoded data removed]",
      "text/plain": [
       "<IPython.core.display.Image object>"
      ]
     },
     "metadata": {
      "image/png": {
       "height": 20,
       "width": 20
      }
     },
     "output_type": "display_data"
    },
    {
     "data": {
      "image/png": "[encoded data removed]",
      "text/plain": [
       "<IPython.core.display.Image object>"
      ]
     },
     "metadata": {
      "image/png": {
       "height": 20,
       "width": 20
      }
     },
     "output_type": "display_data"
    },
    {
     "data": {
      "image/png": "[encoded data removed]",
      "text/plain": [
       "<IPython.core.display.Image object>"
      ]
     },
     "metadata": {
      "image/png": {
       "height": 20,
       "width": 20
      }
     },
     "output_type": "display_data"
    },
    {
     "data": {
      "image/png": "[encoded data removed]",
      "text/plain": [
       "<IPython.core.display.Image object>"
      ]
     },
     "metadata": {
      "image/png": {
       "height": 20,
       "width": 20
      }
     },
     "output_type": "display_data"
    },
    {
     "data": {
      "image/png": "[encoded data removed]",
      "text/plain": [
       "<IPython.core.display.Image object>"
      ]
     },
     "metadata": {
      "image/png": {
       "height": 20,
       "width": 20
      }
     },
     "output_type": "display_data"
    },
    {
     "name": "stdout",
     "output_type": "stream",
     "text": [
      "Label:  F\n"
     ]
    },
    {
     "data": {
      "image/png": "[encoded data removed]",
      "text/plain": [
       "<IPython.core.display.Image object>"
      ]
     },
     "metadata": {
      "image/png": {
       "height": 20,
       "width": 20
      }
     },
     "output_type": "display_data"
    },
    {
     "data": {
      "image/png": "[encoded data removed]",
      "text/plain": [
       "<IPython.core.display.Image object>"
      ]
     },
     "metadata": {
      "image/png": {
       "height": 20,
       "width": 20
      }
     },
     "output_type": "display_data"
    },
    {
     "data": {
      "image/png": "[encoded data removed]",
      "text/plain": [
       "<IPython.core.display.Image object>"
      ]
     },
     "metadata": {
      "image/png": {
       "height": 20,
       "width": 20
      }
     },
     "output_type": "display_data"
    },
    {
     "data": {
      "image/png": "[encoded data removed]",
      "text/plain": [
       "<IPython.core.display.Image object>"
      ]
     },
     "metadata": {
      "image/png": {
       "height": 20,
       "width": 20
      }
     },
     "output_type": "display_data"
    },
    {
     "data": {
      "image/png": "[encoded data removed]",
      "text/plain": [
       "<IPython.core.display.Image object>"
      ]
     },
     "metadata": {
      "image/png": {
       "height": 20,
       "width": 20
      }
     },
     "output_type": "display_data"
    },
    {
     "name": "stdout",
     "output_type": "stream",
     "text": [
      "Label:  G\n"
     ]
    },
    {
     "data": {
      "image/png": "[encoded data removed]",
      "text/plain": [
       "<IPython.core.display.Image object>"
      ]
     },
     "metadata": {
      "image/png": {
       "height": 20,
       "width": 20
      }
     },
     "output_type": "display_data"
    },
    {
     "data": {
      "image/png": "[encoded data removed]",
      "text/plain": [
       "<IPython.core.display.Image object>"
      ]
     },
     "metadata": {
      "image/png": {
       "height": 20,
       "width": 20
      }
     },
     "output_type": "display_data"
    },
    {
     "data": {
      "image/png": "[encoded data removed]",
      "text/plain": [
       "<IPython.core.display.Image object>"
      ]
     },
     "metadata": {
      "image/png": {
       "height": 20,
       "width": 20
      }
     },
     "output_type": "display_data"
    },
    {
     "data": {
      "image/png": "[encoded data removed]",
      "text/plain": [
       "<IPython.core.display.Image object>"
      ]
     },
     "metadata": {
      "image/png": {
       "height": 20,
       "width": 20
      }
     },
     "output_type": "display_data"
    },
    {
     "data": {
      "image/png": "[encoded data removed]",
      "text/plain": [
       "<IPython.core.display.Image object>"
      ]
     },
     "metadata": {
      "image/png": {
       "height": 20,
       "width": 20
      }
     },
     "output_type": "display_data"
    },
    {
     "name": "stdout",
     "output_type": "stream",
     "text": [
      "Label:  H\n"
     ]
    },
    {
     "data": {
      "image/png": "[encoded data removed]",
      "text/plain": [
       "<IPython.core.display.Image object>"
      ]
     },
     "metadata": {
      "image/png": {
       "height": 20,
       "width": 20
      }
     },
     "output_type": "display_data"
    },
    {
     "data": {
      "image/png": "[encoded data removed]",
      "text/plain": [
       "<IPython.core.display.Image object>"
      ]
     },
     "metadata": {
      "image/png": {
       "height": 20,
       "width": 20
      }
     },
     "output_type": "display_data"
    },
    {
     "data": {
      "image/png": "[encoded data removed]",
      "text/plain": [
       "<IPython.core.display.Image object>"
      ]
     },
     "metadata": {
      "image/png": {
       "height": 20,
       "width": 20
      }
     },
     "output_type": "display_data"
    },
    {
     "data": {
      "image/png": "[encoded data removed]",
      "text/plain": [
       "<IPython.core.display.Image object>"
      ]
     },
     "metadata": {
      "image/png": {
       "height": 20,
       "width": 20
      }
     },
     "output_type": "display_data"
    },
    {
     "data": {
      "image/png": "[encoded data removed]",
      "text/plain": [
       "<IPython.core.display.Image object>"
      ]
     },
     "metadata": {
      "image/png": {
       "height": 20,
       "width": 20
      }
     },
     "output_type": "display_data"
    },
    {
     "name": "stdout",
     "output_type": "stream",
     "text": [
      "Label:  I\n"
     ]
    },
    {
     "data": {
      "image/png": "[encoded data removed]",
      "text/plain": [
       "<IPython.core.display.Image object>"
      ]
     },
     "metadata": {
      "image/png": {
       "height": 20,
       "width": 20
      }
     },
     "output_type": "display_data"
    },
    {
     "data": {
      "image/png": "[encoded data removed]",
      "text/plain": [
       "<IPython.core.display.Image object>"
      ]
     },
     "metadata": {
      "image/png": {
       "height": 20,
       "width": 20
      }
     },
     "output_type": "display_data"
    },
    {
     "data": {
      "image/png": "[encoded data removed]",
      "text/plain": [
       "<IPython.core.display.Image object>"
      ]
     },
     "metadata": {
      "image/png": {
       "height": 20,
       "width": 20
      }
     },
     "output_type": "display_data"
    },
    {
     "data": {
      "image/png": "[encoded data removed]",
      "text/plain": [
       "<IPython.core.display.Image object>"
      ]
     },
     "metadata": {
      "image/png": {
       "height": 20,
       "width": 20
      }
     },
     "output_type": "display_data"
    },
    {
     "data": {
      "image/png": "[encoded data removed]",
      "text/plain": [
       "<IPython.core.display.Image object>"
      ]
     },
     "metadata": {
      "image/png": {
       "height": 20,
       "width": 20
      }
     },
     "output_type": "display_data"
    },
    {
     "name": "stdout",
     "output_type": "stream",
     "text": [
      "Label:  J\n"
     ]
    },
    {
     "data": {
      "image/png": "[encoded data removed]",
      "text/plain": [
       "<IPython.core.display.Image object>"
      ]
     },
     "metadata": {
      "image/png": {
       "height": 20,
       "width": 20
      }
     },
     "output_type": "display_data"
    },
    {
     "data": {
      "image/png": "[encoded data removed]",
      "text/plain": [
       "<IPython.core.display.Image object>"
      ]
     },
     "metadata": {
      "image/png": {
       "height": 20,
       "width": 20
      }
     },
     "output_type": "display_data"
    },
    {
     "data": {
      "image/png": "[encoded data removed]",
      "text/plain": [
       "<IPython.core.display.Image object>"
      ]
     },
     "metadata": {
      "image/png": {
       "height": 20,
       "width": 20
      }
     },
     "output_type": "display_data"
    },
    {
     "data": {
      "image/png": "[encoded data removed]",
      "text/plain": [
       "<IPython.core.display.Image object>"
      ]
     },
     "metadata": {
      "image/png": {
       "height": 20,
       "width": 20
      }
     },
     "output_type": "display_data"
    },
    {
     "data": {
      "image/png": "[encoded data removed]",
      "text/plain": [
       "<IPython.core.display.Image object>"
      ]
     },
     "metadata": {
      "image/png": {
       "height": 20,
       "width": 20
      }
     },
     "output_type": "display_data"
    }
   ],
   "source": [
    "import random\n",
    "\n",
    "# Visualise a sample of each label\n",
    "def display_images(filename, samples_per_label):\n",
    "    print ('Displaying images in: ', filename)\n",
    "    folder = os.path.join(data_root, filename)\n",
    "    for label in sorted(os.listdir(folder)):\n",
    "        if(label.endswith('.pickle') == False):\n",
    "            print ('Label: ', label)\n",
    "            label_folder = os.path.join(folder, label)\n",
    "            dirs = os.listdir(label_folder)\n",
    "            random.shuffle(dirs)\n",
    "            for image in dirs[:samples_per_label]:\n",
    "                display(Image(filename=os.path.join(label_folder, image), width=20.0, height=20.0))\n",
    "            \n",
    "display_images('notMNIST_large', 5)\n",
    "display_images('notMNIST_small', 5)"
   ]
  },
  {
   "cell_type": "code",
   "execution_count": 5,
   "metadata": {},
   "outputs": [],
   "source": [
    "def saveAsPickle(data,filename):\n",
    "    try:\n",
    "        with open(filename, 'wb') as f:\n",
    "            pickle.dump(data, f, pickle.HIGHEST_PROTOCOL)\n",
    "            print (filename + \" pickled!\")\n",
    "    except Exception as e:\n",
    "        print('Unable to save data to', filename, ':', e)\n",
    "        \n",
    "def loadPickle(file):\n",
    "    with open(file, 'rb') as pickle_file:\n",
    "        return pickle.load(pickle_file)"
   ]
  },
  {
   "cell_type": "code",
   "execution_count": 6,
   "metadata": {},
   "outputs": [
    {
     "name": "stdout",
     "output_type": "stream",
     "text": [
      "./dataset/notmnist/notMNIST_large/A.pickle already present - Skipping pickling.\n",
      "./dataset/notmnist/notMNIST_large/B.pickle already present - Skipping pickling.\n",
      "./dataset/notmnist/notMNIST_large/C.pickle already present - Skipping pickling.\n",
      "./dataset/notmnist/notMNIST_large/D.pickle already present - Skipping pickling.\n",
      "./dataset/notmnist/notMNIST_large/E.pickle already present - Skipping pickling.\n",
      "./dataset/notmnist/notMNIST_large/F.pickle already present - Skipping pickling.\n",
      "./dataset/notmnist/notMNIST_large/G.pickle already present - Skipping pickling.\n",
      "./dataset/notmnist/notMNIST_large/H.pickle already present - Skipping pickling.\n",
      "./dataset/notmnist/notMNIST_large/I.pickle already present - Skipping pickling.\n",
      "./dataset/notmnist/notMNIST_large/J.pickle already present - Skipping pickling.\n",
      "./dataset/notmnist/notMNIST_small/A.pickle already present - Skipping pickling.\n",
      "./dataset/notmnist/notMNIST_small/B.pickle already present - Skipping pickling.\n",
      "./dataset/notmnist/notMNIST_small/C.pickle already present - Skipping pickling.\n",
      "./dataset/notmnist/notMNIST_small/D.pickle already present - Skipping pickling.\n",
      "./dataset/notmnist/notMNIST_small/E.pickle already present - Skipping pickling.\n",
      "./dataset/notmnist/notMNIST_small/F.pickle already present - Skipping pickling.\n",
      "./dataset/notmnist/notMNIST_small/G.pickle already present - Skipping pickling.\n",
      "./dataset/notmnist/notMNIST_small/H.pickle already present - Skipping pickling.\n",
      "./dataset/notmnist/notMNIST_small/I.pickle already present - Skipping pickling.\n",
      "./dataset/notmnist/notMNIST_small/J.pickle already present - Skipping pickling.\n"
     ]
    }
   ],
   "source": [
    "image_size = 28  # Pixel width and height.\n",
    "pixel_depth = 255.0  # Number of levels per pixel.\n",
    "\n",
    "def load_letter(folder, min_num_images):\n",
    "    \"\"\"Load the data for a single letter label.\"\"\"\n",
    "    image_files = os.listdir(folder)\n",
    "    dataset = np.ndarray(shape=(len(image_files), image_size, image_size), dtype=np.float32)\n",
    "    print(folder)\n",
    "    num_images = 0\n",
    "    for image in image_files:\n",
    "        image_file = os.path.join(folder, image)\n",
    "        try:\n",
    "            image_data = (imageio.imread(image_file).astype(float) - pixel_depth / 2) / pixel_depth\n",
    "            if image_data.shape != (image_size, image_size):\n",
    "                raise Exception('Unexpected image shape: %s' % str(image_data.shape))\n",
    "            dataset[num_images, :, :] = image_data\n",
    "            num_images = num_images + 1\n",
    "        except (IOError, ValueError) as e:\n",
    "            print('Could not read:', image_file, ':', e, '- it\\'s ok, skipping.')\n",
    "    \n",
    "    dataset = dataset[0:num_images, :, :]\n",
    "    if num_images < min_num_images:\n",
    "        raise Exception('Many fewer images than expected: %d < %d' % (num_images, min_num_images))\n",
    "    \n",
    "    print('Full dataset tensor:', dataset.shape)\n",
    "    print('Mean:', np.mean(dataset))\n",
    "    print('Standard deviation:', np.std(dataset))\n",
    "    return dataset\n",
    "        \n",
    "def maybe_pickle(data_folders, min_num_images_per_class, force=False):\n",
    "    dataset_names = []\n",
    "    for folder in data_folders:\n",
    "        set_filename = folder + '.pickle'\n",
    "        dataset_names.append(set_filename)\n",
    "        if os.path.exists(set_filename) and not force:\n",
    "            # You may override by setting force=True.\n",
    "            print('%s already present - Skipping pickling.' % set_filename)\n",
    "        else:\n",
    "            print('Pickling %s.' % set_filename)\n",
    "            dataset = load_letter(folder, min_num_images_per_class)\n",
    "            saveAsPickle(dataset, set_filename)\n",
    "    return dataset_names\n",
    "\n",
    "train_datasets = maybe_pickle(train_folders, 45000)\n",
    "test_datasets = maybe_pickle(test_folders, 1800)"
   ]
  },
  {
   "cell_type": "code",
   "execution_count": 7,
   "metadata": {},
   "outputs": [
    {
     "name": "stdout",
     "output_type": "stream",
     "text": [
      "Displaying pickles from train dataset\n"
     ]
    },
    {
     "data": {
      "image/png": "[encoded data removed]",
      "text/plain": [
       "<Figure size 720x720 with 50 Axes>"
      ]
     },
     "metadata": {
      "needs_background": "light"
     },
     "output_type": "display_data"
    },
    {
     "name": "stdout",
     "output_type": "stream",
     "text": [
      "Displaying pickles from test dataset\n"
     ]
    },
    {
     "data": {
      "image/png": "[encoded data removed]",
      "text/plain": [
       "<Figure size 720x720 with 50 Axes>"
      ]
     },
     "metadata": {
      "needs_background": "light"
     },
     "output_type": "display_data"
    }
   ],
   "source": [
    "plt.rcParams['figure.figsize'] = (10.0, 10.0) # set default size of plots\n",
    "labels = ['A', 'B', 'C', 'D', 'E', 'F', 'G', 'H', 'I', 'J']\n",
    "num_labels = len(labels)\n",
    "\n",
    "def display_pickle(dataset, samples_per_label):\n",
    "    for y, label in enumerate(labels):\n",
    "        pickles = loadPickle(dataset[y])\n",
    "        idxs = np.random.choice(pickles.shape[0], samples_per_label, replace=False)\n",
    "        for i, idx in enumerate(idxs):\n",
    "            plt_idx = i * num_labels + y + 1\n",
    "            plt.subplot(samples_per_label, num_labels, plt_idx)\n",
    "            plt.imshow(pickles[idx, :, :])\n",
    "            plt.axis('off')\n",
    "            if i == 0:\n",
    "                plt.title(label)\n",
    "    plt.show()\n",
    "    \n",
    "\n",
    "print ('Displaying pickles from train dataset')\n",
    "display_pickle(train_datasets, 5)\n",
    "print ('Displaying pickles from test dataset')\n",
    "display_pickle(test_datasets, 5)"
   ]
  },
  {
   "cell_type": "code",
   "execution_count": 8,
   "metadata": {},
   "outputs": [
    {
     "name": "stdout",
     "output_type": "stream",
     "text": [
      "Train Dataset\n",
      "Label: A --- num example: 52909\n",
      "Label: B --- num example: 52911\n",
      "Label: C --- num example: 52912\n",
      "Label: D --- num example: 52911\n",
      "Label: E --- num example: 52912\n",
      "Label: F --- num example: 52912\n",
      "Label: G --- num example: 52912\n",
      "Label: H --- num example: 52912\n",
      "Label: I --- num example: 52912\n",
      "Label: J --- num example: 52911\n",
      "Test Dataset\n",
      "Label: A --- num example: 1872\n",
      "Label: B --- num example: 1873\n",
      "Label: C --- num example: 1873\n",
      "Label: D --- num example: 1873\n",
      "Label: E --- num example: 1873\n",
      "Label: F --- num example: 1872\n",
      "Label: G --- num example: 1872\n",
      "Label: H --- num example: 1872\n",
      "Label: I --- num example: 1872\n",
      "Label: J --- num example: 1872\n"
     ]
    }
   ],
   "source": [
    "# Verify if the data is balanced across classes\n",
    "labels = ['A', 'B', 'C', 'D', 'E', 'F', 'G', 'H', 'I', 'J']\n",
    "num_labels = len(labels)\n",
    "\n",
    "def print_num_example(dataset):\n",
    "    for y, label in enumerate(labels):\n",
    "        pickles = loadPickle(dataset[y])\n",
    "        print ('Label: %s --- num example: %d' % (label, pickles.shape[0]))\n",
    "\n",
    "print ('Train Dataset')\n",
    "print_num_example(train_datasets)\n",
    "print ('Test Dataset')\n",
    "print_num_example(test_datasets)"
   ]
  },
  {
   "cell_type": "code",
   "execution_count": 9,
   "metadata": {},
   "outputs": [
    {
     "name": "stdout",
     "output_type": "stream",
     "text": [
      "Train Datasets already exists\n",
      "Validation Datasets already exists\n"
     ]
    },
    {
     "name": "stderr",
     "output_type": "stream",
     "text": [
      "/Users/brunonishimoto/anaconda3/envs/udacity/lib/python3.6/site-packages/skimage/transform/_warps.py:105: UserWarning: The default mode, 'constant', will be changed to 'reflect' in skimage 0.15.\n",
      "  warn(\"The default mode, 'constant', will be changed to 'reflect' in \"\n",
      "/Users/brunonishimoto/anaconda3/envs/udacity/lib/python3.6/site-packages/skimage/transform/_warps.py:110: UserWarning: Anti-aliasing will be enabled by default in skimage 0.15 to avoid aliasing artifacts when down-sampling images.\n",
      "  warn(\"Anti-aliasing will be enabled by default in skimage 0.15 to \"\n"
     ]
    },
    {
     "name": "stdout",
     "output_type": "stream",
     "text": [
      "./dataset/notmnist/test.pickle pickled!\n"
     ]
    }
   ],
   "source": [
    "img_size = image_size\n",
    "new_size = (28, 56)\n",
    "\n",
    "def make_arrays(nb_rows, size):\n",
    "    if nb_rows:\n",
    "        dataset = np.ndarray((nb_rows, size[0], size[1]), dtype=np.float32)\n",
    "        labels = np.ndarray((nb_rows, 6), dtype=np.int32)\n",
    "    else:\n",
    "        dataset, labels = None, None\n",
    "    return dataset, labels\n",
    "\n",
    "def merge_datasets(pickle_files, dataset_size):\n",
    "    dataset, labels = make_arrays(dataset_size, new_size)\n",
    "    pickles = []\n",
    "    for i in range(10):\n",
    "        pickles.append(pickle.load(open(pickle_files[i], 'rb')))\n",
    "\n",
    "    for i in range(dataset_size):\n",
    "        # Generate a random label with max length 5 chars\n",
    "        data_length  = np.random.choice(5, 1)[0] + 1\n",
    "#         data_length = 5\n",
    "#         random_chars = np.random.choice(10, data_length)\n",
    "        random_chars = np.random.choice(9, data_length)\n",
    "        data_label   = np.append(random_chars, np.full(5 - data_length, 0, dtype=int))\n",
    "        data_label   = np.insert(data_label, 0, data_length - 1)\n",
    "        \n",
    "        chars = []\n",
    "        \n",
    "        for char in random_chars:\n",
    "            index = np.random.choice(len(pickles[char]), 1)\n",
    "            chars.append(np.reshape(pickles[char][index, :, :], (img_size, img_size)))\n",
    "\n",
    "        image = np.ndarray((img_size, data_length * img_size))\n",
    "        \n",
    "        for idx, char in enumerate(chars):\n",
    "            image[:, img_size*idx:img_size*(idx+1)] = char\n",
    "\n",
    "        image = skimage.transform.resize(image, new_size)\n",
    "\n",
    "        dataset[i] = image\n",
    "        labels[i]  = data_label\n",
    "    return (dataset, labels)\n",
    "\n",
    "if not os.path.exists(os.path.join(data_root, 'train_length.pickle')):\n",
    "    train = merge_datasets(train_datasets, 200000)\n",
    "    saveAsPickle(train, os.path.join(data_root, 'train_length.pickle'))\n",
    "else:\n",
    "    print('Train Datasets already exists')\n",
    "    train = loadPickle(os.path.join(data_root, 'train_length.pickle'))    \n",
    "if not os.path.exists(os.path.join(data_root, 'valid_length.pickle')):\n",
    "    valid = merge_datasets(train_datasets, 5000)\n",
    "    saveAsPickle(valid, os.path.join(data_root, 'valid_length.pickle'))\n",
    "else:\n",
    "    print('Validation Datasets already exists')\n",
    "    valid = loadPickle(os.path.join(data_root, 'valid_length.pickle'))    \n",
    "if not os.path.exists(os.path.join(data_root, 'test_length.pickle')):\n",
    "    test  = merge_datasets(test_datasets, 10000)\n",
    "    saveAsPickle(test, os.path.join(data_root, 'test.pickle'))\n",
    "else:\n",
    "    print('Test Datasets already exists')\n",
    "    test  = loadPickle(os.path.join(data_root, 'test.pickle'))"
   ]
  },
  {
   "cell_type": "code",
   "execution_count": 10,
   "metadata": {},
   "outputs": [],
   "source": [
    "def randomize(dataset, labels):\n",
    "    permutation = np.random.permutation(labels.shape[0])\n",
    "    shuffled_dataset = dataset[permutation,:,:]\n",
    "    shuffled_labels = labels[permutation]\n",
    "    return shuffled_dataset, shuffled_labels\n",
    "\n",
    "train_dataset, train_labels = randomize(train[0], train[1])\n",
    "test_dataset, test_labels = randomize(test[0], test[1])\n",
    "valid_dataset, valid_labels = randomize(valid[0], valid[1])"
   ]
  },
  {
   "cell_type": "code",
   "execution_count": 11,
   "metadata": {},
   "outputs": [
    {
     "name": "stdout",
     "output_type": "stream",
     "text": [
      "Displaying training images\n",
      "[[2 7 8 5 0 0]\n",
      " [3 0 4 7 0 0]\n",
      " [0 7 0 0 0 0]]\n"
     ]
    },
    {
     "data": {
      "image/png": "[encoded data removed]",
      "text/plain": [
       "<Figure size 720x720 with 3 Axes>"
      ]
     },
     "metadata": {
      "needs_background": "light"
     },
     "output_type": "display_data"
    },
    {
     "name": "stdout",
     "output_type": "stream",
     "text": [
      "Displaying test images\n",
      "[[2 1 1 4 0 0]\n",
      " [2 5 6 7 0 0]\n",
      " [0 1 0 0 0 0]]\n"
     ]
    },
    {
     "data": {
      "image/png": "[encoded data removed]",
      "text/plain": [
       "<Figure size 720x720 with 3 Axes>"
      ]
     },
     "metadata": {
      "needs_background": "light"
     },
     "output_type": "display_data"
    },
    {
     "name": "stdout",
     "output_type": "stream",
     "text": [
      "Displaying validation images\n",
      "[[1 1 3 0 0 0]\n",
      " [1 8 0 0 0 0]\n",
      " [1 7 5 0 0 0]]\n"
     ]
    },
    {
     "data": {
      "image/png": "[encoded data removed]",
      "text/plain": [
       "<Figure size 720x720 with 3 Axes>"
      ]
     },
     "metadata": {
      "needs_background": "light"
     },
     "output_type": "display_data"
    }
   ],
   "source": [
    "def display_dataset(dataset, labels, samples_per_label):\n",
    "    idxs = np.random.choice(dataset.shape[0], samples_per_label, replace=False)\n",
    "    for i, idx in enumerate(idxs):\n",
    "        plt_idx = i + 1\n",
    "        plt.subplot(1, samples_per_label, plt_idx)\n",
    "        plt.imshow(dataset[idx])\n",
    "        plt.axis('off')\n",
    "    print(labels[idxs])\n",
    "    plt.show()\n",
    "    \n",
    "print ('Displaying training images')\n",
    "display_dataset(train_dataset, train_labels, 3)\n",
    "print ('Displaying test images')\n",
    "display_dataset(test_dataset, test_labels, 3)\n",
    "print ('Displaying validation images')\n",
    "display_dataset(valid_dataset, valid_labels, 3)"
   ]
  },
  {
   "cell_type": "code",
   "execution_count": 12,
   "metadata": {},
   "outputs": [
    {
     "name": "stdout",
     "output_type": "stream",
     "text": [
      "Training set (200000, 28, 56, 1) (200000, 5) (200000, 5, 10)\n",
      "Validation set (5000, 28, 56, 1) (5000, 5) (5000, 5, 10)\n",
      "Test set (10000, 28, 56, 1) (10000, 5) (10000, 5, 10)\n"
     ]
    }
   ],
   "source": [
    "new_size = (28, 56)\n",
    "num_labels = 10\n",
    "num_channels = 1 # grayscale\n",
    "\n",
    "import numpy as np\n",
    "\n",
    "def reformat(dataset, labels):\n",
    "    dataset = dataset.reshape((-1, new_size[0], new_size[1], num_channels)).astype(np.float32)\n",
    "    length_labels = np.eye(5)[labels[:, 0]]\n",
    "    labels = np.eye(10)[labels[:, 1:]]\n",
    "    \n",
    "    return dataset, length_labels, labels\n",
    "\n",
    "train_dataset, train_length, train_labels = reformat(train_dataset, train_labels)\n",
    "valid_dataset, valid_length, valid_labels = reformat(valid_dataset, valid_labels)\n",
    "test_dataset, test_length, test_labels = reformat(test_dataset, test_labels)\n",
    "\n",
    "print('Training set', train_dataset.shape, train_length.shape, train_labels.shape)\n",
    "print('Validation set', valid_dataset.shape, valid_length.shape, valid_labels.shape)\n",
    "print('Test set', test_dataset.shape, test_length.shape, test_labels.shape)"
   ]
  },
  {
   "cell_type": "code",
   "execution_count": 13,
   "metadata": {},
   "outputs": [],
   "source": [
    "def accuracy_labels(predictions, pmasked, labels, lmasked, masks, labels_length):\n",
    "    predictions = np.transpose(predictions, (1, 0, 2))\n",
    "    correct = np.multiply(np.argmax(predictions, 2) == np.argmax(labels, 2), np.transpose(masks))\n",
    "    global_accuracy = np.mean(np.sum(correct, 1) == np.argmax(labels_length, 1) + 1) * 100\n",
    "    correct_masked = [np.mean(np.argmax(pmasked[i], 1) == np.argmax(lmasked[i], 1)) * 100 for i in range(len(pmasked))]\n",
    "    return [global_accuracy, correct_masked]\n",
    "\n",
    "def accuracy_length(predictions, labels_length):\n",
    "    return (100.0 * np.sum(np.argmax(predictions, 1) == np.argmax(labels_length, 1), 0) / predictions.shape[0])"
   ]
  },
  {
   "cell_type": "markdown",
   "metadata": {},
   "source": [
    "## Network"
   ]
  },
  {
   "cell_type": "code",
   "execution_count": 14,
   "metadata": {},
   "outputs": [
    {
     "name": "stderr",
     "output_type": "stream",
     "text": [
      "/Users/brunonishimoto/anaconda3/envs/udacity/lib/python3.6/site-packages/tensorflow/python/ops/gradients_impl.py:108: UserWarning: Converting sparse IndexedSlices to a dense Tensor of unknown shape. This may consume a large amount of memory.\n",
      "  \"Converting sparse IndexedSlices to a dense Tensor of unknown shape. \"\n"
     ]
    }
   ],
   "source": [
    "batch_size = 32\n",
    "patch_size = 5\n",
    "depth = 32\n",
    "num_hidden = 64\n",
    "image_size = (28, 56)\n",
    "num_outputs = 5\n",
    "\n",
    "graph = tf.Graph()\n",
    "\n",
    "with graph.as_default():\n",
    "\n",
    "    # Input data.\n",
    "    tf_data     = tf.placeholder(tf.float32, shape=(None, image_size[0], image_size[1], num_channels))\n",
    "    tf_labels   = tf.placeholder(tf.float32, shape=(None, num_outputs, num_labels))\n",
    "    tf_length   = tf.placeholder(tf.float32, shape=(None, num_outputs))\n",
    "    tf_training = tf.placeholder(tf.bool)\n",
    "\n",
    "    # Variables.\n",
    "    ## First convolutional layer\n",
    "    conv1_weights = tf.Variable(tf.truncated_normal([patch_size, patch_size, num_channels, depth], stddev=0.1))\n",
    "    conv1_biases  = tf.Variable(tf.zeros([depth]))\n",
    "    \n",
    "    ## Second convolutional layer\n",
    "    conv2_weights = tf.Variable(tf.truncated_normal([patch_size, patch_size, depth, depth], stddev=0.1))\n",
    "    conv2_biases  = tf.Variable(tf.constant(1.0, shape=[depth]))\n",
    "    \n",
    "    ## fully connected layer\n",
    "    fc1_weights = tf.Variable(tf.truncated_normal(\n",
    "        [image_size[0] // 4 * image_size[1] // 4 * depth, num_hidden], stddev=0.1))\n",
    "    fc1_biases  = tf.Variable(tf.constant(1.0, shape=[num_hidden]))\n",
    "    \n",
    "    ## softmax\n",
    "    softmax0_weights = tf.Variable(tf.truncated_normal([num_hidden, num_outputs], stddev=0.1))\n",
    "    softmax0_biases  = tf.Variable(tf.constant(1.0, shape=[num_outputs]))\n",
    "    \n",
    "    softmax1_weights = tf.Variable(tf.truncated_normal([num_hidden, num_labels], stddev=0.1))\n",
    "    softmax1_biases  = tf.Variable(tf.constant(1.0, shape=[num_labels]))\n",
    "    \n",
    "    softmax2_weights = tf.Variable(tf.truncated_normal([num_hidden, num_labels], stddev=0.1))\n",
    "    softmax2_biases  = tf.Variable(tf.constant(1.0, shape=[num_labels]))\n",
    "    \n",
    "    softmax3_weights = tf.Variable(tf.truncated_normal([num_hidden, num_labels], stddev=0.1))\n",
    "    softmax3_biases  = tf.Variable(tf.constant(1.0, shape=[num_labels]))\n",
    "    \n",
    "    softmax4_weights = tf.Variable(tf.truncated_normal([num_hidden, num_labels], stddev=0.1))\n",
    "    softmax4_biases  = tf.Variable(tf.constant(1.0, shape=[num_labels]))\n",
    "    \n",
    "    softmax5_weights = tf.Variable(tf.truncated_normal([num_hidden, num_labels], stddev=0.1))\n",
    "    softmax5_biases  = tf.Variable(tf.constant(1.0, shape=[num_labels]))\n",
    "  \n",
    "    # Model.\n",
    "    def model(data):\n",
    "        # first conv\n",
    "        conv   = tf.nn.conv2d(data, conv1_weights, [1, 1, 1, 1], padding='SAME')\n",
    "        conv   = tf.nn.relu(conv + conv1_biases)\n",
    "        hidden = tf.nn.max_pool(conv, ksize=[1, 2, 2, 1], strides=[1, 2, 2, 1], padding='SAME')\n",
    "        \n",
    "        # second conv\n",
    "        conv   = tf.nn.conv2d(hidden, conv2_weights, [1, 1, 1, 1], padding='SAME')\n",
    "        conv   = tf.nn.relu(conv + conv2_biases)\n",
    "        hidden = tf.nn.max_pool(conv, ksize=[1, 2, 2, 1], strides=[1, 2, 2, 1], padding='SAME')\n",
    "        \n",
    "        # flatten\n",
    "        shape   = hidden.get_shape().as_list()\n",
    "        reshape = tf.reshape(hidden, [-1, shape[1] * shape[2] * shape[3]])\n",
    "        \n",
    "        # fc\n",
    "        hidden  = tf.nn.relu(tf.matmul(reshape, fc1_weights) + fc1_biases)\n",
    "        \n",
    "        # classifiers\n",
    "        classifier0 = tf.matmul(hidden, softmax0_weights) + softmax0_biases\n",
    "        classifier1 = tf.matmul(hidden, softmax1_weights) + softmax1_biases\n",
    "        classifier2 = tf.matmul(hidden, softmax2_weights) + softmax2_biases\n",
    "        classifier3 = tf.matmul(hidden, softmax3_weights) + softmax3_biases\n",
    "        classifier4 = tf.matmul(hidden, softmax4_weights) + softmax4_biases\n",
    "        classifier5 = tf.matmul(hidden, softmax5_weights) + softmax5_biases\n",
    "        \n",
    "        return classifier0, [classifier1, classifier2, classifier3, classifier4, classifier5]\n",
    "  \n",
    "    # Training computation.\n",
    "    logits_length, logits = model(tf_data)\n",
    "    \n",
    "    total_loss = tf.reduce_mean(tf.nn.softmax_cross_entropy_with_logits_v2(\n",
    "            labels=tf_length, logits=logits_length))\n",
    "    tf.summary.scalar('loss_length', total_loss)\n",
    "    \n",
    "    # generating a tensor (?,num_labels) where each row contains 1s, 2s, 3s,... Will be used\n",
    "    fills = tf.stack([tf.fill([tf.shape(tf_data)[0]], i + 1) for i in range(0, num_outputs)])\n",
    "\n",
    "    masks   = list()   \n",
    "    dmasked = list()\n",
    "    lmasked = list()\n",
    "    for i in range(0, len(logits)):\n",
    "        # http://stackoverflow.com/questions/34128104/tensorflow-creating-mask-of-varied-lengths\n",
    "        # get a mask of logits for the first (length - 1) digits\n",
    "        masks.append(tf.less_equal(fills[i], tf.argmax(tf_length, 1, output_type=tf.int32) + 1))\n",
    "        dmasked.append(tf.boolean_mask(logits[i], masks[i]))\n",
    "        lmasked.append(tf.boolean_mask(tf_labels[:, i], masks[i]))\n",
    "        loss = tf.cond(tf.less(0, tf.shape(lmasked[i])[0]),\n",
    "                        lambda: tf.reduce_mean(tf.nn.softmax_cross_entropy_with_logits_v2(\n",
    "                            labels=lmasked[i], logits=dmasked[i])),\n",
    "                        lambda: tf.constant(0.0))\n",
    "\n",
    "        tf.summary.scalar(f'loss_{i}', loss)\n",
    "        total_loss += loss\n",
    "    masks   = tf.stack(masks)\n",
    "    tf.summary.scalar(f'total_loss', total_loss)\n",
    "    merged  = tf.summary.merge_all()\n",
    "\n",
    "    # Optimizer.\n",
    "    optimizer = tf.cond(tf_training, lambda: tf.train.GradientDescentOptimizer(0.05).minimize(total_loss), lambda: False)\n",
    "  \n",
    "    # Predictions for the training, validation, and test data.\n",
    "    def prediction(length, logits):\n",
    "        prediction = [tf.nn.softmax(logit) for logit in logits]\n",
    "        return tf.nn.softmax(length), tf.stack(prediction)\n",
    "    \n",
    "    def prediction_masked(logits, masks):\n",
    "        return [tf.nn.softmax(tf.boolean_mask(logits[i], masks[i])) for i in range(0, len(logits))]   \n",
    "    \n",
    "    length_predictions, predictions = prediction(logits_length, logits)\n",
    "    pmasked = prediction_masked(logits, masks)\n"
   ]
  },
  {
   "cell_type": "code",
   "execution_count": 15,
   "metadata": {},
   "outputs": [],
   "source": [
    "def printAccuracies(type, loss, length_acc, acc):\n",
    "    print(f'\\t{type} loss: {loss}')\n",
    "    print(f'\\t{type} accuracies: {acc[0]:.2f}')\n",
    "    print(f'\\tLength accuracy: {length_acc:.2f}')\n",
    "    for i in range(len(acc[1])):\n",
    "        print(f'\\tDigit {i}: {acc[1][i]:.2f}')"
   ]
  },
  {
   "cell_type": "code",
   "execution_count": 16,
   "metadata": {},
   "outputs": [
    {
     "name": "stdout",
     "output_type": "stream",
     "text": [
      "Initialized\n",
      "step 0:\n",
      "\tMinibatch loss: 4.788089752197266\n",
      "\tMinibatch accuracies: 0.00\n",
      "\tLength accuracy: 31.25\n",
      "\tDigit 0: 6.25\n",
      "\tDigit 1: 4.00\n",
      "\tDigit 2: 0.00\n",
      "\tDigit 3: 37.50\n",
      "\tDigit 4: 16.67\n",
      "\tValidation loss: 3.076775312423706\n",
      "\tValidation accuracies: 2.84\n",
      "\tLength accuracy: 19.72\n",
      "\tDigit 0: 11.58\n",
      "\tDigit 1: 12.03\n",
      "\tDigit 2: 11.89\n",
      "\tDigit 3: 8.87\n",
      "\tDigit 4: 12.26\n",
      "step 100:\n",
      "\tMinibatch loss: 2.1772685050964355\n",
      "\tMinibatch accuracies: 6.25\n",
      "\tLength accuracy: 34.38\n",
      "\tDigit 0: 12.50\n",
      "\tDigit 1: 0.00\n",
      "\tDigit 2: 5.00\n",
      "\tDigit 3: 28.57\n",
      "\tDigit 4: 40.00\n",
      "\tValidation loss: 2.1782007217407227\n",
      "\tValidation accuracies: 4.34\n",
      "\tLength accuracy: 25.92\n",
      "\tDigit 0: 13.72\n",
      "\tDigit 1: 9.55\n",
      "\tDigit 2: 10.16\n",
      "\tDigit 3: 12.27\n",
      "\tDigit 4: 11.47\n",
      "step 200:\n",
      "\tMinibatch loss: 2.1389997005462646\n",
      "\tMinibatch accuracies: 0.00\n",
      "\tLength accuracy: 25.00\n",
      "\tDigit 0: 9.38\n",
      "\tDigit 1: 12.50\n",
      "\tDigit 2: 15.79\n",
      "\tDigit 3: 0.00\n",
      "\tDigit 4: 40.00\n",
      "\tValidation loss: 2.1755447387695312\n",
      "\tValidation accuracies: 2.98\n",
      "\tLength accuracy: 20.52\n",
      "\tDigit 0: 11.72\n",
      "\tDigit 1: 10.91\n",
      "\tDigit 2: 10.96\n",
      "\tDigit 3: 12.67\n",
      "\tDigit 4: 10.87\n",
      "step 300:\n",
      "\tMinibatch loss: 2.1207547187805176\n",
      "\tMinibatch accuracies: 3.12\n",
      "\tLength accuracy: 28.12\n",
      "\tDigit 0: 12.50\n",
      "\tDigit 1: 21.43\n",
      "\tDigit 2: 21.05\n",
      "\tDigit 3: 8.33\n",
      "\tDigit 4: 0.00\n",
      "\tValidation loss: 2.1329445838928223\n",
      "\tValidation accuracies: 3.02\n",
      "\tLength accuracy: 30.94\n",
      "\tDigit 0: 12.12\n",
      "\tDigit 1: 11.16\n",
      "\tDigit 2: 13.25\n",
      "\tDigit 3: 11.19\n",
      "\tDigit 4: 13.46\n",
      "step 400:\n",
      "\tMinibatch loss: 2.1321206092834473\n",
      "\tMinibatch accuracies: 0.00\n",
      "\tLength accuracy: 34.38\n",
      "\tDigit 0: 6.25\n",
      "\tDigit 1: 11.54\n",
      "\tDigit 2: 0.00\n",
      "\tDigit 3: 0.00\n",
      "\tDigit 4: 14.29\n",
      "\tValidation loss: 2.1054344177246094\n",
      "\tValidation accuracies: 3.12\n",
      "\tLength accuracy: 38.50\n",
      "\tDigit 0: 12.40\n",
      "\tDigit 1: 11.36\n",
      "\tDigit 2: 10.62\n",
      "\tDigit 3: 10.94\n",
      "\tDigit 4: 12.16\n",
      "step 500:\n",
      "\tMinibatch loss: 2.030167579650879\n",
      "\tMinibatch accuracies: 3.12\n",
      "\tLength accuracy: 68.75\n",
      "\tDigit 0: 12.50\n",
      "\tDigit 1: 32.00\n",
      "\tDigit 2: 10.00\n",
      "\tDigit 3: 7.14\n",
      "\tDigit 4: 12.50\n",
      "\tValidation loss: 2.0290818214416504\n",
      "\tValidation accuracies: 3.00\n",
      "\tLength accuracy: 57.02\n",
      "\tDigit 0: 12.60\n",
      "\tDigit 1: 12.63\n",
      "\tDigit 2: 12.92\n",
      "\tDigit 3: 12.03\n",
      "\tDigit 4: 10.57\n",
      "step 600:\n",
      "\tMinibatch loss: 1.9466772079467773\n",
      "\tMinibatch accuracies: 6.25\n",
      "\tLength accuracy: 65.62\n",
      "\tDigit 0: 9.38\n",
      "\tDigit 1: 20.83\n",
      "\tDigit 2: 20.00\n",
      "\tDigit 3: 25.00\n",
      "\tDigit 4: 0.00\n",
      "\tValidation loss: 1.9735697507858276\n",
      "\tValidation accuracies: 4.38\n",
      "\tLength accuracy: 63.46\n",
      "\tDigit 0: 14.42\n",
      "\tDigit 1: 14.26\n",
      "\tDigit 2: 14.81\n",
      "\tDigit 3: 13.70\n",
      "\tDigit 4: 15.05\n",
      "step 700:\n",
      "\tMinibatch loss: 1.9457576274871826\n",
      "\tMinibatch accuracies: 0.00\n",
      "\tLength accuracy: 68.75\n",
      "\tDigit 0: 12.50\n",
      "\tDigit 1: 3.57\n",
      "\tDigit 2: 17.39\n",
      "\tDigit 3: 0.00\n",
      "\tDigit 4: 57.14\n",
      "\tValidation loss: 1.9237861633300781\n",
      "\tValidation accuracies: 5.44\n",
      "\tLength accuracy: 73.90\n",
      "\tDigit 0: 15.86\n",
      "\tDigit 1: 15.43\n",
      "\tDigit 2: 14.97\n",
      "\tDigit 3: 17.50\n",
      "\tDigit 4: 16.45\n",
      "step 800:\n",
      "\tMinibatch loss: 1.8133912086486816\n",
      "\tMinibatch accuracies: 12.50\n",
      "\tLength accuracy: 87.50\n",
      "\tDigit 0: 15.62\n",
      "\tDigit 1: 3.57\n",
      "\tDigit 2: 15.00\n",
      "\tDigit 3: 27.27\n",
      "\tDigit 4: 0.00\n",
      "\tValidation loss: 1.9037530422210693\n",
      "\tValidation accuracies: 4.48\n",
      "\tLength accuracy: 73.32\n",
      "\tDigit 0: 15.26\n",
      "\tDigit 1: 15.28\n",
      "\tDigit 2: 16.27\n",
      "\tDigit 3: 17.59\n",
      "\tDigit 4: 18.34\n",
      "step 900:\n",
      "\tMinibatch loss: 1.8402161598205566\n",
      "\tMinibatch accuracies: 6.25\n",
      "\tLength accuracy: 93.75\n",
      "\tDigit 0: 21.88\n",
      "\tDigit 1: 12.50\n",
      "\tDigit 2: 6.67\n",
      "\tDigit 3: 9.09\n",
      "\tDigit 4: 33.33\n",
      "\tValidation loss: 1.8756413459777832\n",
      "\tValidation accuracies: 5.46\n",
      "\tLength accuracy: 81.06\n",
      "\tDigit 0: 16.52\n",
      "\tDigit 1: 14.86\n",
      "\tDigit 2: 16.43\n",
      "\tDigit 3: 19.27\n",
      "\tDigit 4: 17.05\n",
      "step 1000:\n",
      "\tMinibatch loss: 1.7092936038970947\n",
      "\tMinibatch accuracies: 12.50\n",
      "\tLength accuracy: 87.50\n",
      "\tDigit 0: 25.00\n",
      "\tDigit 1: 13.64\n",
      "\tDigit 2: 26.67\n",
      "\tDigit 3: 50.00\n",
      "\tDigit 4: 16.67\n",
      "\tValidation loss: 1.8039829730987549\n",
      "\tValidation accuracies: 6.56\n",
      "\tLength accuracy: 84.12\n",
      "\tDigit 0: 20.82\n",
      "\tDigit 1: 16.06\n",
      "\tDigit 2: 19.22\n",
      "\tDigit 3: 22.18\n",
      "\tDigit 4: 24.93\n",
      "step 1100:\n",
      "\tMinibatch loss: 1.7874011993408203\n",
      "\tMinibatch accuracies: 18.75\n",
      "\tLength accuracy: 78.12\n",
      "\tDigit 0: 34.38\n",
      "\tDigit 1: 20.83\n",
      "\tDigit 2: 10.53\n",
      "\tDigit 3: 21.43\n",
      "\tDigit 4: 20.00\n",
      "\tValidation loss: 1.7735823392868042\n",
      "\tValidation accuracies: 8.68\n",
      "\tLength accuracy: 80.64\n",
      "\tDigit 0: 23.24\n",
      "\tDigit 1: 16.76\n",
      "\tDigit 2: 22.08\n",
      "\tDigit 3: 24.00\n",
      "\tDigit 4: 31.41\n",
      "step 1200:\n",
      "\tMinibatch loss: 1.6458497047424316\n",
      "\tMinibatch accuracies: 9.38\n",
      "\tLength accuracy: 75.00\n",
      "\tDigit 0: 25.00\n",
      "\tDigit 1: 22.73\n",
      "\tDigit 2: 27.78\n",
      "\tDigit 3: 36.36\n",
      "\tDigit 4: 33.33\n",
      "\tValidation loss: 1.7086832523345947\n",
      "\tValidation accuracies: 9.24\n",
      "\tLength accuracy: 84.18\n",
      "\tDigit 0: 26.32\n",
      "\tDigit 1: 18.28\n",
      "\tDigit 2: 21.91\n",
      "\tDigit 3: 29.28\n",
      "\tDigit 4: 35.49\n",
      "step 1300:\n",
      "\tMinibatch loss: 1.6200928688049316\n",
      "\tMinibatch accuracies: 6.25\n",
      "\tLength accuracy: 78.12\n",
      "\tDigit 0: 21.88\n",
      "\tDigit 1: 21.43\n",
      "\tDigit 2: 45.45\n",
      "\tDigit 3: 42.86\n",
      "\tDigit 4: 50.00\n",
      "\tValidation loss: 1.6535885334014893\n",
      "\tValidation accuracies: 10.52\n",
      "\tLength accuracy: 87.22\n",
      "\tDigit 0: 28.58\n",
      "\tDigit 1: 19.93\n",
      "\tDigit 2: 24.37\n",
      "\tDigit 3: 29.23\n",
      "\tDigit 4: 41.58\n",
      "step 1400:\n",
      "\tMinibatch loss: 1.6630828380584717\n",
      "\tMinibatch accuracies: 12.50\n",
      "\tLength accuracy: 84.38\n",
      "\tDigit 0: 31.25\n",
      "\tDigit 1: 24.00\n",
      "\tDigit 2: 19.05\n",
      "\tDigit 3: 26.67\n",
      "\tDigit 4: 40.00\n",
      "\tValidation loss: 1.6498193740844727\n",
      "\tValidation accuracies: 11.84\n",
      "\tLength accuracy: 87.08\n",
      "\tDigit 0: 30.26\n",
      "\tDigit 1: 20.01\n",
      "\tDigit 2: 24.44\n",
      "\tDigit 3: 27.01\n",
      "\tDigit 4: 43.27\n",
      "step 1500:\n",
      "\tMinibatch loss: 1.8528594970703125\n",
      "\tMinibatch accuracies: 6.25\n",
      "\tLength accuracy: 68.75\n",
      "\tDigit 0: 21.88\n",
      "\tDigit 1: 21.43\n",
      "\tDigit 2: 31.82\n",
      "\tDigit 3: 29.41\n",
      "\tDigit 4: 16.67\n",
      "\tValidation loss: 1.605381727218628\n",
      "\tValidation accuracies: 11.34\n",
      "\tLength accuracy: 84.76\n",
      "\tDigit 0: 32.26\n",
      "\tDigit 1: 22.31\n",
      "\tDigit 2: 24.63\n",
      "\tDigit 3: 33.56\n",
      "\tDigit 4: 51.05\n",
      "step 1600:\n",
      "\tMinibatch loss: 1.6364411115646362\n",
      "\tMinibatch accuracies: 6.25\n",
      "\tLength accuracy: 87.50\n",
      "\tDigit 0: 34.38\n",
      "\tDigit 1: 18.52\n",
      "\tDigit 2: 14.29\n",
      "\tDigit 3: 46.67\n",
      "\tDigit 4: 37.50\n",
      "\tValidation loss: 1.5551565885543823\n",
      "\tValidation accuracies: 13.62\n",
      "\tLength accuracy: 87.70\n",
      "\tDigit 0: 33.70\n",
      "\tDigit 1: 22.61\n",
      "\tDigit 2: 26.73\n",
      "\tDigit 3: 34.45\n",
      "\tDigit 4: 51.45\n",
      "step 1700:\n",
      "\tMinibatch loss: 1.2790460586547852\n",
      "\tMinibatch accuracies: 25.00\n",
      "\tLength accuracy: 90.62\n",
      "\tDigit 0: 37.50\n",
      "\tDigit 1: 8.70\n",
      "\tDigit 2: 33.33\n",
      "\tDigit 3: 50.00\n",
      "\tDigit 4: 100.00\n",
      "\tValidation loss: 1.497438907623291\n",
      "\tValidation accuracies: 13.26\n",
      "\tLength accuracy: 91.08\n",
      "\tDigit 0: 37.22\n",
      "\tDigit 1: 23.61\n",
      "\tDigit 2: 27.09\n",
      "\tDigit 3: 37.41\n",
      "\tDigit 4: 57.23\n",
      "step 1800:\n",
      "\tMinibatch loss: 1.4787747859954834\n",
      "\tMinibatch accuracies: 9.38\n",
      "\tLength accuracy: 93.75\n",
      "\tDigit 0: 40.62\n",
      "\tDigit 1: 25.00\n",
      "\tDigit 2: 28.00\n",
      "\tDigit 3: 44.44\n",
      "\tDigit 4: 30.00\n",
      "\tValidation loss: 1.482682466506958\n",
      "\tValidation accuracies: 15.00\n",
      "\tLength accuracy: 92.02\n",
      "\tDigit 0: 37.38\n",
      "\tDigit 1: 24.09\n",
      "\tDigit 2: 26.63\n",
      "\tDigit 3: 40.22\n",
      "\tDigit 4: 58.23\n",
      "step 1900:\n",
      "\tMinibatch loss: 1.3897473812103271\n",
      "\tMinibatch accuracies: 21.88\n",
      "\tLength accuracy: 93.75\n",
      "\tDigit 0: 43.75\n",
      "\tDigit 1: 35.71\n",
      "\tDigit 2: 30.43\n",
      "\tDigit 3: 30.77\n",
      "\tDigit 4: 66.67\n",
      "\tValidation loss: 1.4248651266098022\n",
      "\tValidation accuracies: 16.66\n",
      "\tLength accuracy: 91.76\n",
      "\tDigit 0: 41.26\n",
      "\tDigit 1: 27.21\n",
      "\tDigit 2: 29.28\n",
      "\tDigit 3: 42.93\n",
      "\tDigit 4: 62.61\n",
      "step 2000:\n",
      "\tMinibatch loss: 1.3157203197479248\n",
      "\tMinibatch accuracies: 25.00\n",
      "\tLength accuracy: 93.75\n",
      "\tDigit 0: 50.00\n",
      "\tDigit 1: 27.27\n",
      "\tDigit 2: 47.06\n",
      "\tDigit 3: 45.45\n",
      "\tDigit 4: 100.00\n",
      "\tValidation loss: 1.4430345296859741\n",
      "\tValidation accuracies: 17.04\n",
      "\tLength accuracy: 85.46\n",
      "\tDigit 0: 43.46\n",
      "\tDigit 1: 28.86\n",
      "\tDigit 2: 30.68\n",
      "\tDigit 3: 42.73\n",
      "\tDigit 4: 61.91\n",
      "step 2100:\n",
      "\tMinibatch loss: 1.4798791408538818\n",
      "\tMinibatch accuracies: 25.00\n",
      "\tLength accuracy: 93.75\n",
      "\tDigit 0: 50.00\n",
      "\tDigit 1: 16.67\n",
      "\tDigit 2: 21.05\n",
      "\tDigit 3: 40.00\n",
      "\tDigit 4: 100.00\n",
      "\tValidation loss: 1.3468611240386963\n",
      "\tValidation accuracies: 17.94\n",
      "\tLength accuracy: 93.12\n",
      "\tDigit 0: 45.22\n",
      "\tDigit 1: 31.27\n",
      "\tDigit 2: 33.50\n",
      "\tDigit 3: 46.48\n",
      "\tDigit 4: 68.39\n",
      "step 2200:\n",
      "\tMinibatch loss: 1.3614518642425537\n",
      "\tMinibatch accuracies: 25.00\n",
      "\tLength accuracy: 100.00\n",
      "\tDigit 0: 50.00\n",
      "\tDigit 1: 55.17\n",
      "\tDigit 2: 50.00\n",
      "\tDigit 3: 25.00\n",
      "\tDigit 4: 80.00\n",
      "\tValidation loss: 1.3496851921081543\n",
      "\tValidation accuracies: 18.14\n",
      "\tLength accuracy: 93.68\n",
      "\tDigit 0: 46.54\n",
      "\tDigit 1: 31.69\n",
      "\tDigit 2: 33.70\n",
      "\tDigit 3: 46.72\n",
      "\tDigit 4: 63.51\n",
      "step 2300:\n",
      "\tMinibatch loss: 1.144517183303833\n",
      "\tMinibatch accuracies: 9.38\n",
      "\tLength accuracy: 100.00\n",
      "\tDigit 0: 31.25\n",
      "\tDigit 1: 48.15\n",
      "\tDigit 2: 45.45\n",
      "\tDigit 3: 46.15\n",
      "\tDigit 4: 100.00\n"
     ]
    },
    {
     "name": "stdout",
     "output_type": "stream",
     "text": [
      "\tValidation loss: 1.277458667755127\n",
      "\tValidation accuracies: 20.48\n",
      "\tLength accuracy: 94.30\n",
      "\tDigit 0: 48.74\n",
      "\tDigit 1: 33.79\n",
      "\tDigit 2: 38.84\n",
      "\tDigit 3: 49.63\n",
      "\tDigit 4: 69.79\n",
      "step 2400:\n",
      "\tMinibatch loss: 1.167031168937683\n",
      "\tMinibatch accuracies: 34.38\n",
      "\tLength accuracy: 90.62\n",
      "\tDigit 0: 68.75\n",
      "\tDigit 1: 56.00\n",
      "\tDigit 2: 38.89\n",
      "\tDigit 3: 50.00\n",
      "\tDigit 4: 66.67\n",
      "\tValidation loss: 1.2579585313796997\n",
      "\tValidation accuracies: 21.00\n",
      "\tLength accuracy: 93.48\n",
      "\tDigit 0: 50.38\n",
      "\tDigit 1: 34.57\n",
      "\tDigit 2: 40.31\n",
      "\tDigit 3: 49.14\n",
      "\tDigit 4: 71.29\n",
      "step 2500:\n",
      "\tMinibatch loss: 1.3051559925079346\n",
      "\tMinibatch accuracies: 12.50\n",
      "\tLength accuracy: 100.00\n",
      "\tDigit 0: 59.38\n",
      "\tDigit 1: 28.00\n",
      "\tDigit 2: 42.86\n",
      "\tDigit 3: 36.84\n",
      "\tDigit 4: 75.00\n",
      "\tValidation loss: 1.2009756565093994\n",
      "\tValidation accuracies: 22.54\n",
      "\tLength accuracy: 94.82\n",
      "\tDigit 0: 53.82\n",
      "\tDigit 1: 38.62\n",
      "\tDigit 2: 39.34\n",
      "\tDigit 3: 51.31\n",
      "\tDigit 4: 74.98\n",
      "step 2600:\n",
      "\tMinibatch loss: 1.2488619089126587\n",
      "\tMinibatch accuracies: 25.00\n",
      "\tLength accuracy: 100.00\n",
      "\tDigit 0: 53.12\n",
      "\tDigit 1: 50.00\n",
      "\tDigit 2: 20.00\n",
      "\tDigit 3: 46.15\n",
      "\tDigit 4: 71.43\n",
      "\tValidation loss: 1.1822819709777832\n",
      "\tValidation accuracies: 23.70\n",
      "\tLength accuracy: 95.02\n",
      "\tDigit 0: 54.12\n",
      "\tDigit 1: 38.84\n",
      "\tDigit 2: 43.76\n",
      "\tDigit 3: 52.93\n",
      "\tDigit 4: 75.67\n",
      "step 2700:\n",
      "\tMinibatch loss: 1.5749876499176025\n",
      "\tMinibatch accuracies: 21.88\n",
      "\tLength accuracy: 96.88\n",
      "\tDigit 0: 43.75\n",
      "\tDigit 1: 29.17\n",
      "\tDigit 2: 35.29\n",
      "\tDigit 3: 23.08\n",
      "\tDigit 4: 60.00\n",
      "\tValidation loss: 1.1688342094421387\n",
      "\tValidation accuracies: 23.88\n",
      "\tLength accuracy: 94.02\n",
      "\tDigit 0: 56.70\n",
      "\tDigit 1: 38.12\n",
      "\tDigit 2: 45.32\n",
      "\tDigit 3: 54.12\n",
      "\tDigit 4: 73.98\n",
      "step 2800:\n",
      "\tMinibatch loss: 0.9964635372161865\n",
      "\tMinibatch accuracies: 40.62\n",
      "\tLength accuracy: 93.75\n",
      "\tDigit 0: 59.38\n",
      "\tDigit 1: 57.69\n",
      "\tDigit 2: 58.33\n",
      "\tDigit 3: 62.50\n",
      "\tDigit 4: 80.00\n",
      "\tValidation loss: 1.105068325996399\n",
      "\tValidation accuracies: 24.92\n",
      "\tLength accuracy: 95.90\n",
      "\tDigit 0: 56.86\n",
      "\tDigit 1: 42.92\n",
      "\tDigit 2: 46.75\n",
      "\tDigit 3: 57.52\n",
      "\tDigit 4: 77.47\n",
      "step 2900:\n",
      "\tMinibatch loss: 1.0512332916259766\n",
      "\tMinibatch accuracies: 25.00\n",
      "\tLength accuracy: 100.00\n",
      "\tDigit 0: 62.50\n",
      "\tDigit 1: 42.31\n",
      "\tDigit 2: 36.84\n",
      "\tDigit 3: 61.54\n",
      "\tDigit 4: 66.67\n",
      "\tValidation loss: 1.0994012355804443\n",
      "\tValidation accuracies: 25.84\n",
      "\tLength accuracy: 95.82\n",
      "\tDigit 0: 58.82\n",
      "\tDigit 1: 42.97\n",
      "\tDigit 2: 47.31\n",
      "\tDigit 3: 57.91\n",
      "\tDigit 4: 73.68\n",
      "step 3000:\n",
      "\tMinibatch loss: 1.0979316234588623\n",
      "\tMinibatch accuracies: 31.25\n",
      "\tLength accuracy: 96.88\n",
      "\tDigit 0: 65.62\n",
      "\tDigit 1: 48.15\n",
      "\tDigit 2: 57.14\n",
      "\tDigit 3: 64.29\n",
      "\tDigit 4: 71.43\n",
      "\tValidation loss: 1.061707615852356\n",
      "\tValidation accuracies: 26.86\n",
      "\tLength accuracy: 95.64\n",
      "\tDigit 0: 60.46\n",
      "\tDigit 1: 45.30\n",
      "\tDigit 2: 51.26\n",
      "\tDigit 3: 58.26\n",
      "\tDigit 4: 76.77\n",
      "step 3100:\n",
      "\tMinibatch loss: 1.0440647602081299\n",
      "\tMinibatch accuracies: 28.12\n",
      "\tLength accuracy: 96.88\n",
      "\tDigit 0: 62.50\n",
      "\tDigit 1: 47.83\n",
      "\tDigit 2: 61.11\n",
      "\tDigit 3: 53.85\n",
      "\tDigit 4: 66.67\n",
      "\tValidation loss: 1.0877070426940918\n",
      "\tValidation accuracies: 26.54\n",
      "\tLength accuracy: 95.02\n",
      "\tDigit 0: 61.16\n",
      "\tDigit 1: 43.85\n",
      "\tDigit 2: 48.80\n",
      "\tDigit 3: 59.24\n",
      "\tDigit 4: 74.78\n",
      "step 3200:\n",
      "\tMinibatch loss: 0.9776204824447632\n",
      "\tMinibatch accuracies: 21.88\n",
      "\tLength accuracy: 93.75\n",
      "\tDigit 0: 59.38\n",
      "\tDigit 1: 53.85\n",
      "\tDigit 2: 44.44\n",
      "\tDigit 3: 45.45\n",
      "\tDigit 4: 100.00\n",
      "\tValidation loss: 1.0526771545410156\n",
      "\tValidation accuracies: 25.70\n",
      "\tLength accuracy: 96.18\n",
      "\tDigit 0: 61.28\n",
      "\tDigit 1: 45.45\n",
      "\tDigit 2: 49.07\n",
      "\tDigit 3: 61.02\n",
      "\tDigit 4: 76.27\n",
      "step 3300:\n",
      "\tMinibatch loss: 0.9354212284088135\n",
      "\tMinibatch accuracies: 40.62\n",
      "\tLength accuracy: 96.88\n",
      "\tDigit 0: 71.88\n",
      "\tDigit 1: 34.78\n",
      "\tDigit 2: 62.50\n",
      "\tDigit 3: 75.00\n",
      "\tDigit 4: 100.00\n",
      "\tValidation loss: 1.0204243659973145\n",
      "\tValidation accuracies: 28.20\n",
      "\tLength accuracy: 96.78\n",
      "\tDigit 0: 63.78\n",
      "\tDigit 1: 44.95\n",
      "\tDigit 2: 50.63\n",
      "\tDigit 3: 62.20\n",
      "\tDigit 4: 79.06\n",
      "step 3400:\n",
      "\tMinibatch loss: 1.0897095203399658\n",
      "\tMinibatch accuracies: 15.62\n",
      "\tLength accuracy: 93.75\n",
      "\tDigit 0: 46.88\n",
      "\tDigit 1: 34.48\n",
      "\tDigit 2: 66.67\n",
      "\tDigit 3: 53.85\n",
      "\tDigit 4: 66.67\n",
      "\tValidation loss: 0.9929989576339722\n",
      "\tValidation accuracies: 27.68\n",
      "\tLength accuracy: 96.92\n",
      "\tDigit 0: 62.20\n",
      "\tDigit 1: 48.87\n",
      "\tDigit 2: 50.30\n",
      "\tDigit 3: 65.40\n",
      "\tDigit 4: 79.46\n",
      "step 3500:\n",
      "\tMinibatch loss: 1.3547334671020508\n",
      "\tMinibatch accuracies: 21.88\n",
      "\tLength accuracy: 100.00\n",
      "\tDigit 0: 59.38\n",
      "\tDigit 1: 44.44\n",
      "\tDigit 2: 47.83\n",
      "\tDigit 3: 73.68\n",
      "\tDigit 4: 50.00\n",
      "\tValidation loss: 0.9612955451011658\n",
      "\tValidation accuracies: 29.76\n",
      "\tLength accuracy: 96.16\n",
      "\tDigit 0: 62.90\n",
      "\tDigit 1: 50.63\n",
      "\tDigit 2: 55.68\n",
      "\tDigit 3: 66.93\n",
      "\tDigit 4: 79.96\n",
      "step 3600:\n",
      "\tMinibatch loss: 0.8858804106712341\n",
      "\tMinibatch accuracies: 15.62\n",
      "\tLength accuracy: 100.00\n",
      "\tDigit 0: 59.38\n",
      "\tDigit 1: 46.43\n",
      "\tDigit 2: 55.00\n",
      "\tDigit 3: 64.29\n",
      "\tDigit 4: 100.00\n",
      "\tValidation loss: 0.9568891525268555\n",
      "\tValidation accuracies: 29.70\n",
      "\tLength accuracy: 96.94\n",
      "\tDigit 0: 65.64\n",
      "\tDigit 1: 49.95\n",
      "\tDigit 2: 52.42\n",
      "\tDigit 3: 65.35\n",
      "\tDigit 4: 80.76\n",
      "step 3700:\n",
      "\tMinibatch loss: 0.8372589945793152\n",
      "\tMinibatch accuracies: 25.00\n",
      "\tLength accuracy: 100.00\n",
      "\tDigit 0: 62.50\n",
      "\tDigit 1: 62.07\n",
      "\tDigit 2: 70.00\n",
      "\tDigit 3: 56.25\n",
      "\tDigit 4: 87.50\n",
      "\tValidation loss: 0.9334398508071899\n",
      "\tValidation accuracies: 31.54\n",
      "\tLength accuracy: 96.82\n",
      "\tDigit 0: 66.58\n",
      "\tDigit 1: 51.60\n",
      "\tDigit 2: 58.27\n",
      "\tDigit 3: 65.89\n",
      "\tDigit 4: 78.27\n",
      "step 3800:\n",
      "\tMinibatch loss: 0.8062248229980469\n",
      "\tMinibatch accuracies: 37.50\n",
      "\tLength accuracy: 100.00\n",
      "\tDigit 0: 53.12\n",
      "\tDigit 1: 58.33\n",
      "\tDigit 2: 66.67\n",
      "\tDigit 3: 70.00\n",
      "\tDigit 4: 100.00\n",
      "\tValidation loss: 0.9216989874839783\n",
      "\tValidation accuracies: 33.18\n",
      "\tLength accuracy: 96.28\n",
      "\tDigit 0: 67.96\n",
      "\tDigit 1: 52.93\n",
      "\tDigit 2: 55.31\n",
      "\tDigit 3: 66.73\n",
      "\tDigit 4: 81.06\n",
      "step 3900:\n",
      "\tMinibatch loss: 0.9233176708221436\n",
      "\tMinibatch accuracies: 31.25\n",
      "\tLength accuracy: 100.00\n",
      "\tDigit 0: 65.62\n",
      "\tDigit 1: 46.15\n",
      "\tDigit 2: 56.25\n",
      "\tDigit 3: 81.82\n",
      "\tDigit 4: 83.33\n",
      "\tValidation loss: 0.9100143909454346\n",
      "\tValidation accuracies: 33.86\n",
      "\tLength accuracy: 97.16\n",
      "\tDigit 0: 68.00\n",
      "\tDigit 1: 53.85\n",
      "\tDigit 2: 57.34\n",
      "\tDigit 3: 67.77\n",
      "\tDigit 4: 80.96\n",
      "step 4000:\n",
      "\tMinibatch loss: 0.9629201889038086\n",
      "\tMinibatch accuracies: 37.50\n",
      "\tLength accuracy: 96.88\n",
      "\tDigit 0: 68.75\n",
      "\tDigit 1: 41.67\n",
      "\tDigit 2: 58.33\n",
      "\tDigit 3: 55.56\n",
      "\tDigit 4: 66.67\n",
      "\tValidation loss: 0.9036858081817627\n",
      "\tValidation accuracies: 33.12\n",
      "\tLength accuracy: 97.38\n",
      "\tDigit 0: 67.96\n",
      "\tDigit 1: 54.25\n",
      "\tDigit 2: 56.74\n",
      "\tDigit 3: 67.62\n",
      "\tDigit 4: 80.96\n",
      "step 4100:\n",
      "\tMinibatch loss: 1.125342845916748\n",
      "\tMinibatch accuracies: 34.38\n",
      "\tLength accuracy: 96.88\n",
      "\tDigit 0: 75.00\n",
      "\tDigit 1: 50.00\n",
      "\tDigit 2: 73.33\n",
      "\tDigit 3: 58.33\n",
      "\tDigit 4: 66.67\n",
      "\tValidation loss: 0.901158332824707\n",
      "\tValidation accuracies: 33.66\n",
      "\tLength accuracy: 97.32\n",
      "\tDigit 0: 68.58\n",
      "\tDigit 1: 54.08\n",
      "\tDigit 2: 58.60\n",
      "\tDigit 3: 69.59\n",
      "\tDigit 4: 80.26\n",
      "step 4200:\n",
      "\tMinibatch loss: 0.9554881453514099\n",
      "\tMinibatch accuracies: 18.75\n",
      "\tLength accuracy: 100.00\n",
      "\tDigit 0: 62.50\n",
      "\tDigit 1: 62.50\n",
      "\tDigit 2: 63.64\n",
      "\tDigit 3: 70.59\n",
      "\tDigit 4: 57.14\n",
      "\tValidation loss: 0.8851639032363892\n",
      "\tValidation accuracies: 34.20\n",
      "\tLength accuracy: 97.12\n",
      "\tDigit 0: 68.92\n",
      "\tDigit 1: 56.85\n",
      "\tDigit 2: 60.72\n",
      "\tDigit 3: 66.63\n",
      "\tDigit 4: 78.86\n",
      "step 4300:\n",
      "\tMinibatch loss: 0.7826733589172363\n",
      "\tMinibatch accuracies: 43.75\n",
      "\tLength accuracy: 96.88\n",
      "\tDigit 0: 62.50\n",
      "\tDigit 1: 52.17\n",
      "\tDigit 2: 73.33\n",
      "\tDigit 3: 71.43\n",
      "\tDigit 4: 66.67\n",
      "\tValidation loss: 0.8686062097549438\n",
      "\tValidation accuracies: 34.90\n",
      "\tLength accuracy: 97.20\n",
      "\tDigit 0: 68.38\n",
      "\tDigit 1: 57.50\n",
      "\tDigit 2: 60.13\n",
      "\tDigit 3: 71.27\n",
      "\tDigit 4: 79.06\n",
      "step 4400:\n",
      "\tMinibatch loss: 0.9891967177391052\n",
      "\tMinibatch accuracies: 25.00\n",
      "\tLength accuracy: 96.88\n",
      "\tDigit 0: 56.25\n",
      "\tDigit 1: 58.33\n",
      "\tDigit 2: 38.89\n",
      "\tDigit 3: 66.67\n",
      "\tDigit 4: 71.43\n",
      "\tValidation loss: 0.8627772331237793\n",
      "\tValidation accuracies: 35.14\n",
      "\tLength accuracy: 97.24\n",
      "\tDigit 0: 70.36\n",
      "\tDigit 1: 54.90\n",
      "\tDigit 2: 60.26\n",
      "\tDigit 3: 72.30\n",
      "\tDigit 4: 80.46\n",
      "step 4500:\n",
      "\tMinibatch loss: 0.9887046813964844\n",
      "\tMinibatch accuracies: 28.12\n",
      "\tLength accuracy: 100.00\n",
      "\tDigit 0: 65.62\n",
      "\tDigit 1: 51.72\n",
      "\tDigit 2: 63.16\n",
      "\tDigit 3: 50.00\n",
      "\tDigit 4: 75.00\n",
      "\tValidation loss: 0.8455354571342468\n",
      "\tValidation accuracies: 37.14\n",
      "\tLength accuracy: 97.36\n",
      "\tDigit 0: 69.46\n",
      "\tDigit 1: 60.16\n",
      "\tDigit 2: 63.51\n",
      "\tDigit 3: 69.59\n",
      "\tDigit 4: 79.26\n",
      "step 4600:\n",
      "\tMinibatch loss: 0.9257883429527283\n",
      "\tMinibatch accuracies: 34.38\n",
      "\tLength accuracy: 96.88\n",
      "\tDigit 0: 68.75\n",
      "\tDigit 1: 52.00\n",
      "\tDigit 2: 66.67\n",
      "\tDigit 3: 62.50\n",
      "\tDigit 4: 83.33\n",
      "\tValidation loss: 0.8336397409439087\n",
      "\tValidation accuracies: 37.38\n",
      "\tLength accuracy: 97.72\n",
      "\tDigit 0: 70.52\n",
      "\tDigit 1: 59.83\n",
      "\tDigit 2: 61.85\n",
      "\tDigit 3: 71.86\n",
      "\tDigit 4: 80.96\n"
     ]
    },
    {
     "name": "stdout",
     "output_type": "stream",
     "text": [
      "step 4700:\n",
      "\tMinibatch loss: 0.877962589263916\n",
      "\tMinibatch accuracies: 28.12\n",
      "\tLength accuracy: 96.88\n",
      "\tDigit 0: 59.38\n",
      "\tDigit 1: 62.07\n",
      "\tDigit 2: 66.67\n",
      "\tDigit 3: 69.23\n",
      "\tDigit 4: 83.33\n",
      "\tValidation loss: 0.8331456184387207\n",
      "\tValidation accuracies: 36.96\n",
      "\tLength accuracy: 97.42\n",
      "\tDigit 0: 69.78\n",
      "\tDigit 1: 59.88\n",
      "\tDigit 2: 64.31\n",
      "\tDigit 3: 72.30\n",
      "\tDigit 4: 78.86\n",
      "step 4800:\n",
      "\tMinibatch loss: 0.7032794952392578\n",
      "\tMinibatch accuracies: 37.50\n",
      "\tLength accuracy: 93.75\n",
      "\tDigit 0: 68.75\n",
      "\tDigit 1: 64.00\n",
      "\tDigit 2: 61.11\n",
      "\tDigit 3: 90.91\n",
      "\tDigit 4: 100.00\n",
      "\tValidation loss: 0.8113452792167664\n",
      "\tValidation accuracies: 37.64\n",
      "\tLength accuracy: 97.62\n",
      "\tDigit 0: 70.52\n",
      "\tDigit 1: 61.53\n",
      "\tDigit 2: 65.17\n",
      "\tDigit 3: 71.91\n",
      "\tDigit 4: 81.56\n",
      "step 4900:\n",
      "\tMinibatch loss: 0.8758176565170288\n",
      "\tMinibatch accuracies: 28.12\n",
      "\tLength accuracy: 93.75\n",
      "\tDigit 0: 56.25\n",
      "\tDigit 1: 62.96\n",
      "\tDigit 2: 72.22\n",
      "\tDigit 3: 75.00\n",
      "\tDigit 4: 66.67\n",
      "\tValidation loss: 0.8135461807250977\n",
      "\tValidation accuracies: 39.28\n",
      "\tLength accuracy: 97.96\n",
      "\tDigit 0: 71.18\n",
      "\tDigit 1: 63.08\n",
      "\tDigit 2: 65.64\n",
      "\tDigit 3: 73.63\n",
      "\tDigit 4: 79.06\n",
      "step 5000:\n",
      "\tMinibatch loss: 0.7387742400169373\n",
      "\tMinibatch accuracies: 43.75\n",
      "\tLength accuracy: 100.00\n",
      "\tDigit 0: 84.38\n",
      "\tDigit 1: 54.55\n",
      "\tDigit 2: 66.67\n",
      "\tDigit 3: 71.43\n",
      "\tDigit 4: 100.00\n",
      "\tValidation loss: 0.8016431331634521\n",
      "\tValidation accuracies: 38.76\n",
      "\tLength accuracy: 97.92\n",
      "\tDigit 0: 70.30\n",
      "\tDigit 1: 62.68\n",
      "\tDigit 2: 65.64\n",
      "\tDigit 3: 72.94\n",
      "\tDigit 4: 80.16\n",
      "step 5100:\n",
      "\tMinibatch loss: 0.87331223487854\n",
      "\tMinibatch accuracies: 28.12\n",
      "\tLength accuracy: 100.00\n",
      "\tDigit 0: 62.50\n",
      "\tDigit 1: 59.26\n",
      "\tDigit 2: 65.00\n",
      "\tDigit 3: 66.67\n",
      "\tDigit 4: 77.78\n",
      "\tValidation loss: 0.7796263098716736\n",
      "\tValidation accuracies: 39.34\n",
      "\tLength accuracy: 97.58\n",
      "\tDigit 0: 71.80\n",
      "\tDigit 1: 62.26\n",
      "\tDigit 2: 67.76\n",
      "\tDigit 3: 73.29\n",
      "\tDigit 4: 81.56\n",
      "step 5200:\n",
      "\tMinibatch loss: 0.8467468023300171\n",
      "\tMinibatch accuracies: 34.38\n",
      "\tLength accuracy: 96.88\n",
      "\tDigit 0: 71.88\n",
      "\tDigit 1: 76.00\n",
      "\tDigit 2: 64.71\n",
      "\tDigit 3: 70.00\n",
      "\tDigit 4: 66.67\n",
      "\tValidation loss: 0.771720290184021\n",
      "\tValidation accuracies: 39.92\n",
      "\tLength accuracy: 98.06\n",
      "\tDigit 0: 72.74\n",
      "\tDigit 1: 62.61\n",
      "\tDigit 2: 67.70\n",
      "\tDigit 3: 75.51\n",
      "\tDigit 4: 80.56\n",
      "step 5300:\n",
      "\tMinibatch loss: 0.8415138125419617\n",
      "\tMinibatch accuracies: 40.62\n",
      "\tLength accuracy: 100.00\n",
      "\tDigit 0: 65.62\n",
      "\tDigit 1: 73.08\n",
      "\tDigit 2: 61.90\n",
      "\tDigit 3: 75.00\n",
      "\tDigit 4: 71.43\n",
      "\tValidation loss: 0.7797433733940125\n",
      "\tValidation accuracies: 40.50\n",
      "\tLength accuracy: 97.56\n",
      "\tDigit 0: 72.88\n",
      "\tDigit 1: 63.96\n",
      "\tDigit 2: 67.03\n",
      "\tDigit 3: 75.06\n",
      "\tDigit 4: 78.86\n",
      "step 5400:\n",
      "\tMinibatch loss: 0.7654789686203003\n",
      "\tMinibatch accuracies: 40.62\n",
      "\tLength accuracy: 96.88\n",
      "\tDigit 0: 59.38\n",
      "\tDigit 1: 60.00\n",
      "\tDigit 2: 75.00\n",
      "\tDigit 3: 88.89\n",
      "\tDigit 4: 75.00\n",
      "\tValidation loss: 0.7621533274650574\n",
      "\tValidation accuracies: 41.08\n",
      "\tLength accuracy: 97.94\n",
      "\tDigit 0: 73.16\n",
      "\tDigit 1: 64.63\n",
      "\tDigit 2: 67.90\n",
      "\tDigit 3: 74.32\n",
      "\tDigit 4: 80.26\n",
      "step 5500:\n",
      "\tMinibatch loss: 0.5390267372131348\n",
      "\tMinibatch accuracies: 62.50\n",
      "\tLength accuracy: 100.00\n",
      "\tDigit 0: 87.50\n",
      "\tDigit 1: 81.48\n",
      "\tDigit 2: 68.42\n",
      "\tDigit 3: 76.92\n",
      "\tDigit 4: 87.50\n",
      "\tValidation loss: 0.74457848072052\n",
      "\tValidation accuracies: 41.92\n",
      "\tLength accuracy: 97.90\n",
      "\tDigit 0: 73.80\n",
      "\tDigit 1: 66.13\n",
      "\tDigit 2: 68.79\n",
      "\tDigit 3: 73.48\n",
      "\tDigit 4: 83.05\n",
      "step 5600:\n",
      "\tMinibatch loss: 0.7488328814506531\n",
      "\tMinibatch accuracies: 50.00\n",
      "\tLength accuracy: 100.00\n",
      "\tDigit 0: 78.12\n",
      "\tDigit 1: 72.41\n",
      "\tDigit 2: 75.00\n",
      "\tDigit 3: 75.00\n",
      "\tDigit 4: 66.67\n",
      "\tValidation loss: 0.7440825700759888\n",
      "\tValidation accuracies: 42.62\n",
      "\tLength accuracy: 97.98\n",
      "\tDigit 0: 73.88\n",
      "\tDigit 1: 66.53\n",
      "\tDigit 2: 69.82\n",
      "\tDigit 3: 76.20\n",
      "\tDigit 4: 79.36\n",
      "step 5700:\n",
      "\tMinibatch loss: 0.6096887588500977\n",
      "\tMinibatch accuracies: 43.75\n",
      "\tLength accuracy: 100.00\n",
      "\tDigit 0: 71.88\n",
      "\tDigit 1: 80.00\n",
      "\tDigit 2: 71.43\n",
      "\tDigit 3: 88.89\n",
      "\tDigit 4: 80.00\n",
      "\tValidation loss: 0.7368906736373901\n",
      "\tValidation accuracies: 41.04\n",
      "\tLength accuracy: 97.94\n",
      "\tDigit 0: 72.64\n",
      "\tDigit 1: 65.23\n",
      "\tDigit 2: 69.19\n",
      "\tDigit 3: 75.80\n",
      "\tDigit 4: 83.75\n",
      "step 5800:\n",
      "\tMinibatch loss: 0.8705312609672546\n",
      "\tMinibatch accuracies: 53.12\n",
      "\tLength accuracy: 93.75\n",
      "\tDigit 0: 84.38\n",
      "\tDigit 1: 65.38\n",
      "\tDigit 2: 66.67\n",
      "\tDigit 3: 80.00\n",
      "\tDigit 4: 50.00\n",
      "\tValidation loss: 0.7433888912200928\n",
      "\tValidation accuracies: 42.36\n",
      "\tLength accuracy: 97.94\n",
      "\tDigit 0: 74.04\n",
      "\tDigit 1: 67.91\n",
      "\tDigit 2: 68.82\n",
      "\tDigit 3: 76.00\n",
      "\tDigit 4: 79.36\n",
      "step 5900:\n",
      "\tMinibatch loss: 0.6162372827529907\n",
      "\tMinibatch accuracies: 28.12\n",
      "\tLength accuracy: 100.00\n",
      "\tDigit 0: 62.50\n",
      "\tDigit 1: 69.23\n",
      "\tDigit 2: 66.67\n",
      "\tDigit 3: 93.33\n",
      "\tDigit 4: 100.00\n",
      "\tValidation loss: 0.7102721929550171\n",
      "\tValidation accuracies: 42.64\n",
      "\tLength accuracy: 98.02\n",
      "\tDigit 0: 74.62\n",
      "\tDigit 1: 67.16\n",
      "\tDigit 2: 69.82\n",
      "\tDigit 3: 77.28\n",
      "\tDigit 4: 82.55\n",
      "step 6000:\n",
      "\tMinibatch loss: 0.9666520953178406\n",
      "\tMinibatch accuracies: 40.62\n",
      "\tLength accuracy: 96.88\n",
      "\tDigit 0: 71.88\n",
      "\tDigit 1: 66.67\n",
      "\tDigit 2: 62.50\n",
      "\tDigit 3: 62.50\n",
      "\tDigit 4: 50.00\n",
      "\tValidation loss: 0.7136455774307251\n",
      "\tValidation accuracies: 43.54\n",
      "\tLength accuracy: 97.84\n",
      "\tDigit 0: 75.06\n",
      "\tDigit 1: 68.46\n",
      "\tDigit 2: 69.75\n",
      "\tDigit 3: 74.96\n",
      "\tDigit 4: 82.75\n",
      "step 6100:\n",
      "\tMinibatch loss: 0.6242589950561523\n",
      "\tMinibatch accuracies: 43.75\n",
      "\tLength accuracy: 100.00\n",
      "\tDigit 0: 81.25\n",
      "\tDigit 1: 64.29\n",
      "\tDigit 2: 54.55\n",
      "\tDigit 3: 92.31\n",
      "\tDigit 4: 80.00\n",
      "\tValidation loss: 0.7116904258728027\n",
      "\tValidation accuracies: 43.96\n",
      "\tLength accuracy: 98.34\n",
      "\tDigit 0: 74.40\n",
      "\tDigit 1: 68.96\n",
      "\tDigit 2: 71.81\n",
      "\tDigit 3: 75.95\n",
      "\tDigit 4: 81.95\n",
      "step 6200:\n",
      "\tMinibatch loss: 0.6142823100090027\n",
      "\tMinibatch accuracies: 40.62\n",
      "\tLength accuracy: 100.00\n",
      "\tDigit 0: 68.75\n",
      "\tDigit 1: 68.00\n",
      "\tDigit 2: 80.95\n",
      "\tDigit 3: 84.62\n",
      "\tDigit 4: 100.00\n",
      "\tValidation loss: 0.7065213918685913\n",
      "\tValidation accuracies: 43.84\n",
      "\tLength accuracy: 98.46\n",
      "\tDigit 0: 75.00\n",
      "\tDigit 1: 68.18\n",
      "\tDigit 2: 71.02\n",
      "\tDigit 3: 75.16\n",
      "\tDigit 4: 81.95\n",
      "step 6300:\n",
      "\tMinibatch loss: 0.6663511991500854\n",
      "\tMinibatch accuracies: 37.50\n",
      "\tLength accuracy: 100.00\n",
      "\tDigit 0: 68.75\n",
      "\tDigit 1: 66.67\n",
      "\tDigit 2: 80.95\n",
      "\tDigit 3: 76.47\n",
      "\tDigit 4: 60.00\n",
      "\tValidation loss: 0.720867395401001\n",
      "\tValidation accuracies: 44.18\n",
      "\tLength accuracy: 98.58\n",
      "\tDigit 0: 72.88\n",
      "\tDigit 1: 70.01\n",
      "\tDigit 2: 71.75\n",
      "\tDigit 3: 76.93\n",
      "\tDigit 4: 78.36\n",
      "step 6400:\n",
      "\tMinibatch loss: 0.7369000315666199\n",
      "\tMinibatch accuracies: 43.75\n",
      "\tLength accuracy: 96.88\n",
      "\tDigit 0: 62.50\n",
      "\tDigit 1: 63.64\n",
      "\tDigit 2: 77.78\n",
      "\tDigit 3: 92.31\n",
      "\tDigit 4: 87.50\n",
      "\tValidation loss: 0.693572998046875\n",
      "\tValidation accuracies: 43.44\n",
      "\tLength accuracy: 98.58\n",
      "\tDigit 0: 74.56\n",
      "\tDigit 1: 69.28\n",
      "\tDigit 2: 68.36\n",
      "\tDigit 3: 78.02\n",
      "\tDigit 4: 83.45\n",
      "step 6500:\n",
      "\tMinibatch loss: 0.9224240779876709\n",
      "\tMinibatch accuracies: 40.62\n",
      "\tLength accuracy: 96.88\n",
      "\tDigit 0: 78.12\n",
      "\tDigit 1: 45.45\n",
      "\tDigit 2: 68.42\n",
      "\tDigit 3: 84.62\n",
      "\tDigit 4: 42.86\n",
      "\tValidation loss: 0.6877470016479492\n",
      "\tValidation accuracies: 44.84\n",
      "\tLength accuracy: 98.14\n",
      "\tDigit 0: 75.50\n",
      "\tDigit 1: 69.08\n",
      "\tDigit 2: 72.94\n",
      "\tDigit 3: 77.03\n",
      "\tDigit 4: 83.05\n",
      "step 6600:\n",
      "\tMinibatch loss: 0.5180029273033142\n",
      "\tMinibatch accuracies: 50.00\n",
      "\tLength accuracy: 96.88\n",
      "\tDigit 0: 75.00\n",
      "\tDigit 1: 65.22\n",
      "\tDigit 2: 85.71\n",
      "\tDigit 3: 81.82\n",
      "\tDigit 4: 100.00\n",
      "\tValidation loss: 0.6767531633377075\n",
      "\tValidation accuracies: 45.32\n",
      "\tLength accuracy: 98.26\n",
      "\tDigit 0: 75.96\n",
      "\tDigit 1: 70.01\n",
      "\tDigit 2: 71.91\n",
      "\tDigit 3: 76.93\n",
      "\tDigit 4: 83.85\n",
      "step 6700:\n",
      "\tMinibatch loss: 0.7057094573974609\n",
      "\tMinibatch accuracies: 40.62\n",
      "\tLength accuracy: 90.62\n",
      "\tDigit 0: 68.75\n",
      "\tDigit 1: 63.33\n",
      "\tDigit 2: 60.00\n",
      "\tDigit 3: 72.73\n",
      "\tDigit 4: 100.00\n",
      "\tValidation loss: 0.6869667768478394\n",
      "\tValidation accuracies: 45.22\n",
      "\tLength accuracy: 98.36\n",
      "\tDigit 0: 75.72\n",
      "\tDigit 1: 70.49\n",
      "\tDigit 2: 71.88\n",
      "\tDigit 3: 77.23\n",
      "\tDigit 4: 81.66\n",
      "step 6800:\n",
      "\tMinibatch loss: 0.6218922138214111\n",
      "\tMinibatch accuracies: 40.62\n",
      "\tLength accuracy: 100.00\n",
      "\tDigit 0: 71.88\n",
      "\tDigit 1: 60.87\n",
      "\tDigit 2: 66.67\n",
      "\tDigit 3: 84.62\n",
      "\tDigit 4: 100.00\n",
      "\tValidation loss: 0.6660916805267334\n",
      "\tValidation accuracies: 45.56\n",
      "\tLength accuracy: 98.34\n",
      "\tDigit 0: 75.94\n",
      "\tDigit 1: 69.51\n",
      "\tDigit 2: 73.37\n",
      "\tDigit 3: 79.45\n",
      "\tDigit 4: 83.45\n",
      "step 6900:\n",
      "\tMinibatch loss: 0.6755658984184265\n",
      "\tMinibatch accuracies: 50.00\n",
      "\tLength accuracy: 93.75\n",
      "\tDigit 0: 78.12\n",
      "\tDigit 1: 85.19\n",
      "\tDigit 2: 71.43\n",
      "\tDigit 3: 71.43\n",
      "\tDigit 4: 57.14\n",
      "\tValidation loss: 0.6627343893051147\n",
      "\tValidation accuracies: 46.86\n",
      "\tLength accuracy: 98.12\n",
      "\tDigit 0: 76.92\n",
      "\tDigit 1: 70.91\n",
      "\tDigit 2: 73.77\n",
      "\tDigit 3: 78.66\n",
      "\tDigit 4: 82.75\n",
      "step 7000:\n",
      "\tMinibatch loss: 0.7225010395050049\n",
      "\tMinibatch accuracies: 46.88\n",
      "\tLength accuracy: 100.00\n",
      "\tDigit 0: 59.38\n",
      "\tDigit 1: 84.62\n",
      "\tDigit 2: 78.95\n",
      "\tDigit 3: 75.00\n",
      "\tDigit 4: 83.33\n"
     ]
    },
    {
     "name": "stdout",
     "output_type": "stream",
     "text": [
      "\tValidation loss: 0.6594639420509338\n",
      "\tValidation accuracies: 47.04\n",
      "\tLength accuracy: 98.36\n",
      "\tDigit 0: 76.28\n",
      "\tDigit 1: 71.41\n",
      "\tDigit 2: 74.14\n",
      "\tDigit 3: 79.10\n",
      "\tDigit 4: 82.25\n",
      "\tTest loss: 0.4812268912792206\n",
      "\tTest accuracies: 57.45\n",
      "\tLength accuracy: 99.01\n",
      "\tDigit 0: 82.95\n",
      "\tDigit 1: 77.79\n",
      "\tDigit 2: 80.67\n",
      "\tDigit 3: 84.97\n",
      "\tDigit 4: 87.27\n"
     ]
    }
   ],
   "source": [
    "num_steps = 7001\n",
    "\n",
    "with tf.Session(graph=graph) as session:\n",
    "    if not os.path.exists('summaries'):\n",
    "        os.mkdir('summaries')\n",
    "    writer = tf.summary.FileWriter('summaries', session.graph)\n",
    "    \n",
    "    tf.global_variables_initializer().run()\n",
    "    print('Initialized')\n",
    "    for step in range(num_steps):\n",
    "        offset = (step * batch_size) % (train_labels.shape[0] - batch_size)\n",
    "        batch_data = train_dataset[offset:(offset + batch_size), :, :, :]\n",
    "        batch_labels = train_labels[offset:(offset + batch_size), :]\n",
    "        batch_length = train_length[offset:(offset + batch_size)]\n",
    "        feed_dict = {tf_data: batch_data, tf_labels: batch_labels, tf_length: batch_length, tf_training: True}\n",
    "        _, t_loss, t_length_pred, t_predictions, t_pmasked, t_masks, t_lmasked, summary = session.run(\n",
    "            [optimizer, total_loss, length_predictions, predictions, pmasked,\n",
    "             masks, lmasked, merged], feed_dict=feed_dict)\n",
    "        writer.add_summary(summary, step)\n",
    "        if (step % 100 == 0):\n",
    "            train_accuracy = accuracy_labels(t_predictions, t_pmasked, batch_labels, t_lmasked, t_masks, batch_length)\n",
    "            train_length_accuracy = accuracy_length(t_length_pred, batch_length)\n",
    "            print(f'step {step}:')\n",
    "            printAccuracies('Minibatch', t_loss, train_length_accuracy, train_accuracy)\n",
    "            feed_dict = {tf_data: valid_dataset, tf_labels: valid_labels, \n",
    "                         tf_length: valid_length, tf_training: False}\n",
    "            v_loss, v_length_pred, v_predictions, v_pmasked, v_masks, v_lmasked, summary = session.run(\n",
    "                [total_loss, length_predictions, predictions, pmasked,\n",
    "                 masks, lmasked, merged], feed_dict=feed_dict)\n",
    "            valid_accuracy = accuracy_labels(v_predictions, v_pmasked, valid_labels, v_lmasked, v_masks, valid_length)\n",
    "            valid_length_accuracy = accuracy_length(v_length_pred, valid_length)\n",
    "            printAccuracies('Validation', v_loss, valid_length_accuracy, valid_accuracy)\n",
    "\n",
    "    feed_dict = {tf_data: test_dataset, tf_labels: test_labels, \n",
    "                 tf_length: test_length, tf_training: False}\n",
    "    test_loss, test_length_pred, test_predictions, test_pmasked, test_masks, test_lmasked = session.run(\n",
    "        [total_loss, length_predictions, predictions, pmasked,\n",
    "         masks, lmasked], feed_dict=feed_dict)\n",
    "    test_accuracy = accuracy_labels(test_predictions, test_pmasked, test_labels, test_lmasked, test_masks, test_length)\n",
    "    test_length_accuracy = accuracy_length(test_length_pred, test_length)\n",
    "    printAccuracies('Test', test_loss, test_length_accuracy, test_accuracy)"
   ]
  },
  {
   "cell_type": "code",
   "execution_count": null,
   "metadata": {},
   "outputs": [],
   "source": []
  }
 ],
 "metadata": {
  "kernelspec": {
   "display_name": "Python 3",
   "language": "python",
   "name": "python3"
  },
  "language_info": {
   "codemirror_mode": {
    "name": "ipython",
    "version": 3
   },
   "file_extension": ".py",
   "mimetype": "text/x-python",
   "name": "python",
   "nbconvert_exporter": "python",
   "pygments_lexer": "ipython3",
   "version": "3.6.6"
  }
 },
 "nbformat": 4,
 "nbformat_minor": 2
}
