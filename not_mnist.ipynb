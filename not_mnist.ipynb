{
 "cells": [
  {
   "cell_type": "code",
   "execution_count": 1,
   "metadata": {},
   "outputs": [],
   "source": [
    "# These are all the modules we'll be using later. Make sure you can import them\n",
    "# before proceeding further.\n",
    "from __future__ import print_function\n",
    "import imageio\n",
    "import matplotlib.pyplot as plt\n",
    "import numpy as np\n",
    "import os\n",
    "import sys\n",
    "import tarfile\n",
    "import scipy\n",
    "import skimage\n",
    "import tensorflow as tf\n",
    "from IPython.display import display, Image\n",
    "from sklearn.linear_model import LogisticRegression\n",
    "from six.moves.urllib.request import urlretrieve\n",
    "from six.moves import cPickle as pickle\n",
    "\n",
    "# Config the matplotlib backend as plotting inline in IPython\n",
    "%matplotlib inline"
   ]
  },
  {
   "cell_type": "code",
   "execution_count": 2,
   "metadata": {},
   "outputs": [
    {
     "name": "stdout",
     "output_type": "stream",
     "text": [
      "Found and verified ./dataset/notmnist/notMNIST_large.tar.gz\n",
      "Found and verified ./dataset/notmnist/notMNIST_small.tar.gz\n"
     ]
    }
   ],
   "source": [
    "url = 'https://commondatastorage.googleapis.com/books1000/'\n",
    "last_percent_reported = None\n",
    "data_root = './dataset/notmnist' # Change me to store data elsewhere\n",
    "\n",
    "def download_progress_hook(count, blockSize, totalSize):\n",
    "    \"\"\"A hook to report the progress of a download. This is mostly intended for users with\n",
    "    slow internet connections. Reports every 5% change in download progress.\n",
    "    \"\"\"\n",
    "    global last_percent_reported\n",
    "    percent = int(count * blockSize * 100 / totalSize)\n",
    "\n",
    "    if last_percent_reported != percent:\n",
    "        if percent % 5 == 0:\n",
    "            sys.stdout.write(\"%s%%\" % percent)\n",
    "            sys.stdout.flush()\n",
    "        else:\n",
    "            sys.stdout.write(\".\")\n",
    "            sys.stdout.flush()\n",
    "      \n",
    "        last_percent_reported = percent\n",
    "        \n",
    "def maybe_download(filename, expected_bytes, force=False):\n",
    "    \"\"\"Download a file if not present, and make sure it's the right size.\"\"\"\n",
    "    dest_filename = os.path.join(data_root, filename)\n",
    "    if force or not os.path.exists(dest_filename):\n",
    "        print('Attempting to download:', filename) \n",
    "        filename, _ = urlretrieve(url + filename, dest_filename, reporthook=download_progress_hook)\n",
    "        print('\\nDownload Complete!')\n",
    "    statinfo = os.stat(dest_filename)\n",
    "    if statinfo.st_size == expected_bytes:\n",
    "        print('Found and verified', dest_filename)\n",
    "    else:\n",
    "        raise Exception('Failed to verify ' + dest_filename + '. Can you get to it with a browser?')\n",
    "    return dest_filename\n",
    "\n",
    "train_filename = maybe_download('notMNIST_large.tar.gz', 247336696)\n",
    "test_filename = maybe_download('notMNIST_small.tar.gz', 8458043)"
   ]
  },
  {
   "cell_type": "code",
   "execution_count": 3,
   "metadata": {},
   "outputs": [
    {
     "name": "stdout",
     "output_type": "stream",
     "text": [
      "./dataset/notmnist/notMNIST_large already present - Skipping extraction of ./dataset/notmnist/notMNIST_large.tar.gz.\n",
      "['./dataset/notmnist/notMNIST_large/A', './dataset/notmnist/notMNIST_large/B', './dataset/notmnist/notMNIST_large/C', './dataset/notmnist/notMNIST_large/D', './dataset/notmnist/notMNIST_large/E', './dataset/notmnist/notMNIST_large/F', './dataset/notmnist/notMNIST_large/G', './dataset/notmnist/notMNIST_large/H', './dataset/notmnist/notMNIST_large/I', './dataset/notmnist/notMNIST_large/J']\n",
      "./dataset/notmnist/notMNIST_small already present - Skipping extraction of ./dataset/notmnist/notMNIST_small.tar.gz.\n",
      "['./dataset/notmnist/notMNIST_small/A', './dataset/notmnist/notMNIST_small/B', './dataset/notmnist/notMNIST_small/C', './dataset/notmnist/notMNIST_small/D', './dataset/notmnist/notMNIST_small/E', './dataset/notmnist/notMNIST_small/F', './dataset/notmnist/notMNIST_small/G', './dataset/notmnist/notMNIST_small/H', './dataset/notmnist/notMNIST_small/I', './dataset/notmnist/notMNIST_small/J']\n"
     ]
    }
   ],
   "source": [
    "num_classes = 10\n",
    "np.random.seed(133)\n",
    "\n",
    "def maybe_extract(filename, force=False):\n",
    "    root = os.path.splitext(os.path.splitext(filename)[0])[0]  # remove .tar.gz\n",
    "    if os.path.isdir(root) and not force:\n",
    "        # You may override by setting force=True.\n",
    "        print('%s already present - Skipping extraction of %s.' % (root, filename))\n",
    "    else:\n",
    "        print('Extracting data for %s. This may take a while. Please wait.' % root)\n",
    "        tar = tarfile.open(filename)\n",
    "        sys.stdout.flush()\n",
    "        tar.extractall(data_root)\n",
    "        tar.close()\n",
    "    data_folders = [\n",
    "        os.path.join(root, d) for d in sorted(os.listdir(root)) if os.path.isdir(os.path.join(root, d))]\n",
    "    if len(data_folders) != num_classes:\n",
    "        raise Exception('Expected %d folders, one per class. Found %d instead.' % (num_classes, len(data_folders)))\n",
    "    print(data_folders)\n",
    "    return data_folders\n",
    "  \n",
    "train_folders = maybe_extract(train_filename)\n",
    "test_folders  = maybe_extract(test_filename)"
   ]
  },
  {
   "cell_type": "code",
   "execution_count": 4,
   "metadata": {},
   "outputs": [
    {
     "name": "stdout",
     "output_type": "stream",
     "text": [
      "Displaying images in:  notMNIST_large\n",
      "Label:  A\n"
     ]
    },
    {
     "data": {
      "image/png": "[encoded data removed]",
      "text/plain": [
       "<IPython.core.display.Image object>"
      ]
     },
     "metadata": {
      "image/png": {
       "height": 20,
       "width": 20
      }
     },
     "output_type": "display_data"
    },
    {
     "data": {
      "image/png": "[encoded data removed]",
      "text/plain": [
       "<IPython.core.display.Image object>"
      ]
     },
     "metadata": {
      "image/png": {
       "height": 20,
       "width": 20
      }
     },
     "output_type": "display_data"
    },
    {
     "data": {
      "image/png": "[encoded data removed]",
      "text/plain": [
       "<IPython.core.display.Image object>"
      ]
     },
     "metadata": {
      "image/png": {
       "height": 20,
       "width": 20
      }
     },
     "output_type": "display_data"
    },
    {
     "data": {
      "image/png": "[encoded data removed]",
      "text/plain": [
       "<IPython.core.display.Image object>"
      ]
     },
     "metadata": {
      "image/png": {
       "height": 20,
       "width": 20
      }
     },
     "output_type": "display_data"
    },
    {
     "data": {
      "image/png": "[encoded data removed]",
      "text/plain": [
       "<IPython.core.display.Image object>"
      ]
     },
     "metadata": {
      "image/png": {
       "height": 20,
       "width": 20
      }
     },
     "output_type": "display_data"
    },
    {
     "name": "stdout",
     "output_type": "stream",
     "text": [
      "Label:  B\n"
     ]
    },
    {
     "data": {
      "image/png": "[encoded data removed]",
      "text/plain": [
       "<IPython.core.display.Image object>"
      ]
     },
     "metadata": {
      "image/png": {
       "height": 20,
       "width": 20
      }
     },
     "output_type": "display_data"
    },
    {
     "data": {
      "image/png": "[encoded data removed]",
      "text/plain": [
       "<IPython.core.display.Image object>"
      ]
     },
     "metadata": {
      "image/png": {
       "height": 20,
       "width": 20
      }
     },
     "output_type": "display_data"
    },
    {
     "data": {
      "image/png": "[encoded data removed]",
      "text/plain": [
       "<IPython.core.display.Image object>"
      ]
     },
     "metadata": {
      "image/png": {
       "height": 20,
       "width": 20
      }
     },
     "output_type": "display_data"
    },
    {
     "data": {
      "image/png": "[encoded data removed]",
      "text/plain": [
       "<IPython.core.display.Image object>"
      ]
     },
     "metadata": {
      "image/png": {
       "height": 20,
       "width": 20
      }
     },
     "output_type": "display_data"
    },
    {
     "data": {
      "image/png": "[encoded data removed]",
      "text/plain": [
       "<IPython.core.display.Image object>"
      ]
     },
     "metadata": {
      "image/png": {
       "height": 20,
       "width": 20
      }
     },
     "output_type": "display_data"
    },
    {
     "name": "stdout",
     "output_type": "stream",
     "text": [
      "Label:  C\n"
     ]
    },
    {
     "data": {
      "image/png": "[encoded data removed]",
      "text/plain": [
       "<IPython.core.display.Image object>"
      ]
     },
     "metadata": {
      "image/png": {
       "height": 20,
       "width": 20
      }
     },
     "output_type": "display_data"
    },
    {
     "data": {
      "image/png": "[encoded data removed]",
      "text/plain": [
       "<IPython.core.display.Image object>"
      ]
     },
     "metadata": {
      "image/png": {
       "height": 20,
       "width": 20
      }
     },
     "output_type": "display_data"
    },
    {
     "data": {
      "image/png": "[encoded data removed]",
      "text/plain": [
       "<IPython.core.display.Image object>"
      ]
     },
     "metadata": {
      "image/png": {
       "height": 20,
       "width": 20
      }
     },
     "output_type": "display_data"
    },
    {
     "data": {
      "image/png": "[encoded data removed]",
      "text/plain": [
       "<IPython.core.display.Image object>"
      ]
     },
     "metadata": {
      "image/png": {
       "height": 20,
       "width": 20
      }
     },
     "output_type": "display_data"
    },
    {
     "data": {
      "image/png": "[encoded data removed]",
      "text/plain": [
       "<IPython.core.display.Image object>"
      ]
     },
     "metadata": {
      "image/png": {
       "height": 20,
       "width": 20
      }
     },
     "output_type": "display_data"
    },
    {
     "name": "stdout",
     "output_type": "stream",
     "text": [
      "Label:  D\n"
     ]
    },
    {
     "data": {
      "image/png": "[encoded data removed]",
      "text/plain": [
       "<IPython.core.display.Image object>"
      ]
     },
     "metadata": {
      "image/png": {
       "height": 20,
       "width": 20
      }
     },
     "output_type": "display_data"
    },
    {
     "data": {
      "image/png": "[encoded data removed]",
      "text/plain": [
       "<IPython.core.display.Image object>"
      ]
     },
     "metadata": {
      "image/png": {
       "height": 20,
       "width": 20
      }
     },
     "output_type": "display_data"
    },
    {
     "data": {
      "image/png": "[encoded data removed]",
      "text/plain": [
       "<IPython.core.display.Image object>"
      ]
     },
     "metadata": {
      "image/png": {
       "height": 20,
       "width": 20
      }
     },
     "output_type": "display_data"
    },
    {
     "data": {
      "image/png": "[encoded data removed]",
      "text/plain": [
       "<IPython.core.display.Image object>"
      ]
     },
     "metadata": {
      "image/png": {
       "height": 20,
       "width": 20
      }
     },
     "output_type": "display_data"
    },
    {
     "data": {
      "image/png": "[encoded data removed]",
      "text/plain": [
       "<IPython.core.display.Image object>"
      ]
     },
     "metadata": {
      "image/png": {
       "height": 20,
       "width": 20
      }
     },
     "output_type": "display_data"
    },
    {
     "name": "stdout",
     "output_type": "stream",
     "text": [
      "Label:  E\n"
     ]
    },
    {
     "data": {
      "image/png": "[encoded data removed]",
      "text/plain": [
       "<IPython.core.display.Image object>"
      ]
     },
     "metadata": {
      "image/png": {
       "height": 20,
       "width": 20
      }
     },
     "output_type": "display_data"
    },
    {
     "data": {
      "image/png": "[encoded data removed]",
      "text/plain": [
       "<IPython.core.display.Image object>"
      ]
     },
     "metadata": {
      "image/png": {
       "height": 20,
       "width": 20
      }
     },
     "output_type": "display_data"
    },
    {
     "data": {
      "image/png": "[encoded data removed]",
      "text/plain": [
       "<IPython.core.display.Image object>"
      ]
     },
     "metadata": {
      "image/png": {
       "height": 20,
       "width": 20
      }
     },
     "output_type": "display_data"
    },
    {
     "data": {
      "image/png": "[encoded data removed]",
      "text/plain": [
       "<IPython.core.display.Image object>"
      ]
     },
     "metadata": {
      "image/png": {
       "height": 20,
       "width": 20
      }
     },
     "output_type": "display_data"
    },
    {
     "data": {
      "image/png": "[encoded data removed]",
      "text/plain": [
       "<IPython.core.display.Image object>"
      ]
     },
     "metadata": {
      "image/png": {
       "height": 20,
       "width": 20
      }
     },
     "output_type": "display_data"
    },
    {
     "name": "stdout",
     "output_type": "stream",
     "text": [
      "Label:  F\n"
     ]
    },
    {
     "data": {
      "image/png": "[encoded data removed]",
      "text/plain": [
       "<IPython.core.display.Image object>"
      ]
     },
     "metadata": {
      "image/png": {
       "height": 20,
       "width": 20
      }
     },
     "output_type": "display_data"
    },
    {
     "data": {
      "image/png": "[encoded data removed]",
      "text/plain": [
       "<IPython.core.display.Image object>"
      ]
     },
     "metadata": {
      "image/png": {
       "height": 20,
       "width": 20
      }
     },
     "output_type": "display_data"
    },
    {
     "data": {
      "image/png": "[encoded data removed]",
      "text/plain": [
       "<IPython.core.display.Image object>"
      ]
     },
     "metadata": {
      "image/png": {
       "height": 20,
       "width": 20
      }
     },
     "output_type": "display_data"
    },
    {
     "data": {
      "image/png": "[encoded data removed]",
      "text/plain": [
       "<IPython.core.display.Image object>"
      ]
     },
     "metadata": {
      "image/png": {
       "height": 20,
       "width": 20
      }
     },
     "output_type": "display_data"
    },
    {
     "data": {
      "image/png": "[encoded data removed]",
      "text/plain": [
       "<IPython.core.display.Image object>"
      ]
     },
     "metadata": {
      "image/png": {
       "height": 20,
       "width": 20
      }
     },
     "output_type": "display_data"
    },
    {
     "name": "stdout",
     "output_type": "stream",
     "text": [
      "Label:  G\n"
     ]
    },
    {
     "data": {
      "image/png": "[encoded data removed]",
      "text/plain": [
       "<IPython.core.display.Image object>"
      ]
     },
     "metadata": {
      "image/png": {
       "height": 20,
       "width": 20
      }
     },
     "output_type": "display_data"
    },
    {
     "data": {
      "image/png": "[encoded data removed]",
      "text/plain": [
       "<IPython.core.display.Image object>"
      ]
     },
     "metadata": {
      "image/png": {
       "height": 20,
       "width": 20
      }
     },
     "output_type": "display_data"
    },
    {
     "data": {
      "image/png": "[encoded data removed]",
      "text/plain": [
       "<IPython.core.display.Image object>"
      ]
     },
     "metadata": {
      "image/png": {
       "height": 20,
       "width": 20
      }
     },
     "output_type": "display_data"
    },
    {
     "data": {
      "image/png": "[encoded data removed]",
      "text/plain": [
       "<IPython.core.display.Image object>"
      ]
     },
     "metadata": {
      "image/png": {
       "height": 20,
       "width": 20
      }
     },
     "output_type": "display_data"
    },
    {
     "data": {
      "image/png": "[encoded data removed]",
      "text/plain": [
       "<IPython.core.display.Image object>"
      ]
     },
     "metadata": {
      "image/png": {
       "height": 20,
       "width": 20
      }
     },
     "output_type": "display_data"
    },
    {
     "name": "stdout",
     "output_type": "stream",
     "text": [
      "Label:  H\n"
     ]
    },
    {
     "data": {
      "image/png": "[encoded data removed]",
      "text/plain": [
       "<IPython.core.display.Image object>"
      ]
     },
     "metadata": {
      "image/png": {
       "height": 20,
       "width": 20
      }
     },
     "output_type": "display_data"
    },
    {
     "data": {
      "image/png": "[encoded data removed]",
      "text/plain": [
       "<IPython.core.display.Image object>"
      ]
     },
     "metadata": {
      "image/png": {
       "height": 20,
       "width": 20
      }
     },
     "output_type": "display_data"
    },
    {
     "data": {
      "image/png": "[encoded data removed]",
      "text/plain": [
       "<IPython.core.display.Image object>"
      ]
     },
     "metadata": {
      "image/png": {
       "height": 20,
       "width": 20
      }
     },
     "output_type": "display_data"
    },
    {
     "data": {
      "image/png": "[encoded data removed]",
      "text/plain": [
       "<IPython.core.display.Image object>"
      ]
     },
     "metadata": {
      "image/png": {
       "height": 20,
       "width": 20
      }
     },
     "output_type": "display_data"
    },
    {
     "data": {
      "image/png": "[encoded data removed]",
      "text/plain": [
       "<IPython.core.display.Image object>"
      ]
     },
     "metadata": {
      "image/png": {
       "height": 20,
       "width": 20
      }
     },
     "output_type": "display_data"
    },
    {
     "name": "stdout",
     "output_type": "stream",
     "text": [
      "Label:  I\n"
     ]
    },
    {
     "data": {
      "image/png": "[encoded data removed]",
      "text/plain": [
       "<IPython.core.display.Image object>"
      ]
     },
     "metadata": {
      "image/png": {
       "height": 20,
       "width": 20
      }
     },
     "output_type": "display_data"
    },
    {
     "data": {
      "image/png": "[encoded data removed]",
      "text/plain": [
       "<IPython.core.display.Image object>"
      ]
     },
     "metadata": {
      "image/png": {
       "height": 20,
       "width": 20
      }
     },
     "output_type": "display_data"
    },
    {
     "data": {
      "image/png": "[encoded data removed]",
      "text/plain": [
       "<IPython.core.display.Image object>"
      ]
     },
     "metadata": {
      "image/png": {
       "height": 20,
       "width": 20
      }
     },
     "output_type": "display_data"
    },
    {
     "data": {
      "image/png": "[encoded data removed]",
      "text/plain": [
       "<IPython.core.display.Image object>"
      ]
     },
     "metadata": {
      "image/png": {
       "height": 20,
       "width": 20
      }
     },
     "output_type": "display_data"
    },
    {
     "data": {
      "image/png": "[encoded data removed]",
      "text/plain": [
       "<IPython.core.display.Image object>"
      ]
     },
     "metadata": {
      "image/png": {
       "height": 20,
       "width": 20
      }
     },
     "output_type": "display_data"
    },
    {
     "name": "stdout",
     "output_type": "stream",
     "text": [
      "Label:  J\n"
     ]
    },
    {
     "data": {
      "image/png": "[encoded data removed]",
      "text/plain": [
       "<IPython.core.display.Image object>"
      ]
     },
     "metadata": {
      "image/png": {
       "height": 20,
       "width": 20
      }
     },
     "output_type": "display_data"
    },
    {
     "data": {
      "image/png": "[encoded data removed]",
      "text/plain": [
       "<IPython.core.display.Image object>"
      ]
     },
     "metadata": {
      "image/png": {
       "height": 20,
       "width": 20
      }
     },
     "output_type": "display_data"
    },
    {
     "data": {
      "image/png": "[encoded data removed]",
      "text/plain": [
       "<IPython.core.display.Image object>"
      ]
     },
     "metadata": {
      "image/png": {
       "height": 20,
       "width": 20
      }
     },
     "output_type": "display_data"
    },
    {
     "data": {
      "image/png": "[encoded data removed]",
      "text/plain": [
       "<IPython.core.display.Image object>"
      ]
     },
     "metadata": {
      "image/png": {
       "height": 20,
       "width": 20
      }
     },
     "output_type": "display_data"
    },
    {
     "data": {
      "image/png": "[encoded data removed]",
      "text/plain": [
       "<IPython.core.display.Image object>"
      ]
     },
     "metadata": {
      "image/png": {
       "height": 20,
       "width": 20
      }
     },
     "output_type": "display_data"
    },
    {
     "name": "stdout",
     "output_type": "stream",
     "text": [
      "Displaying images in:  notMNIST_small\n",
      "Label:  A\n"
     ]
    },
    {
     "data": {
      "image/png": "[encoded data removed]",
      "text/plain": [
       "<IPython.core.display.Image object>"
      ]
     },
     "metadata": {
      "image/png": {
       "height": 20,
       "width": 20
      }
     },
     "output_type": "display_data"
    },
    {
     "data": {
      "image/png": "[encoded data removed]",
      "text/plain": [
       "<IPython.core.display.Image object>"
      ]
     },
     "metadata": {
      "image/png": {
       "height": 20,
       "width": 20
      }
     },
     "output_type": "display_data"
    },
    {
     "data": {
      "image/png": "[encoded data removed]",
      "text/plain": [
       "<IPython.core.display.Image object>"
      ]
     },
     "metadata": {
      "image/png": {
       "height": 20,
       "width": 20
      }
     },
     "output_type": "display_data"
    },
    {
     "data": {
      "image/png": "[encoded data removed]",
      "text/plain": [
       "<IPython.core.display.Image object>"
      ]
     },
     "metadata": {
      "image/png": {
       "height": 20,
       "width": 20
      }
     },
     "output_type": "display_data"
    },
    {
     "data": {
      "image/png": "[encoded data removed]",
      "text/plain": [
       "<IPython.core.display.Image object>"
      ]
     },
     "metadata": {
      "image/png": {
       "height": 20,
       "width": 20
      }
     },
     "output_type": "display_data"
    },
    {
     "name": "stdout",
     "output_type": "stream",
     "text": [
      "Label:  B\n"
     ]
    },
    {
     "data": {
      "image/png": "[encoded data removed]",
      "text/plain": [
       "<IPython.core.display.Image object>"
      ]
     },
     "metadata": {
      "image/png": {
       "height": 20,
       "width": 20
      }
     },
     "output_type": "display_data"
    },
    {
     "data": {
      "image/png": "[encoded data removed]",
      "text/plain": [
       "<IPython.core.display.Image object>"
      ]
     },
     "metadata": {
      "image/png": {
       "height": 20,
       "width": 20
      }
     },
     "output_type": "display_data"
    },
    {
     "data": {
      "image/png": "[encoded data removed]",
      "text/plain": [
       "<IPython.core.display.Image object>"
      ]
     },
     "metadata": {
      "image/png": {
       "height": 20,
       "width": 20
      }
     },
     "output_type": "display_data"
    },
    {
     "data": {
      "image/png": "[encoded data removed]",
      "text/plain": [
       "<IPython.core.display.Image object>"
      ]
     },
     "metadata": {
      "image/png": {
       "height": 20,
       "width": 20
      }
     },
     "output_type": "display_data"
    },
    {
     "data": {
      "image/png": "[encoded data removed]",
      "text/plain": [
       "<IPython.core.display.Image object>"
      ]
     },
     "metadata": {
      "image/png": {
       "height": 20,
       "width": 20
      }
     },
     "output_type": "display_data"
    },
    {
     "name": "stdout",
     "output_type": "stream",
     "text": [
      "Label:  C\n"
     ]
    },
    {
     "data": {
      "image/png": "[encoded data removed]",
      "text/plain": [
       "<IPython.core.display.Image object>"
      ]
     },
     "metadata": {
      "image/png": {
       "height": 20,
       "width": 20
      }
     },
     "output_type": "display_data"
    },
    {
     "data": {
      "image/png": "[encoded data removed]",
      "text/plain": [
       "<IPython.core.display.Image object>"
      ]
     },
     "metadata": {
      "image/png": {
       "height": 20,
       "width": 20
      }
     },
     "output_type": "display_data"
    },
    {
     "data": {
      "image/png": "[encoded data removed]",
      "text/plain": [
       "<IPython.core.display.Image object>"
      ]
     },
     "metadata": {
      "image/png": {
       "height": 20,
       "width": 20
      }
     },
     "output_type": "display_data"
    },
    {
     "data": {
      "image/png": "[encoded data removed]",
      "text/plain": [
       "<IPython.core.display.Image object>"
      ]
     },
     "metadata": {
      "image/png": {
       "height": 20,
       "width": 20
      }
     },
     "output_type": "display_data"
    },
    {
     "data": {
      "image/png": "[encoded data removed]",
      "text/plain": [
       "<IPython.core.display.Image object>"
      ]
     },
     "metadata": {
      "image/png": {
       "height": 20,
       "width": 20
      }
     },
     "output_type": "display_data"
    },
    {
     "name": "stdout",
     "output_type": "stream",
     "text": [
      "Label:  D\n"
     ]
    },
    {
     "data": {
      "image/png": "[encoded data removed]",
      "text/plain": [
       "<IPython.core.display.Image object>"
      ]
     },
     "metadata": {
      "image/png": {
       "height": 20,
       "width": 20
      }
     },
     "output_type": "display_data"
    },
    {
     "data": {
      "image/png": "[encoded data removed]",
      "text/plain": [
       "<IPython.core.display.Image object>"
      ]
     },
     "metadata": {
      "image/png": {
       "height": 20,
       "width": 20
      }
     },
     "output_type": "display_data"
    },
    {
     "data": {
      "image/png": "[encoded data removed]",
      "text/plain": [
       "<IPython.core.display.Image object>"
      ]
     },
     "metadata": {
      "image/png": {
       "height": 20,
       "width": 20
      }
     },
     "output_type": "display_data"
    },
    {
     "data": {
      "image/png": "[encoded data removed]",
      "text/plain": [
       "<IPython.core.display.Image object>"
      ]
     },
     "metadata": {
      "image/png": {
       "height": 20,
       "width": 20
      }
     },
     "output_type": "display_data"
    },
    {
     "data": {
      "image/png": "[encoded data removed]",
      "text/plain": [
       "<IPython.core.display.Image object>"
      ]
     },
     "metadata": {
      "image/png": {
       "height": 20,
       "width": 20
      }
     },
     "output_type": "display_data"
    },
    {
     "name": "stdout",
     "output_type": "stream",
     "text": [
      "Label:  E\n"
     ]
    },
    {
     "data": {
      "image/png": "[encoded data removed]",
      "text/plain": [
       "<IPython.core.display.Image object>"
      ]
     },
     "metadata": {
      "image/png": {
       "height": 20,
       "width": 20
      }
     },
     "output_type": "display_data"
    },
    {
     "data": {
      "image/png": "[encoded data removed]",
      "text/plain": [
       "<IPython.core.display.Image object>"
      ]
     },
     "metadata": {
      "image/png": {
       "height": 20,
       "width": 20
      }
     },
     "output_type": "display_data"
    },
    {
     "data": {
      "image/png": "[encoded data removed]",
      "text/plain": [
       "<IPython.core.display.Image object>"
      ]
     },
     "metadata": {
      "image/png": {
       "height": 20,
       "width": 20
      }
     },
     "output_type": "display_data"
    },
    {
     "data": {
      "image/png": "[encoded data removed]",
      "text/plain": [
       "<IPython.core.display.Image object>"
      ]
     },
     "metadata": {
      "image/png": {
       "height": 20,
       "width": 20
      }
     },
     "output_type": "display_data"
    },
    {
     "data": {
      "image/png": "[encoded data removed]",
      "text/plain": [
       "<IPython.core.display.Image object>"
      ]
     },
     "metadata": {
      "image/png": {
       "height": 20,
       "width": 20
      }
     },
     "output_type": "display_data"
    },
    {
     "name": "stdout",
     "output_type": "stream",
     "text": [
      "Label:  F\n"
     ]
    },
    {
     "data": {
      "image/png": "[encoded data removed]",
      "text/plain": [
       "<IPython.core.display.Image object>"
      ]
     },
     "metadata": {
      "image/png": {
       "height": 20,
       "width": 20
      }
     },
     "output_type": "display_data"
    },
    {
     "data": {
      "image/png": "[encoded data removed]",
      "text/plain": [
       "<IPython.core.display.Image object>"
      ]
     },
     "metadata": {
      "image/png": {
       "height": 20,
       "width": 20
      }
     },
     "output_type": "display_data"
    },
    {
     "data": {
      "image/png": "[encoded data removed]",
      "text/plain": [
       "<IPython.core.display.Image object>"
      ]
     },
     "metadata": {
      "image/png": {
       "height": 20,
       "width": 20
      }
     },
     "output_type": "display_data"
    },
    {
     "data": {
      "image/png": "[encoded data removed]",
      "text/plain": [
       "<IPython.core.display.Image object>"
      ]
     },
     "metadata": {
      "image/png": {
       "height": 20,
       "width": 20
      }
     },
     "output_type": "display_data"
    },
    {
     "data": {
      "image/png": "[encoded data removed]",
      "text/plain": [
       "<IPython.core.display.Image object>"
      ]
     },
     "metadata": {
      "image/png": {
       "height": 20,
       "width": 20
      }
     },
     "output_type": "display_data"
    },
    {
     "name": "stdout",
     "output_type": "stream",
     "text": [
      "Label:  G\n"
     ]
    },
    {
     "data": {
      "image/png": "[encoded data removed]",
      "text/plain": [
       "<IPython.core.display.Image object>"
      ]
     },
     "metadata": {
      "image/png": {
       "height": 20,
       "width": 20
      }
     },
     "output_type": "display_data"
    },
    {
     "data": {
      "image/png": "[encoded data removed]",
      "text/plain": [
       "<IPython.core.display.Image object>"
      ]
     },
     "metadata": {
      "image/png": {
       "height": 20,
       "width": 20
      }
     },
     "output_type": "display_data"
    },
    {
     "data": {
      "image/png": "[encoded data removed]",
      "text/plain": [
       "<IPython.core.display.Image object>"
      ]
     },
     "metadata": {
      "image/png": {
       "height": 20,
       "width": 20
      }
     },
     "output_type": "display_data"
    },
    {
     "data": {
      "image/png": "[encoded data removed]",
      "text/plain": [
       "<IPython.core.display.Image object>"
      ]
     },
     "metadata": {
      "image/png": {
       "height": 20,
       "width": 20
      }
     },
     "output_type": "display_data"
    },
    {
     "data": {
      "image/png": "[encoded data removed]",
      "text/plain": [
       "<IPython.core.display.Image object>"
      ]
     },
     "metadata": {
      "image/png": {
       "height": 20,
       "width": 20
      }
     },
     "output_type": "display_data"
    },
    {
     "name": "stdout",
     "output_type": "stream",
     "text": [
      "Label:  H\n"
     ]
    },
    {
     "data": {
      "image/png": "[encoded data removed]",
      "text/plain": [
       "<IPython.core.display.Image object>"
      ]
     },
     "metadata": {
      "image/png": {
       "height": 20,
       "width": 20
      }
     },
     "output_type": "display_data"
    },
    {
     "data": {
      "image/png": "[encoded data removed]",
      "text/plain": [
       "<IPython.core.display.Image object>"
      ]
     },
     "metadata": {
      "image/png": {
       "height": 20,
       "width": 20
      }
     },
     "output_type": "display_data"
    },
    {
     "data": {
      "image/png": "[encoded data removed]",
      "text/plain": [
       "<IPython.core.display.Image object>"
      ]
     },
     "metadata": {
      "image/png": {
       "height": 20,
       "width": 20
      }
     },
     "output_type": "display_data"
    },
    {
     "data": {
      "image/png": "[encoded data removed]",
      "text/plain": [
       "<IPython.core.display.Image object>"
      ]
     },
     "metadata": {
      "image/png": {
       "height": 20,
       "width": 20
      }
     },
     "output_type": "display_data"
    },
    {
     "data": {
      "image/png": "[encoded data removed]",
      "text/plain": [
       "<IPython.core.display.Image object>"
      ]
     },
     "metadata": {
      "image/png": {
       "height": 20,
       "width": 20
      }
     },
     "output_type": "display_data"
    },
    {
     "name": "stdout",
     "output_type": "stream",
     "text": [
      "Label:  I\n"
     ]
    },
    {
     "data": {
      "image/png": "[encoded data removed]",
      "text/plain": [
       "<IPython.core.display.Image object>"
      ]
     },
     "metadata": {
      "image/png": {
       "height": 20,
       "width": 20
      }
     },
     "output_type": "display_data"
    },
    {
     "data": {
      "image/png": "[encoded data removed]",
      "text/plain": [
       "<IPython.core.display.Image object>"
      ]
     },
     "metadata": {
      "image/png": {
       "height": 20,
       "width": 20
      }
     },
     "output_type": "display_data"
    },
    {
     "data": {
      "image/png": "[encoded data removed]",
      "text/plain": [
       "<IPython.core.display.Image object>"
      ]
     },
     "metadata": {
      "image/png": {
       "height": 20,
       "width": 20
      }
     },
     "output_type": "display_data"
    },
    {
     "data": {
      "image/png": "[encoded data removed]",
      "text/plain": [
       "<IPython.core.display.Image object>"
      ]
     },
     "metadata": {
      "image/png": {
       "height": 20,
       "width": 20
      }
     },
     "output_type": "display_data"
    },
    {
     "data": {
      "image/png": "[encoded data removed]",
      "text/plain": [
       "<IPython.core.display.Image object>"
      ]
     },
     "metadata": {
      "image/png": {
       "height": 20,
       "width": 20
      }
     },
     "output_type": "display_data"
    },
    {
     "name": "stdout",
     "output_type": "stream",
     "text": [
      "Label:  J\n"
     ]
    },
    {
     "data": {
      "image/png": "[encoded data removed]",
      "text/plain": [
       "<IPython.core.display.Image object>"
      ]
     },
     "metadata": {
      "image/png": {
       "height": 20,
       "width": 20
      }
     },
     "output_type": "display_data"
    },
    {
     "data": {
      "image/png": "[encoded data removed]",
      "text/plain": [
       "<IPython.core.display.Image object>"
      ]
     },
     "metadata": {
      "image/png": {
       "height": 20,
       "width": 20
      }
     },
     "output_type": "display_data"
    },
    {
     "data": {
      "image/png": "[encoded data removed]",
      "text/plain": [
       "<IPython.core.display.Image object>"
      ]
     },
     "metadata": {
      "image/png": {
       "height": 20,
       "width": 20
      }
     },
     "output_type": "display_data"
    },
    {
     "data": {
      "image/png": "[encoded data removed]",
      "text/plain": [
       "<IPython.core.display.Image object>"
      ]
     },
     "metadata": {
      "image/png": {
       "height": 20,
       "width": 20
      }
     },
     "output_type": "display_data"
    },
    {
     "data": {
      "image/png": "[encoded data removed]",
      "text/plain": [
       "<IPython.core.display.Image object>"
      ]
     },
     "metadata": {
      "image/png": {
       "height": 20,
       "width": 20
      }
     },
     "output_type": "display_data"
    }
   ],
   "source": [
    "import random\n",
    "\n",
    "# Visualise a sample of each label\n",
    "def display_images(filename, samples_per_label):\n",
    "    print ('Displaying images in: ', filename)\n",
    "    folder = os.path.join(data_root, filename)\n",
    "    for label in sorted(os.listdir(folder)):\n",
    "        if(label.endswith('.pickle') == False):\n",
    "            print ('Label: ', label)\n",
    "            label_folder = os.path.join(folder, label)\n",
    "            dirs = os.listdir(label_folder)\n",
    "            random.shuffle(dirs)\n",
    "            for image in dirs[:samples_per_label]:\n",
    "                display(Image(filename=os.path.join(label_folder, image), width=20.0, height=20.0))\n",
    "            \n",
    "display_images('notMNIST_large', 5)\n",
    "display_images('notMNIST_small', 5)"
   ]
  },
  {
   "cell_type": "code",
   "execution_count": 5,
   "metadata": {},
   "outputs": [],
   "source": [
    "def saveAsPickle(data,filename):\n",
    "    try:\n",
    "        with open(filename, 'wb') as f:\n",
    "            pickle.dump(data, f, pickle.HIGHEST_PROTOCOL)\n",
    "            print (filename + \" pickled!\")\n",
    "    except Exception as e:\n",
    "        print('Unable to save data to', filename, ':', e)\n",
    "        \n",
    "def loadPickle(file):\n",
    "    with open(file, 'rb') as pickle_file:\n",
    "        return pickle.load(pickle_file)"
   ]
  },
  {
   "cell_type": "code",
   "execution_count": 6,
   "metadata": {},
   "outputs": [
    {
     "name": "stdout",
     "output_type": "stream",
     "text": [
      "./dataset/notmnist/notMNIST_large/A.pickle already present - Skipping pickling.\n",
      "./dataset/notmnist/notMNIST_large/B.pickle already present - Skipping pickling.\n",
      "./dataset/notmnist/notMNIST_large/C.pickle already present - Skipping pickling.\n",
      "./dataset/notmnist/notMNIST_large/D.pickle already present - Skipping pickling.\n",
      "./dataset/notmnist/notMNIST_large/E.pickle already present - Skipping pickling.\n",
      "./dataset/notmnist/notMNIST_large/F.pickle already present - Skipping pickling.\n",
      "./dataset/notmnist/notMNIST_large/G.pickle already present - Skipping pickling.\n",
      "./dataset/notmnist/notMNIST_large/H.pickle already present - Skipping pickling.\n",
      "./dataset/notmnist/notMNIST_large/I.pickle already present - Skipping pickling.\n",
      "./dataset/notmnist/notMNIST_large/J.pickle already present - Skipping pickling.\n",
      "./dataset/notmnist/notMNIST_small/A.pickle already present - Skipping pickling.\n",
      "./dataset/notmnist/notMNIST_small/B.pickle already present - Skipping pickling.\n",
      "./dataset/notmnist/notMNIST_small/C.pickle already present - Skipping pickling.\n",
      "./dataset/notmnist/notMNIST_small/D.pickle already present - Skipping pickling.\n",
      "./dataset/notmnist/notMNIST_small/E.pickle already present - Skipping pickling.\n",
      "./dataset/notmnist/notMNIST_small/F.pickle already present - Skipping pickling.\n",
      "./dataset/notmnist/notMNIST_small/G.pickle already present - Skipping pickling.\n",
      "./dataset/notmnist/notMNIST_small/H.pickle already present - Skipping pickling.\n",
      "./dataset/notmnist/notMNIST_small/I.pickle already present - Skipping pickling.\n",
      "./dataset/notmnist/notMNIST_small/J.pickle already present - Skipping pickling.\n"
     ]
    }
   ],
   "source": [
    "image_size = 28  # Pixel width and height.\n",
    "pixel_depth = 255.0  # Number of levels per pixel.\n",
    "\n",
    "def load_letter(folder, min_num_images):\n",
    "    \"\"\"Load the data for a single letter label.\"\"\"\n",
    "    image_files = os.listdir(folder)\n",
    "    dataset = np.ndarray(shape=(len(image_files), image_size, image_size), dtype=np.float32)\n",
    "    print(folder)\n",
    "    num_images = 0\n",
    "    for image in image_files:\n",
    "        image_file = os.path.join(folder, image)\n",
    "        try:\n",
    "            image_data = (imageio.imread(image_file).astype(float) - pixel_depth / 2) / pixel_depth\n",
    "            if image_data.shape != (image_size, image_size):\n",
    "                raise Exception('Unexpected image shape: %s' % str(image_data.shape))\n",
    "            dataset[num_images, :, :] = image_data\n",
    "            num_images = num_images + 1\n",
    "        except (IOError, ValueError) as e:\n",
    "            print('Could not read:', image_file, ':', e, '- it\\'s ok, skipping.')\n",
    "    \n",
    "    dataset = dataset[0:num_images, :, :]\n",
    "    if num_images < min_num_images:\n",
    "        raise Exception('Many fewer images than expected: %d < %d' % (num_images, min_num_images))\n",
    "    \n",
    "    print('Full dataset tensor:', dataset.shape)\n",
    "    print('Mean:', np.mean(dataset))\n",
    "    print('Standard deviation:', np.std(dataset))\n",
    "    return dataset\n",
    "        \n",
    "def maybe_pickle(data_folders, min_num_images_per_class, force=False):\n",
    "    dataset_names = []\n",
    "    for folder in data_folders:\n",
    "        set_filename = folder + '.pickle'\n",
    "        dataset_names.append(set_filename)\n",
    "        if os.path.exists(set_filename) and not force:\n",
    "            # You may override by setting force=True.\n",
    "            print('%s already present - Skipping pickling.' % set_filename)\n",
    "        else:\n",
    "            print('Pickling %s.' % set_filename)\n",
    "            dataset = load_letter(folder, min_num_images_per_class)\n",
    "            saveAsPickle(dataset, set_filename)\n",
    "    return dataset_names\n",
    "\n",
    "train_datasets = maybe_pickle(train_folders, 45000)\n",
    "test_datasets = maybe_pickle(test_folders, 1800)"
   ]
  },
  {
   "cell_type": "code",
   "execution_count": 7,
   "metadata": {},
   "outputs": [
    {
     "name": "stdout",
     "output_type": "stream",
     "text": [
      "Displaying pickles from train dataset\n"
     ]
    },
    {
     "data": {
      "image/png": "[encoded data removed]",
      "text/plain": [
       "<Figure size 720x720 with 50 Axes>"
      ]
     },
     "metadata": {
      "needs_background": "light"
     },
     "output_type": "display_data"
    },
    {
     "name": "stdout",
     "output_type": "stream",
     "text": [
      "Displaying pickles from test dataset\n"
     ]
    },
    {
     "data": {
      "image/png": "[encoded data removed]",
      "text/plain": [
       "<Figure size 720x720 with 50 Axes>"
      ]
     },
     "metadata": {
      "needs_background": "light"
     },
     "output_type": "display_data"
    }
   ],
   "source": [
    "plt.rcParams['figure.figsize'] = (10.0, 10.0) # set default size of plots\n",
    "labels = ['A', 'B', 'C', 'D', 'E', 'F', 'G', 'H', 'I', 'J']\n",
    "num_labels = len(labels)\n",
    "\n",
    "def display_pickle(dataset, samples_per_label):\n",
    "    for y, label in enumerate(labels):\n",
    "        pickles = loadPickle(dataset[y])\n",
    "        idxs = np.random.choice(pickles.shape[0], samples_per_label, replace=False)\n",
    "        for i, idx in enumerate(idxs):\n",
    "            plt_idx = i * num_labels + y + 1\n",
    "            plt.subplot(samples_per_label, num_labels, plt_idx)\n",
    "            plt.imshow(pickles[idx, :, :])\n",
    "            plt.axis('off')\n",
    "            if i == 0:\n",
    "                plt.title(label)\n",
    "    plt.show()\n",
    "    \n",
    "\n",
    "print ('Displaying pickles from train dataset')\n",
    "display_pickle(train_datasets, 5)\n",
    "print ('Displaying pickles from test dataset')\n",
    "display_pickle(test_datasets, 5)"
   ]
  },
  {
   "cell_type": "code",
   "execution_count": 8,
   "metadata": {},
   "outputs": [
    {
     "name": "stdout",
     "output_type": "stream",
     "text": [
      "Train Dataset\n",
      "Label: A --- num example: 52909\n",
      "Label: B --- num example: 52911\n",
      "Label: C --- num example: 52912\n",
      "Label: D --- num example: 52911\n",
      "Label: E --- num example: 52912\n",
      "Label: F --- num example: 52912\n",
      "Label: G --- num example: 52912\n",
      "Label: H --- num example: 52912\n",
      "Label: I --- num example: 52912\n",
      "Label: J --- num example: 52911\n",
      "Test Dataset\n",
      "Label: A --- num example: 1872\n",
      "Label: B --- num example: 1873\n",
      "Label: C --- num example: 1873\n",
      "Label: D --- num example: 1873\n",
      "Label: E --- num example: 1873\n",
      "Label: F --- num example: 1872\n",
      "Label: G --- num example: 1872\n",
      "Label: H --- num example: 1872\n",
      "Label: I --- num example: 1872\n",
      "Label: J --- num example: 1872\n"
     ]
    }
   ],
   "source": [
    "# Verify if the data is balanced across classes\n",
    "labels = ['A', 'B', 'C', 'D', 'E', 'F', 'G', 'H', 'I', 'J']\n",
    "num_labels = len(labels)\n",
    "\n",
    "def print_num_example(dataset):\n",
    "    for y, label in enumerate(labels):\n",
    "        pickles = loadPickle(dataset[y])\n",
    "        print ('Label: %s --- num example: %d' % (label, pickles.shape[0]))\n",
    "\n",
    "print ('Train Dataset')\n",
    "print_num_example(train_datasets)\n",
    "print ('Test Dataset')\n",
    "print_num_example(test_datasets)"
   ]
  },
  {
   "cell_type": "code",
   "execution_count": 9,
   "metadata": {},
   "outputs": [
    {
     "name": "stdout",
     "output_type": "stream",
     "text": [
      "Datasets already exists\n"
     ]
    }
   ],
   "source": [
    "img_size = image_size\n",
    "new_size = (28, 56)\n",
    "\n",
    "def make_arrays(nb_rows, size):\n",
    "    if nb_rows:\n",
    "        dataset = np.ndarray((nb_rows, size[0], size[1]), dtype=np.float32)\n",
    "        labels = np.ndarray((nb_rows, 6), dtype=np.int32)\n",
    "    else:\n",
    "        dataset, labels = None, None\n",
    "    return dataset, labels\n",
    "\n",
    "def merge_datasets(pickle_files, dataset_size):\n",
    "    dataset, labels = make_arrays(dataset_size, new_size)\n",
    "    pickles = []\n",
    "    for i in range(10):\n",
    "        pickles.append(pickle.load(open(pickle_files[i], 'rb')))\n",
    "\n",
    "    for i in range(dataset_size):\n",
    "        # Generate a random label with max length 5 chars\n",
    "        data_length  = np.random.choice(5, 1)[0] + 1\n",
    "#         data_length = 5\n",
    "#         random_chars = np.random.choice(10, data_length)\n",
    "        random_chars = np.random.choice(9, data_length)\n",
    "        data_label   = np.append(random_chars, np.full(5 - data_length, 0, dtype=int))\n",
    "        data_label   = np.insert(data_label, 0, data_length - 1)\n",
    "        \n",
    "        chars = []\n",
    "        \n",
    "        for char in random_chars:\n",
    "            index = np.random.choice(len(pickles[char]), 1)\n",
    "            chars.append(np.reshape(pickles[char][index, :, :], (img_size, img_size)))\n",
    "\n",
    "        image = np.ndarray((img_size, data_length * img_size))\n",
    "        \n",
    "        for idx, char in enumerate(chars):\n",
    "            image[:, img_size*idx:img_size*(idx+1)] = char\n",
    "\n",
    "        image = skimage.transform.resize(image, new_size)\n",
    "\n",
    "        dataset[i] = image\n",
    "        labels[i]  = data_label\n",
    "    return (dataset, labels)\n",
    "\n",
    "if not os.path.exists(os.path.join(data_root, 'train.pickle')):\n",
    "    train = merge_datasets(train_datasets, 200000)\n",
    "    saveAsPickle(train, os.path.join(data_root, 'train.pickle'))\n",
    "if not os.path.exists(os.path.join(data_root, 'valid.pickle')):\n",
    "    valid = merge_datasets(train_datasets, 5000)\n",
    "    saveAsPickle(valid, os.path.join(data_root, 'valid.pickle'))\n",
    "if not os.path.exists(os.path.join(data_root, 'test.pickle')):\n",
    "    test  = merge_datasets(test_datasets, 10000)\n",
    "    saveAsPickle(test, os.path.join(data_root, 'test.pickle'))\n",
    "else:\n",
    "    print('Datasets already exists')\n",
    "    train = loadPickle(os.path.join(data_root, 'train.pickle'))\n",
    "    valid = loadPickle(os.path.join(data_root, 'valid.pickle'))\n",
    "    test  = loadPickle(os.path.join(data_root, 'test.pickle'))"
   ]
  },
  {
   "cell_type": "code",
   "execution_count": 10,
   "metadata": {},
   "outputs": [],
   "source": [
    "def randomize(dataset, labels):\n",
    "    permutation = np.random.permutation(labels.shape[0])\n",
    "    shuffled_dataset = dataset[permutation,:,:]\n",
    "    shuffled_labels = labels[permutation]\n",
    "    return shuffled_dataset, shuffled_labels\n",
    "\n",
    "train_dataset, train_labels = randomize(train[0], train[1])\n",
    "test_dataset, test_labels = randomize(test[0], test[1])\n",
    "valid_dataset, valid_labels = randomize(valid[0], valid[1])"
   ]
  },
  {
   "cell_type": "code",
   "execution_count": 11,
   "metadata": {},
   "outputs": [
    {
     "name": "stdout",
     "output_type": "stream",
     "text": [
      "Displaying training images\n",
      "[[2 2 8 0 0 0]\n",
      " [2 1 1 1 0 0]\n",
      " [4 6 8 3 1 0]]\n"
     ]
    },
    {
     "data": {
      "image/png": "[encoded data removed]",
      "text/plain": [
       "<Figure size 720x720 with 3 Axes>"
      ]
     },
     "metadata": {
      "needs_background": "light"
     },
     "output_type": "display_data"
    },
    {
     "name": "stdout",
     "output_type": "stream",
     "text": [
      "Displaying test images\n",
      "[[1 5 2 0 0 0]\n",
      " [1 2 0 0 0 0]\n",
      " [0 7 0 0 0 0]]\n"
     ]
    },
    {
     "data": {
      "image/png": "[encoded data removed]",
      "text/plain": [
       "<Figure size 720x720 with 3 Axes>"
      ]
     },
     "metadata": {
      "needs_background": "light"
     },
     "output_type": "display_data"
    },
    {
     "name": "stdout",
     "output_type": "stream",
     "text": [
      "Displaying validation images\n",
      "[[0 0 0 0 0 0]\n",
      " [1 0 5 0 0 0]\n",
      " [1 2 8 0 0 0]]\n"
     ]
    },
    {
     "data": {
      "image/png": "[encoded data removed]",
      "text/plain": [
       "<Figure size 720x720 with 3 Axes>"
      ]
     },
     "metadata": {
      "needs_background": "light"
     },
     "output_type": "display_data"
    }
   ],
   "source": [
    "def display_dataset(dataset, labels, samples_per_label):\n",
    "    idxs = np.random.choice(dataset.shape[0], samples_per_label, replace=False)\n",
    "    for i, idx in enumerate(idxs):\n",
    "        plt_idx = i + 1\n",
    "        plt.subplot(1, samples_per_label, plt_idx)\n",
    "        plt.imshow(dataset[idx])\n",
    "        plt.axis('off')\n",
    "    print(labels[idxs])\n",
    "    plt.show()\n",
    "    \n",
    "print ('Displaying training images')\n",
    "display_dataset(train_dataset, train_labels, 3)\n",
    "print ('Displaying test images')\n",
    "display_dataset(test_dataset, test_labels, 3)\n",
    "print ('Displaying validation images')\n",
    "display_dataset(valid_dataset, valid_labels, 3)"
   ]
  },
  {
   "cell_type": "code",
   "execution_count": 12,
   "metadata": {},
   "outputs": [
    {
     "name": "stdout",
     "output_type": "stream",
     "text": [
      "Training set (200000, 28, 56, 1) (200000, 5) (200000, 5, 10)\n",
      "Validation set (5000, 28, 56, 1) (5000, 5) (5000, 5, 10)\n",
      "Test set (10000, 28, 56, 1) (10000, 5) (10000, 5, 10)\n"
     ]
    }
   ],
   "source": [
    "new_size = (28, 56)\n",
    "num_labels = 10\n",
    "num_channels = 1 # grayscale\n",
    "\n",
    "import numpy as np\n",
    "\n",
    "def reformat(dataset, labels):\n",
    "    dataset = dataset.reshape((-1, new_size[0], new_size[1], num_channels)).astype(np.float32)\n",
    "    length_labels = np.eye(5)[labels[:, 0]]\n",
    "    labels = np.eye(10)[labels[:, 1:]]\n",
    "    \n",
    "    return dataset, length_labels, labels\n",
    "\n",
    "train_dataset, train_length, train_labels = reformat(train_dataset, train_labels)\n",
    "valid_dataset, valid_length, valid_labels = reformat(valid_dataset, valid_labels)\n",
    "test_dataset, test_length, test_labels = reformat(test_dataset, test_labels)\n",
    "\n",
    "print('Training set', train_dataset.shape, train_length.shape, train_labels.shape)\n",
    "print('Validation set', valid_dataset.shape, valid_length.shape, valid_labels.shape)\n",
    "print('Test set', test_dataset.shape, test_length.shape, test_labels.shape)"
   ]
  },
  {
   "cell_type": "code",
   "execution_count": 13,
   "metadata": {},
   "outputs": [],
   "source": [
    "def accuracy_labels(predictions, pmasked, labels, lmasked, masks, labels_length):\n",
    "    predictions = np.transpose(predictions, (1, 0, 2))\n",
    "    correct = np.multiply(np.argmax(predictions, 2) == np.argmax(labels, 2), np.transpose(masks))\n",
    "    global_accuracy = np.mean(np.sum(correct, 1) == np.argmax(labels_length, 1) + 1) * 100\n",
    "    correct_masked = [np.mean(np.argmax(pmasked[i], 1) == np.argmax(lmasked[i], 1)) * 100 for i in range(len(pmasked))]\n",
    "    return [global_accuracy, correct_masked]\n",
    "\n",
    "def accuracy_length(predictions, labels_length):\n",
    "    return (100.0 * np.sum(np.argmax(predictions, 1) == np.argmax(labels_length, 1), 0) / predictions.shape[0])"
   ]
  },
  {
   "cell_type": "code",
   "execution_count": null,
   "metadata": {},
   "outputs": [],
   "source": [
    "def accuracy_labels(predictions, labels):\n",
    "    predictions = np.transpose(predictions, (1, 0, 2))\n",
    "    correct = np.multiply(np.argmax(predictions, 2) == np.argmax(labels, 2), np.transpose(masks))\n",
    "    global_accuracy = np.mean(np.sum(correct, 1) == np.argmax(labels_length, 1) + 1) * 100\n",
    "    correct_masked = [np.mean(np.argmax(pmasked[i], 1) == np.argmax(lmasked[i], 1)) * 100 for i in range(len(pmasked))]\n",
    "    return [global_accuracy, correct_masked]\n",
    "\n",
    "def accuracy_length(predictions, labels_length):\n",
    "    return (100.0 * np.sum(np.argmax(predictions, 1) == np.argmax(labels_length, 1), 0) / predictions.shape[0])"
   ]
  },
  {
   "cell_type": "markdown",
   "metadata": {},
   "source": [
    "## Network"
   ]
  },
  {
   "cell_type": "code",
   "execution_count": null,
   "metadata": {},
   "outputs": [],
   "source": [
    "batch_size = 32\n",
    "patch_size = 5\n",
    "depth = 32\n",
    "num_hidden = 64\n",
    "image_size = (28, 56)\n",
    "num_outputs = 5\n",
    "\n",
    "graph = tf.Graph()\n",
    "\n",
    "with graph.as_default():\n",
    "\n",
    "    # Input data.\n",
    "    tf_data     = tf.placeholder(tf.float32, shape=(None, image_size[0], image_size[1], num_channels))\n",
    "    tf_labels   = tf.placeholder(tf.float32, shape=(None, num_outputs, num_labels))\n",
    "    tf_length   = tf.placeholder(tf.float32, shape=(None, num_outputs))\n",
    "    tf_training = tf.placeholder(tf.bool)\n",
    "\n",
    "    # Variables.\n",
    "    ## First convolutional layer\n",
    "    conv1_weights = tf.Variable(tf.truncated_normal([patch_size, patch_size, num_channels, depth], stddev=0.1))\n",
    "    conv1_biases  = tf.Variable(tf.zeros([depth]))\n",
    "    \n",
    "    ## Second convolutional layer\n",
    "    conv2_weights = tf.Variable(tf.truncated_normal([patch_size, patch_size, depth, depth], stddev=0.1))\n",
    "    conv2_biases  = tf.Variable(tf.constant(1.0, shape=[depth]))\n",
    "    \n",
    "    ## fully connected layer\n",
    "    fc1_weights = tf.Variable(tf.truncated_normal(\n",
    "        [image_size[0] // 4 * image_size[1] // 4 * depth, num_hidden], stddev=0.1))\n",
    "    fc1_biases  = tf.Variable(tf.constant(1.0, shape=[num_hidden]))\n",
    "    \n",
    "    ## softmax\n",
    "    softmax1_weights = tf.Variable(tf.truncated_normal([num_hidden, num_labels], stddev=0.1))\n",
    "    softmax1_biases  = tf.Variable(tf.constant(1.0, shape=[num_labels]))\n",
    "    \n",
    "    softmax2_weights = tf.Variable(tf.truncated_normal([num_hidden, num_labels], stddev=0.1))\n",
    "    softmax2_biases  = tf.Variable(tf.constant(1.0, shape=[num_labels]))\n",
    "    \n",
    "    softmax3_weights = tf.Variable(tf.truncated_normal([num_hidden, num_labels], stddev=0.1))\n",
    "    softmax3_biases  = tf.Variable(tf.constant(1.0, shape=[num_labels]))\n",
    "    \n",
    "    softmax4_weights = tf.Variable(tf.truncated_normal([num_hidden, num_labels], stddev=0.1))\n",
    "    softmax4_biases  = tf.Variable(tf.constant(1.0, shape=[num_labels]))\n",
    "    \n",
    "    softmax5_weights = tf.Variable(tf.truncated_normal([num_hidden, num_labels], stddev=0.1))\n",
    "    softmax5_biases  = tf.Variable(tf.constant(1.0, shape=[num_labels]))\n",
    "  \n",
    "    # Model.\n",
    "    def model(data):\n",
    "        # first conv\n",
    "        conv   = tf.nn.conv2d(data, conv1_weights, [1, 1, 1, 1], padding='SAME')\n",
    "        conv   = tf.nn.relu(conv + conv1_biases)\n",
    "        hidden = tf.nn.max_pool(conv, ksize=[1, 2, 2, 1], strides=[1, 2, 2, 1], padding='SAME')\n",
    "        \n",
    "        # second conv\n",
    "        conv   = tf.nn.conv2d(hidden, conv2_weights, [1, 1, 1, 1], padding='SAME')\n",
    "        conv   = tf.nn.relu(conv + conv2_biases)\n",
    "        hidden = tf.nn.max_pool(conv, ksize=[1, 2, 2, 1], strides=[1, 2, 2, 1], padding='SAME')\n",
    "        \n",
    "        # flatten\n",
    "        shape   = hidden.get_shape().as_list()\n",
    "        reshape = tf.reshape(hidden, [-1, shape[1] * shape[2] * shape[3]])\n",
    "        \n",
    "        # fc\n",
    "        hidden  = tf.nn.relu(tf.matmul(reshape, fc1_weights) + fc1_biases)\n",
    "        \n",
    "        # classifiers\n",
    "        classifier1 = tf.matmul(hidden, softmax1_weights) + softmax1_biases\n",
    "        classifier2 = tf.matmul(hidden, softmax2_weights) + softmax2_biases\n",
    "        classifier3 = tf.matmul(hidden, softmax3_weights) + softmax3_biases\n",
    "        classifier4 = tf.matmul(hidden, softmax4_weights) + softmax4_biases\n",
    "        classifier5 = tf.matmul(hidden, softmax5_weights) + softmax5_biases\n",
    "        \n",
    "        return [classifier1, classifier2, classifier3, classifier4, classifier5]\n",
    "  \n",
    "    # Training computation.\n",
    "    logits = model(tf_data)\n",
    "\n",
    "    total_loss = 0\n",
    "    for i in range(0, len(logits)):\n",
    "        loss = tf.reduce_mean(tf.nn.softmax_cross_entropy_with_logits_v2(labels=tf_labels[i], logits=logits[i]))\n",
    "        tf.summary.scalar(f'loss_{i}', loss)\n",
    "        total_loss += loss\n",
    "\n",
    "    tf.summary.scalar(f'total_loss', total_loss)\n",
    "    merged  = tf.summary.merge_all()\n",
    "\n",
    "    # Optimizer.\n",
    "    optimizer = tf.cond(tf_training, lambda: tf.train.GradientDescentOptimizer(0.05).minimize(total_loss), lambda: False)\n",
    "  \n",
    "    # Predictions for the training, validation, and test data.\n",
    "    def prediction(logits):\n",
    "        prediction = [tf.nn.softmax(logit) for logit in logits]\n",
    "        return tf.stack(prediction)\n",
    "\n",
    "#     predictions = prediction(logits_length, logits)"
   ]
  },
  {
   "cell_type": "code",
   "execution_count": 41,
   "metadata": {},
   "outputs": [
    {
     "name": "stderr",
     "output_type": "stream",
     "text": [
      "/Users/brunonishimoto/anaconda3/envs/udacity/lib/python3.6/site-packages/tensorflow/python/ops/gradients_impl.py:108: UserWarning: Converting sparse IndexedSlices to a dense Tensor of unknown shape. This may consume a large amount of memory.\n",
      "  \"Converting sparse IndexedSlices to a dense Tensor of unknown shape. \"\n"
     ]
    }
   ],
   "source": [
    "# batch_size = 32\n",
    "# patch_size = 5\n",
    "# depth = 32\n",
    "# num_hidden = 64\n",
    "# image_size = (28, 56)\n",
    "# num_outputs = 5\n",
    "\n",
    "# graph = tf.Graph()\n",
    "\n",
    "# with graph.as_default():\n",
    "\n",
    "#     # Input data.\n",
    "#     tf_data     = tf.placeholder(tf.float32, shape=(None, image_size[0], image_size[1], num_channels))\n",
    "#     tf_labels   = tf.placeholder(tf.float32, shape=(None, num_outputs, num_labels))\n",
    "#     tf_length   = tf.placeholder(tf.float32, shape=(None, num_outputs))\n",
    "#     tf_training = tf.placeholder(tf.bool)\n",
    "\n",
    "#     # Variables.\n",
    "#     ## First convolutional layer\n",
    "#     conv1_weights = tf.Variable(tf.truncated_normal([patch_size, patch_size, num_channels, depth], stddev=0.1))\n",
    "#     conv1_biases  = tf.Variable(tf.zeros([depth]))\n",
    "    \n",
    "#     ## Second convolutional layer\n",
    "#     conv2_weights = tf.Variable(tf.truncated_normal([patch_size, patch_size, depth, depth], stddev=0.1))\n",
    "#     conv2_biases  = tf.Variable(tf.constant(1.0, shape=[depth]))\n",
    "    \n",
    "#     ## fully connected layer\n",
    "#     fc1_weights = tf.Variable(tf.truncated_normal(\n",
    "#         [image_size[0] // 4 * image_size[1] // 4 * depth, num_hidden], stddev=0.1))\n",
    "#     fc1_biases  = tf.Variable(tf.constant(1.0, shape=[num_hidden]))\n",
    "    \n",
    "#     ## softmax\n",
    "#     softmax0_weights = tf.Variable(tf.truncated_normal([num_hidden, num_outputs], stddev=0.1))\n",
    "#     softmax0_biases  = tf.Variable(tf.constant(1.0, shape=[num_outputs]))\n",
    "    \n",
    "#     softmax1_weights = tf.Variable(tf.truncated_normal([num_hidden, num_labels], stddev=0.1))\n",
    "#     softmax1_biases  = tf.Variable(tf.constant(1.0, shape=[num_labels]))\n",
    "    \n",
    "#     softmax2_weights = tf.Variable(tf.truncated_normal([num_hidden, num_labels], stddev=0.1))\n",
    "#     softmax2_biases  = tf.Variable(tf.constant(1.0, shape=[num_labels]))\n",
    "    \n",
    "#     softmax3_weights = tf.Variable(tf.truncated_normal([num_hidden, num_labels], stddev=0.1))\n",
    "#     softmax3_biases  = tf.Variable(tf.constant(1.0, shape=[num_labels]))\n",
    "    \n",
    "#     softmax4_weights = tf.Variable(tf.truncated_normal([num_hidden, num_labels], stddev=0.1))\n",
    "#     softmax4_biases  = tf.Variable(tf.constant(1.0, shape=[num_labels]))\n",
    "    \n",
    "#     softmax5_weights = tf.Variable(tf.truncated_normal([num_hidden, num_labels], stddev=0.1))\n",
    "#     softmax5_biases  = tf.Variable(tf.constant(1.0, shape=[num_labels]))\n",
    "  \n",
    "#     # Model.\n",
    "#     def model(data):\n",
    "#         # first conv\n",
    "#         conv   = tf.nn.conv2d(data, conv1_weights, [1, 1, 1, 1], padding='SAME')\n",
    "#         conv   = tf.nn.relu(conv + conv1_biases)\n",
    "#         hidden = tf.nn.max_pool(conv, ksize=[1, 2, 2, 1], strides=[1, 2, 2, 1], padding='SAME')\n",
    "        \n",
    "#         # second conv\n",
    "#         conv   = tf.nn.conv2d(hidden, conv2_weights, [1, 1, 1, 1], padding='SAME')\n",
    "#         conv   = tf.nn.relu(conv + conv2_biases)\n",
    "#         hidden = tf.nn.max_pool(conv, ksize=[1, 2, 2, 1], strides=[1, 2, 2, 1], padding='SAME')\n",
    "        \n",
    "#         # flatten\n",
    "#         shape   = hidden.get_shape().as_list()\n",
    "#         reshape = tf.reshape(hidden, [-1, shape[1] * shape[2] * shape[3]])\n",
    "        \n",
    "#         # fc\n",
    "#         hidden  = tf.nn.relu(tf.matmul(reshape, fc1_weights) + fc1_biases)\n",
    "        \n",
    "#         # classifiers\n",
    "#         classifier0 = tf.matmul(hidden, softmax0_weights) + softmax0_biases\n",
    "#         classifier1 = tf.matmul(hidden, softmax1_weights) + softmax1_biases\n",
    "#         classifier2 = tf.matmul(hidden, softmax2_weights) + softmax2_biases\n",
    "#         classifier3 = tf.matmul(hidden, softmax3_weights) + softmax3_biases\n",
    "#         classifier4 = tf.matmul(hidden, softmax4_weights) + softmax4_biases\n",
    "#         classifier5 = tf.matmul(hidden, softmax5_weights) + softmax5_biases\n",
    "        \n",
    "#         return classifier0, [classifier1, classifier2, classifier3, classifier4, classifier5]\n",
    "  \n",
    "#     # Training computation.\n",
    "#     logits_length, logits = model(tf_data)\n",
    "    \n",
    "#     total_loss = tf.reduce_mean(tf.nn.softmax_cross_entropy_with_logits_v2(\n",
    "#             labels=tf_length, logits=logits_length))\n",
    "#     tf.summary.scalar('loss_length', total_loss)\n",
    "    \n",
    "#     # generating a tensor (?,num_labels) where each row contains 1s, 2s, 3s,... Will be used\n",
    "#     fills = tf.stack([tf.fill([tf.shape(tf_data)[0]], i + 1) for i in range(0, num_outputs)])\n",
    "\n",
    "#     masks   = list()   \n",
    "#     dmasked = list()\n",
    "#     lmasked = list()\n",
    "#     for i in range(0, len(logits)):\n",
    "#         # http://stackoverflow.com/questions/34128104/tensorflow-creating-mask-of-varied-lengths\n",
    "#         # get a mask of logits for the first (length - 1) digits\n",
    "#         masks.append(tf.less_equal(fills[i], tf.argmax(tf_length, 1, output_type=tf.int32) + 1))\n",
    "#         dmasked.append(tf.boolean_mask(logits[i], masks[i]))\n",
    "#         lmasked.append(tf.boolean_mask(tf_labels[:, i], masks[i]))\n",
    "#         loss = tf.cond(tf.less(0, tf.shape(lmasked[i])[0]),\n",
    "#                         lambda: tf.reduce_mean(tf.nn.softmax_cross_entropy_with_logits_v2(\n",
    "#                             labels=lmasked[i], logits=dmasked[i])),\n",
    "#                         lambda: tf.constant(0.0))\n",
    "\n",
    "#         tf.summary.scalar(f'loss_{i}', loss)\n",
    "#         total_loss += loss\n",
    "#     masks   = tf.stack(masks)\n",
    "#     tf.summary.scalar(f'total_loss', total_loss)\n",
    "#     merged  = tf.summary.merge_all()\n",
    "\n",
    "#     # Optimizer.\n",
    "#     optimizer = tf.cond(tf_training, lambda: tf.train.GradientDescentOptimizer(0.05).minimize(total_loss), lambda: False)\n",
    "  \n",
    "#     # Predictions for the training, validation, and test data.\n",
    "#     def prediction(length, logits):\n",
    "#         prediction = [tf.nn.softmax(logit) for logit in logits]\n",
    "#         return tf.nn.softmax(length), tf.stack(prediction)\n",
    "    \n",
    "#     def prediction_masked(logits, masks):\n",
    "#         return [tf.nn.softmax(tf.boolean_mask(logits[i], masks[i])) for i in range(0, len(logits))]   \n",
    "    \n",
    "#     length_predictions, predictions = prediction(logits_length, logits)\n",
    "#     pmasked = prediction_masked(logits, masks)\n"
   ]
  },
  {
   "cell_type": "code",
   "execution_count": null,
   "metadata": {},
   "outputs": [],
   "source": [
    "num_steps = 7001\n",
    "\n",
    "with tf.Session(graph=graph) as session:\n",
    "    if not os.path.exists('summaries'):\n",
    "        os.mkdir('summaries')\n",
    "    writer = tf.summary.FileWriter('summaries', session.graph)\n",
    "    \n",
    "    tf.global_variables_initializer().run()\n",
    "    print('Initialized')\n",
    "    for step in range(num_steps):\n",
    "        offset = (step * batch_size) % (train_labels.shape[0] - batch_size)\n",
    "        batch_data = train_dataset[offset:(offset + batch_size), :, :, :]\n",
    "        batch_labels = train_labels[offset:(offset + batch_size), :]\n",
    "        batch_length = train_length[offset:(offset + batch_size)]\n",
    "        feed_dict = {tf_data: batch_data, tf_labels: batch_labels, tf_length: batch_length, tf_training: True}\n",
    "        _, t_loss, t_predictions, summary = session.run(\n",
    "            [optimizer, total_loss, predictions, merged], feed_dict=feed_dict)\n",
    "        writer.add_summary(summary, step)\n",
    "        if (step % 100 == 0):\n",
    "            train_accuracy = accuracy_labels(t_predictions, batch_labels)\n",
    "            train_length_accuracy = accuracy_length(t_length_pred, batch_length)\n",
    "            print(f'step {step}:')\n",
    "            printAccuracies('Minibatch', t_loss, train_length_accuracy, train_accuracy)\n",
    "            feed_dict = {tf_data: valid_dataset, tf_labels: valid_labels, \n",
    "                         tf_length: valid_length, tf_training: False}\n",
    "            v_loss, v_length_pred, v_predictions, v_pmasked, v_masks, v_lmasked, summary = session.run(\n",
    "                [total_loss, length_predictions, predictions, pmasked,\n",
    "                 masks, lmasked, merged], feed_dict=feed_dict)\n",
    "            valid_accuracy = accuracy_labels(v_predictions, v_pmasked, valid_labels, v_lmasked, v_masks, valid_length)\n",
    "            valid_length_accuracy = accuracy_length(v_length_pred, valid_length)\n",
    "            printAccuracies('Validation', v_loss, valid_length_accuracy, valid_accuracy)\n",
    "\n",
    "    feed_dict = {tf_data: test_dataset, tf_labels: test_labels, \n",
    "                 tf_length: test_length, tf_training: False}\n",
    "    test_loss, test_length_pred, test_predictions, test_pmasked, test_masks, test_lmasked = session.run(\n",
    "        [total_loss, length_predictions, predictions, pmasked,\n",
    "         masks, lmasked], feed_dict=feed_dict)\n",
    "    test_accuracy = accuracy_labels(test_predictions, test_pmasked, test_labels, test_lmasked, test_masks, test_length)\n",
    "    test_length_accuracy = accuracy_length(test_length_pred, test_length)\n",
    "    printAccuracies('Test', test_loss, test_length_accuracy, test_accuracy)"
   ]
  },
  {
   "cell_type": "code",
   "execution_count": 42,
   "metadata": {},
   "outputs": [],
   "source": [
    "def printAccuracies(type, loss, length_acc, acc):\n",
    "    print(f'\\t{type} loss: {loss}')\n",
    "    print(f'\\t{type} accuracies: {acc[0]:.2f}')\n",
    "    print(f'\\tLength accuracy: {length_acc:.2f}')\n",
    "    for i in range(len(acc[1])):\n",
    "        print(f'\\tDigit {i}: {acc[1][i]:.2f}')"
   ]
  },
  {
   "cell_type": "code",
   "execution_count": 43,
   "metadata": {},
   "outputs": [
    {
     "name": "stdout",
     "output_type": "stream",
     "text": [
      "Initialized\n",
      "step 0:\n",
      "\tMinibatch loss: 24.641124725341797\n",
      "\tMinibatch accuracies: 0.00\n",
      "\tLength accuracy: 9.38\n",
      "\tDigit 0: 15.62\n",
      "\tDigit 1: 16.67\n",
      "\tDigit 2: 14.29\n",
      "\tDigit 3: 7.69\n",
      "\tDigit 4: 0.00\n",
      "\tValidation loss: 118.7884521484375\n",
      "\tValidation accuracies: 2.30\n",
      "\tLength accuracy: 20.04\n",
      "\tDigit 0: 10.58\n",
      "\tDigit 1: 11.21\n",
      "\tDigit 2: 10.92\n",
      "\tDigit 3: 11.93\n",
      "\tDigit 4: 10.57\n",
      "step 100:\n",
      "\tMinibatch loss: 11.981122970581055\n",
      "\tMinibatch accuracies: 6.25\n",
      "\tLength accuracy: 56.25\n",
      "\tDigit 0: 12.50\n",
      "\tDigit 1: 17.24\n",
      "\tDigit 2: 5.26\n",
      "\tDigit 3: 11.11\n",
      "\tDigit 4: 33.33\n",
      "\tValidation loss: 12.054557800292969\n",
      "\tValidation accuracies: 4.64\n",
      "\tLength accuracy: 52.94\n",
      "\tDigit 0: 15.88\n",
      "\tDigit 1: 15.66\n",
      "\tDigit 2: 12.88\n",
      "\tDigit 3: 17.05\n",
      "\tDigit 4: 21.34\n",
      "step 200:\n",
      "\tMinibatch loss: 9.723179817199707\n",
      "\tMinibatch accuracies: 12.50\n",
      "\tLength accuracy: 78.12\n",
      "\tDigit 0: 31.25\n",
      "\tDigit 1: 14.29\n",
      "\tDigit 2: 10.00\n",
      "\tDigit 3: 16.67\n",
      "\tDigit 4: 83.33\n",
      "\tValidation loss: 10.474936485290527\n",
      "\tValidation accuracies: 10.66\n",
      "\tLength accuracy: 83.60\n",
      "\tDigit 0: 28.52\n",
      "\tDigit 1: 19.98\n",
      "\tDigit 2: 20.42\n",
      "\tDigit 3: 25.97\n",
      "\tDigit 4: 38.38\n",
      "step 300:\n",
      "\tMinibatch loss: 9.00100326538086\n",
      "\tMinibatch accuracies: 21.88\n",
      "\tLength accuracy: 96.88\n",
      "\tDigit 0: 37.50\n",
      "\tDigit 1: 36.00\n",
      "\tDigit 2: 36.84\n",
      "\tDigit 3: 41.67\n",
      "\tDigit 4: 50.00\n",
      "\tValidation loss: 8.964651107788086\n",
      "\tValidation accuracies: 15.44\n",
      "\tLength accuracy: 89.34\n",
      "\tDigit 0: 38.58\n",
      "\tDigit 1: 25.76\n",
      "\tDigit 2: 27.29\n",
      "\tDigit 3: 36.27\n",
      "\tDigit 4: 63.21\n",
      "step 400:\n",
      "\tMinibatch loss: 8.295724868774414\n",
      "\tMinibatch accuracies: 6.25\n",
      "\tLength accuracy: 81.25\n",
      "\tDigit 0: 21.88\n",
      "\tDigit 1: 25.00\n",
      "\tDigit 2: 41.67\n",
      "\tDigit 3: 50.00\n",
      "\tDigit 4: 55.56\n",
      "\tValidation loss: 8.119133949279785\n",
      "\tValidation accuracies: 20.66\n",
      "\tLength accuracy: 91.68\n",
      "\tDigit 0: 47.74\n",
      "\tDigit 1: 34.34\n",
      "\tDigit 2: 32.70\n",
      "\tDigit 3: 44.16\n",
      "\tDigit 4: 63.31\n",
      "step 500:\n",
      "\tMinibatch loss: 8.733949661254883\n",
      "\tMinibatch accuracies: 15.62\n",
      "\tLength accuracy: 90.62\n",
      "\tDigit 0: 50.00\n",
      "\tDigit 1: 37.04\n",
      "\tDigit 2: 27.27\n",
      "\tDigit 3: 50.00\n",
      "\tDigit 4: 55.56\n",
      "\tValidation loss: 7.587122917175293\n",
      "\tValidation accuracies: 21.70\n",
      "\tLength accuracy: 93.84\n",
      "\tDigit 0: 53.66\n",
      "\tDigit 1: 36.04\n",
      "\tDigit 2: 38.91\n",
      "\tDigit 3: 49.88\n",
      "\tDigit 4: 68.39\n",
      "step 600:\n",
      "\tMinibatch loss: 6.221536636352539\n",
      "\tMinibatch accuracies: 34.38\n",
      "\tLength accuracy: 96.88\n",
      "\tDigit 0: 46.88\n",
      "\tDigit 1: 45.00\n",
      "\tDigit 2: 46.15\n",
      "\tDigit 3: 25.00\n",
      "\tDigit 4: 100.00\n",
      "\tValidation loss: 7.122538089752197\n",
      "\tValidation accuracies: 24.66\n",
      "\tLength accuracy: 93.94\n",
      "\tDigit 0: 55.64\n",
      "\tDigit 1: 42.17\n",
      "\tDigit 2: 42.86\n",
      "\tDigit 3: 50.42\n",
      "\tDigit 4: 75.47\n",
      "step 700:\n",
      "\tMinibatch loss: 4.894141674041748\n",
      "\tMinibatch accuracies: 37.50\n",
      "\tLength accuracy: 100.00\n",
      "\tDigit 0: 65.62\n",
      "\tDigit 1: 59.26\n",
      "\tDigit 2: 55.56\n",
      "\tDigit 3: 77.78\n",
      "\tDigit 4: 80.00\n",
      "\tValidation loss: 6.425807476043701\n",
      "\tValidation accuracies: 26.42\n",
      "\tLength accuracy: 96.02\n",
      "\tDigit 0: 59.38\n",
      "\tDigit 1: 46.80\n",
      "\tDigit 2: 46.31\n",
      "\tDigit 3: 61.56\n",
      "\tDigit 4: 74.38\n",
      "step 800:\n",
      "\tMinibatch loss: 7.155270099639893\n",
      "\tMinibatch accuracies: 25.00\n",
      "\tLength accuracy: 90.62\n",
      "\tDigit 0: 56.25\n",
      "\tDigit 1: 53.57\n",
      "\tDigit 2: 45.45\n",
      "\tDigit 3: 54.55\n",
      "\tDigit 4: 60.00\n",
      "\tValidation loss: 6.94352912902832\n",
      "\tValidation accuracies: 24.82\n",
      "\tLength accuracy: 94.22\n",
      "\tDigit 0: 56.34\n",
      "\tDigit 1: 47.72\n",
      "\tDigit 2: 47.21\n",
      "\tDigit 3: 60.03\n",
      "\tDigit 4: 63.01\n",
      "step 900:\n",
      "\tMinibatch loss: 5.376760959625244\n",
      "\tMinibatch accuracies: 34.38\n",
      "\tLength accuracy: 100.00\n",
      "\tDigit 0: 78.12\n",
      "\tDigit 1: 55.56\n",
      "\tDigit 2: 70.00\n",
      "\tDigit 3: 53.85\n",
      "\tDigit 4: 75.00\n",
      "\tValidation loss: 5.792450428009033\n",
      "\tValidation accuracies: 27.82\n",
      "\tLength accuracy: 97.10\n",
      "\tDigit 0: 59.12\n",
      "\tDigit 1: 53.45\n",
      "\tDigit 2: 51.53\n",
      "\tDigit 3: 65.99\n",
      "\tDigit 4: 79.06\n",
      "step 1000:\n",
      "\tMinibatch loss: 6.881344795227051\n",
      "\tMinibatch accuracies: 43.75\n",
      "\tLength accuracy: 100.00\n",
      "\tDigit 0: 71.88\n",
      "\tDigit 1: 57.89\n",
      "\tDigit 2: 47.06\n",
      "\tDigit 3: 57.14\n",
      "\tDigit 4: 55.56\n",
      "\tValidation loss: 5.624856472015381\n",
      "\tValidation accuracies: 31.26\n",
      "\tLength accuracy: 97.04\n",
      "\tDigit 0: 65.16\n",
      "\tDigit 1: 55.98\n",
      "\tDigit 2: 56.41\n",
      "\tDigit 3: 63.73\n",
      "\tDigit 4: 77.67\n",
      "step 1100:\n",
      "\tMinibatch loss: 5.219801902770996\n",
      "\tMinibatch accuracies: 37.50\n",
      "\tLength accuracy: 100.00\n",
      "\tDigit 0: 71.88\n",
      "\tDigit 1: 45.83\n",
      "\tDigit 2: 44.44\n",
      "\tDigit 3: 75.00\n",
      "\tDigit 4: 75.00\n",
      "\tValidation loss: 5.397357940673828\n",
      "\tValidation accuracies: 33.70\n",
      "\tLength accuracy: 97.62\n",
      "\tDigit 0: 67.94\n",
      "\tDigit 1: 56.50\n",
      "\tDigit 2: 60.33\n",
      "\tDigit 3: 68.90\n",
      "\tDigit 4: 77.07\n",
      "step 1200:\n",
      "\tMinibatch loss: 6.8606438636779785\n",
      "\tMinibatch accuracies: 31.25\n",
      "\tLength accuracy: 100.00\n",
      "\tDigit 0: 71.88\n",
      "\tDigit 1: 65.38\n",
      "\tDigit 2: 60.00\n",
      "\tDigit 3: 33.33\n",
      "\tDigit 4: 83.33\n",
      "\tValidation loss: 5.498691082000732\n",
      "\tValidation accuracies: 31.76\n",
      "\tLength accuracy: 97.26\n",
      "\tDigit 0: 67.52\n",
      "\tDigit 1: 55.43\n",
      "\tDigit 2: 58.00\n",
      "\tDigit 3: 68.06\n",
      "\tDigit 4: 75.77\n",
      "step 1300:\n",
      "\tMinibatch loss: 5.549792289733887\n",
      "\tMinibatch accuracies: 31.25\n",
      "\tLength accuracy: 96.88\n",
      "\tDigit 0: 62.50\n",
      "\tDigit 1: 60.71\n",
      "\tDigit 2: 75.00\n",
      "\tDigit 3: 75.00\n",
      "\tDigit 4: 33.33\n",
      "\tValidation loss: 5.579730987548828\n",
      "\tValidation accuracies: 31.20\n",
      "\tLength accuracy: 97.44\n",
      "\tDigit 0: 67.18\n",
      "\tDigit 1: 55.30\n",
      "\tDigit 2: 62.68\n",
      "\tDigit 3: 68.85\n",
      "\tDigit 4: 69.89\n",
      "step 1400:\n",
      "\tMinibatch loss: 4.676980018615723\n",
      "\tMinibatch accuracies: 34.38\n",
      "\tLength accuracy: 100.00\n",
      "\tDigit 0: 75.00\n",
      "\tDigit 1: 71.43\n",
      "\tDigit 2: 75.00\n",
      "\tDigit 3: 64.29\n",
      "\tDigit 4: 66.67\n",
      "\tValidation loss: 4.745967388153076\n",
      "\tValidation accuracies: 37.42\n",
      "\tLength accuracy: 98.02\n",
      "\tDigit 0: 71.06\n",
      "\tDigit 1: 62.33\n",
      "\tDigit 2: 64.94\n",
      "\tDigit 3: 72.40\n",
      "\tDigit 4: 79.56\n",
      "step 1500:\n",
      "\tMinibatch loss: 3.398646116256714\n",
      "\tMinibatch accuracies: 40.62\n",
      "\tLength accuracy: 100.00\n",
      "\tDigit 0: 68.75\n",
      "\tDigit 1: 69.23\n",
      "\tDigit 2: 76.19\n",
      "\tDigit 3: 88.89\n",
      "\tDigit 4: 100.00\n",
      "\tValidation loss: 4.572076320648193\n",
      "\tValidation accuracies: 40.26\n",
      "\tLength accuracy: 98.20\n",
      "\tDigit 0: 72.90\n",
      "\tDigit 1: 65.98\n",
      "\tDigit 2: 66.80\n",
      "\tDigit 3: 73.34\n",
      "\tDigit 4: 80.56\n",
      "step 1600:\n",
      "\tMinibatch loss: 4.306890487670898\n",
      "\tMinibatch accuracies: 43.75\n",
      "\tLength accuracy: 93.75\n",
      "\tDigit 0: 71.88\n",
      "\tDigit 1: 62.50\n",
      "\tDigit 2: 61.90\n",
      "\tDigit 3: 78.57\n",
      "\tDigit 4: 83.33\n",
      "\tValidation loss: 4.622908592224121\n",
      "\tValidation accuracies: 38.98\n",
      "\tLength accuracy: 97.86\n",
      "\tDigit 0: 72.14\n",
      "\tDigit 1: 64.58\n",
      "\tDigit 2: 66.20\n",
      "\tDigit 3: 73.09\n",
      "\tDigit 4: 78.96\n",
      "step 1700:\n",
      "\tMinibatch loss: 4.084925174713135\n",
      "\tMinibatch accuracies: 31.25\n",
      "\tLength accuracy: 96.88\n",
      "\tDigit 0: 68.75\n",
      "\tDigit 1: 65.38\n",
      "\tDigit 2: 73.68\n",
      "\tDigit 3: 73.33\n",
      "\tDigit 4: 77.78\n",
      "\tValidation loss: 4.580287933349609\n",
      "\tValidation accuracies: 39.50\n",
      "\tLength accuracy: 97.32\n",
      "\tDigit 0: 73.18\n",
      "\tDigit 1: 63.68\n",
      "\tDigit 2: 66.53\n",
      "\tDigit 3: 74.47\n",
      "\tDigit 4: 80.56\n",
      "step 1800:\n",
      "\tMinibatch loss: 3.511291742324829\n",
      "\tMinibatch accuracies: 40.62\n",
      "\tLength accuracy: 96.88\n",
      "\tDigit 0: 68.75\n",
      "\tDigit 1: 72.41\n",
      "\tDigit 2: 70.37\n",
      "\tDigit 3: 93.33\n",
      "\tDigit 4: 100.00\n",
      "\tValidation loss: 4.6415629386901855\n",
      "\tValidation accuracies: 40.54\n",
      "\tLength accuracy: 97.60\n",
      "\tDigit 0: 71.80\n",
      "\tDigit 1: 66.08\n",
      "\tDigit 2: 70.25\n",
      "\tDigit 3: 75.06\n",
      "\tDigit 4: 78.46\n",
      "step 1900:\n",
      "\tMinibatch loss: 4.879439830780029\n",
      "\tMinibatch accuracies: 43.75\n",
      "\tLength accuracy: 100.00\n",
      "\tDigit 0: 81.25\n",
      "\tDigit 1: 67.86\n",
      "\tDigit 2: 66.67\n",
      "\tDigit 3: 62.50\n",
      "\tDigit 4: 81.82\n",
      "\tValidation loss: 4.3422532081604\n",
      "\tValidation accuracies: 42.04\n",
      "\tLength accuracy: 98.22\n",
      "\tDigit 0: 73.20\n",
      "\tDigit 1: 67.23\n",
      "\tDigit 2: 71.48\n",
      "\tDigit 3: 75.01\n",
      "\tDigit 4: 81.16\n",
      "step 2000:\n",
      "\tMinibatch loss: 4.538968086242676\n",
      "\tMinibatch accuracies: 34.38\n",
      "\tLength accuracy: 100.00\n",
      "\tDigit 0: 71.88\n",
      "\tDigit 1: 57.69\n",
      "\tDigit 2: 65.00\n",
      "\tDigit 3: 80.00\n",
      "\tDigit 4: 75.00\n",
      "\tValidation loss: 4.37809944152832\n",
      "\tValidation accuracies: 43.42\n",
      "\tLength accuracy: 97.94\n",
      "\tDigit 0: 74.12\n",
      "\tDigit 1: 68.96\n",
      "\tDigit 2: 70.55\n",
      "\tDigit 3: 76.44\n",
      "\tDigit 4: 78.36\n",
      "step 2100:\n",
      "\tMinibatch loss: 3.5137834548950195\n",
      "\tMinibatch accuracies: 40.62\n",
      "\tLength accuracy: 100.00\n",
      "\tDigit 0: 81.25\n",
      "\tDigit 1: 80.00\n",
      "\tDigit 2: 80.95\n",
      "\tDigit 3: 64.71\n",
      "\tDigit 4: 88.89\n",
      "\tValidation loss: 4.156711578369141\n",
      "\tValidation accuracies: 44.06\n",
      "\tLength accuracy: 97.94\n",
      "\tDigit 0: 75.62\n",
      "\tDigit 1: 68.53\n",
      "\tDigit 2: 72.01\n",
      "\tDigit 3: 76.24\n",
      "\tDigit 4: 82.25\n",
      "step 2200:\n",
      "\tMinibatch loss: 5.366387367248535\n",
      "\tMinibatch accuracies: 53.12\n",
      "\tLength accuracy: 96.88\n",
      "\tDigit 0: 87.50\n",
      "\tDigit 1: 64.00\n",
      "\tDigit 2: 73.33\n",
      "\tDigit 3: 60.00\n",
      "\tDigit 4: 60.00\n",
      "\tValidation loss: 4.438143730163574\n",
      "\tValidation accuracies: 42.22\n",
      "\tLength accuracy: 97.90\n",
      "\tDigit 0: 73.08\n",
      "\tDigit 1: 66.11\n",
      "\tDigit 2: 72.14\n",
      "\tDigit 3: 75.51\n",
      "\tDigit 4: 79.56\n",
      "step 2300:\n",
      "\tMinibatch loss: 4.026108741760254\n",
      "\tMinibatch accuracies: 40.62\n",
      "\tLength accuracy: 96.88\n",
      "\tDigit 0: 71.88\n",
      "\tDigit 1: 74.07\n",
      "\tDigit 2: 59.09\n",
      "\tDigit 3: 77.78\n",
      "\tDigit 4: 91.67\n"
     ]
    },
    {
     "name": "stdout",
     "output_type": "stream",
     "text": [
      "\tValidation loss: 4.299139022827148\n",
      "\tValidation accuracies: 43.54\n",
      "\tLength accuracy: 98.50\n",
      "\tDigit 0: 75.00\n",
      "\tDigit 1: 69.28\n",
      "\tDigit 2: 70.85\n",
      "\tDigit 3: 72.84\n",
      "\tDigit 4: 80.26\n",
      "step 2400:\n",
      "\tMinibatch loss: 6.090190887451172\n",
      "\tMinibatch accuracies: 50.00\n",
      "\tLength accuracy: 100.00\n",
      "\tDigit 0: 78.12\n",
      "\tDigit 1: 69.57\n",
      "\tDigit 2: 56.25\n",
      "\tDigit 3: 55.56\n",
      "\tDigit 4: 50.00\n",
      "\tValidation loss: 4.284125328063965\n",
      "\tValidation accuracies: 43.36\n",
      "\tLength accuracy: 97.82\n",
      "\tDigit 0: 74.14\n",
      "\tDigit 1: 67.98\n",
      "\tDigit 2: 72.34\n",
      "\tDigit 3: 74.96\n",
      "\tDigit 4: 79.16\n",
      "step 2500:\n",
      "\tMinibatch loss: 2.921138048171997\n",
      "\tMinibatch accuracies: 53.12\n",
      "\tLength accuracy: 100.00\n",
      "\tDigit 0: 84.38\n",
      "\tDigit 1: 56.00\n",
      "\tDigit 2: 81.25\n",
      "\tDigit 3: 90.00\n",
      "\tDigit 4: 100.00\n",
      "\tValidation loss: 4.181587219238281\n",
      "\tValidation accuracies: 45.68\n",
      "\tLength accuracy: 98.68\n",
      "\tDigit 0: 75.58\n",
      "\tDigit 1: 71.79\n",
      "\tDigit 2: 73.14\n",
      "\tDigit 3: 76.54\n",
      "\tDigit 4: 74.58\n",
      "step 2600:\n",
      "\tMinibatch loss: 3.6353137493133545\n",
      "\tMinibatch accuracies: 50.00\n",
      "\tLength accuracy: 100.00\n",
      "\tDigit 0: 75.00\n",
      "\tDigit 1: 82.14\n",
      "\tDigit 2: 82.61\n",
      "\tDigit 3: 86.67\n",
      "\tDigit 4: 80.00\n",
      "\tValidation loss: 3.8887600898742676\n",
      "\tValidation accuracies: 47.08\n",
      "\tLength accuracy: 98.22\n",
      "\tDigit 0: 76.14\n",
      "\tDigit 1: 71.91\n",
      "\tDigit 2: 74.27\n",
      "\tDigit 3: 78.76\n",
      "\tDigit 4: 81.85\n",
      "step 2700:\n",
      "\tMinibatch loss: 3.262190818786621\n",
      "\tMinibatch accuracies: 50.00\n",
      "\tLength accuracy: 96.88\n",
      "\tDigit 0: 87.50\n",
      "\tDigit 1: 62.96\n",
      "\tDigit 2: 88.00\n",
      "\tDigit 3: 84.21\n",
      "\tDigit 4: 75.00\n",
      "\tValidation loss: 3.9764132499694824\n",
      "\tValidation accuracies: 47.88\n",
      "\tLength accuracy: 98.56\n",
      "\tDigit 0: 77.76\n",
      "\tDigit 1: 72.16\n",
      "\tDigit 2: 75.66\n",
      "\tDigit 3: 77.53\n",
      "\tDigit 4: 79.56\n",
      "step 2800:\n",
      "\tMinibatch loss: 4.843873977661133\n",
      "\tMinibatch accuracies: 28.12\n",
      "\tLength accuracy: 100.00\n",
      "\tDigit 0: 68.75\n",
      "\tDigit 1: 62.07\n",
      "\tDigit 2: 75.00\n",
      "\tDigit 3: 57.89\n",
      "\tDigit 4: 92.86\n",
      "\tValidation loss: 3.9520325660705566\n",
      "\tValidation accuracies: 46.48\n",
      "\tLength accuracy: 98.86\n",
      "\tDigit 0: 76.24\n",
      "\tDigit 1: 72.74\n",
      "\tDigit 2: 74.20\n",
      "\tDigit 3: 74.91\n",
      "\tDigit 4: 82.05\n",
      "step 2900:\n",
      "\tMinibatch loss: 3.7232067584991455\n",
      "\tMinibatch accuracies: 53.12\n",
      "\tLength accuracy: 96.88\n",
      "\tDigit 0: 62.50\n",
      "\tDigit 1: 88.89\n",
      "\tDigit 2: 75.00\n",
      "\tDigit 3: 88.89\n",
      "\tDigit 4: 75.00\n",
      "\tValidation loss: 4.041386127471924\n",
      "\tValidation accuracies: 44.96\n",
      "\tLength accuracy: 98.66\n",
      "\tDigit 0: 76.10\n",
      "\tDigit 1: 70.51\n",
      "\tDigit 2: 72.88\n",
      "\tDigit 3: 77.72\n",
      "\tDigit 4: 80.96\n",
      "step 3000:\n",
      "\tMinibatch loss: 2.8761062622070312\n",
      "\tMinibatch accuracies: 59.38\n",
      "\tLength accuracy: 100.00\n",
      "\tDigit 0: 81.25\n",
      "\tDigit 1: 84.62\n",
      "\tDigit 2: 85.00\n",
      "\tDigit 3: 81.25\n",
      "\tDigit 4: 88.89\n",
      "\tValidation loss: 3.6913506984710693\n",
      "\tValidation accuracies: 48.98\n",
      "\tLength accuracy: 98.74\n",
      "\tDigit 0: 77.72\n",
      "\tDigit 1: 72.96\n",
      "\tDigit 2: 77.99\n",
      "\tDigit 3: 79.74\n",
      "\tDigit 4: 82.95\n",
      "step 3100:\n",
      "\tMinibatch loss: 3.9942069053649902\n",
      "\tMinibatch accuracies: 31.25\n",
      "\tLength accuracy: 100.00\n",
      "\tDigit 0: 68.75\n",
      "\tDigit 1: 77.78\n",
      "\tDigit 2: 60.00\n",
      "\tDigit 3: 80.00\n",
      "\tDigit 4: 100.00\n",
      "\tValidation loss: 3.8515748977661133\n",
      "\tValidation accuracies: 47.98\n",
      "\tLength accuracy: 98.66\n",
      "\tDigit 0: 77.64\n",
      "\tDigit 1: 73.29\n",
      "\tDigit 2: 74.87\n",
      "\tDigit 3: 77.48\n",
      "\tDigit 4: 81.85\n",
      "step 3200:\n",
      "\tMinibatch loss: 4.599308967590332\n",
      "\tMinibatch accuracies: 37.50\n",
      "\tLength accuracy: 96.88\n",
      "\tDigit 0: 84.38\n",
      "\tDigit 1: 61.54\n",
      "\tDigit 2: 52.38\n",
      "\tDigit 3: 50.00\n",
      "\tDigit 4: 83.33\n",
      "\tValidation loss: 4.01088285446167\n",
      "\tValidation accuracies: 47.00\n",
      "\tLength accuracy: 98.16\n",
      "\tDigit 0: 76.58\n",
      "\tDigit 1: 72.26\n",
      "\tDigit 2: 74.17\n",
      "\tDigit 3: 78.51\n",
      "\tDigit 4: 79.66\n",
      "step 3300:\n",
      "\tMinibatch loss: 4.11403226852417\n",
      "\tMinibatch accuracies: 50.00\n",
      "\tLength accuracy: 96.88\n",
      "\tDigit 0: 81.25\n",
      "\tDigit 1: 76.92\n",
      "\tDigit 2: 88.24\n",
      "\tDigit 3: 63.64\n",
      "\tDigit 4: 83.33\n",
      "\tValidation loss: 3.7616400718688965\n",
      "\tValidation accuracies: 48.46\n",
      "\tLength accuracy: 98.88\n",
      "\tDigit 0: 78.08\n",
      "\tDigit 1: 73.59\n",
      "\tDigit 2: 76.36\n",
      "\tDigit 3: 78.91\n",
      "\tDigit 4: 80.16\n",
      "step 3400:\n",
      "\tMinibatch loss: 2.0049586296081543\n",
      "\tMinibatch accuracies: 56.25\n",
      "\tLength accuracy: 100.00\n",
      "\tDigit 0: 75.00\n",
      "\tDigit 1: 81.48\n",
      "\tDigit 2: 88.89\n",
      "\tDigit 3: 100.00\n",
      "\tDigit 4: 100.00\n",
      "\tValidation loss: 3.765620708465576\n",
      "\tValidation accuracies: 48.78\n",
      "\tLength accuracy: 98.86\n",
      "\tDigit 0: 77.24\n",
      "\tDigit 1: 73.11\n",
      "\tDigit 2: 76.99\n",
      "\tDigit 3: 79.65\n",
      "\tDigit 4: 79.86\n",
      "step 3500:\n",
      "\tMinibatch loss: 2.548828125\n",
      "\tMinibatch accuracies: 68.75\n",
      "\tLength accuracy: 100.00\n",
      "\tDigit 0: 81.25\n",
      "\tDigit 1: 96.55\n",
      "\tDigit 2: 90.48\n",
      "\tDigit 3: 83.33\n",
      "\tDigit 4: 87.50\n",
      "\tValidation loss: 3.705963373184204\n",
      "\tValidation accuracies: 49.60\n",
      "\tLength accuracy: 99.00\n",
      "\tDigit 0: 77.52\n",
      "\tDigit 1: 74.89\n",
      "\tDigit 2: 77.19\n",
      "\tDigit 3: 77.92\n",
      "\tDigit 4: 83.15\n",
      "step 3600:\n",
      "\tMinibatch loss: 3.406691789627075\n",
      "\tMinibatch accuracies: 46.88\n",
      "\tLength accuracy: 100.00\n",
      "\tDigit 0: 75.00\n",
      "\tDigit 1: 85.71\n",
      "\tDigit 2: 77.27\n",
      "\tDigit 3: 92.31\n",
      "\tDigit 4: 83.33\n",
      "\tValidation loss: 3.5822296142578125\n",
      "\tValidation accuracies: 50.20\n",
      "\tLength accuracy: 98.48\n",
      "\tDigit 0: 79.12\n",
      "\tDigit 1: 74.56\n",
      "\tDigit 2: 77.46\n",
      "\tDigit 3: 78.91\n",
      "\tDigit 4: 83.55\n",
      "step 3700:\n",
      "\tMinibatch loss: 3.7987074851989746\n",
      "\tMinibatch accuracies: 50.00\n",
      "\tLength accuracy: 96.88\n",
      "\tDigit 0: 75.00\n",
      "\tDigit 1: 75.00\n",
      "\tDigit 2: 68.75\n",
      "\tDigit 3: 100.00\n",
      "\tDigit 4: 80.00\n",
      "\tValidation loss: 3.5656745433807373\n",
      "\tValidation accuracies: 51.64\n",
      "\tLength accuracy: 98.88\n",
      "\tDigit 0: 79.48\n",
      "\tDigit 1: 75.69\n",
      "\tDigit 2: 78.59\n",
      "\tDigit 3: 79.99\n",
      "\tDigit 4: 83.05\n",
      "step 3800:\n",
      "\tMinibatch loss: 4.656739711761475\n",
      "\tMinibatch accuracies: 43.75\n",
      "\tLength accuracy: 100.00\n",
      "\tDigit 0: 78.12\n",
      "\tDigit 1: 74.07\n",
      "\tDigit 2: 73.68\n",
      "\tDigit 3: 69.23\n",
      "\tDigit 4: 80.00\n",
      "\tValidation loss: 3.8129467964172363\n",
      "\tValidation accuracies: 48.02\n",
      "\tLength accuracy: 98.50\n",
      "\tDigit 0: 77.30\n",
      "\tDigit 1: 73.16\n",
      "\tDigit 2: 75.40\n",
      "\tDigit 3: 78.51\n",
      "\tDigit 4: 82.15\n",
      "step 3900:\n",
      "\tMinibatch loss: 4.534161567687988\n",
      "\tMinibatch accuracies: 34.38\n",
      "\tLength accuracy: 100.00\n",
      "\tDigit 0: 71.88\n",
      "\tDigit 1: 42.86\n",
      "\tDigit 2: 73.33\n",
      "\tDigit 3: 63.64\n",
      "\tDigit 4: 100.00\n",
      "\tValidation loss: 3.544522762298584\n",
      "\tValidation accuracies: 51.38\n",
      "\tLength accuracy: 98.76\n",
      "\tDigit 0: 79.44\n",
      "\tDigit 1: 74.56\n",
      "\tDigit 2: 78.12\n",
      "\tDigit 3: 80.19\n",
      "\tDigit 4: 83.15\n",
      "step 4000:\n",
      "\tMinibatch loss: 2.7485389709472656\n",
      "\tMinibatch accuracies: 68.75\n",
      "\tLength accuracy: 100.00\n",
      "\tDigit 0: 87.50\n",
      "\tDigit 1: 86.36\n",
      "\tDigit 2: 78.57\n",
      "\tDigit 3: 88.89\n",
      "\tDigit 4: 100.00\n",
      "\tValidation loss: 3.637814521789551\n",
      "\tValidation accuracies: 49.72\n",
      "\tLength accuracy: 98.96\n",
      "\tDigit 0: 78.36\n",
      "\tDigit 1: 74.09\n",
      "\tDigit 2: 77.26\n",
      "\tDigit 3: 78.27\n",
      "\tDigit 4: 84.85\n",
      "step 4100:\n",
      "\tMinibatch loss: 3.3657712936401367\n",
      "\tMinibatch accuracies: 56.25\n",
      "\tLength accuracy: 96.88\n",
      "\tDigit 0: 81.25\n",
      "\tDigit 1: 78.57\n",
      "\tDigit 2: 86.96\n",
      "\tDigit 3: 87.50\n",
      "\tDigit 4: 88.89\n",
      "\tValidation loss: 3.4378530979156494\n",
      "\tValidation accuracies: 51.52\n",
      "\tLength accuracy: 98.84\n",
      "\tDigit 0: 79.32\n",
      "\tDigit 1: 75.34\n",
      "\tDigit 2: 79.08\n",
      "\tDigit 3: 81.27\n",
      "\tDigit 4: 84.25\n",
      "step 4200:\n",
      "\tMinibatch loss: 3.5141360759735107\n",
      "\tMinibatch accuracies: 59.38\n",
      "\tLength accuracy: 100.00\n",
      "\tDigit 0: 84.38\n",
      "\tDigit 1: 85.19\n",
      "\tDigit 2: 80.95\n",
      "\tDigit 3: 69.23\n",
      "\tDigit 4: 80.00\n",
      "\tValidation loss: 3.429619789123535\n",
      "\tValidation accuracies: 51.28\n",
      "\tLength accuracy: 98.96\n",
      "\tDigit 0: 79.98\n",
      "\tDigit 1: 75.61\n",
      "\tDigit 2: 78.85\n",
      "\tDigit 3: 79.50\n",
      "\tDigit 4: 84.95\n",
      "step 4300:\n",
      "\tMinibatch loss: 4.352638244628906\n",
      "\tMinibatch accuracies: 53.12\n",
      "\tLength accuracy: 96.88\n",
      "\tDigit 0: 71.88\n",
      "\tDigit 1: 79.17\n",
      "\tDigit 2: 76.47\n",
      "\tDigit 3: 50.00\n",
      "\tDigit 4: 77.78\n",
      "\tValidation loss: 3.5688421726226807\n",
      "\tValidation accuracies: 50.68\n",
      "\tLength accuracy: 98.68\n",
      "\tDigit 0: 78.64\n",
      "\tDigit 1: 74.51\n",
      "\tDigit 2: 77.99\n",
      "\tDigit 3: 80.38\n",
      "\tDigit 4: 83.75\n",
      "step 4400:\n",
      "\tMinibatch loss: 4.2245354652404785\n",
      "\tMinibatch accuracies: 56.25\n",
      "\tLength accuracy: 100.00\n",
      "\tDigit 0: 71.88\n",
      "\tDigit 1: 82.61\n",
      "\tDigit 2: 92.31\n",
      "\tDigit 3: 80.00\n",
      "\tDigit 4: 80.00\n",
      "\tValidation loss: 3.2938497066497803\n",
      "\tValidation accuracies: 53.16\n",
      "\tLength accuracy: 99.14\n",
      "\tDigit 0: 80.42\n",
      "\tDigit 1: 76.86\n",
      "\tDigit 2: 79.32\n",
      "\tDigit 3: 81.96\n",
      "\tDigit 4: 84.95\n",
      "step 4500:\n",
      "\tMinibatch loss: 2.842524528503418\n",
      "\tMinibatch accuracies: 37.50\n",
      "\tLength accuracy: 100.00\n",
      "\tDigit 0: 62.50\n",
      "\tDigit 1: 68.00\n",
      "\tDigit 2: 84.21\n",
      "\tDigit 3: 91.67\n",
      "\tDigit 4: 100.00\n",
      "\tValidation loss: 3.4580483436584473\n",
      "\tValidation accuracies: 51.66\n",
      "\tLength accuracy: 99.30\n",
      "\tDigit 0: 80.22\n",
      "\tDigit 1: 75.91\n",
      "\tDigit 2: 77.42\n",
      "\tDigit 3: 80.73\n",
      "\tDigit 4: 82.35\n",
      "step 4600:\n",
      "\tMinibatch loss: 4.002037525177002\n",
      "\tMinibatch accuracies: 53.12\n",
      "\tLength accuracy: 100.00\n",
      "\tDigit 0: 81.25\n",
      "\tDigit 1: 80.00\n",
      "\tDigit 2: 75.00\n",
      "\tDigit 3: 81.25\n",
      "\tDigit 4: 76.92\n",
      "\tValidation loss: 3.399144411087036\n",
      "\tValidation accuracies: 53.00\n",
      "\tLength accuracy: 99.10\n",
      "\tDigit 0: 80.10\n",
      "\tDigit 1: 76.84\n",
      "\tDigit 2: 78.42\n",
      "\tDigit 3: 81.17\n",
      "\tDigit 4: 84.85\n"
     ]
    },
    {
     "name": "stdout",
     "output_type": "stream",
     "text": [
      "step 4700:\n",
      "\tMinibatch loss: 4.257360458374023\n",
      "\tMinibatch accuracies: 53.12\n",
      "\tLength accuracy: 96.88\n",
      "\tDigit 0: 78.12\n",
      "\tDigit 1: 81.48\n",
      "\tDigit 2: 76.19\n",
      "\tDigit 3: 81.82\n",
      "\tDigit 4: 50.00\n",
      "\tValidation loss: 3.648374319076538\n",
      "\tValidation accuracies: 49.00\n",
      "\tLength accuracy: 98.00\n",
      "\tDigit 0: 78.18\n",
      "\tDigit 1: 73.36\n",
      "\tDigit 2: 76.79\n",
      "\tDigit 3: 81.27\n",
      "\tDigit 4: 82.65\n",
      "step 4800:\n",
      "\tMinibatch loss: 3.6204144954681396\n",
      "\tMinibatch accuracies: 62.50\n",
      "\tLength accuracy: 100.00\n",
      "\tDigit 0: 84.38\n",
      "\tDigit 1: 68.18\n",
      "\tDigit 2: 72.22\n",
      "\tDigit 3: 71.43\n",
      "\tDigit 4: 100.00\n",
      "\tValidation loss: 3.5353336334228516\n",
      "\tValidation accuracies: 52.52\n",
      "\tLength accuracy: 98.70\n",
      "\tDigit 0: 79.70\n",
      "\tDigit 1: 76.16\n",
      "\tDigit 2: 78.25\n",
      "\tDigit 3: 81.22\n",
      "\tDigit 4: 81.95\n",
      "step 4900:\n",
      "\tMinibatch loss: 2.907301425933838\n",
      "\tMinibatch accuracies: 59.38\n",
      "\tLength accuracy: 100.00\n",
      "\tDigit 0: 75.00\n",
      "\tDigit 1: 80.77\n",
      "\tDigit 2: 80.95\n",
      "\tDigit 3: 85.71\n",
      "\tDigit 4: 83.33\n",
      "\tValidation loss: 3.3200154304504395\n",
      "\tValidation accuracies: 54.16\n",
      "\tLength accuracy: 99.04\n",
      "\tDigit 0: 81.48\n",
      "\tDigit 1: 77.61\n",
      "\tDigit 2: 78.52\n",
      "\tDigit 3: 81.91\n",
      "\tDigit 4: 83.65\n",
      "step 5000:\n",
      "\tMinibatch loss: 4.118873596191406\n",
      "\tMinibatch accuracies: 43.75\n",
      "\tLength accuracy: 100.00\n",
      "\tDigit 0: 78.12\n",
      "\tDigit 1: 64.00\n",
      "\tDigit 2: 77.27\n",
      "\tDigit 3: 76.47\n",
      "\tDigit 4: 66.67\n",
      "\tValidation loss: 3.351503849029541\n",
      "\tValidation accuracies: 52.30\n",
      "\tLength accuracy: 99.14\n",
      "\tDigit 0: 79.86\n",
      "\tDigit 1: 76.01\n",
      "\tDigit 2: 79.25\n",
      "\tDigit 3: 81.17\n",
      "\tDigit 4: 82.05\n",
      "step 5100:\n",
      "\tMinibatch loss: 3.8349733352661133\n",
      "\tMinibatch accuracies: 56.25\n",
      "\tLength accuracy: 100.00\n",
      "\tDigit 0: 81.25\n",
      "\tDigit 1: 75.00\n",
      "\tDigit 2: 77.27\n",
      "\tDigit 3: 87.50\n",
      "\tDigit 4: 80.00\n",
      "\tValidation loss: 3.287893295288086\n",
      "\tValidation accuracies: 54.10\n",
      "\tLength accuracy: 99.10\n",
      "\tDigit 0: 80.42\n",
      "\tDigit 1: 77.94\n",
      "\tDigit 2: 79.85\n",
      "\tDigit 3: 82.16\n",
      "\tDigit 4: 83.25\n",
      "step 5200:\n",
      "\tMinibatch loss: 3.423701524734497\n",
      "\tMinibatch accuracies: 56.25\n",
      "\tLength accuracy: 96.88\n",
      "\tDigit 0: 87.50\n",
      "\tDigit 1: 88.00\n",
      "\tDigit 2: 73.68\n",
      "\tDigit 3: 66.67\n",
      "\tDigit 4: 71.43\n",
      "\tValidation loss: 3.366971015930176\n",
      "\tValidation accuracies: 53.60\n",
      "\tLength accuracy: 98.90\n",
      "\tDigit 0: 80.18\n",
      "\tDigit 1: 77.09\n",
      "\tDigit 2: 80.48\n",
      "\tDigit 3: 80.63\n",
      "\tDigit 4: 82.75\n",
      "step 5300:\n",
      "\tMinibatch loss: 4.277762413024902\n",
      "\tMinibatch accuracies: 68.75\n",
      "\tLength accuracy: 100.00\n",
      "\tDigit 0: 90.62\n",
      "\tDigit 1: 80.00\n",
      "\tDigit 2: 95.24\n",
      "\tDigit 3: 80.00\n",
      "\tDigit 4: 83.33\n",
      "\tValidation loss: 3.5563912391662598\n",
      "\tValidation accuracies: 51.42\n",
      "\tLength accuracy: 99.04\n",
      "\tDigit 0: 80.76\n",
      "\tDigit 1: 73.66\n",
      "\tDigit 2: 78.52\n",
      "\tDigit 3: 80.53\n",
      "\tDigit 4: 80.26\n",
      "step 5400:\n",
      "\tMinibatch loss: 4.65968132019043\n",
      "\tMinibatch accuracies: 40.62\n",
      "\tLength accuracy: 96.88\n",
      "\tDigit 0: 71.88\n",
      "\tDigit 1: 78.26\n",
      "\tDigit 2: 64.71\n",
      "\tDigit 3: 60.00\n",
      "\tDigit 4: 50.00\n",
      "\tValidation loss: 3.53680682182312\n",
      "\tValidation accuracies: 51.88\n",
      "\tLength accuracy: 98.20\n",
      "\tDigit 0: 79.98\n",
      "\tDigit 1: 74.76\n",
      "\tDigit 2: 78.12\n",
      "\tDigit 3: 79.99\n",
      "\tDigit 4: 82.45\n",
      "step 5500:\n",
      "\tMinibatch loss: 3.4265451431274414\n",
      "\tMinibatch accuracies: 50.00\n",
      "\tLength accuracy: 96.88\n",
      "\tDigit 0: 71.88\n",
      "\tDigit 1: 76.92\n",
      "\tDigit 2: 84.21\n",
      "\tDigit 3: 71.43\n",
      "\tDigit 4: 100.00\n",
      "\tValidation loss: 3.152024745941162\n",
      "\tValidation accuracies: 55.18\n",
      "\tLength accuracy: 99.22\n",
      "\tDigit 0: 81.18\n",
      "\tDigit 1: 78.09\n",
      "\tDigit 2: 80.54\n",
      "\tDigit 3: 82.50\n",
      "\tDigit 4: 83.55\n",
      "step 5600:\n",
      "\tMinibatch loss: 3.901808738708496\n",
      "\tMinibatch accuracies: 68.75\n",
      "\tLength accuracy: 100.00\n",
      "\tDigit 0: 90.62\n",
      "\tDigit 1: 95.00\n",
      "\tDigit 2: 89.47\n",
      "\tDigit 3: 66.67\n",
      "\tDigit 4: 66.67\n",
      "\tValidation loss: 3.4052653312683105\n",
      "\tValidation accuracies: 53.14\n",
      "\tLength accuracy: 99.18\n",
      "\tDigit 0: 80.04\n",
      "\tDigit 1: 76.56\n",
      "\tDigit 2: 79.75\n",
      "\tDigit 3: 82.55\n",
      "\tDigit 4: 82.05\n",
      "step 5700:\n",
      "\tMinibatch loss: 2.792116641998291\n",
      "\tMinibatch accuracies: 56.25\n",
      "\tLength accuracy: 96.88\n",
      "\tDigit 0: 84.38\n",
      "\tDigit 1: 80.77\n",
      "\tDigit 2: 82.35\n",
      "\tDigit 3: 83.33\n",
      "\tDigit 4: 100.00\n",
      "\tValidation loss: 3.413158416748047\n",
      "\tValidation accuracies: 52.64\n",
      "\tLength accuracy: 98.82\n",
      "\tDigit 0: 79.50\n",
      "\tDigit 1: 76.61\n",
      "\tDigit 2: 79.45\n",
      "\tDigit 3: 81.12\n",
      "\tDigit 4: 81.06\n",
      "step 5800:\n",
      "\tMinibatch loss: 3.556150436401367\n",
      "\tMinibatch accuracies: 56.25\n",
      "\tLength accuracy: 100.00\n",
      "\tDigit 0: 90.62\n",
      "\tDigit 1: 75.00\n",
      "\tDigit 2: 73.91\n",
      "\tDigit 3: 78.57\n",
      "\tDigit 4: 88.89\n",
      "\tValidation loss: 3.2145943641662598\n",
      "\tValidation accuracies: 54.48\n",
      "\tLength accuracy: 99.06\n",
      "\tDigit 0: 81.50\n",
      "\tDigit 1: 78.09\n",
      "\tDigit 2: 79.85\n",
      "\tDigit 3: 82.55\n",
      "\tDigit 4: 83.35\n",
      "step 5900:\n",
      "\tMinibatch loss: 1.817671537399292\n",
      "\tMinibatch accuracies: 71.88\n",
      "\tLength accuracy: 96.88\n",
      "\tDigit 0: 84.38\n",
      "\tDigit 1: 76.92\n",
      "\tDigit 2: 100.00\n",
      "\tDigit 3: 100.00\n",
      "\tDigit 4: 100.00\n",
      "\tValidation loss: 3.2402195930480957\n",
      "\tValidation accuracies: 55.22\n",
      "\tLength accuracy: 99.04\n",
      "\tDigit 0: 81.20\n",
      "\tDigit 1: 78.86\n",
      "\tDigit 2: 81.31\n",
      "\tDigit 3: 81.81\n",
      "\tDigit 4: 83.55\n",
      "step 6000:\n",
      "\tMinibatch loss: 3.5431604385375977\n",
      "\tMinibatch accuracies: 46.88\n",
      "\tLength accuracy: 100.00\n",
      "\tDigit 0: 78.12\n",
      "\tDigit 1: 89.29\n",
      "\tDigit 2: 78.26\n",
      "\tDigit 3: 73.33\n",
      "\tDigit 4: 55.56\n",
      "\tValidation loss: 3.405531883239746\n",
      "\tValidation accuracies: 51.56\n",
      "\tLength accuracy: 99.08\n",
      "\tDigit 0: 78.84\n",
      "\tDigit 1: 76.04\n",
      "\tDigit 2: 78.49\n",
      "\tDigit 3: 81.47\n",
      "\tDigit 4: 82.95\n",
      "step 6100:\n",
      "\tMinibatch loss: 3.5444469451904297\n",
      "\tMinibatch accuracies: 40.62\n",
      "\tLength accuracy: 100.00\n",
      "\tDigit 0: 78.12\n",
      "\tDigit 1: 70.00\n",
      "\tDigit 2: 70.00\n",
      "\tDigit 3: 76.92\n",
      "\tDigit 4: 100.00\n",
      "\tValidation loss: 3.1865363121032715\n",
      "\tValidation accuracies: 54.50\n",
      "\tLength accuracy: 99.34\n",
      "\tDigit 0: 80.46\n",
      "\tDigit 1: 78.54\n",
      "\tDigit 2: 80.78\n",
      "\tDigit 3: 80.98\n",
      "\tDigit 4: 84.25\n",
      "step 6200:\n",
      "\tMinibatch loss: 2.920654058456421\n",
      "\tMinibatch accuracies: 56.25\n",
      "\tLength accuracy: 100.00\n",
      "\tDigit 0: 84.38\n",
      "\tDigit 1: 65.22\n",
      "\tDigit 2: 66.67\n",
      "\tDigit 3: 100.00\n",
      "\tDigit 4: 60.00\n",
      "\tValidation loss: 3.275611162185669\n",
      "\tValidation accuracies: 52.96\n",
      "\tLength accuracy: 99.18\n",
      "\tDigit 0: 80.82\n",
      "\tDigit 1: 75.84\n",
      "\tDigit 2: 80.48\n",
      "\tDigit 3: 80.93\n",
      "\tDigit 4: 83.05\n",
      "step 6300:\n",
      "\tMinibatch loss: 2.1162807941436768\n",
      "\tMinibatch accuracies: 53.12\n",
      "\tLength accuracy: 100.00\n",
      "\tDigit 0: 75.00\n",
      "\tDigit 1: 89.66\n",
      "\tDigit 2: 78.26\n",
      "\tDigit 3: 100.00\n",
      "\tDigit 4: 100.00\n",
      "\tValidation loss: 3.176311492919922\n",
      "\tValidation accuracies: 55.16\n",
      "\tLength accuracy: 99.16\n",
      "\tDigit 0: 80.88\n",
      "\tDigit 1: 77.94\n",
      "\tDigit 2: 81.67\n",
      "\tDigit 3: 82.60\n",
      "\tDigit 4: 85.34\n",
      "step 6400:\n",
      "\tMinibatch loss: 2.800786018371582\n",
      "\tMinibatch accuracies: 46.88\n",
      "\tLength accuracy: 100.00\n",
      "\tDigit 0: 71.88\n",
      "\tDigit 1: 71.43\n",
      "\tDigit 2: 84.21\n",
      "\tDigit 3: 93.33\n",
      "\tDigit 4: 100.00\n",
      "\tValidation loss: 3.1935551166534424\n",
      "\tValidation accuracies: 55.38\n",
      "\tLength accuracy: 99.10\n",
      "\tDigit 0: 81.12\n",
      "\tDigit 1: 77.96\n",
      "\tDigit 2: 81.08\n",
      "\tDigit 3: 82.41\n",
      "\tDigit 4: 84.35\n",
      "step 6500:\n",
      "\tMinibatch loss: 3.5926153659820557\n",
      "\tMinibatch accuracies: 50.00\n",
      "\tLength accuracy: 100.00\n",
      "\tDigit 0: 68.75\n",
      "\tDigit 1: 68.00\n",
      "\tDigit 2: 94.74\n",
      "\tDigit 3: 83.33\n",
      "\tDigit 4: 75.00\n",
      "\tValidation loss: 3.150987148284912\n",
      "\tValidation accuracies: 55.22\n",
      "\tLength accuracy: 99.22\n",
      "\tDigit 0: 81.38\n",
      "\tDigit 1: 77.86\n",
      "\tDigit 2: 81.87\n",
      "\tDigit 3: 82.70\n",
      "\tDigit 4: 84.15\n",
      "step 6600:\n",
      "\tMinibatch loss: 2.9771511554718018\n",
      "\tMinibatch accuracies: 50.00\n",
      "\tLength accuracy: 100.00\n",
      "\tDigit 0: 68.75\n",
      "\tDigit 1: 90.00\n",
      "\tDigit 2: 78.95\n",
      "\tDigit 3: 83.33\n",
      "\tDigit 4: 83.33\n",
      "\tValidation loss: 3.123483180999756\n",
      "\tValidation accuracies: 55.58\n",
      "\tLength accuracy: 99.28\n",
      "\tDigit 0: 81.48\n",
      "\tDigit 1: 77.91\n",
      "\tDigit 2: 81.81\n",
      "\tDigit 3: 81.96\n",
      "\tDigit 4: 83.45\n",
      "step 6700:\n",
      "\tMinibatch loss: 2.4881222248077393\n",
      "\tMinibatch accuracies: 59.38\n",
      "\tLength accuracy: 100.00\n",
      "\tDigit 0: 84.38\n",
      "\tDigit 1: 86.21\n",
      "\tDigit 2: 72.73\n",
      "\tDigit 3: 92.31\n",
      "\tDigit 4: 100.00\n",
      "\tValidation loss: 3.2710602283477783\n",
      "\tValidation accuracies: 53.20\n",
      "\tLength accuracy: 99.02\n",
      "\tDigit 0: 80.02\n",
      "\tDigit 1: 78.06\n",
      "\tDigit 2: 80.51\n",
      "\tDigit 3: 82.50\n",
      "\tDigit 4: 81.75\n",
      "step 6800:\n",
      "\tMinibatch loss: 3.2571282386779785\n",
      "\tMinibatch accuracies: 50.00\n",
      "\tLength accuracy: 100.00\n",
      "\tDigit 0: 81.25\n",
      "\tDigit 1: 76.92\n",
      "\tDigit 2: 100.00\n",
      "\tDigit 3: 58.33\n",
      "\tDigit 4: 85.71\n",
      "\tValidation loss: 3.156796455383301\n",
      "\tValidation accuracies: 55.30\n",
      "\tLength accuracy: 99.18\n",
      "\tDigit 0: 81.78\n",
      "\tDigit 1: 78.11\n",
      "\tDigit 2: 81.31\n",
      "\tDigit 3: 81.67\n",
      "\tDigit 4: 83.25\n",
      "step 6900:\n",
      "\tMinibatch loss: 2.8654420375823975\n",
      "\tMinibatch accuracies: 65.62\n",
      "\tLength accuracy: 100.00\n",
      "\tDigit 0: 84.38\n",
      "\tDigit 1: 75.00\n",
      "\tDigit 2: 87.50\n",
      "\tDigit 3: 84.62\n",
      "\tDigit 4: 80.00\n",
      "\tValidation loss: 3.248560667037964\n",
      "\tValidation accuracies: 55.54\n",
      "\tLength accuracy: 99.26\n",
      "\tDigit 0: 81.38\n",
      "\tDigit 1: 78.41\n",
      "\tDigit 2: 81.11\n",
      "\tDigit 3: 81.72\n",
      "\tDigit 4: 83.85\n",
      "step 7000:\n",
      "\tMinibatch loss: 2.0097694396972656\n",
      "\tMinibatch accuracies: 65.62\n",
      "\tLength accuracy: 100.00\n",
      "\tDigit 0: 84.38\n",
      "\tDigit 1: 91.67\n",
      "\tDigit 2: 81.25\n",
      "\tDigit 3: 70.00\n",
      "\tDigit 4: 100.00\n"
     ]
    },
    {
     "name": "stdout",
     "output_type": "stream",
     "text": [
      "\tValidation loss: 3.0800912380218506\n",
      "\tValidation accuracies: 56.72\n",
      "\tLength accuracy: 99.24\n",
      "\tDigit 0: 82.20\n",
      "\tDigit 1: 79.56\n",
      "\tDigit 2: 80.81\n",
      "\tDigit 3: 82.06\n",
      "\tDigit 4: 85.94\n",
      "\tTest loss: 1.9926365613937378\n",
      "\tTest accuracies: 69.14\n",
      "\tLength accuracy: 99.53\n",
      "\tDigit 0: 88.37\n",
      "\tDigit 1: 87.03\n",
      "\tDigit 2: 86.02\n",
      "\tDigit 3: 88.77\n",
      "\tDigit 4: 90.45\n"
     ]
    }
   ],
   "source": [
    "num_steps = 7001\n",
    "\n",
    "with tf.Session(graph=graph) as session:\n",
    "    if not os.path.exists('summaries'):\n",
    "        os.mkdir('summaries')\n",
    "    writer = tf.summary.FileWriter('summaries', session.graph)\n",
    "    \n",
    "    tf.global_variables_initializer().run()\n",
    "    print('Initialized')\n",
    "    for step in range(num_steps):\n",
    "        offset = (step * batch_size) % (train_labels.shape[0] - batch_size)\n",
    "        batch_data = train_dataset[offset:(offset + batch_size), :, :, :]\n",
    "        batch_labels = train_labels[offset:(offset + batch_size), :]\n",
    "        batch_length = train_length[offset:(offset + batch_size)]\n",
    "        feed_dict = {tf_data: batch_data, tf_labels: batch_labels, tf_length: batch_length, tf_training: True}\n",
    "        _, t_loss, t_length_pred, t_predictions, t_pmasked, t_masks, t_lmasked, summary = session.run(\n",
    "            [optimizer, total_loss, length_predictions, predictions, pmasked,\n",
    "             masks, lmasked, merged], feed_dict=feed_dict)\n",
    "        writer.add_summary(summary, step)\n",
    "        if (step % 100 == 0):\n",
    "            train_accuracy = accuracy_labels(t_predictions, t_pmasked, batch_labels, t_lmasked, t_masks, batch_length)\n",
    "            train_length_accuracy = accuracy_length(t_length_pred, batch_length)\n",
    "            print(f'step {step}:')\n",
    "            printAccuracies('Minibatch', t_loss, train_length_accuracy, train_accuracy)\n",
    "            feed_dict = {tf_data: valid_dataset, tf_labels: valid_labels, \n",
    "                         tf_length: valid_length, tf_training: False}\n",
    "            v_loss, v_length_pred, v_predictions, v_pmasked, v_masks, v_lmasked, summary = session.run(\n",
    "                [total_loss, length_predictions, predictions, pmasked,\n",
    "                 masks, lmasked, merged], feed_dict=feed_dict)\n",
    "            valid_accuracy = accuracy_labels(v_predictions, v_pmasked, valid_labels, v_lmasked, v_masks, valid_length)\n",
    "            valid_length_accuracy = accuracy_length(v_length_pred, valid_length)\n",
    "            printAccuracies('Validation', v_loss, valid_length_accuracy, valid_accuracy)\n",
    "\n",
    "    feed_dict = {tf_data: test_dataset, tf_labels: test_labels, \n",
    "                 tf_length: test_length, tf_training: False}\n",
    "    test_loss, test_length_pred, test_predictions, test_pmasked, test_masks, test_lmasked = session.run(\n",
    "        [total_loss, length_predictions, predictions, pmasked,\n",
    "         masks, lmasked], feed_dict=feed_dict)\n",
    "    test_accuracy = accuracy_labels(test_predictions, test_pmasked, test_labels, test_lmasked, test_masks, test_length)\n",
    "    test_length_accuracy = accuracy_length(test_length_pred, test_length)\n",
    "    printAccuracies('Test', test_loss, test_length_accuracy, test_accuracy)"
   ]
  },
  {
   "cell_type": "code",
   "execution_count": null,
   "metadata": {},
   "outputs": [],
   "source": []
  }
 ],
 "metadata": {
  "kernelspec": {
   "display_name": "Python 3",
   "language": "python",
   "name": "python3"
  },
  "language_info": {
   "codemirror_mode": {
    "name": "ipython",
    "version": 3
   },
   "file_extension": ".py",
   "mimetype": "text/x-python",
   "name": "python",
   "nbconvert_exporter": "python",
   "pygments_lexer": "ipython3",
   "version": "3.6.6"
  }
 },
 "nbformat": 4,
 "nbformat_minor": 2
}
