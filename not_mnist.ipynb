{
 "cells": [
  {
   "cell_type": "code",
   "execution_count": 1,
   "metadata": {},
   "outputs": [],
   "source": [
    "# These are all the modules we'll be using later. Make sure you can import them\n",
    "# before proceeding further.\n",
    "from __future__ import print_function\n",
    "import imageio\n",
    "import matplotlib.pyplot as plt\n",
    "import numpy as np\n",
    "import os\n",
    "import sys\n",
    "import tarfile\n",
    "import scipy\n",
    "import skimage\n",
    "import tensorflow as tf\n",
    "from IPython.display import display, Image\n",
    "from sklearn.linear_model import LogisticRegression\n",
    "from six.moves.urllib.request import urlretrieve\n",
    "from six.moves import cPickle as pickle\n",
    "\n",
    "# Config the matplotlib backend as plotting inline in IPython\n",
    "%matplotlib inline"
   ]
  },
  {
   "cell_type": "code",
   "execution_count": 2,
   "metadata": {},
   "outputs": [
    {
     "name": "stdout",
     "output_type": "stream",
     "text": [
      "Found and verified ./dataset/notmnist/notMNIST_large.tar.gz\n",
      "Found and verified ./dataset/notmnist/notMNIST_small.tar.gz\n"
     ]
    }
   ],
   "source": [
    "url = 'https://commondatastorage.googleapis.com/books1000/'\n",
    "last_percent_reported = None\n",
    "data_root = './dataset/notmnist' # Change me to store data elsewhere\n",
    "\n",
    "def download_progress_hook(count, blockSize, totalSize):\n",
    "    \"\"\"A hook to report the progress of a download. This is mostly intended for users with\n",
    "    slow internet connections. Reports every 5% change in download progress.\n",
    "    \"\"\"\n",
    "    global last_percent_reported\n",
    "    percent = int(count * blockSize * 100 / totalSize)\n",
    "\n",
    "    if last_percent_reported != percent:\n",
    "        if percent % 5 == 0:\n",
    "            sys.stdout.write(\"%s%%\" % percent)\n",
    "            sys.stdout.flush()\n",
    "        else:\n",
    "            sys.stdout.write(\".\")\n",
    "            sys.stdout.flush()\n",
    "      \n",
    "        last_percent_reported = percent\n",
    "        \n",
    "def maybe_download(filename, expected_bytes, force=False):\n",
    "    \"\"\"Download a file if not present, and make sure it's the right size.\"\"\"\n",
    "    dest_filename = os.path.join(data_root, filename)\n",
    "    if force or not os.path.exists(dest_filename):\n",
    "        print('Attempting to download:', filename) \n",
    "        filename, _ = urlretrieve(url + filename, dest_filename, reporthook=download_progress_hook)\n",
    "        print('\\nDownload Complete!')\n",
    "    statinfo = os.stat(dest_filename)\n",
    "    if statinfo.st_size == expected_bytes:\n",
    "        print('Found and verified', dest_filename)\n",
    "    else:\n",
    "        raise Exception('Failed to verify ' + dest_filename + '. Can you get to it with a browser?')\n",
    "    return dest_filename\n",
    "\n",
    "train_filename = maybe_download('notMNIST_large.tar.gz', 247336696)\n",
    "test_filename = maybe_download('notMNIST_small.tar.gz', 8458043)"
   ]
  },
  {
   "cell_type": "code",
   "execution_count": 3,
   "metadata": {},
   "outputs": [
    {
     "name": "stdout",
     "output_type": "stream",
     "text": [
      "./dataset/notmnist/notMNIST_large already present - Skipping extraction of ./dataset/notmnist/notMNIST_large.tar.gz.\n",
      "['./dataset/notmnist/notMNIST_large/A', './dataset/notmnist/notMNIST_large/B', './dataset/notmnist/notMNIST_large/C', './dataset/notmnist/notMNIST_large/D', './dataset/notmnist/notMNIST_large/E', './dataset/notmnist/notMNIST_large/F', './dataset/notmnist/notMNIST_large/G', './dataset/notmnist/notMNIST_large/H', './dataset/notmnist/notMNIST_large/I', './dataset/notmnist/notMNIST_large/J']\n",
      "./dataset/notmnist/notMNIST_small already present - Skipping extraction of ./dataset/notmnist/notMNIST_small.tar.gz.\n",
      "['./dataset/notmnist/notMNIST_small/A', './dataset/notmnist/notMNIST_small/B', './dataset/notmnist/notMNIST_small/C', './dataset/notmnist/notMNIST_small/D', './dataset/notmnist/notMNIST_small/E', './dataset/notmnist/notMNIST_small/F', './dataset/notmnist/notMNIST_small/G', './dataset/notmnist/notMNIST_small/H', './dataset/notmnist/notMNIST_small/I', './dataset/notmnist/notMNIST_small/J']\n"
     ]
    }
   ],
   "source": [
    "num_classes = 10\n",
    "np.random.seed(133)\n",
    "\n",
    "def maybe_extract(filename, force=False):\n",
    "    root = os.path.splitext(os.path.splitext(filename)[0])[0]  # remove .tar.gz\n",
    "    if os.path.isdir(root) and not force:\n",
    "        # You may override by setting force=True.\n",
    "        print('%s already present - Skipping extraction of %s.' % (root, filename))\n",
    "    else:\n",
    "        print('Extracting data for %s. This may take a while. Please wait.' % root)\n",
    "        tar = tarfile.open(filename)\n",
    "        sys.stdout.flush()\n",
    "        tar.extractall(data_root)\n",
    "        tar.close()\n",
    "    data_folders = [\n",
    "        os.path.join(root, d) for d in sorted(os.listdir(root)) if os.path.isdir(os.path.join(root, d))]\n",
    "    if len(data_folders) != num_classes:\n",
    "        raise Exception('Expected %d folders, one per class. Found %d instead.' % (num_classes, len(data_folders)))\n",
    "    print(data_folders)\n",
    "    return data_folders\n",
    "  \n",
    "train_folders = maybe_extract(train_filename)\n",
    "test_folders  = maybe_extract(test_filename)"
   ]
  },
  {
   "cell_type": "code",
   "execution_count": 4,
   "metadata": {},
   "outputs": [
    {
     "name": "stdout",
     "output_type": "stream",
     "text": [
      "Displaying images in:  notMNIST_large\n",
      "Label:  A\n"
     ]
    },
    {
     "data": {
      "image/png": "[encoded data removed]",
      "text/plain": [
       "<IPython.core.display.Image object>"
      ]
     },
     "metadata": {
      "image/png": {
       "height": 20,
       "width": 20
      }
     },
     "output_type": "display_data"
    },
    {
     "data": {
      "image/png": "[encoded data removed]",
      "text/plain": [
       "<IPython.core.display.Image object>"
      ]
     },
     "metadata": {
      "image/png": {
       "height": 20,
       "width": 20
      }
     },
     "output_type": "display_data"
    },
    {
     "data": {
      "image/png": "[encoded data removed]",
      "text/plain": [
       "<IPython.core.display.Image object>"
      ]
     },
     "metadata": {
      "image/png": {
       "height": 20,
       "width": 20
      }
     },
     "output_type": "display_data"
    },
    {
     "data": {
      "image/png": "[encoded data removed]",
      "text/plain": [
       "<IPython.core.display.Image object>"
      ]
     },
     "metadata": {
      "image/png": {
       "height": 20,
       "width": 20
      }
     },
     "output_type": "display_data"
    },
    {
     "data": {
      "image/png": "[encoded data removed]",
      "text/plain": [
       "<IPython.core.display.Image object>"
      ]
     },
     "metadata": {
      "image/png": {
       "height": 20,
       "width": 20
      }
     },
     "output_type": "display_data"
    },
    {
     "name": "stdout",
     "output_type": "stream",
     "text": [
      "Label:  B\n"
     ]
    },
    {
     "data": {
      "image/png": "[encoded data removed]",
      "text/plain": [
       "<IPython.core.display.Image object>"
      ]
     },
     "metadata": {
      "image/png": {
       "height": 20,
       "width": 20
      }
     },
     "output_type": "display_data"
    },
    {
     "data": {
      "image/png": "[encoded data removed]",
      "text/plain": [
       "<IPython.core.display.Image object>"
      ]
     },
     "metadata": {
      "image/png": {
       "height": 20,
       "width": 20
      }
     },
     "output_type": "display_data"
    },
    {
     "data": {
      "image/png": "[encoded data removed]",
      "text/plain": [
       "<IPython.core.display.Image object>"
      ]
     },
     "metadata": {
      "image/png": {
       "height": 20,
       "width": 20
      }
     },
     "output_type": "display_data"
    },
    {
     "data": {
      "image/png": "[encoded data removed]",
      "text/plain": [
       "<IPython.core.display.Image object>"
      ]
     },
     "metadata": {
      "image/png": {
       "height": 20,
       "width": 20
      }
     },
     "output_type": "display_data"
    },
    {
     "data": {
      "image/png": "[encoded data removed]",
      "text/plain": [
       "<IPython.core.display.Image object>"
      ]
     },
     "metadata": {
      "image/png": {
       "height": 20,
       "width": 20
      }
     },
     "output_type": "display_data"
    },
    {
     "name": "stdout",
     "output_type": "stream",
     "text": [
      "Label:  C\n"
     ]
    },
    {
     "data": {
      "image/png": "[encoded data removed]",
      "text/plain": [
       "<IPython.core.display.Image object>"
      ]
     },
     "metadata": {
      "image/png": {
       "height": 20,
       "width": 20
      }
     },
     "output_type": "display_data"
    },
    {
     "data": {
      "image/png": "[encoded data removed]",
      "text/plain": [
       "<IPython.core.display.Image object>"
      ]
     },
     "metadata": {
      "image/png": {
       "height": 20,
       "width": 20
      }
     },
     "output_type": "display_data"
    },
    {
     "data": {
      "image/png": "[encoded data removed]",
      "text/plain": [
       "<IPython.core.display.Image object>"
      ]
     },
     "metadata": {
      "image/png": {
       "height": 20,
       "width": 20
      }
     },
     "output_type": "display_data"
    },
    {
     "data": {
      "image/png": "[encoded data removed]",
      "text/plain": [
       "<IPython.core.display.Image object>"
      ]
     },
     "metadata": {
      "image/png": {
       "height": 20,
       "width": 20
      }
     },
     "output_type": "display_data"
    },
    {
     "data": {
      "image/png": "[encoded data removed]",
      "text/plain": [
       "<IPython.core.display.Image object>"
      ]
     },
     "metadata": {
      "image/png": {
       "height": 20,
       "width": 20
      }
     },
     "output_type": "display_data"
    },
    {
     "name": "stdout",
     "output_type": "stream",
     "text": [
      "Label:  D\n"
     ]
    },
    {
     "data": {
      "image/png": "[encoded data removed]",
      "text/plain": [
       "<IPython.core.display.Image object>"
      ]
     },
     "metadata": {
      "image/png": {
       "height": 20,
       "width": 20
      }
     },
     "output_type": "display_data"
    },
    {
     "data": {
      "image/png": "[encoded data removed]",
      "text/plain": [
       "<IPython.core.display.Image object>"
      ]
     },
     "metadata": {
      "image/png": {
       "height": 20,
       "width": 20
      }
     },
     "output_type": "display_data"
    },
    {
     "data": {
      "image/png": "[encoded data removed]",
      "text/plain": [
       "<IPython.core.display.Image object>"
      ]
     },
     "metadata": {
      "image/png": {
       "height": 20,
       "width": 20
      }
     },
     "output_type": "display_data"
    },
    {
     "data": {
      "image/png": "[encoded data removed]",
      "text/plain": [
       "<IPython.core.display.Image object>"
      ]
     },
     "metadata": {
      "image/png": {
       "height": 20,
       "width": 20
      }
     },
     "output_type": "display_data"
    },
    {
     "data": {
      "image/png": "[encoded data removed]",
      "text/plain": [
       "<IPython.core.display.Image object>"
      ]
     },
     "metadata": {
      "image/png": {
       "height": 20,
       "width": 20
      }
     },
     "output_type": "display_data"
    },
    {
     "name": "stdout",
     "output_type": "stream",
     "text": [
      "Label:  E\n"
     ]
    },
    {
     "data": {
      "image/png": "[encoded data removed]",
      "text/plain": [
       "<IPython.core.display.Image object>"
      ]
     },
     "metadata": {
      "image/png": {
       "height": 20,
       "width": 20
      }
     },
     "output_type": "display_data"
    },
    {
     "data": {
      "image/png": "[encoded data removed]",
      "text/plain": [
       "<IPython.core.display.Image object>"
      ]
     },
     "metadata": {
      "image/png": {
       "height": 20,
       "width": 20
      }
     },
     "output_type": "display_data"
    },
    {
     "data": {
      "image/png": "[encoded data removed]",
      "text/plain": [
       "<IPython.core.display.Image object>"
      ]
     },
     "metadata": {
      "image/png": {
       "height": 20,
       "width": 20
      }
     },
     "output_type": "display_data"
    },
    {
     "data": {
      "image/png": "[encoded data removed]",
      "text/plain": [
       "<IPython.core.display.Image object>"
      ]
     },
     "metadata": {
      "image/png": {
       "height": 20,
       "width": 20
      }
     },
     "output_type": "display_data"
    },
    {
     "data": {
      "image/png": "[encoded data removed]",
      "text/plain": [
       "<IPython.core.display.Image object>"
      ]
     },
     "metadata": {
      "image/png": {
       "height": 20,
       "width": 20
      }
     },
     "output_type": "display_data"
    },
    {
     "name": "stdout",
     "output_type": "stream",
     "text": [
      "Label:  F\n"
     ]
    },
    {
     "data": {
      "image/png": "[encoded data removed]",
      "text/plain": [
       "<IPython.core.display.Image object>"
      ]
     },
     "metadata": {
      "image/png": {
       "height": 20,
       "width": 20
      }
     },
     "output_type": "display_data"
    },
    {
     "data": {
      "image/png": "[encoded data removed]",
      "text/plain": [
       "<IPython.core.display.Image object>"
      ]
     },
     "metadata": {
      "image/png": {
       "height": 20,
       "width": 20
      }
     },
     "output_type": "display_data"
    },
    {
     "data": {
      "image/png": "[encoded data removed]",
      "text/plain": [
       "<IPython.core.display.Image object>"
      ]
     },
     "metadata": {
      "image/png": {
       "height": 20,
       "width": 20
      }
     },
     "output_type": "display_data"
    },
    {
     "data": {
      "image/png": "[encoded data removed]",
      "text/plain": [
       "<IPython.core.display.Image object>"
      ]
     },
     "metadata": {
      "image/png": {
       "height": 20,
       "width": 20
      }
     },
     "output_type": "display_data"
    },
    {
     "data": {
      "image/png": "[encoded data removed]",
      "text/plain": [
       "<IPython.core.display.Image object>"
      ]
     },
     "metadata": {
      "image/png": {
       "height": 20,
       "width": 20
      }
     },
     "output_type": "display_data"
    },
    {
     "name": "stdout",
     "output_type": "stream",
     "text": [
      "Label:  G\n"
     ]
    },
    {
     "data": {
      "image/png": "[encoded data removed]",
      "text/plain": [
       "<IPython.core.display.Image object>"
      ]
     },
     "metadata": {
      "image/png": {
       "height": 20,
       "width": 20
      }
     },
     "output_type": "display_data"
    },
    {
     "data": {
      "image/png": "[encoded data removed]",
      "text/plain": [
       "<IPython.core.display.Image object>"
      ]
     },
     "metadata": {
      "image/png": {
       "height": 20,
       "width": 20
      }
     },
     "output_type": "display_data"
    },
    {
     "data": {
      "image/png": "[encoded data removed]",
      "text/plain": [
       "<IPython.core.display.Image object>"
      ]
     },
     "metadata": {
      "image/png": {
       "height": 20,
       "width": 20
      }
     },
     "output_type": "display_data"
    },
    {
     "data": {
      "image/png": "[encoded data removed]",
      "text/plain": [
       "<IPython.core.display.Image object>"
      ]
     },
     "metadata": {
      "image/png": {
       "height": 20,
       "width": 20
      }
     },
     "output_type": "display_data"
    },
    {
     "data": {
      "image/png": "[encoded data removed]",
      "text/plain": [
       "<IPython.core.display.Image object>"
      ]
     },
     "metadata": {
      "image/png": {
       "height": 20,
       "width": 20
      }
     },
     "output_type": "display_data"
    },
    {
     "name": "stdout",
     "output_type": "stream",
     "text": [
      "Label:  H\n"
     ]
    },
    {
     "data": {
      "image/png": "[encoded data removed]",
      "text/plain": [
       "<IPython.core.display.Image object>"
      ]
     },
     "metadata": {
      "image/png": {
       "height": 20,
       "width": 20
      }
     },
     "output_type": "display_data"
    },
    {
     "data": {
      "image/png": "[encoded data removed]",
      "text/plain": [
       "<IPython.core.display.Image object>"
      ]
     },
     "metadata": {
      "image/png": {
       "height": 20,
       "width": 20
      }
     },
     "output_type": "display_data"
    },
    {
     "data": {
      "image/png": "[encoded data removed]",
      "text/plain": [
       "<IPython.core.display.Image object>"
      ]
     },
     "metadata": {
      "image/png": {
       "height": 20,
       "width": 20
      }
     },
     "output_type": "display_data"
    },
    {
     "data": {
      "image/png": "[encoded data removed]",
      "text/plain": [
       "<IPython.core.display.Image object>"
      ]
     },
     "metadata": {
      "image/png": {
       "height": 20,
       "width": 20
      }
     },
     "output_type": "display_data"
    },
    {
     "data": {
      "image/png": "[encoded data removed]",
      "text/plain": [
       "<IPython.core.display.Image object>"
      ]
     },
     "metadata": {
      "image/png": {
       "height": 20,
       "width": 20
      }
     },
     "output_type": "display_data"
    },
    {
     "name": "stdout",
     "output_type": "stream",
     "text": [
      "Label:  I\n"
     ]
    },
    {
     "data": {
      "image/png": "[encoded data removed]",
      "text/plain": [
       "<IPython.core.display.Image object>"
      ]
     },
     "metadata": {
      "image/png": {
       "height": 20,
       "width": 20
      }
     },
     "output_type": "display_data"
    },
    {
     "data": {
      "image/png": "[encoded data removed]",
      "text/plain": [
       "<IPython.core.display.Image object>"
      ]
     },
     "metadata": {
      "image/png": {
       "height": 20,
       "width": 20
      }
     },
     "output_type": "display_data"
    },
    {
     "data": {
      "image/png": "[encoded data removed]",
      "text/plain": [
       "<IPython.core.display.Image object>"
      ]
     },
     "metadata": {
      "image/png": {
       "height": 20,
       "width": 20
      }
     },
     "output_type": "display_data"
    },
    {
     "data": {
      "image/png": "[encoded data removed]",
      "text/plain": [
       "<IPython.core.display.Image object>"
      ]
     },
     "metadata": {
      "image/png": {
       "height": 20,
       "width": 20
      }
     },
     "output_type": "display_data"
    },
    {
     "data": {
      "image/png": "[encoded data removed]",
      "text/plain": [
       "<IPython.core.display.Image object>"
      ]
     },
     "metadata": {
      "image/png": {
       "height": 20,
       "width": 20
      }
     },
     "output_type": "display_data"
    },
    {
     "name": "stdout",
     "output_type": "stream",
     "text": [
      "Label:  J\n"
     ]
    },
    {
     "data": {
      "image/png": "[encoded data removed]",
      "text/plain": [
       "<IPython.core.display.Image object>"
      ]
     },
     "metadata": {
      "image/png": {
       "height": 20,
       "width": 20
      }
     },
     "output_type": "display_data"
    },
    {
     "data": {
      "image/png": "[encoded data removed]",
      "text/plain": [
       "<IPython.core.display.Image object>"
      ]
     },
     "metadata": {
      "image/png": {
       "height": 20,
       "width": 20
      }
     },
     "output_type": "display_data"
    },
    {
     "data": {
      "image/png": "[encoded data removed]",
      "text/plain": [
       "<IPython.core.display.Image object>"
      ]
     },
     "metadata": {
      "image/png": {
       "height": 20,
       "width": 20
      }
     },
     "output_type": "display_data"
    },
    {
     "data": {
      "image/png": "[encoded data removed]",
      "text/plain": [
       "<IPython.core.display.Image object>"
      ]
     },
     "metadata": {
      "image/png": {
       "height": 20,
       "width": 20
      }
     },
     "output_type": "display_data"
    },
    {
     "data": {
      "image/png": "[encoded data removed]",
      "text/plain": [
       "<IPython.core.display.Image object>"
      ]
     },
     "metadata": {
      "image/png": {
       "height": 20,
       "width": 20
      }
     },
     "output_type": "display_data"
    },
    {
     "name": "stdout",
     "output_type": "stream",
     "text": [
      "Displaying images in:  notMNIST_small\n",
      "Label:  A\n"
     ]
    },
    {
     "data": {
      "image/png": "[encoded data removed]",
      "text/plain": [
       "<IPython.core.display.Image object>"
      ]
     },
     "metadata": {
      "image/png": {
       "height": 20,
       "width": 20
      }
     },
     "output_type": "display_data"
    },
    {
     "data": {
      "image/png": "[encoded data removed]",
      "text/plain": [
       "<IPython.core.display.Image object>"
      ]
     },
     "metadata": {
      "image/png": {
       "height": 20,
       "width": 20
      }
     },
     "output_type": "display_data"
    },
    {
     "data": {
      "image/png": "[encoded data removed]",
      "text/plain": [
       "<IPython.core.display.Image object>"
      ]
     },
     "metadata": {
      "image/png": {
       "height": 20,
       "width": 20
      }
     },
     "output_type": "display_data"
    },
    {
     "data": {
      "image/png": "[encoded data removed]",
      "text/plain": [
       "<IPython.core.display.Image object>"
      ]
     },
     "metadata": {
      "image/png": {
       "height": 20,
       "width": 20
      }
     },
     "output_type": "display_data"
    },
    {
     "data": {
      "image/png": "[encoded data removed]",
      "text/plain": [
       "<IPython.core.display.Image object>"
      ]
     },
     "metadata": {
      "image/png": {
       "height": 20,
       "width": 20
      }
     },
     "output_type": "display_data"
    },
    {
     "name": "stdout",
     "output_type": "stream",
     "text": [
      "Label:  B\n"
     ]
    },
    {
     "data": {
      "image/png": "[encoded data removed]",
      "text/plain": [
       "<IPython.core.display.Image object>"
      ]
     },
     "metadata": {
      "image/png": {
       "height": 20,
       "width": 20
      }
     },
     "output_type": "display_data"
    },
    {
     "data": {
      "image/png": "[encoded data removed]",
      "text/plain": [
       "<IPython.core.display.Image object>"
      ]
     },
     "metadata": {
      "image/png": {
       "height": 20,
       "width": 20
      }
     },
     "output_type": "display_data"
    },
    {
     "data": {
      "image/png": "[encoded data removed]",
      "text/plain": [
       "<IPython.core.display.Image object>"
      ]
     },
     "metadata": {
      "image/png": {
       "height": 20,
       "width": 20
      }
     },
     "output_type": "display_data"
    },
    {
     "data": {
      "image/png": "[encoded data removed]",
      "text/plain": [
       "<IPython.core.display.Image object>"
      ]
     },
     "metadata": {
      "image/png": {
       "height": 20,
       "width": 20
      }
     },
     "output_type": "display_data"
    },
    {
     "data": {
      "image/png": "[encoded data removed]",
      "text/plain": [
       "<IPython.core.display.Image object>"
      ]
     },
     "metadata": {
      "image/png": {
       "height": 20,
       "width": 20
      }
     },
     "output_type": "display_data"
    },
    {
     "name": "stdout",
     "output_type": "stream",
     "text": [
      "Label:  C\n"
     ]
    },
    {
     "data": {
      "image/png": "[encoded data removed]",
      "text/plain": [
       "<IPython.core.display.Image object>"
      ]
     },
     "metadata": {
      "image/png": {
       "height": 20,
       "width": 20
      }
     },
     "output_type": "display_data"
    },
    {
     "data": {
      "image/png": "[encoded data removed]",
      "text/plain": [
       "<IPython.core.display.Image object>"
      ]
     },
     "metadata": {
      "image/png": {
       "height": 20,
       "width": 20
      }
     },
     "output_type": "display_data"
    },
    {
     "data": {
      "image/png": "[encoded data removed]",
      "text/plain": [
       "<IPython.core.display.Image object>"
      ]
     },
     "metadata": {
      "image/png": {
       "height": 20,
       "width": 20
      }
     },
     "output_type": "display_data"
    },
    {
     "data": {
      "image/png": "[encoded data removed]",
      "text/plain": [
       "<IPython.core.display.Image object>"
      ]
     },
     "metadata": {
      "image/png": {
       "height": 20,
       "width": 20
      }
     },
     "output_type": "display_data"
    },
    {
     "data": {
      "image/png": "[encoded data removed]",
      "text/plain": [
       "<IPython.core.display.Image object>"
      ]
     },
     "metadata": {
      "image/png": {
       "height": 20,
       "width": 20
      }
     },
     "output_type": "display_data"
    },
    {
     "name": "stdout",
     "output_type": "stream",
     "text": [
      "Label:  D\n"
     ]
    },
    {
     "data": {
      "image/png": "[encoded data removed]",
      "text/plain": [
       "<IPython.core.display.Image object>"
      ]
     },
     "metadata": {
      "image/png": {
       "height": 20,
       "width": 20
      }
     },
     "output_type": "display_data"
    },
    {
     "data": {
      "image/png": "[encoded data removed]",
      "text/plain": [
       "<IPython.core.display.Image object>"
      ]
     },
     "metadata": {
      "image/png": {
       "height": 20,
       "width": 20
      }
     },
     "output_type": "display_data"
    },
    {
     "data": {
      "image/png": "[encoded data removed]",
      "text/plain": [
       "<IPython.core.display.Image object>"
      ]
     },
     "metadata": {
      "image/png": {
       "height": 20,
       "width": 20
      }
     },
     "output_type": "display_data"
    },
    {
     "data": {
      "image/png": "[encoded data removed]",
      "text/plain": [
       "<IPython.core.display.Image object>"
      ]
     },
     "metadata": {
      "image/png": {
       "height": 20,
       "width": 20
      }
     },
     "output_type": "display_data"
    },
    {
     "data": {
      "image/png": "[encoded data removed]",
      "text/plain": [
       "<IPython.core.display.Image object>"
      ]
     },
     "metadata": {
      "image/png": {
       "height": 20,
       "width": 20
      }
     },
     "output_type": "display_data"
    },
    {
     "name": "stdout",
     "output_type": "stream",
     "text": [
      "Label:  E\n"
     ]
    },
    {
     "data": {
      "image/png": "[encoded data removed]",
      "text/plain": [
       "<IPython.core.display.Image object>"
      ]
     },
     "metadata": {
      "image/png": {
       "height": 20,
       "width": 20
      }
     },
     "output_type": "display_data"
    },
    {
     "data": {
      "image/png": "[encoded data removed]",
      "text/plain": [
       "<IPython.core.display.Image object>"
      ]
     },
     "metadata": {
      "image/png": {
       "height": 20,
       "width": 20
      }
     },
     "output_type": "display_data"
    },
    {
     "data": {
      "image/png": "[encoded data removed]",
      "text/plain": [
       "<IPython.core.display.Image object>"
      ]
     },
     "metadata": {
      "image/png": {
       "height": 20,
       "width": 20
      }
     },
     "output_type": "display_data"
    },
    {
     "data": {
      "image/png": "[encoded data removed]",
      "text/plain": [
       "<IPython.core.display.Image object>"
      ]
     },
     "metadata": {
      "image/png": {
       "height": 20,
       "width": 20
      }
     },
     "output_type": "display_data"
    },
    {
     "data": {
      "image/png": "[encoded data removed]",
      "text/plain": [
       "<IPython.core.display.Image object>"
      ]
     },
     "metadata": {
      "image/png": {
       "height": 20,
       "width": 20
      }
     },
     "output_type": "display_data"
    },
    {
     "name": "stdout",
     "output_type": "stream",
     "text": [
      "Label:  F\n"
     ]
    },
    {
     "data": {
      "image/png": "[encoded data removed]",
      "text/plain": [
       "<IPython.core.display.Image object>"
      ]
     },
     "metadata": {
      "image/png": {
       "height": 20,
       "width": 20
      }
     },
     "output_type": "display_data"
    },
    {
     "data": {
      "image/png": "[encoded data removed]",
      "text/plain": [
       "<IPython.core.display.Image object>"
      ]
     },
     "metadata": {
      "image/png": {
       "height": 20,
       "width": 20
      }
     },
     "output_type": "display_data"
    },
    {
     "data": {
      "image/png": "[encoded data removed]",
      "text/plain": [
       "<IPython.core.display.Image object>"
      ]
     },
     "metadata": {
      "image/png": {
       "height": 20,
       "width": 20
      }
     },
     "output_type": "display_data"
    },
    {
     "data": {
      "image/png": "[encoded data removed]",
      "text/plain": [
       "<IPython.core.display.Image object>"
      ]
     },
     "metadata": {
      "image/png": {
       "height": 20,
       "width": 20
      }
     },
     "output_type": "display_data"
    },
    {
     "data": {
      "image/png": "[encoded data removed]",
      "text/plain": [
       "<IPython.core.display.Image object>"
      ]
     },
     "metadata": {
      "image/png": {
       "height": 20,
       "width": 20
      }
     },
     "output_type": "display_data"
    },
    {
     "name": "stdout",
     "output_type": "stream",
     "text": [
      "Label:  G\n"
     ]
    },
    {
     "data": {
      "image/png": "[encoded data removed]",
      "text/plain": [
       "<IPython.core.display.Image object>"
      ]
     },
     "metadata": {
      "image/png": {
       "height": 20,
       "width": 20
      }
     },
     "output_type": "display_data"
    },
    {
     "data": {
      "image/png": "[encoded data removed]",
      "text/plain": [
       "<IPython.core.display.Image object>"
      ]
     },
     "metadata": {
      "image/png": {
       "height": 20,
       "width": 20
      }
     },
     "output_type": "display_data"
    },
    {
     "data": {
      "image/png": "[encoded data removed]",
      "text/plain": [
       "<IPython.core.display.Image object>"
      ]
     },
     "metadata": {
      "image/png": {
       "height": 20,
       "width": 20
      }
     },
     "output_type": "display_data"
    },
    {
     "data": {
      "image/png": "[encoded data removed]",
      "text/plain": [
       "<IPython.core.display.Image object>"
      ]
     },
     "metadata": {
      "image/png": {
       "height": 20,
       "width": 20
      }
     },
     "output_type": "display_data"
    },
    {
     "data": {
      "image/png": "[encoded data removed]",
      "text/plain": [
       "<IPython.core.display.Image object>"
      ]
     },
     "metadata": {
      "image/png": {
       "height": 20,
       "width": 20
      }
     },
     "output_type": "display_data"
    },
    {
     "name": "stdout",
     "output_type": "stream",
     "text": [
      "Label:  H\n"
     ]
    },
    {
     "data": {
      "image/png": "[encoded data removed]",
      "text/plain": [
       "<IPython.core.display.Image object>"
      ]
     },
     "metadata": {
      "image/png": {
       "height": 20,
       "width": 20
      }
     },
     "output_type": "display_data"
    },
    {
     "data": {
      "image/png": "[encoded data removed]",
      "text/plain": [
       "<IPython.core.display.Image object>"
      ]
     },
     "metadata": {
      "image/png": {
       "height": 20,
       "width": 20
      }
     },
     "output_type": "display_data"
    },
    {
     "data": {
      "image/png": "[encoded data removed]",
      "text/plain": [
       "<IPython.core.display.Image object>"
      ]
     },
     "metadata": {
      "image/png": {
       "height": 20,
       "width": 20
      }
     },
     "output_type": "display_data"
    },
    {
     "data": {
      "image/png": "[encoded data removed]",
      "text/plain": [
       "<IPython.core.display.Image object>"
      ]
     },
     "metadata": {
      "image/png": {
       "height": 20,
       "width": 20
      }
     },
     "output_type": "display_data"
    },
    {
     "data": {
      "image/png": "[encoded data removed]",
      "text/plain": [
       "<IPython.core.display.Image object>"
      ]
     },
     "metadata": {
      "image/png": {
       "height": 20,
       "width": 20
      }
     },
     "output_type": "display_data"
    },
    {
     "name": "stdout",
     "output_type": "stream",
     "text": [
      "Label:  I\n"
     ]
    },
    {
     "data": {
      "image/png": "[encoded data removed]",
      "text/plain": [
       "<IPython.core.display.Image object>"
      ]
     },
     "metadata": {
      "image/png": {
       "height": 20,
       "width": 20
      }
     },
     "output_type": "display_data"
    },
    {
     "data": {
      "image/png": "[encoded data removed]",
      "text/plain": [
       "<IPython.core.display.Image object>"
      ]
     },
     "metadata": {
      "image/png": {
       "height": 20,
       "width": 20
      }
     },
     "output_type": "display_data"
    },
    {
     "data": {
      "image/png": "[encoded data removed]",
      "text/plain": [
       "<IPython.core.display.Image object>"
      ]
     },
     "metadata": {
      "image/png": {
       "height": 20,
       "width": 20
      }
     },
     "output_type": "display_data"
    },
    {
     "data": {
      "image/png": "[encoded data removed]",
      "text/plain": [
       "<IPython.core.display.Image object>"
      ]
     },
     "metadata": {
      "image/png": {
       "height": 20,
       "width": 20
      }
     },
     "output_type": "display_data"
    },
    {
     "data": {
      "image/png": "[encoded data removed]",
      "text/plain": [
       "<IPython.core.display.Image object>"
      ]
     },
     "metadata": {
      "image/png": {
       "height": 20,
       "width": 20
      }
     },
     "output_type": "display_data"
    },
    {
     "name": "stdout",
     "output_type": "stream",
     "text": [
      "Label:  J\n"
     ]
    },
    {
     "data": {
      "image/png": "[encoded data removed]",
      "text/plain": [
       "<IPython.core.display.Image object>"
      ]
     },
     "metadata": {
      "image/png": {
       "height": 20,
       "width": 20
      }
     },
     "output_type": "display_data"
    },
    {
     "data": {
      "image/png": "[encoded data removed]",
      "text/plain": [
       "<IPython.core.display.Image object>"
      ]
     },
     "metadata": {
      "image/png": {
       "height": 20,
       "width": 20
      }
     },
     "output_type": "display_data"
    },
    {
     "data": {
      "image/png": "[encoded data removed]",
      "text/plain": [
       "<IPython.core.display.Image object>"
      ]
     },
     "metadata": {
      "image/png": {
       "height": 20,
       "width": 20
      }
     },
     "output_type": "display_data"
    },
    {
     "data": {
      "image/png": "[encoded data removed]",
      "text/plain": [
       "<IPython.core.display.Image object>"
      ]
     },
     "metadata": {
      "image/png": {
       "height": 20,
       "width": 20
      }
     },
     "output_type": "display_data"
    },
    {
     "data": {
      "image/png": "[encoded data removed]",
      "text/plain": [
       "<IPython.core.display.Image object>"
      ]
     },
     "metadata": {
      "image/png": {
       "height": 20,
       "width": 20
      }
     },
     "output_type": "display_data"
    }
   ],
   "source": [
    "import random\n",
    "\n",
    "# Visualise a sample of each label\n",
    "def display_images(filename, samples_per_label):\n",
    "    print ('Displaying images in: ', filename)\n",
    "    folder = os.path.join(data_root, filename)\n",
    "    for label in sorted(os.listdir(folder)):\n",
    "        if(label.endswith('.pickle') == False):\n",
    "            print ('Label: ', label)\n",
    "            label_folder = os.path.join(folder, label)\n",
    "            dirs = os.listdir(label_folder)\n",
    "            random.shuffle(dirs)\n",
    "            for image in dirs[:samples_per_label]:\n",
    "                display(Image(filename=os.path.join(label_folder, image), width=20.0, height=20.0))\n",
    "            \n",
    "display_images('notMNIST_large', 5)\n",
    "display_images('notMNIST_small', 5)"
   ]
  },
  {
   "cell_type": "code",
   "execution_count": 5,
   "metadata": {},
   "outputs": [],
   "source": [
    "def saveAsPickle(data,filename):\n",
    "    try:\n",
    "        with open(filename, 'wb') as f:\n",
    "            pickle.dump(data, f, pickle.HIGHEST_PROTOCOL)\n",
    "            print (filename + \" pickled!\")\n",
    "    except Exception as e:\n",
    "        print('Unable to save data to', filename, ':', e)\n",
    "        \n",
    "def loadPickle(file):\n",
    "    with open(file, 'rb') as pickle_file:\n",
    "        return pickle.load(pickle_file)"
   ]
  },
  {
   "cell_type": "code",
   "execution_count": 6,
   "metadata": {},
   "outputs": [
    {
     "name": "stdout",
     "output_type": "stream",
     "text": [
      "./dataset/notmnist/notMNIST_large/A.pickle already present - Skipping pickling.\n",
      "./dataset/notmnist/notMNIST_large/B.pickle already present - Skipping pickling.\n",
      "./dataset/notmnist/notMNIST_large/C.pickle already present - Skipping pickling.\n",
      "./dataset/notmnist/notMNIST_large/D.pickle already present - Skipping pickling.\n",
      "./dataset/notmnist/notMNIST_large/E.pickle already present - Skipping pickling.\n",
      "./dataset/notmnist/notMNIST_large/F.pickle already present - Skipping pickling.\n",
      "./dataset/notmnist/notMNIST_large/G.pickle already present - Skipping pickling.\n",
      "./dataset/notmnist/notMNIST_large/H.pickle already present - Skipping pickling.\n",
      "./dataset/notmnist/notMNIST_large/I.pickle already present - Skipping pickling.\n",
      "./dataset/notmnist/notMNIST_large/J.pickle already present - Skipping pickling.\n",
      "./dataset/notmnist/notMNIST_small/A.pickle already present - Skipping pickling.\n",
      "./dataset/notmnist/notMNIST_small/B.pickle already present - Skipping pickling.\n",
      "./dataset/notmnist/notMNIST_small/C.pickle already present - Skipping pickling.\n",
      "./dataset/notmnist/notMNIST_small/D.pickle already present - Skipping pickling.\n",
      "./dataset/notmnist/notMNIST_small/E.pickle already present - Skipping pickling.\n",
      "./dataset/notmnist/notMNIST_small/F.pickle already present - Skipping pickling.\n",
      "./dataset/notmnist/notMNIST_small/G.pickle already present - Skipping pickling.\n",
      "./dataset/notmnist/notMNIST_small/H.pickle already present - Skipping pickling.\n",
      "./dataset/notmnist/notMNIST_small/I.pickle already present - Skipping pickling.\n",
      "./dataset/notmnist/notMNIST_small/J.pickle already present - Skipping pickling.\n"
     ]
    }
   ],
   "source": [
    "image_size = 28  # Pixel width and height.\n",
    "pixel_depth = 255.0  # Number of levels per pixel.\n",
    "\n",
    "def load_letter(folder, min_num_images):\n",
    "    \"\"\"Load the data for a single letter label.\"\"\"\n",
    "    image_files = os.listdir(folder)\n",
    "    dataset = np.ndarray(shape=(len(image_files), image_size, image_size), dtype=np.float32)\n",
    "    print(folder)\n",
    "    num_images = 0\n",
    "    for image in image_files:\n",
    "        image_file = os.path.join(folder, image)\n",
    "        try:\n",
    "            image_data = (imageio.imread(image_file).astype(float) - pixel_depth / 2) / pixel_depth\n",
    "            if image_data.shape != (image_size, image_size):\n",
    "                raise Exception('Unexpected image shape: %s' % str(image_data.shape))\n",
    "            dataset[num_images, :, :] = image_data\n",
    "            num_images = num_images + 1\n",
    "        except (IOError, ValueError) as e:\n",
    "            print('Could not read:', image_file, ':', e, '- it\\'s ok, skipping.')\n",
    "    \n",
    "    dataset = dataset[0:num_images, :, :]\n",
    "    if num_images < min_num_images:\n",
    "        raise Exception('Many fewer images than expected: %d < %d' % (num_images, min_num_images))\n",
    "    \n",
    "    print('Full dataset tensor:', dataset.shape)\n",
    "    print('Mean:', np.mean(dataset))\n",
    "    print('Standard deviation:', np.std(dataset))\n",
    "    return dataset\n",
    "        \n",
    "def maybe_pickle(data_folders, min_num_images_per_class, force=False):\n",
    "    dataset_names = []\n",
    "    for folder in data_folders:\n",
    "        set_filename = folder + '.pickle'\n",
    "        dataset_names.append(set_filename)\n",
    "        if os.path.exists(set_filename) and not force:\n",
    "            # You may override by setting force=True.\n",
    "            print('%s already present - Skipping pickling.' % set_filename)\n",
    "        else:\n",
    "            print('Pickling %s.' % set_filename)\n",
    "            dataset = load_letter(folder, min_num_images_per_class)\n",
    "            try:\n",
    "                with open(set_filename, 'wb') as f:\n",
    "                    pickle.dump(dataset, f, pickle.HIGHEST_PROTOCOL)\n",
    "            except Exception as e:\n",
    "                print('Unable to save data to', set_filename, ':', e)\n",
    "  \n",
    "    return dataset_names\n",
    "\n",
    "train_datasets = maybe_pickle(train_folders, 45000)\n",
    "test_datasets = maybe_pickle(test_folders, 1800)"
   ]
  },
  {
   "cell_type": "code",
   "execution_count": 7,
   "metadata": {},
   "outputs": [
    {
     "name": "stdout",
     "output_type": "stream",
     "text": [
      "Displaying pickles from train dataset\n"
     ]
    },
    {
     "data": {
      "image/png": "[encoded data removed]",
      "text/plain": [
       "<Figure size 720x720 with 50 Axes>"
      ]
     },
     "metadata": {
      "needs_background": "light"
     },
     "output_type": "display_data"
    },
    {
     "name": "stdout",
     "output_type": "stream",
     "text": [
      "Displaying pickles from test dataset\n"
     ]
    },
    {
     "data": {
      "image/png": "[encoded data removed]",
      "text/plain": [
       "<Figure size 720x720 with 50 Axes>"
      ]
     },
     "metadata": {
      "needs_background": "light"
     },
     "output_type": "display_data"
    }
   ],
   "source": [
    "plt.rcParams['figure.figsize'] = (10.0, 10.0) # set default size of plots\n",
    "labels = ['A', 'B', 'C', 'D', 'E', 'F', 'G', 'H', 'I', 'J']\n",
    "num_labels = len(labels)\n",
    "\n",
    "def display_pickle(dataset, samples_per_label):\n",
    "    for y, label in enumerate(labels):\n",
    "        pickles = pickle.load(open(dataset[y], 'rb'))\n",
    "        idxs = np.random.choice(pickles.shape[0], samples_per_label, replace=False)\n",
    "        for i, idx in enumerate(idxs):\n",
    "            plt_idx = i * num_labels + y + 1\n",
    "            plt.subplot(samples_per_label, num_labels, plt_idx)\n",
    "            plt.imshow(pickles[idx, :, :])\n",
    "            plt.axis('off')\n",
    "            if i == 0:\n",
    "                plt.title(label)\n",
    "    plt.show()\n",
    "    \n",
    "\n",
    "print ('Displaying pickles from train dataset')\n",
    "display_pickle(train_datasets, 5)\n",
    "print ('Displaying pickles from test dataset')\n",
    "display_pickle(test_datasets, 5)"
   ]
  },
  {
   "cell_type": "code",
   "execution_count": 8,
   "metadata": {},
   "outputs": [
    {
     "name": "stdout",
     "output_type": "stream",
     "text": [
      "Train dataset already exists\n",
      "Validation dataset already exists\n",
      "Test dataset already exists\n"
     ]
    }
   ],
   "source": [
    "img_size = image_size\n",
    "new_size = (28, 56)\n",
    "\n",
    "def make_arrays(nb_rows, size):\n",
    "    if nb_rows:\n",
    "        dataset = np.ndarray((nb_rows, size[0], size[1]), dtype=np.float32)\n",
    "        labels = np.ndarray((nb_rows, 5), dtype=np.int32)\n",
    "    else:\n",
    "        dataset, labels = None, None\n",
    "    return dataset, labels\n",
    "\n",
    "def merge_datasets(pickle_files, dataset_size):\n",
    "    dataset, labels = make_arrays(dataset_size, new_size)\n",
    "    pickles = []\n",
    "    for i in range(10):\n",
    "        pickles.append(pickle.load(open(pickle_files[i], 'rb')))\n",
    "\n",
    "    for i in range(dataset_size):\n",
    "        # Generate a random label with max length 5 chars\n",
    "        data_length  = np.random.choice(5, 1)[0] + 1\n",
    "#         data_length = 5\n",
    "        random_chars = np.random.choice(10, data_length)\n",
    "#         random_chars = np.random.choice(9, data_length)\n",
    "        data_label   = np.append(random_chars, np.full(5 - data_length, 10, dtype=int))\n",
    "        \n",
    "        chars = []\n",
    "        \n",
    "        for char in random_chars:\n",
    "            index = np.random.choice(len(pickles[char]), 1)\n",
    "            chars.append(np.reshape(pickles[char][index, :, :], (img_size, img_size)))\n",
    "\n",
    "        image = np.ndarray((img_size, data_length * img_size))\n",
    "        \n",
    "        for idx, char in enumerate(chars):\n",
    "            image[:, img_size*idx:img_size*(idx+1)] = char\n",
    "\n",
    "        image = skimage.transform.resize(image, new_size)\n",
    "\n",
    "        dataset[i] = image\n",
    "        labels[i]  = data_label\n",
    "    return (dataset, labels)\n",
    "\n",
    "if not os.path.exists(os.path.join(data_root, 'train_no_length.pickle')):\n",
    "    train = merge_datasets(train_datasets, 200000)\n",
    "    saveAsPickle(train, os.path.join(data_root, 'train_no_length.pickle'))\n",
    "else:\n",
    "    print('Train dataset already exists')\n",
    "    train = loadPickle(os.path.join(data_root, 'train_no_length.pickle'))\n",
    "if not os.path.exists(os.path.join(data_root, 'valid_no_length.pickle')):\n",
    "    valid = merge_datasets(train_datasets, 5000)\n",
    "    saveAsPickle(valid, os.path.join(data_root, 'valid_no_length.pickle'))\n",
    "else:\n",
    "    print('Validation dataset already exists')\n",
    "    valid = loadPickle(os.path.join(data_root, 'valid_no_length.pickle'))\n",
    "if not os.path.exists(os.path.join(data_root, 'test_no_length.pickle')):\n",
    "    test  = merge_datasets(test_datasets, 10000)\n",
    "    saveAsPickle(test, os.path.join(data_root, 'test_no_length.pickle'))\n",
    "else:\n",
    "    print('Test dataset already exists')\n",
    "    test  = loadPickle(os.path.join(data_root, 'test_no_length.pickle'))"
   ]
  },
  {
   "cell_type": "code",
   "execution_count": 9,
   "metadata": {},
   "outputs": [],
   "source": [
    "def randomize(dataset, labels):\n",
    "    permutation = np.random.permutation(labels.shape[0])\n",
    "    shuffled_dataset = dataset[permutation,:,:]\n",
    "    shuffled_labels = labels[permutation]\n",
    "    return shuffled_dataset, shuffled_labels\n",
    "\n",
    "train_dataset, train_labels = randomize(train[0], train[1])\n",
    "test_dataset, test_labels = randomize(test[0], test[1])\n",
    "valid_dataset, valid_labels = randomize(valid[0], valid[1])"
   ]
  },
  {
   "cell_type": "code",
   "execution_count": 10,
   "metadata": {},
   "outputs": [
    {
     "name": "stdout",
     "output_type": "stream",
     "text": [
      "Displaying training images\n",
      "[[5 8 6 3 6]\n",
      " [8 5 3 4 1]\n",
      " [6 8 0 0 6]]\n"
     ]
    },
    {
     "data": {
      "image/png": "[encoded data removed]",
      "text/plain": [
       "<Figure size 720x720 with 3 Axes>"
      ]
     },
     "metadata": {
      "needs_background": "light"
     },
     "output_type": "display_data"
    },
    {
     "name": "stdout",
     "output_type": "stream",
     "text": [
      "Displaying test images\n",
      "[[1 8 5 2 5]\n",
      " [0 0 7 0 1]\n",
      " [0 4 1 6 7]]\n"
     ]
    },
    {
     "data": {
      "image/png": "[encoded data removed]",
      "text/plain": [
       "<Figure size 720x720 with 3 Axes>"
      ]
     },
     "metadata": {
      "needs_background": "light"
     },
     "output_type": "display_data"
    },
    {
     "name": "stdout",
     "output_type": "stream",
     "text": [
      "Displaying validation images\n",
      "[[0 5 4 0 0]\n",
      " [5 4 2 0 6]\n",
      " [2 8 6 2 8]]\n"
     ]
    },
    {
     "data": {
      "image/png": "[encoded data removed]",
      "text/plain": [
       "<Figure size 720x720 with 3 Axes>"
      ]
     },
     "metadata": {
      "needs_background": "light"
     },
     "output_type": "display_data"
    }
   ],
   "source": [
    "def display_dataset(dataset, labels, samples_per_label):\n",
    "    idxs = np.random.choice(dataset.shape[0], samples_per_label, replace=False)\n",
    "    for i, idx in enumerate(idxs):\n",
    "        plt_idx = i + 1\n",
    "        plt.subplot(1, samples_per_label, plt_idx)\n",
    "        plt.imshow(dataset[idx])\n",
    "        plt.axis('off')\n",
    "    print(labels[idxs])\n",
    "    plt.show()\n",
    "    \n",
    "print ('Displaying training images')\n",
    "display_dataset(train_dataset, train_labels, 3)\n",
    "print ('Displaying test images')\n",
    "display_dataset(test_dataset, test_labels, 3)\n",
    "print ('Displaying validation images')\n",
    "display_dataset(valid_dataset, valid_labels, 3)"
   ]
  },
  {
   "cell_type": "code",
   "execution_count": 11,
   "metadata": {},
   "outputs": [
    {
     "name": "stdout",
     "output_type": "stream",
     "text": [
      "Training set (200000, 28, 56, 1) (200000, 5, 11)\n",
      "Validation set (5000, 28, 56, 1) (5000, 5, 11)\n",
      "Test set (10000, 28, 56, 1) (10000, 5, 11)\n"
     ]
    }
   ],
   "source": [
    "new_size = (28, 56)\n",
    "num_labels = 11\n",
    "num_channels = 1 # grayscale\n",
    "\n",
    "import numpy as np\n",
    "\n",
    "def reformat(dataset, labels):\n",
    "    dataset = dataset.reshape((-1, new_size[0], new_size[1], num_channels)).astype(np.float32)\n",
    "    labels = np.eye(11)[labels]\n",
    "    \n",
    "    return dataset, labels\n",
    "\n",
    "train_dataset, train_labels = reformat(train_dataset, train_labels)\n",
    "valid_dataset, valid_labels = reformat(valid_dataset, valid_labels)\n",
    "test_dataset, test_labels = reformat(test_dataset, test_labels)\n",
    "\n",
    "print('Training set', train_dataset.shape, train_labels.shape)\n",
    "print('Validation set', valid_dataset.shape, valid_labels.shape)\n",
    "print('Test set', test_dataset.shape, test_labels.shape)"
   ]
  },
  {
   "cell_type": "code",
   "execution_count": 12,
   "metadata": {},
   "outputs": [],
   "source": [
    "def accuracy(predictions, labels):\n",
    "    predictions = np.transpose(predictions, (1, 0, 2))\n",
    "    global_acc = 100.0 * np.mean(np.prod(np.argmax(predictions, 2) == np.argmax(labels, 2), 1))\n",
    "    individual_acc = 100 *np.mean(np.argmax(predictions,2) == np.argmax(labels, 2), 0)\n",
    "    return [global_acc, individual_acc]"
   ]
  },
  {
   "cell_type": "markdown",
   "metadata": {},
   "source": [
    "## Network"
   ]
  },
  {
   "cell_type": "code",
   "execution_count": 13,
   "metadata": {},
   "outputs": [],
   "source": [
    "batch_size = 32\n",
    "patch_size = 5\n",
    "depth = 16\n",
    "num_hidden = 64\n",
    "image_size = (28, 56)\n",
    "num_outputs = 5\n",
    "\n",
    "graph = tf.Graph()\n",
    "\n",
    "with graph.as_default():\n",
    "\n",
    "    # Input data.\n",
    "    tf_train_dataset = tf.placeholder(tf.float32, shape=(batch_size, image_size[0], image_size[1], num_channels))\n",
    "    tf_train_labels  = tf.placeholder(tf.float32, shape=(batch_size, num_outputs, num_labels))\n",
    "    tf_valid_dataset = tf.constant(valid_dataset)\n",
    "    tf_test_dataset  = tf.constant(test_dataset)\n",
    "  \n",
    "    # Variables.\n",
    "    ## First convolutional layer\n",
    "    conv1_weights = tf.Variable(tf.truncated_normal([patch_size, patch_size, num_channels, depth], stddev=0.1))\n",
    "    conv1_biases  = tf.Variable(tf.zeros([depth]))\n",
    "    \n",
    "    ## Second convolutional layer\n",
    "    conv2_weights = tf.Variable(tf.truncated_normal([patch_size, patch_size, depth, depth], stddev=0.1))\n",
    "    conv2_biases  = tf.Variable(tf.constant(1.0, shape=[depth]))\n",
    "    \n",
    "    ## fully connected layer\n",
    "    fc1_weights = tf.Variable(tf.truncated_normal(\n",
    "        [image_size[0] // 4 * image_size[1] // 4 * depth, num_hidden], stddev=0.1))\n",
    "    fc1_biases  = tf.Variable(tf.constant(1.0, shape=[num_hidden]))\n",
    "    \n",
    "    ## softmax\n",
    "    softmax1_weights = tf.Variable(tf.truncated_normal([num_hidden, num_labels], stddev=0.1))\n",
    "    softmax1_biases  = tf.Variable(tf.constant(1.0, shape=[num_labels]))\n",
    "    \n",
    "    softmax2_weights = tf.Variable(tf.truncated_normal([num_hidden, num_labels], stddev=0.1))\n",
    "    softmax2_biases  = tf.Variable(tf.constant(1.0, shape=[num_labels]))\n",
    "    \n",
    "    softmax3_weights = tf.Variable(tf.truncated_normal([num_hidden, num_labels], stddev=0.1))\n",
    "    softmax3_biases  = tf.Variable(tf.constant(1.0, shape=[num_labels]))\n",
    "    \n",
    "    softmax4_weights = tf.Variable(tf.truncated_normal([num_hidden, num_labels], stddev=0.1))\n",
    "    softmax4_biases  = tf.Variable(tf.constant(1.0, shape=[num_labels]))\n",
    "    \n",
    "    softmax5_weights = tf.Variable(tf.truncated_normal([num_hidden, num_labels], stddev=0.1))\n",
    "    softmax5_biases  = tf.Variable(tf.constant(1.0, shape=[num_labels]))\n",
    "  \n",
    "    # Model.\n",
    "    def model(data):\n",
    "        # first conv\n",
    "        conv   = tf.nn.conv2d(data, conv1_weights, [1, 1, 1, 1], padding='SAME')\n",
    "        conv   = tf.nn.relu(conv + conv1_biases)\n",
    "        hidden = tf.nn.max_pool(conv, ksize=[1, 2, 2, 1], strides=[1, 2, 2, 1], padding='SAME')\n",
    "        \n",
    "        # second conv\n",
    "        conv   = tf.nn.conv2d(hidden, conv2_weights, [1, 1, 1, 1], padding='SAME')\n",
    "        conv   = tf.nn.relu(conv + conv2_biases)\n",
    "        hidden = tf.nn.max_pool(conv, ksize=[1, 2, 2, 1], strides=[1, 2, 2, 1], padding='SAME')\n",
    "        \n",
    "        # flatten\n",
    "        shape   = hidden.get_shape().as_list()\n",
    "        reshape = tf.reshape(hidden, [shape[0], shape[1] * shape[2] * shape[3]])\n",
    "        \n",
    "        # fc\n",
    "        hidden  = tf.nn.relu(tf.matmul(reshape, fc1_weights) + fc1_biases)\n",
    "        \n",
    "        # classifiers\n",
    "        classifier1 = tf.matmul(hidden, softmax1_weights) + softmax1_biases\n",
    "        classifier2 = tf.matmul(hidden, softmax2_weights) + softmax2_biases\n",
    "        classifier3 = tf.matmul(hidden, softmax3_weights) + softmax3_biases\n",
    "        classifier4 = tf.matmul(hidden, softmax4_weights) + softmax4_biases\n",
    "        classifier5 = tf.matmul(hidden, softmax5_weights) + softmax5_biases\n",
    "        \n",
    "        return [classifier1, classifier2, classifier3, classifier4, classifier5]\n",
    "  \n",
    "    # Training computation.\n",
    "    logits = model(tf_train_dataset)\n",
    "    \n",
    "    total_loss = 0\n",
    "    for i in range(len(logits)):\n",
    "        total_loss += tf.reduce_mean(tf.nn.softmax_cross_entropy_with_logits_v2(\n",
    "            labels=tf_train_labels[:, i], logits=logits[i]))\n",
    "    tf_loss_summary = tf.summary.scalar('loss', total_loss)\n",
    "        \n",
    "    \n",
    "    # Optimizer.\n",
    "    optimizer = tf.train.GradientDescentOptimizer(0.05).minimize(total_loss)\n",
    "  \n",
    "    # Predictions for the training, validation, and test data.\n",
    "    def prediction(logits):\n",
    "        prediction = []\n",
    "        for logit in logits:\n",
    "            prediction.append(tf.nn.softmax(logit))\n",
    "        return tf.stack(prediction)\n",
    "    \n",
    "    train_predictions = prediction(logits)\n",
    "    \n",
    "    valid_predictions = prediction(model(tf_valid_dataset))\n",
    "    \n",
    "    test_predictions = prediction(model(tf_test_dataset))"
   ]
  },
  {
   "cell_type": "code",
   "execution_count": 15,
   "metadata": {},
   "outputs": [
    {
     "name": "stdout",
     "output_type": "stream",
     "text": [
      "Initialized\n",
      "step 0:\n",
      "\tMinibatch loss: 21.575414657592773\n",
      "\tMinibatch accuracies: [0.0, array([ 0.   , 18.75 , 18.75 ,  9.375,  6.25 ])]\n",
      "Validation accuracies: [0.0, array([11.68, 11.24, 11.04, 10.04, 11.1 ])]\n",
      "step 100:\n",
      "\tMinibatch loss: 9.19070053100586\n",
      "\tMinibatch accuracies: [0.0, array([46.875, 34.375, 46.875, 21.875, 34.375])]\n",
      "Validation accuracies: [0.12, array([29.2 , 26.34, 30.86, 24.5 , 31.84])]\n",
      "step 200:\n",
      "\tMinibatch loss: 6.357753276824951\n",
      "\tMinibatch accuracies: [3.125, array([56.25 , 59.375, 43.75 , 62.5  , 65.625])]\n",
      "Validation accuracies: [2.88, array([53.54, 45.46, 45.5 , 53.12, 59.5 ])]\n",
      "step 300:\n",
      "\tMinibatch loss: 5.785181999206543\n",
      "\tMinibatch accuracies: [12.5, array([59.375, 56.25 , 50.   , 75.   , 65.625])]\n",
      "Validation accuracies: [8.88, array([62.48, 55.08, 61.06, 66.38, 67.52])]\n",
      "step 400:\n",
      "\tMinibatch loss: 4.07443380355835\n",
      "\tMinibatch accuracies: [25.0, array([75.   , 75.   , 65.625, 65.625, 71.875])]\n",
      "Validation accuracies: [11.360000000000001, array([68.1 , 65.52, 59.14, 65.48, 71.3 ])]\n",
      "step 500:\n",
      "\tMinibatch loss: 4.564608097076416\n",
      "\tMinibatch accuracies: [28.125, array([75.   , 78.125, 68.75 , 78.125, 90.625])]\n",
      "Validation accuracies: [16.96, array([70.44, 71.52, 67.2 , 71.96, 75.38])]\n",
      "step 600:\n",
      "\tMinibatch loss: 4.790213584899902\n",
      "\tMinibatch accuracies: [21.875, array([90.625, 65.625, 62.5  , 65.625, 71.875])]\n",
      "Validation accuracies: [19.12, array([74.26, 71.28, 71.5 , 72.8 , 73.62])]\n",
      "step 700:\n",
      "\tMinibatch loss: 3.8901853561401367\n",
      "\tMinibatch accuracies: [34.375, array([81.25 , 78.125, 75.   , 78.125, 84.375])]\n",
      "Validation accuracies: [26.06, array([77.52, 75.62, 74.7 , 76.62, 79.62])]\n",
      "step 800:\n",
      "\tMinibatch loss: 3.6536386013031006\n",
      "\tMinibatch accuracies: [21.875, array([68.75 , 84.375, 56.25 , 87.5  , 81.25 ])]\n",
      "Validation accuracies: [26.82, array([75.42, 75.1 , 77.22, 79.9 , 77.92])]\n",
      "step 900:\n",
      "\tMinibatch loss: 3.24273419380188\n",
      "\tMinibatch accuracies: [28.125, array([65.625, 81.25 , 84.375, 84.375, 84.375])]\n",
      "Validation accuracies: [28.82, array([76.76, 78.26, 78.34, 79.02, 80.66])]\n",
      "step 1000:\n",
      "\tMinibatch loss: 3.0125863552093506\n",
      "\tMinibatch accuracies: [40.625, array([81.25 , 84.375, 81.25 , 84.375, 81.25 ])]\n",
      "Validation accuracies: [30.759999999999998, array([80.7 , 79.58, 79.24, 77.9 , 78.78])]\n",
      "step 1100:\n",
      "\tMinibatch loss: 2.8196706771850586\n",
      "\tMinibatch accuracies: [43.75, array([81.25 , 78.125, 93.75 , 87.5  , 84.375])]\n",
      "Validation accuracies: [32.54, array([81.02, 78.52, 80.84, 79.88, 81.16])]\n",
      "step 1200:\n",
      "\tMinibatch loss: 3.579683303833008\n",
      "\tMinibatch accuracies: [43.75, array([78.125, 81.25 , 87.5  , 71.875, 87.5  ])]\n",
      "Validation accuracies: [29.98, array([79.68, 75.16, 78.62, 79.32, 81.78])]\n",
      "step 1300:\n",
      "\tMinibatch loss: 2.9468612670898438\n",
      "\tMinibatch accuracies: [34.375, array([84.375, 75.   , 87.5  , 75.   , 84.375])]\n",
      "Validation accuracies: [34.74, array([81.08, 81.22, 80.78, 81.94, 81.24])]\n",
      "step 1400:\n",
      "\tMinibatch loss: 4.117060661315918\n",
      "\tMinibatch accuracies: [28.125, array([75.   , 84.375, 71.875, 78.125, 75.   ])]\n",
      "Validation accuracies: [33.14, array([79.52, 81.52, 80.64, 80.4 , 80.84])]\n",
      "step 1500:\n",
      "\tMinibatch loss: 3.7659149169921875\n",
      "\tMinibatch accuracies: [34.375, array([81.25 , 81.25 , 75.   , 81.25 , 71.875])]\n",
      "Validation accuracies: [29.94, array([79.6 , 78.62, 77.74, 78.66, 79.78])]\n",
      "step 1600:\n",
      "\tMinibatch loss: 3.1967828273773193\n",
      "\tMinibatch accuracies: [40.625, array([71.875, 81.25 , 87.5  , 75.   , 96.875])]\n",
      "Validation accuracies: [37.16, array([81.6 , 81.  , 82.82, 81.8 , 82.82])]\n",
      "step 1700:\n",
      "\tMinibatch loss: 3.084113836288452\n",
      "\tMinibatch accuracies: [40.625, array([87.5  , 75.   , 75.   , 84.375, 87.5  ])]\n",
      "Validation accuracies: [31.480000000000004, array([82.3 , 80.42, 78.74, 80.94, 75.68])]\n",
      "step 1800:\n",
      "\tMinibatch loss: 2.440305233001709\n",
      "\tMinibatch accuracies: [34.375, array([84.375, 81.25 , 87.5  , 84.375, 81.25 ])]\n",
      "Validation accuracies: [36.08, array([81.16, 81.36, 83.16, 80.72, 83.08])]\n",
      "step 1900:\n",
      "\tMinibatch loss: 2.4128880500793457\n",
      "\tMinibatch accuracies: [40.625, array([87.5  , 81.25 , 84.375, 87.5  , 87.5  ])]\n",
      "Validation accuracies: [37.78, array([82.16, 81.48, 83.4 , 83.32, 82.7 ])]\n",
      "step 2000:\n",
      "\tMinibatch loss: 1.9352190494537354\n",
      "\tMinibatch accuracies: [50.0, array([81.25 , 90.625, 87.5  , 90.625, 90.625])]\n",
      "Validation accuracies: [39.36, array([82.96, 82.06, 82.74, 83.76, 83.5 ])]\n",
      "step 2100:\n",
      "\tMinibatch loss: 2.382491111755371\n",
      "\tMinibatch accuracies: [50.0, array([81.25 , 81.25 , 90.625, 96.875, 90.625])]\n",
      "Validation accuracies: [37.419999999999995, array([81.34, 82.4 , 82.42, 83.28, 82.38])]\n",
      "step 2200:\n",
      "\tMinibatch loss: 3.0993170738220215\n",
      "\tMinibatch accuracies: [43.75, array([78.125, 78.125, 84.375, 78.125, 90.625])]\n",
      "Validation accuracies: [35.74, array([82.14, 79.58, 82.62, 82.18, 83.12])]\n",
      "step 2300:\n",
      "\tMinibatch loss: 2.2734768390655518\n",
      "\tMinibatch accuracies: [50.0, array([71.875, 93.75 , 90.625, 96.875, 87.5  ])]\n",
      "Validation accuracies: [38.26, array([82.9 , 81.94, 82.72, 83.22, 83.42])]\n",
      "step 2400:\n",
      "\tMinibatch loss: 2.876513957977295\n",
      "\tMinibatch accuracies: [31.25, array([84.375, 71.875, 81.25 , 87.5  , 84.375])]\n",
      "Validation accuracies: [38.72, array([83.56, 82.64, 82.04, 83.64, 83.34])]\n",
      "step 2500:\n",
      "\tMinibatch loss: 2.5959434509277344\n",
      "\tMinibatch accuracies: [56.25, array([87.5  , 78.125, 84.375, 87.5  , 81.25 ])]\n",
      "Validation accuracies: [40.04, array([84.12, 82.82, 83.98, 83.54, 83.76])]\n",
      "step 2600:\n",
      "\tMinibatch loss: 2.4758219718933105\n",
      "\tMinibatch accuracies: [37.5, array([87.5  , 90.625, 81.25 , 93.75 , 68.75 ])]\n",
      "Validation accuracies: [39.04, array([84.06, 82.66, 82.5 , 83.42, 83.42])]\n",
      "step 2700:\n",
      "\tMinibatch loss: 2.505239725112915\n",
      "\tMinibatch accuracies: [43.75, array([81.25 , 90.625, 81.25 , 84.375, 90.625])]\n",
      "Validation accuracies: [40.18, array([83.8 , 82.82, 83.92, 84.34, 83.08])]\n",
      "step 2800:\n",
      "\tMinibatch loss: 3.5730128288269043\n",
      "\tMinibatch accuracies: [37.5, array([81.25 , 87.5  , 84.375, 78.125, 87.5  ])]\n",
      "Validation accuracies: [37.68, array([83.4 , 81.7 , 82.28, 83.58, 82.3 ])]\n",
      "step 2900:\n",
      "\tMinibatch loss: 2.9861366748809814\n",
      "\tMinibatch accuracies: [43.75, array([90.625, 84.375, 81.25 , 87.5  , 78.125])]\n",
      "Validation accuracies: [39.5, array([84.26, 82.94, 83.  , 83.84, 83.24])]\n",
      "step 3000:\n",
      "\tMinibatch loss: 2.456833600997925\n",
      "\tMinibatch accuracies: [46.875, array([90.625, 87.5  , 75.   , 90.625, 87.5  ])]\n",
      "Validation accuracies: [39.94, array([83.72, 82.44, 84.22, 83.26, 83.1 ])]\n",
      "step 3100:\n",
      "\tMinibatch loss: 1.947509765625\n",
      "\tMinibatch accuracies: [56.25, array([90.625, 81.25 , 96.875, 90.625, 93.75 ])]\n",
      "Validation accuracies: [39.22, array([83.46, 82.22, 84.28, 83.26, 83.74])]\n",
      "step 3200:\n",
      "\tMinibatch loss: 2.2430572509765625\n",
      "\tMinibatch accuracies: [43.75, array([90.625, 90.625, 87.5  , 84.375, 78.125])]\n",
      "Validation accuracies: [40.400000000000006, array([84.38, 82.92, 84.24, 84.2 , 83.22])]\n",
      "step 3300:\n",
      "\tMinibatch loss: 3.006286382675171\n",
      "\tMinibatch accuracies: [34.375, array([90.625, 84.375, 68.75 , 81.25 , 84.375])]\n",
      "Validation accuracies: [39.36, array([82.36, 82.66, 84.28, 83.2 , 84.12])]\n",
      "step 3400:\n",
      "\tMinibatch loss: 3.078103542327881\n",
      "\tMinibatch accuracies: [21.875, array([84.375, 75.   , 81.25 , 81.25 , 78.125])]\n",
      "Validation accuracies: [40.06, array([83.48, 83.58, 83.86, 84.2 , 82.64])]\n",
      "step 3500:\n",
      "\tMinibatch loss: 2.810547351837158\n",
      "\tMinibatch accuracies: [31.25, array([84.375, 87.5  , 81.25 , 81.25 , 81.25 ])]\n",
      "Validation accuracies: [41.199999999999996, array([84.48, 82.6 , 84.56, 83.42, 83.94])]\n",
      "step 3600:\n",
      "\tMinibatch loss: 2.8244221210479736\n",
      "\tMinibatch accuracies: [46.875, array([78.125, 81.25 , 84.375, 84.375, 93.75 ])]\n",
      "Validation accuracies: [41.099999999999994, array([84.34, 83.1 , 84.02, 84.8 , 84.28])]\n",
      "step 3700:\n",
      "\tMinibatch loss: 3.3014755249023438\n",
      "\tMinibatch accuracies: [34.375, array([68.75 , 75.   , 96.875, 71.875, 87.5  ])]\n",
      "Validation accuracies: [40.58, array([82.48, 83.14, 84.64, 83.8 , 84.12])]\n",
      "step 3800:\n",
      "\tMinibatch loss: 3.0735950469970703\n",
      "\tMinibatch accuracies: [40.625, array([71.875, 96.875, 81.25 , 75.   , 87.5  ])]\n",
      "Validation accuracies: [40.760000000000005, array([84.32, 83.08, 83.82, 83.68, 84.06])]\n",
      "step 3900:\n",
      "\tMinibatch loss: 2.9316859245300293\n",
      "\tMinibatch accuracies: [37.5, array([84.375, 90.625, 75.   , 84.375, 75.   ])]\n",
      "Validation accuracies: [42.24, array([85.38, 83.3 , 85.62, 84.06, 84.28])]\n",
      "step 4000:\n",
      "\tMinibatch loss: 2.9705970287323\n",
      "\tMinibatch accuracies: [46.875, array([81.25 , 71.875, 84.375, 93.75 , 84.375])]\n"
     ]
    },
    {
     "name": "stdout",
     "output_type": "stream",
     "text": [
      "Validation accuracies: [42.120000000000005, array([85.04, 83.34, 84.62, 84.22, 84.76])]\n",
      "step 4100:\n",
      "\tMinibatch loss: 2.167698860168457\n",
      "\tMinibatch accuracies: [50.0, array([78.125, 87.5  , 84.375, 93.75 , 93.75 ])]\n",
      "Validation accuracies: [42.480000000000004, array([85.32, 83.82, 84.64, 84.16, 84.52])]\n",
      "step 4200:\n",
      "\tMinibatch loss: 2.409557819366455\n",
      "\tMinibatch accuracies: [46.875, array([93.75, 87.5 , 75.  , 81.25, 87.5 ])]\n",
      "Validation accuracies: [43.26, array([85.26, 83.7 , 84.82, 85.22, 84.82])]\n",
      "step 4300:\n",
      "\tMinibatch loss: 3.4230473041534424\n",
      "\tMinibatch accuracies: [31.25, array([84.375, 90.625, 71.875, 81.25 , 75.   ])]\n",
      "Validation accuracies: [42.54, array([84.66, 84.42, 84.72, 85.54, 84.08])]\n",
      "step 4400:\n",
      "\tMinibatch loss: 2.9876270294189453\n",
      "\tMinibatch accuracies: [37.5, array([78.125, 87.5  , 84.375, 84.375, 78.125])]\n",
      "Validation accuracies: [42.28, array([84.94, 84.04, 84.98, 84.46, 84.86])]\n",
      "step 4500:\n",
      "\tMinibatch loss: 2.982471466064453\n",
      "\tMinibatch accuracies: [37.5, array([90.625, 78.125, 81.25 , 87.5  , 75.   ])]\n",
      "Validation accuracies: [42.6, array([85.24, 83.44, 84.54, 84.08, 85.16])]\n",
      "step 4600:\n",
      "\tMinibatch loss: 2.938589572906494\n",
      "\tMinibatch accuracies: [40.625, array([81.25 , 87.5  , 81.25 , 78.125, 78.125])]\n",
      "Validation accuracies: [43.38, array([84.8 , 84.84, 85.32, 84.76, 84.94])]\n",
      "step 4700:\n",
      "\tMinibatch loss: 2.5769076347351074\n",
      "\tMinibatch accuracies: [40.625, array([93.75 , 90.625, 71.875, 90.625, 87.5  ])]\n",
      "Validation accuracies: [43.059999999999995, array([85.08, 83.76, 84.58, 84.74, 84.84])]\n",
      "step 4800:\n",
      "\tMinibatch loss: 3.3701252937316895\n",
      "\tMinibatch accuracies: [25.0, array([84.375, 62.5  , 84.375, 81.25 , 90.625])]\n",
      "Validation accuracies: [42.68, array([85.14, 83.24, 84.92, 85.1 , 84.8 ])]\n",
      "step 4900:\n",
      "\tMinibatch loss: 2.545250654220581\n",
      "\tMinibatch accuracies: [43.75, array([75.   , 84.375, 90.625, 81.25 , 90.625])]\n",
      "Validation accuracies: [44.2, array([85.3 , 84.14, 85.72, 85.04, 85.14])]\n",
      "step 5000:\n",
      "\tMinibatch loss: 2.136188507080078\n",
      "\tMinibatch accuracies: [53.125, array([81.25, 87.5 , 93.75, 87.5 , 87.5 ])]\n",
      "Validation accuracies: [41.94, array([85.34, 84.  , 85.36, 84.68, 82.22])]\n",
      "step 5100:\n",
      "\tMinibatch loss: 3.121804714202881\n",
      "\tMinibatch accuracies: [31.25, array([78.125, 71.875, 84.375, 81.25 , 78.125])]\n",
      "Validation accuracies: [42.46, array([84.26, 83.16, 84.88, 84.86, 84.94])]\n",
      "step 5200:\n",
      "\tMinibatch loss: 2.7994179725646973\n",
      "\tMinibatch accuracies: [40.625, array([90.625, 81.25 , 84.375, 75.   , 84.375])]\n",
      "Validation accuracies: [43.9, array([85.48, 83.52, 85.24, 85.32, 85.36])]\n",
      "step 5300:\n",
      "\tMinibatch loss: 2.800637722015381\n",
      "\tMinibatch accuracies: [40.625, array([84.375, 90.625, 81.25 , 71.875, 90.625])]\n",
      "Validation accuracies: [43.76, array([84.58, 84.24, 85.12, 85.1 , 85.2 ])]\n",
      "step 5400:\n",
      "\tMinibatch loss: 3.169562578201294\n",
      "\tMinibatch accuracies: [31.25, array([81.25 , 84.375, 81.25 , 78.125, 78.125])]\n",
      "Validation accuracies: [44.080000000000005, array([85.8 , 83.44, 85.46, 85.74, 85.36])]\n",
      "step 5500:\n",
      "\tMinibatch loss: 2.1593518257141113\n",
      "\tMinibatch accuracies: [46.875, array([84.375, 75.   , 81.25 , 93.75 , 90.625])]\n",
      "Validation accuracies: [43.82, array([85.52, 83.66, 85.58, 85.28, 84.88])]\n",
      "step 5600:\n",
      "\tMinibatch loss: 2.132225751876831\n",
      "\tMinibatch accuracies: [53.125, array([78.125, 90.625, 84.375, 93.75 , 87.5  ])]\n",
      "Validation accuracies: [44.66, array([85.76, 84.46, 85.32, 85.56, 85.26])]\n",
      "step 5700:\n",
      "\tMinibatch loss: 3.26235032081604\n",
      "\tMinibatch accuracies: [31.25, array([87.5  , 84.375, 78.125, 84.375, 71.875])]\n",
      "Validation accuracies: [43.82, array([85.76, 84.24, 85.5 , 85.02, 84.76])]\n",
      "step 5800:\n",
      "\tMinibatch loss: 1.609960913658142\n",
      "\tMinibatch accuracies: [59.375, array([87.5  , 81.25 , 96.875, 93.75 , 96.875])]\n",
      "Validation accuracies: [44.28, array([85.98, 83.82, 85.9 , 84.74, 85.7 ])]\n",
      "step 5900:\n",
      "\tMinibatch loss: 2.7862491607666016\n",
      "\tMinibatch accuracies: [37.5, array([87.5  , 78.125, 75.   , 84.375, 87.5  ])]\n",
      "Validation accuracies: [45.26, array([85.92, 84.86, 86.  , 84.52, 85.6 ])]\n",
      "step 6000:\n",
      "\tMinibatch loss: 1.280776023864746\n",
      "\tMinibatch accuracies: [68.75, array([87.5  , 96.875, 96.875, 87.5  , 96.875])]\n",
      "Validation accuracies: [45.019999999999996, array([85.86, 84.44, 85.94, 85.66, 84.98])]\n",
      "step 6100:\n",
      "\tMinibatch loss: 2.252525806427002\n",
      "\tMinibatch accuracies: [50.0, array([84.375, 78.125, 81.25 , 87.5  , 93.75 ])]\n",
      "Validation accuracies: [45.32, array([85.06, 84.66, 85.84, 86.18, 85.3 ])]\n",
      "step 6200:\n",
      "\tMinibatch loss: 2.367539882659912\n",
      "\tMinibatch accuracies: [62.5, array([81.25 , 87.5  , 90.625, 87.5  , 93.75 ])]\n",
      "Validation accuracies: [45.48, array([85.52, 84.22, 86.  , 85.56, 85.64])]\n",
      "step 6300:\n",
      "\tMinibatch loss: 2.1211318969726562\n",
      "\tMinibatch accuracies: [53.125, array([84.375, 93.75 , 78.125, 93.75 , 96.875])]\n",
      "Validation accuracies: [45.0, array([85.62, 84.6 , 86.08, 85.1 , 85.48])]\n",
      "step 6400:\n",
      "\tMinibatch loss: 2.2072501182556152\n",
      "\tMinibatch accuracies: [62.5, array([90.625, 93.75 , 93.75 , 84.375, 81.25 ])]\n",
      "Validation accuracies: [43.46, array([84.78, 83.64, 84.92, 85.32, 85.06])]\n",
      "step 6500:\n",
      "\tMinibatch loss: 2.746546745300293\n",
      "\tMinibatch accuracies: [43.75, array([90.625, 75.   , 78.125, 93.75 , 81.25 ])]\n",
      "Validation accuracies: [44.3, array([85.1 , 84.72, 85.52, 84.74, 85.6 ])]\n",
      "step 6600:\n",
      "\tMinibatch loss: 2.727285385131836\n",
      "\tMinibatch accuracies: [43.75, array([84.375, 84.375, 84.375, 90.625, 87.5  ])]\n",
      "Validation accuracies: [44.519999999999996, array([85.52, 84.56, 84.7 , 86.02, 85.44])]\n",
      "step 6700:\n",
      "\tMinibatch loss: 2.3744418621063232\n",
      "\tMinibatch accuracies: [40.625, array([78.125, 90.625, 84.375, 81.25 , 87.5  ])]\n",
      "Validation accuracies: [45.76, array([86.04, 84.46, 85.78, 86.42, 85.5 ])]\n",
      "step 6800:\n",
      "\tMinibatch loss: 1.7139828205108643\n",
      "\tMinibatch accuracies: [56.25, array([87.5  , 87.5  , 87.5  , 90.625, 90.625])]\n",
      "Validation accuracies: [45.16, array([85.38, 83.86, 86.18, 85.32, 85.72])]\n",
      "step 6900:\n",
      "\tMinibatch loss: 2.540994644165039\n",
      "\tMinibatch accuracies: [43.75, array([84.375, 93.75 , 78.125, 90.625, 84.375])]\n",
      "Validation accuracies: [44.76, array([84.8 , 84.9 , 85.86, 86.02, 84.92])]\n",
      "step 7000:\n",
      "\tMinibatch loss: 2.8799009323120117\n",
      "\tMinibatch accuracies: [46.875, array([81.25 , 75.   , 84.375, 87.5  , 90.625])]\n",
      "Validation accuracies: [43.86, array([84.56, 84.72, 85.56, 85.14, 85.18])]\n",
      "\n",
      "Test accuracies: [64.69, array([91.22, 91.32, 91.45, 92.08, 92.17])]\n"
     ]
    }
   ],
   "source": [
    "num_steps = 7001\n",
    "\n",
    "with tf.Session(graph=graph) as session:\n",
    "    if not os.path.exists('summaries'):\n",
    "        os.mkdir('summaries')\n",
    "    writer = tf.summary.FileWriter('summaries', session.graph)\n",
    "    \n",
    "    tf.global_variables_initializer().run()\n",
    "    print('Initialized')\n",
    "    for step in range(num_steps):\n",
    "        offset = (step * batch_size) % (train_labels.shape[0] - batch_size)\n",
    "        batch_data = train_dataset[offset:(offset + batch_size), :, :, :]\n",
    "        batch_labels = train_labels[offset:(offset + batch_size), :]\n",
    "        feed_dict = {tf_train_dataset : batch_data, tf_train_labels : batch_labels}\n",
    "        _, l, predictions = session.run([optimizer, total_loss, train_predictions], feed_dict=feed_dict)\n",
    "        if (step % 100 == 0):\n",
    "            print(f'step {step}:')\n",
    "            print(f'\\tMinibatch loss: {l}')\n",
    "            print(f'\\tMinibatch accuracies: {accuracy(predictions, batch_labels)}')\n",
    "            print(f'Validation accuracies: {accuracy(valid_predictions.eval(), valid_labels)}')\n",
    "\n",
    "    print(f'\\nTest accuracies: {accuracy(test_predictions.eval(), test_labels)}')"
   ]
  },
  {
   "cell_type": "code",
   "execution_count": null,
   "metadata": {},
   "outputs": [],
   "source": []
  }
 ],
 "metadata": {
  "kernelspec": {
   "display_name": "Python 3",
   "language": "python",
   "name": "python3"
  },
  "language_info": {
   "codemirror_mode": {
    "name": "ipython",
    "version": 3
   },
   "file_extension": ".py",
   "mimetype": "text/x-python",
   "name": "python",
   "nbconvert_exporter": "python",
   "pygments_lexer": "ipython3",
   "version": "3.6.6"
  }
 },
 "nbformat": 4,
 "nbformat_minor": 2
}
