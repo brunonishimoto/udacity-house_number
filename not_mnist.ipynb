{
 "cells": [
  {
   "cell_type": "code",
   "execution_count": 1,
   "metadata": {},
   "outputs": [],
   "source": [
    "# These are all the modules we'll be using later. Make sure you can import them\n",
    "# before proceeding further.\n",
    "from __future__ import print_function\n",
    "import imageio\n",
    "import matplotlib.pyplot as plt\n",
    "import numpy as np\n",
    "import os\n",
    "import sys\n",
    "import tarfile\n",
    "import scipy\n",
    "import skimage\n",
    "import tensorflow as tf\n",
    "from IPython.display import display, Image\n",
    "from sklearn.linear_model import LogisticRegression\n",
    "from six.moves.urllib.request import urlretrieve\n",
    "from six.moves import cPickle as pickle\n",
    "\n",
    "# Config the matplotlib backend as plotting inline in IPython\n",
    "%matplotlib inline"
   ]
  },
  {
   "cell_type": "code",
   "execution_count": 2,
   "metadata": {},
   "outputs": [
    {
     "name": "stdout",
     "output_type": "stream",
     "text": [
      "Found and verified ./dataset/notmnist/notMNIST_large.tar.gz\n",
      "Found and verified ./dataset/notmnist/notMNIST_small.tar.gz\n"
     ]
    }
   ],
   "source": [
    "url = 'https://commondatastorage.googleapis.com/books1000/'\n",
    "last_percent_reported = None\n",
    "data_root = './dataset/notmnist' # Change me to store data elsewhere\n",
    "\n",
    "def download_progress_hook(count, blockSize, totalSize):\n",
    "    \"\"\"A hook to report the progress of a download. This is mostly intended for users with\n",
    "    slow internet connections. Reports every 5% change in download progress.\n",
    "    \"\"\"\n",
    "    global last_percent_reported\n",
    "    percent = int(count * blockSize * 100 / totalSize)\n",
    "\n",
    "    if last_percent_reported != percent:\n",
    "        if percent % 5 == 0:\n",
    "            sys.stdout.write(\"%s%%\" % percent)\n",
    "            sys.stdout.flush()\n",
    "        else:\n",
    "            sys.stdout.write(\".\")\n",
    "            sys.stdout.flush()\n",
    "      \n",
    "        last_percent_reported = percent\n",
    "        \n",
    "def maybe_download(filename, expected_bytes, force=False):\n",
    "    \"\"\"Download a file if not present, and make sure it's the right size.\"\"\"\n",
    "    dest_filename = os.path.join(data_root, filename)\n",
    "    if force or not os.path.exists(dest_filename):\n",
    "        print('Attempting to download:', filename) \n",
    "        filename, _ = urlretrieve(url + filename, dest_filename, reporthook=download_progress_hook)\n",
    "        print('\\nDownload Complete!')\n",
    "    statinfo = os.stat(dest_filename)\n",
    "    if statinfo.st_size == expected_bytes:\n",
    "        print('Found and verified', dest_filename)\n",
    "    else:\n",
    "        raise Exception('Failed to verify ' + dest_filename + '. Can you get to it with a browser?')\n",
    "    return dest_filename\n",
    "\n",
    "train_filename = maybe_download('notMNIST_large.tar.gz', 247336696)\n",
    "test_filename = maybe_download('notMNIST_small.tar.gz', 8458043)"
   ]
  },
  {
   "cell_type": "code",
   "execution_count": 3,
   "metadata": {},
   "outputs": [
    {
     "name": "stdout",
     "output_type": "stream",
     "text": [
      "./dataset/notmnist/notMNIST_large already present - Skipping extraction of ./dataset/notmnist/notMNIST_large.tar.gz.\n",
      "['./dataset/notmnist/notMNIST_large/A', './dataset/notmnist/notMNIST_large/B', './dataset/notmnist/notMNIST_large/C', './dataset/notmnist/notMNIST_large/D', './dataset/notmnist/notMNIST_large/E', './dataset/notmnist/notMNIST_large/F', './dataset/notmnist/notMNIST_large/G', './dataset/notmnist/notMNIST_large/H', './dataset/notmnist/notMNIST_large/I', './dataset/notmnist/notMNIST_large/J']\n",
      "./dataset/notmnist/notMNIST_small already present - Skipping extraction of ./dataset/notmnist/notMNIST_small.tar.gz.\n",
      "['./dataset/notmnist/notMNIST_small/A', './dataset/notmnist/notMNIST_small/B', './dataset/notmnist/notMNIST_small/C', './dataset/notmnist/notMNIST_small/D', './dataset/notmnist/notMNIST_small/E', './dataset/notmnist/notMNIST_small/F', './dataset/notmnist/notMNIST_small/G', './dataset/notmnist/notMNIST_small/H', './dataset/notmnist/notMNIST_small/I', './dataset/notmnist/notMNIST_small/J']\n"
     ]
    }
   ],
   "source": [
    "num_classes = 10\n",
    "np.random.seed(133)\n",
    "\n",
    "def maybe_extract(filename, force=False):\n",
    "    root = os.path.splitext(os.path.splitext(filename)[0])[0]  # remove .tar.gz\n",
    "    if os.path.isdir(root) and not force:\n",
    "        # You may override by setting force=True.\n",
    "        print('%s already present - Skipping extraction of %s.' % (root, filename))\n",
    "    else:\n",
    "        print('Extracting data for %s. This may take a while. Please wait.' % root)\n",
    "        tar = tarfile.open(filename)\n",
    "        sys.stdout.flush()\n",
    "        tar.extractall(data_root)\n",
    "        tar.close()\n",
    "    data_folders = [\n",
    "        os.path.join(root, d) for d in sorted(os.listdir(root)) if os.path.isdir(os.path.join(root, d))]\n",
    "    if len(data_folders) != num_classes:\n",
    "        raise Exception('Expected %d folders, one per class. Found %d instead.' % (num_classes, len(data_folders)))\n",
    "    print(data_folders)\n",
    "    return data_folders\n",
    "  \n",
    "train_folders = maybe_extract(train_filename)\n",
    "test_folders  = maybe_extract(test_filename)"
   ]
  },
  {
   "cell_type": "code",
   "execution_count": 4,
   "metadata": {},
   "outputs": [
    {
     "name": "stdout",
     "output_type": "stream",
     "text": [
      "Displaying images in:  notMNIST_large\n",
      "Label:  A\n"
     ]
    },
    {
     "data": {
      "image/png": "[encoded data removed]",
      "text/plain": [
       "<IPython.core.display.Image object>"
      ]
     },
     "metadata": {
      "image/png": {
       "height": 20,
       "width": 20
      }
     },
     "output_type": "display_data"
    },
    {
     "data": {
      "image/png": "[encoded data removed]",
      "text/plain": [
       "<IPython.core.display.Image object>"
      ]
     },
     "metadata": {
      "image/png": {
       "height": 20,
       "width": 20
      }
     },
     "output_type": "display_data"
    },
    {
     "data": {
      "image/png": "[encoded data removed]",
      "text/plain": [
       "<IPython.core.display.Image object>"
      ]
     },
     "metadata": {
      "image/png": {
       "height": 20,
       "width": 20
      }
     },
     "output_type": "display_data"
    },
    {
     "data": {
      "image/png": "[encoded data removed]",
      "text/plain": [
       "<IPython.core.display.Image object>"
      ]
     },
     "metadata": {
      "image/png": {
       "height": 20,
       "width": 20
      }
     },
     "output_type": "display_data"
    },
    {
     "data": {
      "image/png": "[encoded data removed]",
      "text/plain": [
       "<IPython.core.display.Image object>"
      ]
     },
     "metadata": {
      "image/png": {
       "height": 20,
       "width": 20
      }
     },
     "output_type": "display_data"
    },
    {
     "name": "stdout",
     "output_type": "stream",
     "text": [
      "Label:  B\n"
     ]
    },
    {
     "data": {
      "image/png": "[encoded data removed]",
      "text/plain": [
       "<IPython.core.display.Image object>"
      ]
     },
     "metadata": {
      "image/png": {
       "height": 20,
       "width": 20
      }
     },
     "output_type": "display_data"
    },
    {
     "data": {
      "image/png": "[encoded data removed]",
      "text/plain": [
       "<IPython.core.display.Image object>"
      ]
     },
     "metadata": {
      "image/png": {
       "height": 20,
       "width": 20
      }
     },
     "output_type": "display_data"
    },
    {
     "data": {
      "image/png": "[encoded data removed]",
      "text/plain": [
       "<IPython.core.display.Image object>"
      ]
     },
     "metadata": {
      "image/png": {
       "height": 20,
       "width": 20
      }
     },
     "output_type": "display_data"
    },
    {
     "data": {
      "image/png": "[encoded data removed]",
      "text/plain": [
       "<IPython.core.display.Image object>"
      ]
     },
     "metadata": {
      "image/png": {
       "height": 20,
       "width": 20
      }
     },
     "output_type": "display_data"
    },
    {
     "data": {
      "image/png": "[encoded data removed]",
      "text/plain": [
       "<IPython.core.display.Image object>"
      ]
     },
     "metadata": {
      "image/png": {
       "height": 20,
       "width": 20
      }
     },
     "output_type": "display_data"
    },
    {
     "name": "stdout",
     "output_type": "stream",
     "text": [
      "Label:  C\n"
     ]
    },
    {
     "data": {
      "image/png": "[encoded data removed]",
      "text/plain": [
       "<IPython.core.display.Image object>"
      ]
     },
     "metadata": {
      "image/png": {
       "height": 20,
       "width": 20
      }
     },
     "output_type": "display_data"
    },
    {
     "data": {
      "image/png": "[encoded data removed]",
      "text/plain": [
       "<IPython.core.display.Image object>"
      ]
     },
     "metadata": {
      "image/png": {
       "height": 20,
       "width": 20
      }
     },
     "output_type": "display_data"
    },
    {
     "data": {
      "image/png": "[encoded data removed]",
      "text/plain": [
       "<IPython.core.display.Image object>"
      ]
     },
     "metadata": {
      "image/png": {
       "height": 20,
       "width": 20
      }
     },
     "output_type": "display_data"
    },
    {
     "data": {
      "image/png": "[encoded data removed]",
      "text/plain": [
       "<IPython.core.display.Image object>"
      ]
     },
     "metadata": {
      "image/png": {
       "height": 20,
       "width": 20
      }
     },
     "output_type": "display_data"
    },
    {
     "data": {
      "image/png": "[encoded data removed]",
      "text/plain": [
       "<IPython.core.display.Image object>"
      ]
     },
     "metadata": {
      "image/png": {
       "height": 20,
       "width": 20
      }
     },
     "output_type": "display_data"
    },
    {
     "name": "stdout",
     "output_type": "stream",
     "text": [
      "Label:  D\n"
     ]
    },
    {
     "data": {
      "image/png": "[encoded data removed]",
      "text/plain": [
       "<IPython.core.display.Image object>"
      ]
     },
     "metadata": {
      "image/png": {
       "height": 20,
       "width": 20
      }
     },
     "output_type": "display_data"
    },
    {
     "data": {
      "image/png": "[encoded data removed]",
      "text/plain": [
       "<IPython.core.display.Image object>"
      ]
     },
     "metadata": {
      "image/png": {
       "height": 20,
       "width": 20
      }
     },
     "output_type": "display_data"
    },
    {
     "data": {
      "image/png": "[encoded data removed]",
      "text/plain": [
       "<IPython.core.display.Image object>"
      ]
     },
     "metadata": {
      "image/png": {
       "height": 20,
       "width": 20
      }
     },
     "output_type": "display_data"
    },
    {
     "data": {
      "image/png": "[encoded data removed]",
      "text/plain": [
       "<IPython.core.display.Image object>"
      ]
     },
     "metadata": {
      "image/png": {
       "height": 20,
       "width": 20
      }
     },
     "output_type": "display_data"
    },
    {
     "data": {
      "image/png": "[encoded data removed]",
      "text/plain": [
       "<IPython.core.display.Image object>"
      ]
     },
     "metadata": {
      "image/png": {
       "height": 20,
       "width": 20
      }
     },
     "output_type": "display_data"
    },
    {
     "name": "stdout",
     "output_type": "stream",
     "text": [
      "Label:  E\n"
     ]
    },
    {
     "data": {
      "image/png": "[encoded data removed]",
      "text/plain": [
       "<IPython.core.display.Image object>"
      ]
     },
     "metadata": {
      "image/png": {
       "height": 20,
       "width": 20
      }
     },
     "output_type": "display_data"
    },
    {
     "data": {
      "image/png": "[encoded data removed]",
      "text/plain": [
       "<IPython.core.display.Image object>"
      ]
     },
     "metadata": {
      "image/png": {
       "height": 20,
       "width": 20
      }
     },
     "output_type": "display_data"
    },
    {
     "data": {
      "image/png": "[encoded data removed]",
      "text/plain": [
       "<IPython.core.display.Image object>"
      ]
     },
     "metadata": {
      "image/png": {
       "height": 20,
       "width": 20
      }
     },
     "output_type": "display_data"
    },
    {
     "data": {
      "image/png": "[encoded data removed]",
      "text/plain": [
       "<IPython.core.display.Image object>"
      ]
     },
     "metadata": {
      "image/png": {
       "height": 20,
       "width": 20
      }
     },
     "output_type": "display_data"
    },
    {
     "data": {
      "image/png": "[encoded data removed]",
      "text/plain": [
       "<IPython.core.display.Image object>"
      ]
     },
     "metadata": {
      "image/png": {
       "height": 20,
       "width": 20
      }
     },
     "output_type": "display_data"
    },
    {
     "name": "stdout",
     "output_type": "stream",
     "text": [
      "Label:  F\n"
     ]
    },
    {
     "data": {
      "image/png": "[encoded data removed]",
      "text/plain": [
       "<IPython.core.display.Image object>"
      ]
     },
     "metadata": {
      "image/png": {
       "height": 20,
       "width": 20
      }
     },
     "output_type": "display_data"
    },
    {
     "data": {
      "image/png": "[encoded data removed]",
      "text/plain": [
       "<IPython.core.display.Image object>"
      ]
     },
     "metadata": {
      "image/png": {
       "height": 20,
       "width": 20
      }
     },
     "output_type": "display_data"
    },
    {
     "data": {
      "image/png": "[encoded data removed]",
      "text/plain": [
       "<IPython.core.display.Image object>"
      ]
     },
     "metadata": {
      "image/png": {
       "height": 20,
       "width": 20
      }
     },
     "output_type": "display_data"
    },
    {
     "data": {
      "image/png": "[encoded data removed]",
      "text/plain": [
       "<IPython.core.display.Image object>"
      ]
     },
     "metadata": {
      "image/png": {
       "height": 20,
       "width": 20
      }
     },
     "output_type": "display_data"
    },
    {
     "data": {
      "image/png": "[encoded data removed]",
      "text/plain": [
       "<IPython.core.display.Image object>"
      ]
     },
     "metadata": {
      "image/png": {
       "height": 20,
       "width": 20
      }
     },
     "output_type": "display_data"
    },
    {
     "name": "stdout",
     "output_type": "stream",
     "text": [
      "Label:  G\n"
     ]
    },
    {
     "data": {
      "image/png": "[encoded data removed]",
      "text/plain": [
       "<IPython.core.display.Image object>"
      ]
     },
     "metadata": {
      "image/png": {
       "height": 20,
       "width": 20
      }
     },
     "output_type": "display_data"
    },
    {
     "data": {
      "image/png": "[encoded data removed]",
      "text/plain": [
       "<IPython.core.display.Image object>"
      ]
     },
     "metadata": {
      "image/png": {
       "height": 20,
       "width": 20
      }
     },
     "output_type": "display_data"
    },
    {
     "data": {
      "image/png": "[encoded data removed]",
      "text/plain": [
       "<IPython.core.display.Image object>"
      ]
     },
     "metadata": {
      "image/png": {
       "height": 20,
       "width": 20
      }
     },
     "output_type": "display_data"
    },
    {
     "data": {
      "image/png": "[encoded data removed]",
      "text/plain": [
       "<IPython.core.display.Image object>"
      ]
     },
     "metadata": {
      "image/png": {
       "height": 20,
       "width": 20
      }
     },
     "output_type": "display_data"
    },
    {
     "data": {
      "image/png": "[encoded data removed]",
      "text/plain": [
       "<IPython.core.display.Image object>"
      ]
     },
     "metadata": {
      "image/png": {
       "height": 20,
       "width": 20
      }
     },
     "output_type": "display_data"
    },
    {
     "name": "stdout",
     "output_type": "stream",
     "text": [
      "Label:  H\n"
     ]
    },
    {
     "data": {
      "image/png": "[encoded data removed]",
      "text/plain": [
       "<IPython.core.display.Image object>"
      ]
     },
     "metadata": {
      "image/png": {
       "height": 20,
       "width": 20
      }
     },
     "output_type": "display_data"
    },
    {
     "data": {
      "image/png": "[encoded data removed]",
      "text/plain": [
       "<IPython.core.display.Image object>"
      ]
     },
     "metadata": {
      "image/png": {
       "height": 20,
       "width": 20
      }
     },
     "output_type": "display_data"
    },
    {
     "data": {
      "image/png": "[encoded data removed]",
      "text/plain": [
       "<IPython.core.display.Image object>"
      ]
     },
     "metadata": {
      "image/png": {
       "height": 20,
       "width": 20
      }
     },
     "output_type": "display_data"
    },
    {
     "data": {
      "image/png": "[encoded data removed]",
      "text/plain": [
       "<IPython.core.display.Image object>"
      ]
     },
     "metadata": {
      "image/png": {
       "height": 20,
       "width": 20
      }
     },
     "output_type": "display_data"
    },
    {
     "data": {
      "image/png": "[encoded data removed]",
      "text/plain": [
       "<IPython.core.display.Image object>"
      ]
     },
     "metadata": {
      "image/png": {
       "height": 20,
       "width": 20
      }
     },
     "output_type": "display_data"
    },
    {
     "name": "stdout",
     "output_type": "stream",
     "text": [
      "Label:  I\n"
     ]
    },
    {
     "data": {
      "image/png": "[encoded data removed]",
      "text/plain": [
       "<IPython.core.display.Image object>"
      ]
     },
     "metadata": {
      "image/png": {
       "height": 20,
       "width": 20
      }
     },
     "output_type": "display_data"
    },
    {
     "data": {
      "image/png": "[encoded data removed]",
      "text/plain": [
       "<IPython.core.display.Image object>"
      ]
     },
     "metadata": {
      "image/png": {
       "height": 20,
       "width": 20
      }
     },
     "output_type": "display_data"
    },
    {
     "data": {
      "image/png": "[encoded data removed]",
      "text/plain": [
       "<IPython.core.display.Image object>"
      ]
     },
     "metadata": {
      "image/png": {
       "height": 20,
       "width": 20
      }
     },
     "output_type": "display_data"
    },
    {
     "data": {
      "image/png": "[encoded data removed]",
      "text/plain": [
       "<IPython.core.display.Image object>"
      ]
     },
     "metadata": {
      "image/png": {
       "height": 20,
       "width": 20
      }
     },
     "output_type": "display_data"
    },
    {
     "data": {
      "image/png": "[encoded data removed]",
      "text/plain": [
       "<IPython.core.display.Image object>"
      ]
     },
     "metadata": {
      "image/png": {
       "height": 20,
       "width": 20
      }
     },
     "output_type": "display_data"
    },
    {
     "name": "stdout",
     "output_type": "stream",
     "text": [
      "Label:  J\n"
     ]
    },
    {
     "data": {
      "image/png": "[encoded data removed]",
      "text/plain": [
       "<IPython.core.display.Image object>"
      ]
     },
     "metadata": {
      "image/png": {
       "height": 20,
       "width": 20
      }
     },
     "output_type": "display_data"
    },
    {
     "data": {
      "image/png": "[encoded data removed]",
      "text/plain": [
       "<IPython.core.display.Image object>"
      ]
     },
     "metadata": {
      "image/png": {
       "height": 20,
       "width": 20
      }
     },
     "output_type": "display_data"
    },
    {
     "data": {
      "image/png": "[encoded data removed]",
      "text/plain": [
       "<IPython.core.display.Image object>"
      ]
     },
     "metadata": {
      "image/png": {
       "height": 20,
       "width": 20
      }
     },
     "output_type": "display_data"
    },
    {
     "data": {
      "image/png": "[encoded data removed]",
      "text/plain": [
       "<IPython.core.display.Image object>"
      ]
     },
     "metadata": {
      "image/png": {
       "height": 20,
       "width": 20
      }
     },
     "output_type": "display_data"
    },
    {
     "data": {
      "image/png": "[encoded data removed]",
      "text/plain": [
       "<IPython.core.display.Image object>"
      ]
     },
     "metadata": {
      "image/png": {
       "height": 20,
       "width": 20
      }
     },
     "output_type": "display_data"
    },
    {
     "name": "stdout",
     "output_type": "stream",
     "text": [
      "Displaying images in:  notMNIST_small\n",
      "Label:  A\n"
     ]
    },
    {
     "data": {
      "image/png": "[encoded data removed]",
      "text/plain": [
       "<IPython.core.display.Image object>"
      ]
     },
     "metadata": {
      "image/png": {
       "height": 20,
       "width": 20
      }
     },
     "output_type": "display_data"
    },
    {
     "data": {
      "image/png": "[encoded data removed]",
      "text/plain": [
       "<IPython.core.display.Image object>"
      ]
     },
     "metadata": {
      "image/png": {
       "height": 20,
       "width": 20
      }
     },
     "output_type": "display_data"
    },
    {
     "data": {
      "image/png": "[encoded data removed]",
      "text/plain": [
       "<IPython.core.display.Image object>"
      ]
     },
     "metadata": {
      "image/png": {
       "height": 20,
       "width": 20
      }
     },
     "output_type": "display_data"
    },
    {
     "data": {
      "image/png": "[encoded data removed]",
      "text/plain": [
       "<IPython.core.display.Image object>"
      ]
     },
     "metadata": {
      "image/png": {
       "height": 20,
       "width": 20
      }
     },
     "output_type": "display_data"
    },
    {
     "data": {
      "image/png": "[encoded data removed]",
      "text/plain": [
       "<IPython.core.display.Image object>"
      ]
     },
     "metadata": {
      "image/png": {
       "height": 20,
       "width": 20
      }
     },
     "output_type": "display_data"
    },
    {
     "name": "stdout",
     "output_type": "stream",
     "text": [
      "Label:  B\n"
     ]
    },
    {
     "data": {
      "image/png": "[encoded data removed]",
      "text/plain": [
       "<IPython.core.display.Image object>"
      ]
     },
     "metadata": {
      "image/png": {
       "height": 20,
       "width": 20
      }
     },
     "output_type": "display_data"
    },
    {
     "data": {
      "image/png": "[encoded data removed]",
      "text/plain": [
       "<IPython.core.display.Image object>"
      ]
     },
     "metadata": {
      "image/png": {
       "height": 20,
       "width": 20
      }
     },
     "output_type": "display_data"
    },
    {
     "data": {
      "image/png": "[encoded data removed]",
      "text/plain": [
       "<IPython.core.display.Image object>"
      ]
     },
     "metadata": {
      "image/png": {
       "height": 20,
       "width": 20
      }
     },
     "output_type": "display_data"
    },
    {
     "data": {
      "image/png": "[encoded data removed]",
      "text/plain": [
       "<IPython.core.display.Image object>"
      ]
     },
     "metadata": {
      "image/png": {
       "height": 20,
       "width": 20
      }
     },
     "output_type": "display_data"
    },
    {
     "data": {
      "image/png": "[encoded data removed]",
      "text/plain": [
       "<IPython.core.display.Image object>"
      ]
     },
     "metadata": {
      "image/png": {
       "height": 20,
       "width": 20
      }
     },
     "output_type": "display_data"
    },
    {
     "name": "stdout",
     "output_type": "stream",
     "text": [
      "Label:  C\n"
     ]
    },
    {
     "data": {
      "image/png": "[encoded data removed]",
      "text/plain": [
       "<IPython.core.display.Image object>"
      ]
     },
     "metadata": {
      "image/png": {
       "height": 20,
       "width": 20
      }
     },
     "output_type": "display_data"
    },
    {
     "data": {
      "image/png": "[encoded data removed]",
      "text/plain": [
       "<IPython.core.display.Image object>"
      ]
     },
     "metadata": {
      "image/png": {
       "height": 20,
       "width": 20
      }
     },
     "output_type": "display_data"
    },
    {
     "data": {
      "image/png": "[encoded data removed]",
      "text/plain": [
       "<IPython.core.display.Image object>"
      ]
     },
     "metadata": {
      "image/png": {
       "height": 20,
       "width": 20
      }
     },
     "output_type": "display_data"
    },
    {
     "data": {
      "image/png": "[encoded data removed]",
      "text/plain": [
       "<IPython.core.display.Image object>"
      ]
     },
     "metadata": {
      "image/png": {
       "height": 20,
       "width": 20
      }
     },
     "output_type": "display_data"
    },
    {
     "data": {
      "image/png": "[encoded data removed]",
      "text/plain": [
       "<IPython.core.display.Image object>"
      ]
     },
     "metadata": {
      "image/png": {
       "height": 20,
       "width": 20
      }
     },
     "output_type": "display_data"
    },
    {
     "name": "stdout",
     "output_type": "stream",
     "text": [
      "Label:  D\n"
     ]
    },
    {
     "data": {
      "image/png": "[encoded data removed]",
      "text/plain": [
       "<IPython.core.display.Image object>"
      ]
     },
     "metadata": {
      "image/png": {
       "height": 20,
       "width": 20
      }
     },
     "output_type": "display_data"
    },
    {
     "data": {
      "image/png": "[encoded data removed]",
      "text/plain": [
       "<IPython.core.display.Image object>"
      ]
     },
     "metadata": {
      "image/png": {
       "height": 20,
       "width": 20
      }
     },
     "output_type": "display_data"
    },
    {
     "data": {
      "image/png": "[encoded data removed]",
      "text/plain": [
       "<IPython.core.display.Image object>"
      ]
     },
     "metadata": {
      "image/png": {
       "height": 20,
       "width": 20
      }
     },
     "output_type": "display_data"
    },
    {
     "data": {
      "image/png": "[encoded data removed]",
      "text/plain": [
       "<IPython.core.display.Image object>"
      ]
     },
     "metadata": {
      "image/png": {
       "height": 20,
       "width": 20
      }
     },
     "output_type": "display_data"
    },
    {
     "data": {
      "image/png": "[encoded data removed]",
      "text/plain": [
       "<IPython.core.display.Image object>"
      ]
     },
     "metadata": {
      "image/png": {
       "height": 20,
       "width": 20
      }
     },
     "output_type": "display_data"
    },
    {
     "name": "stdout",
     "output_type": "stream",
     "text": [
      "Label:  E\n"
     ]
    },
    {
     "data": {
      "image/png": "[encoded data removed]",
      "text/plain": [
       "<IPython.core.display.Image object>"
      ]
     },
     "metadata": {
      "image/png": {
       "height": 20,
       "width": 20
      }
     },
     "output_type": "display_data"
    },
    {
     "data": {
      "image/png": "[encoded data removed]",
      "text/plain": [
       "<IPython.core.display.Image object>"
      ]
     },
     "metadata": {
      "image/png": {
       "height": 20,
       "width": 20
      }
     },
     "output_type": "display_data"
    },
    {
     "data": {
      "image/png": "[encoded data removed]",
      "text/plain": [
       "<IPython.core.display.Image object>"
      ]
     },
     "metadata": {
      "image/png": {
       "height": 20,
       "width": 20
      }
     },
     "output_type": "display_data"
    },
    {
     "data": {
      "image/png": "[encoded data removed]",
      "text/plain": [
       "<IPython.core.display.Image object>"
      ]
     },
     "metadata": {
      "image/png": {
       "height": 20,
       "width": 20
      }
     },
     "output_type": "display_data"
    },
    {
     "data": {
      "image/png": "[encoded data removed]",
      "text/plain": [
       "<IPython.core.display.Image object>"
      ]
     },
     "metadata": {
      "image/png": {
       "height": 20,
       "width": 20
      }
     },
     "output_type": "display_data"
    },
    {
     "name": "stdout",
     "output_type": "stream",
     "text": [
      "Label:  F\n"
     ]
    },
    {
     "data": {
      "image/png": "[encoded data removed]",
      "text/plain": [
       "<IPython.core.display.Image object>"
      ]
     },
     "metadata": {
      "image/png": {
       "height": 20,
       "width": 20
      }
     },
     "output_type": "display_data"
    },
    {
     "data": {
      "image/png": "[encoded data removed]",
      "text/plain": [
       "<IPython.core.display.Image object>"
      ]
     },
     "metadata": {
      "image/png": {
       "height": 20,
       "width": 20
      }
     },
     "output_type": "display_data"
    },
    {
     "data": {
      "image/png": "[encoded data removed]",
      "text/plain": [
       "<IPython.core.display.Image object>"
      ]
     },
     "metadata": {
      "image/png": {
       "height": 20,
       "width": 20
      }
     },
     "output_type": "display_data"
    },
    {
     "data": {
      "image/png": "[encoded data removed]",
      "text/plain": [
       "<IPython.core.display.Image object>"
      ]
     },
     "metadata": {
      "image/png": {
       "height": 20,
       "width": 20
      }
     },
     "output_type": "display_data"
    },
    {
     "data": {
      "image/png": "[encoded data removed]",
      "text/plain": [
       "<IPython.core.display.Image object>"
      ]
     },
     "metadata": {
      "image/png": {
       "height": 20,
       "width": 20
      }
     },
     "output_type": "display_data"
    },
    {
     "name": "stdout",
     "output_type": "stream",
     "text": [
      "Label:  G\n"
     ]
    },
    {
     "data": {
      "image/png": "[encoded data removed]",
      "text/plain": [
       "<IPython.core.display.Image object>"
      ]
     },
     "metadata": {
      "image/png": {
       "height": 20,
       "width": 20
      }
     },
     "output_type": "display_data"
    },
    {
     "data": {
      "image/png": "[encoded data removed]",
      "text/plain": [
       "<IPython.core.display.Image object>"
      ]
     },
     "metadata": {
      "image/png": {
       "height": 20,
       "width": 20
      }
     },
     "output_type": "display_data"
    },
    {
     "data": {
      "image/png": "[encoded data removed]",
      "text/plain": [
       "<IPython.core.display.Image object>"
      ]
     },
     "metadata": {
      "image/png": {
       "height": 20,
       "width": 20
      }
     },
     "output_type": "display_data"
    },
    {
     "data": {
      "image/png": "[encoded data removed]",
      "text/plain": [
       "<IPython.core.display.Image object>"
      ]
     },
     "metadata": {
      "image/png": {
       "height": 20,
       "width": 20
      }
     },
     "output_type": "display_data"
    },
    {
     "data": {
      "image/png": "[encoded data removed]",
      "text/plain": [
       "<IPython.core.display.Image object>"
      ]
     },
     "metadata": {
      "image/png": {
       "height": 20,
       "width": 20
      }
     },
     "output_type": "display_data"
    },
    {
     "name": "stdout",
     "output_type": "stream",
     "text": [
      "Label:  H\n"
     ]
    },
    {
     "data": {
      "image/png": "[encoded data removed]",
      "text/plain": [
       "<IPython.core.display.Image object>"
      ]
     },
     "metadata": {
      "image/png": {
       "height": 20,
       "width": 20
      }
     },
     "output_type": "display_data"
    },
    {
     "data": {
      "image/png": "[encoded data removed]",
      "text/plain": [
       "<IPython.core.display.Image object>"
      ]
     },
     "metadata": {
      "image/png": {
       "height": 20,
       "width": 20
      }
     },
     "output_type": "display_data"
    },
    {
     "data": {
      "image/png": "[encoded data removed]",
      "text/plain": [
       "<IPython.core.display.Image object>"
      ]
     },
     "metadata": {
      "image/png": {
       "height": 20,
       "width": 20
      }
     },
     "output_type": "display_data"
    },
    {
     "data": {
      "image/png": "[encoded data removed]",
      "text/plain": [
       "<IPython.core.display.Image object>"
      ]
     },
     "metadata": {
      "image/png": {
       "height": 20,
       "width": 20
      }
     },
     "output_type": "display_data"
    },
    {
     "data": {
      "image/png": "[encoded data removed]",
      "text/plain": [
       "<IPython.core.display.Image object>"
      ]
     },
     "metadata": {
      "image/png": {
       "height": 20,
       "width": 20
      }
     },
     "output_type": "display_data"
    },
    {
     "name": "stdout",
     "output_type": "stream",
     "text": [
      "Label:  I\n"
     ]
    },
    {
     "data": {
      "image/png": "[encoded data removed]",
      "text/plain": [
       "<IPython.core.display.Image object>"
      ]
     },
     "metadata": {
      "image/png": {
       "height": 20,
       "width": 20
      }
     },
     "output_type": "display_data"
    },
    {
     "data": {
      "image/png": "[encoded data removed]",
      "text/plain": [
       "<IPython.core.display.Image object>"
      ]
     },
     "metadata": {
      "image/png": {
       "height": 20,
       "width": 20
      }
     },
     "output_type": "display_data"
    },
    {
     "data": {
      "image/png": "[encoded data removed]",
      "text/plain": [
       "<IPython.core.display.Image object>"
      ]
     },
     "metadata": {
      "image/png": {
       "height": 20,
       "width": 20
      }
     },
     "output_type": "display_data"
    },
    {
     "data": {
      "image/png": "[encoded data removed]",
      "text/plain": [
       "<IPython.core.display.Image object>"
      ]
     },
     "metadata": {
      "image/png": {
       "height": 20,
       "width": 20
      }
     },
     "output_type": "display_data"
    },
    {
     "data": {
      "image/png": "[encoded data removed]",
      "text/plain": [
       "<IPython.core.display.Image object>"
      ]
     },
     "metadata": {
      "image/png": {
       "height": 20,
       "width": 20
      }
     },
     "output_type": "display_data"
    },
    {
     "name": "stdout",
     "output_type": "stream",
     "text": [
      "Label:  J\n"
     ]
    },
    {
     "data": {
      "image/png": "[encoded data removed]",
      "text/plain": [
       "<IPython.core.display.Image object>"
      ]
     },
     "metadata": {
      "image/png": {
       "height": 20,
       "width": 20
      }
     },
     "output_type": "display_data"
    },
    {
     "data": {
      "image/png": "[encoded data removed]",
      "text/plain": [
       "<IPython.core.display.Image object>"
      ]
     },
     "metadata": {
      "image/png": {
       "height": 20,
       "width": 20
      }
     },
     "output_type": "display_data"
    },
    {
     "data": {
      "image/png": "[encoded data removed]",
      "text/plain": [
       "<IPython.core.display.Image object>"
      ]
     },
     "metadata": {
      "image/png": {
       "height": 20,
       "width": 20
      }
     },
     "output_type": "display_data"
    },
    {
     "data": {
      "image/png": "[encoded data removed]",
      "text/plain": [
       "<IPython.core.display.Image object>"
      ]
     },
     "metadata": {
      "image/png": {
       "height": 20,
       "width": 20
      }
     },
     "output_type": "display_data"
    },
    {
     "data": {
      "image/png": "[encoded data removed]",
      "text/plain": [
       "<IPython.core.display.Image object>"
      ]
     },
     "metadata": {
      "image/png": {
       "height": 20,
       "width": 20
      }
     },
     "output_type": "display_data"
    }
   ],
   "source": [
    "import random\n",
    "\n",
    "# Visualise a sample of each label\n",
    "def display_images(filename, samples_per_label):\n",
    "    print ('Displaying images in: ', filename)\n",
    "    folder = os.path.join(data_root, filename)\n",
    "    for label in sorted(os.listdir(folder)):\n",
    "        if(label.endswith('.pickle') == False):\n",
    "            print ('Label: ', label)\n",
    "            label_folder = os.path.join(folder, label)\n",
    "            dirs = os.listdir(label_folder)\n",
    "            random.shuffle(dirs)\n",
    "            for image in dirs[:samples_per_label]:\n",
    "                display(Image(filename=os.path.join(label_folder, image), width=20.0, height=20.0))\n",
    "            \n",
    "display_images('notMNIST_large', 5)\n",
    "display_images('notMNIST_small', 5)"
   ]
  },
  {
   "cell_type": "code",
   "execution_count": 5,
   "metadata": {},
   "outputs": [],
   "source": [
    "def saveAsPickle(data,filename):\n",
    "    try:\n",
    "        with open(filename, 'wb') as f:\n",
    "            pickle.dump(data, f, pickle.HIGHEST_PROTOCOL)\n",
    "            print (filename + \" pickled!\")\n",
    "    except Exception as e:\n",
    "        print('Unable to save data to', filename, ':', e)\n",
    "        \n",
    "def loadPickle(file):\n",
    "    with open(file, 'rb') as pickle_file:\n",
    "        return pickle.load(pickle_file)"
   ]
  },
  {
   "cell_type": "code",
   "execution_count": 6,
   "metadata": {},
   "outputs": [
    {
     "name": "stdout",
     "output_type": "stream",
     "text": [
      "./dataset/notmnist/notMNIST_large/A.pickle already present - Skipping pickling.\n",
      "./dataset/notmnist/notMNIST_large/B.pickle already present - Skipping pickling.\n",
      "./dataset/notmnist/notMNIST_large/C.pickle already present - Skipping pickling.\n",
      "./dataset/notmnist/notMNIST_large/D.pickle already present - Skipping pickling.\n",
      "./dataset/notmnist/notMNIST_large/E.pickle already present - Skipping pickling.\n",
      "./dataset/notmnist/notMNIST_large/F.pickle already present - Skipping pickling.\n",
      "./dataset/notmnist/notMNIST_large/G.pickle already present - Skipping pickling.\n",
      "./dataset/notmnist/notMNIST_large/H.pickle already present - Skipping pickling.\n",
      "./dataset/notmnist/notMNIST_large/I.pickle already present - Skipping pickling.\n",
      "./dataset/notmnist/notMNIST_large/J.pickle already present - Skipping pickling.\n",
      "./dataset/notmnist/notMNIST_small/A.pickle already present - Skipping pickling.\n",
      "./dataset/notmnist/notMNIST_small/B.pickle already present - Skipping pickling.\n",
      "./dataset/notmnist/notMNIST_small/C.pickle already present - Skipping pickling.\n",
      "./dataset/notmnist/notMNIST_small/D.pickle already present - Skipping pickling.\n",
      "./dataset/notmnist/notMNIST_small/E.pickle already present - Skipping pickling.\n",
      "./dataset/notmnist/notMNIST_small/F.pickle already present - Skipping pickling.\n",
      "./dataset/notmnist/notMNIST_small/G.pickle already present - Skipping pickling.\n",
      "./dataset/notmnist/notMNIST_small/H.pickle already present - Skipping pickling.\n",
      "./dataset/notmnist/notMNIST_small/I.pickle already present - Skipping pickling.\n",
      "./dataset/notmnist/notMNIST_small/J.pickle already present - Skipping pickling.\n"
     ]
    }
   ],
   "source": [
    "image_size = 28  # Pixel width and height.\n",
    "pixel_depth = 255.0  # Number of levels per pixel.\n",
    "\n",
    "def load_letter(folder, min_num_images):\n",
    "    \"\"\"Load the data for a single letter label.\"\"\"\n",
    "    image_files = os.listdir(folder)\n",
    "    dataset = np.ndarray(shape=(len(image_files), image_size, image_size), dtype=np.float32)\n",
    "    print(folder)\n",
    "    num_images = 0\n",
    "    for image in image_files:\n",
    "        image_file = os.path.join(folder, image)\n",
    "        try:\n",
    "            image_data = (imageio.imread(image_file).astype(float) - pixel_depth / 2) / pixel_depth\n",
    "            if image_data.shape != (image_size, image_size):\n",
    "                raise Exception('Unexpected image shape: %s' % str(image_data.shape))\n",
    "            dataset[num_images, :, :] = image_data\n",
    "            num_images = num_images + 1\n",
    "        except (IOError, ValueError) as e:\n",
    "            print('Could not read:', image_file, ':', e, '- it\\'s ok, skipping.')\n",
    "    \n",
    "    dataset = dataset[0:num_images, :, :]\n",
    "    if num_images < min_num_images:\n",
    "        raise Exception('Many fewer images than expected: %d < %d' % (num_images, min_num_images))\n",
    "    \n",
    "    print('Full dataset tensor:', dataset.shape)\n",
    "    print('Mean:', np.mean(dataset))\n",
    "    print('Standard deviation:', np.std(dataset))\n",
    "    return dataset\n",
    "        \n",
    "def maybe_pickle(data_folders, min_num_images_per_class, force=False):\n",
    "    dataset_names = []\n",
    "    for folder in data_folders:\n",
    "        set_filename = folder + '.pickle'\n",
    "        dataset_names.append(set_filename)\n",
    "        if os.path.exists(set_filename) and not force:\n",
    "            # You may override by setting force=True.\n",
    "            print('%s already present - Skipping pickling.' % set_filename)\n",
    "        else:\n",
    "            print('Pickling %s.' % set_filename)\n",
    "            dataset = load_letter(folder, min_num_images_per_class)\n",
    "            try:\n",
    "                with open(set_filename, 'wb') as f:\n",
    "                    pickle.dump(dataset, f, pickle.HIGHEST_PROTOCOL)\n",
    "            except Exception as e:\n",
    "                print('Unable to save data to', set_filename, ':', e)\n",
    "  \n",
    "    return dataset_names\n",
    "\n",
    "train_datasets = maybe_pickle(train_folders, 45000)\n",
    "test_datasets = maybe_pickle(test_folders, 1800)"
   ]
  },
  {
   "cell_type": "code",
   "execution_count": 7,
   "metadata": {},
   "outputs": [
    {
     "name": "stdout",
     "output_type": "stream",
     "text": [
      "Displaying pickles from train dataset\n"
     ]
    },
    {
     "data": {
      "image/png": "[encoded data removed]",
      "text/plain": [
       "<Figure size 720x720 with 50 Axes>"
      ]
     },
     "metadata": {
      "needs_background": "light"
     },
     "output_type": "display_data"
    },
    {
     "name": "stdout",
     "output_type": "stream",
     "text": [
      "Displaying pickles from test dataset\n"
     ]
    },
    {
     "data": {
      "image/png": "[encoded data removed]",
      "text/plain": [
       "<Figure size 720x720 with 50 Axes>"
      ]
     },
     "metadata": {
      "needs_background": "light"
     },
     "output_type": "display_data"
    }
   ],
   "source": [
    "plt.rcParams['figure.figsize'] = (10.0, 10.0) # set default size of plots\n",
    "labels = ['A', 'B', 'C', 'D', 'E', 'F', 'G', 'H', 'I', 'J']\n",
    "num_labels = len(labels)\n",
    "\n",
    "def display_pickle(dataset, samples_per_label):\n",
    "    for y, label in enumerate(labels):\n",
    "        pickles = pickle.load(open(dataset[y], 'rb'))\n",
    "        idxs = np.random.choice(pickles.shape[0], samples_per_label, replace=False)\n",
    "        for i, idx in enumerate(idxs):\n",
    "            plt_idx = i * num_labels + y + 1\n",
    "            plt.subplot(samples_per_label, num_labels, plt_idx)\n",
    "            plt.imshow(pickles[idx, :, :])\n",
    "            plt.axis('off')\n",
    "            if i == 0:\n",
    "                plt.title(label)\n",
    "    plt.show()\n",
    "    \n",
    "\n",
    "print ('Displaying pickles from train dataset')\n",
    "display_pickle(train_datasets, 5)\n",
    "print ('Displaying pickles from test dataset')\n",
    "display_pickle(test_datasets, 5)"
   ]
  },
  {
   "cell_type": "code",
   "execution_count": 8,
   "metadata": {},
   "outputs": [
    {
     "name": "stderr",
     "output_type": "stream",
     "text": [
      "/Users/brunonishimoto/anaconda3/envs/udacity/lib/python3.6/site-packages/skimage/transform/_warps.py:105: UserWarning: The default mode, 'constant', will be changed to 'reflect' in skimage 0.15.\n",
      "  warn(\"The default mode, 'constant', will be changed to 'reflect' in \"\n",
      "/Users/brunonishimoto/anaconda3/envs/udacity/lib/python3.6/site-packages/skimage/transform/_warps.py:110: UserWarning: Anti-aliasing will be enabled by default in skimage 0.15 to avoid aliasing artifacts when down-sampling images.\n",
      "  warn(\"Anti-aliasing will be enabled by default in skimage 0.15 to \"\n"
     ]
    },
    {
     "name": "stdout",
     "output_type": "stream",
     "text": [
      "./dataset/notmnist/train_no_length.pickle pickled!\n",
      "./dataset/notmnist/valid_no_length.pickle pickled!\n",
      "./dataset/notmnist/test_no_length.pickle pickled!\n"
     ]
    }
   ],
   "source": [
    "img_size = image_size\n",
    "new_size = (28, 56)\n",
    "\n",
    "def make_arrays(nb_rows, size):\n",
    "    if nb_rows:\n",
    "        dataset = np.ndarray((nb_rows, size[0], size[1]), dtype=np.float32)\n",
    "        labels = np.ndarray((nb_rows, 5), dtype=np.int32)\n",
    "    else:\n",
    "        dataset, labels = None, None\n",
    "    return dataset, labels\n",
    "\n",
    "def merge_datasets(pickle_files, dataset_size):\n",
    "    dataset, labels = make_arrays(dataset_size, new_size)\n",
    "    pickles = []\n",
    "    for i in range(10):\n",
    "        pickles.append(pickle.load(open(pickle_files[i], 'rb')))\n",
    "\n",
    "    for i in range(dataset_size):\n",
    "        # Generate a random label with max length 5 chars\n",
    "        data_length  = np.random.choice(5, 1)[0] + 1\n",
    "#         data_length = 5\n",
    "        random_chars = np.random.choice(10, data_length)\n",
    "#         random_chars = np.random.choice(9, data_length)\n",
    "        data_label   = np.append(random_chars, np.full(5 - data_length, 10, dtype=int))\n",
    "        \n",
    "        chars = []\n",
    "        \n",
    "        for char in random_chars:\n",
    "            index = np.random.choice(len(pickles[char]), 1)\n",
    "            chars.append(np.reshape(pickles[char][index, :, :], (img_size, img_size)))\n",
    "\n",
    "        image = np.ndarray((img_size, data_length * img_size))\n",
    "        \n",
    "        for idx, char in enumerate(chars):\n",
    "            image[:, img_size*idx:img_size*(idx+1)] = char\n",
    "\n",
    "        image = skimage.transform.resize(image, new_size)\n",
    "\n",
    "        dataset[i] = image\n",
    "        labels[i]  = data_label\n",
    "    return (dataset, labels)\n",
    "\n",
    "if not os.path.exists(os.path.join(data_root, 'train_no_length.pickle')):\n",
    "    train = merge_datasets(train_datasets, 200000)\n",
    "    saveAsPickle(train, os.path.join(data_root, 'train_no_length.pickle'))\n",
    "else:\n",
    "    print('Train dataset already exists')\n",
    "    train = loadPickle(os.path.join(data_root, 'train_no_length.pickle'))\n",
    "if not os.path.exists(os.path.join(data_root, 'valid_no_length.pickle')):\n",
    "    valid = merge_datasets(train_datasets, 5000)\n",
    "    saveAsPickle(valid, os.path.join(data_root, 'valid_no_length.pickle'))\n",
    "else:\n",
    "    print('Validation dataset already exists')\n",
    "    valid = loadPickle(os.path.join(data_root, 'valid_no_length.pickle'))\n",
    "if not os.path.exists(os.path.join(data_root, 'test_no_length.pickle')):\n",
    "    test  = merge_datasets(test_datasets, 10000)\n",
    "    saveAsPickle(test, os.path.join(data_root, 'test_no_length.pickle'))\n",
    "else:\n",
    "    print('Test dataset already exists')\n",
    "    test  = loadPickle(os.path.join(data_root, 'test_no_length.pickle'))"
   ]
  },
  {
   "cell_type": "code",
   "execution_count": 9,
   "metadata": {},
   "outputs": [],
   "source": [
    "def randomize(dataset, labels):\n",
    "    permutation = np.random.permutation(labels.shape[0])\n",
    "    shuffled_dataset = dataset[permutation,:,:]\n",
    "    shuffled_labels = labels[permutation]\n",
    "    return shuffled_dataset, shuffled_labels\n",
    "\n",
    "train_dataset, train_labels = randomize(train[0], train[1])\n",
    "test_dataset, test_labels = randomize(test[0], test[1])\n",
    "valid_dataset, valid_labels = randomize(valid[0], valid[1])"
   ]
  },
  {
   "cell_type": "code",
   "execution_count": 10,
   "metadata": {},
   "outputs": [
    {
     "name": "stdout",
     "output_type": "stream",
     "text": [
      "Displaying training images\n",
      "[[ 2  4  5 10 10]\n",
      " [ 8  7  2  4 10]\n",
      " [ 1  8 10 10 10]]\n"
     ]
    },
    {
     "data": {
      "image/png": "[encoded data removed]",
      "text/plain": [
       "<Figure size 720x720 with 3 Axes>"
      ]
     },
     "metadata": {
      "needs_background": "light"
     },
     "output_type": "display_data"
    },
    {
     "name": "stdout",
     "output_type": "stream",
     "text": [
      "Displaying test images\n",
      "[[ 9  6  0  6  9]\n",
      " [ 6 10 10 10 10]\n",
      " [ 8  1  6  1  2]]\n"
     ]
    },
    {
     "data": {
      "image/png": "[encoded data removed]",
      "text/plain": [
       "<Figure size 720x720 with 3 Axes>"
      ]
     },
     "metadata": {
      "needs_background": "light"
     },
     "output_type": "display_data"
    },
    {
     "name": "stdout",
     "output_type": "stream",
     "text": [
      "Displaying validation images\n",
      "[[ 6  5  5  8 10]\n",
      " [ 3  1  1 10 10]\n",
      " [ 7 10 10 10 10]]\n"
     ]
    },
    {
     "data": {
      "image/png": "[encoded data removed]",
      "text/plain": [
       "<Figure size 720x720 with 3 Axes>"
      ]
     },
     "metadata": {
      "needs_background": "light"
     },
     "output_type": "display_data"
    }
   ],
   "source": [
    "def display_dataset(dataset, labels, samples_per_label):\n",
    "    idxs = np.random.choice(dataset.shape[0], samples_per_label, replace=False)\n",
    "    for i, idx in enumerate(idxs):\n",
    "        plt_idx = i + 1\n",
    "        plt.subplot(1, samples_per_label, plt_idx)\n",
    "        plt.imshow(dataset[idx])\n",
    "        plt.axis('off')\n",
    "    print(labels[idxs])\n",
    "    plt.show()\n",
    "    \n",
    "print ('Displaying training images')\n",
    "display_dataset(train_dataset, train_labels, 3)\n",
    "print ('Displaying test images')\n",
    "display_dataset(test_dataset, test_labels, 3)\n",
    "print ('Displaying validation images')\n",
    "display_dataset(valid_dataset, valid_labels, 3)"
   ]
  },
  {
   "cell_type": "code",
   "execution_count": 11,
   "metadata": {},
   "outputs": [
    {
     "name": "stdout",
     "output_type": "stream",
     "text": [
      "Training set (200000, 28, 56, 1) (200000, 5, 11)\n",
      "Validation set (5000, 28, 56, 1) (5000, 5, 11)\n",
      "Test set (10000, 28, 56, 1) (10000, 5, 11)\n"
     ]
    }
   ],
   "source": [
    "new_size = (28, 56)\n",
    "num_labels = 11\n",
    "num_channels = 1 # grayscale\n",
    "\n",
    "import numpy as np\n",
    "\n",
    "def reformat(dataset, labels):\n",
    "    dataset = dataset.reshape((-1, new_size[0], new_size[1], num_channels)).astype(np.float32)\n",
    "    labels = np.eye(11)[labels]\n",
    "    \n",
    "    return dataset, labels\n",
    "\n",
    "train_dataset, train_labels = reformat(train_dataset, train_labels)\n",
    "valid_dataset, valid_labels = reformat(valid_dataset, valid_labels)\n",
    "test_dataset, test_labels = reformat(test_dataset, test_labels)\n",
    "\n",
    "print('Training set', train_dataset.shape, train_labels.shape)\n",
    "print('Validation set', valid_dataset.shape, valid_labels.shape)\n",
    "print('Test set', test_dataset.shape, test_labels.shape)"
   ]
  },
  {
   "cell_type": "markdown",
   "metadata": {},
   "source": [
    "## Network"
   ]
  },
  {
   "cell_type": "code",
   "execution_count": 12,
   "metadata": {},
   "outputs": [],
   "source": [
    "def accuracy(predictions, labels):\n",
    "    predictions = np.transpose(predictions, (1, 0, 2))\n",
    "    global_acc = 100.0 * np.mean(np.prod(np.argmax(predictions, 2) == np.argmax(labels, 2), 1))\n",
    "    individual_acc = 100 * np.mean(np.argmax(predictions, 2) == np.argmax(labels, 2), 0)\n",
    "    return [global_acc, individual_acc]"
   ]
  },
  {
   "cell_type": "code",
   "execution_count": 13,
   "metadata": {},
   "outputs": [],
   "source": [
    "batch_size = 32\n",
    "patch_size = 5\n",
    "depth = 16\n",
    "num_hidden = 64\n",
    "image_size = (28, 56)\n",
    "num_outputs = 5\n",
    "\n",
    "graph = tf.Graph()\n",
    "\n",
    "with graph.as_default():\n",
    "\n",
    "    # Input data.\n",
    "    tf_dataset = tf.placeholder(tf.float32, shape=(None, image_size[0], image_size[1], num_channels), name='data')\n",
    "    tf_labels  = tf.placeholder(tf.float32, shape=(None, num_outputs, num_labels), name='labels')\n",
    "    tf_learning_rate = tf.placeholder(tf.float32, name='learning_rate')\n",
    "  \n",
    "    # Variables.\n",
    "    ## First convolutional layer\n",
    "    with tf.name_scope('conv1/'):\n",
    "        with tf.variable_scope('conv1/'):\n",
    "            conv1_weights = tf.get_variable('conv1_w', shape=[patch_size, patch_size, num_channels, depth],\n",
    "                                            initializer=tf.contrib.layers.xavier_initializer())\n",
    "            conv1_biases = tf.get_variable('conv1_b', shape=[depth],\n",
    "                                           initializer=tf.random_uniform_initializer(-0.1, 0.1))\n",
    "\n",
    "        tf.summary.histogram('weights', conv1_weights)\n",
    "        tf.summary.histogram('bias', conv1_biases)\n",
    "    \n",
    "    ## Second convolutional layer\n",
    "    with tf.name_scope('conv2/'):\n",
    "        with tf.variable_scope('conv2/'):\n",
    "            conv2_weights = tf.get_variable('conv2_w', shape=[patch_size, patch_size, depth, depth],\n",
    "                                           initializer=tf.contrib.layers.xavier_initializer())\n",
    "            conv2_biases = tf.get_variable('conv2_b', shape=[depth],\n",
    "                                           initializer=tf.random_uniform_initializer(-0.1, 0.1))\n",
    "\n",
    "        tf.summary.histogram('weights', conv2_weights)\n",
    "        tf.summary.histogram('bias', conv2_biases)\n",
    "    \n",
    "    ## fully connected layer\n",
    "    with tf.name_scope('fc1/'):\n",
    "        with tf.variable_scope('fc1/'):\n",
    "            fc1_weights = tf.get_variable('fc1/fc1_w', shape=[image_size[0] // 4 * image_size[1] // 4 * depth, num_hidden],\n",
    "                                         initializer=tf.contrib.layers.xavier_initializer())\n",
    "            fc1_biases = tf.get_variable('fc1/fc1_b', shape=[num_hidden],\n",
    "                                         initializer=tf.random_uniform_initializer(-0.1, 0.1))\n",
    "\n",
    "        tf.summary.histogram('weights', fc1_weights)\n",
    "        tf.summary.histogram('bias', fc1_biases)\n",
    "                                \n",
    "    with tf.name_scope('fc2/'):\n",
    "        with tf.variable_scope('fc2/'):\n",
    "            fc2_weights = tf.get_variable('fc2_w', shape=[num_hidden, num_hidden],\n",
    "                                         initializer=tf.contrib.layers.xavier_initializer())\n",
    "            fc2_biases = tf.get_variable('fc2_b', shape=[num_hidden],\n",
    "                                         initializer=tf.random_uniform_initializer(-0.1, 0.1))\n",
    "\n",
    "        tf.summary.histogram('weights', fc2_weights)\n",
    "        tf.summary.histogram('bias', fc2_biases)\n",
    "    \n",
    "    ## softmax\n",
    "    with tf.name_scope('digit1/'):\n",
    "        with tf.variable_scope('digit1/'):\n",
    "            softmax1_weights = tf.get_variable('digit1_w', shape=[num_hidden, num_labels],\n",
    "                                              initializer=tf.contrib.layers.xavier_initializer())\n",
    "            softmax1_biases = tf.get_variable('digit1_b', shape=[num_labels],\n",
    "                                              initializer=tf.random_uniform_initializer(-0.1, 0.1))\n",
    "\n",
    "        tf.summary.histogram('weights', softmax1_weights)\n",
    "        tf.summary.histogram('bias', softmax1_biases)\n",
    "    \n",
    "    with tf.name_scope('digit2/'):\n",
    "        with tf.variable_scope('digit2/'):\n",
    "            softmax2_weights = tf.get_variable('digit2_w', shape=[num_hidden, num_labels],\n",
    "                                              initializer=tf.contrib.layers.xavier_initializer())\n",
    "            softmax2_biases = tf.get_variable('digit2_b', shape=[num_labels],\n",
    "                                              initializer=tf.random_uniform_initializer(-0.1, 0.1))\n",
    "\n",
    "        tf.summary.histogram('weights', softmax2_weights)\n",
    "        tf.summary.histogram('bias', softmax2_biases)\n",
    "    \n",
    "    with tf.name_scope('digit3/'):\n",
    "        with tf.variable_scope('digit3/'):\n",
    "            softmax3_weights = tf.get_variable('digit3_w', shape=[num_hidden, num_labels],\n",
    "                                              initializer=tf.contrib.layers.xavier_initializer())\n",
    "            softmax3_biases = tf.get_variable('digit3_b', shape=[num_labels],\n",
    "                                              initializer=tf.random_uniform_initializer(-0.1, 0.1))\n",
    "\n",
    "        tf.summary.histogram('weights', softmax3_weights)\n",
    "        tf.summary.histogram('bias', softmax3_biases)\n",
    "    \n",
    "    with tf.name_scope('digit4/'):\n",
    "        with tf.variable_scope('digit4/'):\n",
    "            softmax4_weights = tf.get_variable('digit4_w', shape=[num_hidden, num_labels],\n",
    "                                              initializer=tf.contrib.layers.xavier_initializer())\n",
    "            softmax4_biases = tf.get_variable('digit4_b', shape=[num_labels],\n",
    "                                              initializer=tf.random_uniform_initializer(-0.1, 0.1))\n",
    "\n",
    "        tf.summary.histogram('weights', softmax4_weights)\n",
    "        tf.summary.histogram('bias', softmax4_biases)\n",
    "    \n",
    "    with tf.name_scope('digit5/'):\n",
    "        with tf.variable_scope('digit5/'):\n",
    "            softmax5_weights = tf.get_variable('digit5_w', shape=[num_hidden, num_labels],\n",
    "                                              initializer=tf.contrib.layers.xavier_initializer())\n",
    "            softmax5_biases = tf.get_variable('digit5_b', shape=[num_labels],\n",
    "                                              initializer=tf.random_uniform_initializer(-0.1, 0.1))\n",
    "\n",
    "        tf.summary.histogram('weights', softmax5_weights)\n",
    "        tf.summary.histogram('bias', softmax5_biases)\n",
    "  \n",
    "    # Model.\n",
    "    def model(data):\n",
    "        # first conv\n",
    "        with tf.name_scope('conv1/'):\n",
    "            conv   = tf.nn.conv2d(data, conv1_weights, [1, 1, 1, 1], padding='SAME')\n",
    "            conv   = tf.nn.relu(conv + conv1_biases)\n",
    "            hidden = tf.nn.max_pool(conv, ksize=[1, 2, 2, 1], strides=[1, 2, 2, 1], padding='SAME')\n",
    "        \n",
    "        # second conv\n",
    "        with tf.name_scope('conv2/'):\n",
    "            conv   = tf.nn.conv2d(hidden, conv2_weights, [1, 1, 1, 1], padding='SAME')\n",
    "            conv   = tf.nn.relu(conv + conv2_biases)\n",
    "            hidden = tf.nn.max_pool(conv, ksize=[1, 2, 2, 1], strides=[1, 2, 2, 1], padding='SAME')\n",
    "        \n",
    "        # flatten\n",
    "        with tf.name_scope('flatten/'):\n",
    "            shape   = hidden.get_shape().as_list()\n",
    "            reshape = tf.reshape(hidden, [-1, shape[1] * shape[2] * shape[3]])\n",
    "        \n",
    "        # fc1\n",
    "        with tf.name_scope('fc1/'):\n",
    "            hidden  = tf.nn.relu(tf.matmul(reshape, fc1_weights) + fc1_biases)\n",
    "        \n",
    "        # fc2\n",
    "        with tf.name_scope('fc2/'):\n",
    "            hidden = tf.nn.relu(tf.matmul(hidden, fc2_weights) + fc2_biases)\n",
    "        \n",
    "        # classifiers\n",
    "        with tf.name_scope('digit1/'):\n",
    "            classifier1 = tf.matmul(hidden, softmax1_weights) + softmax1_biases\n",
    "        with tf.name_scope('digit2/'):\n",
    "            classifier2 = tf.matmul(hidden, softmax2_weights) + softmax2_biases\n",
    "        with tf.name_scope('digit3/'):\n",
    "            classifier3 = tf.matmul(hidden, softmax3_weights) + softmax3_biases\n",
    "        with tf.name_scope('digit4/'):\n",
    "            classifier4 = tf.matmul(hidden, softmax4_weights) + softmax4_biases\n",
    "        with tf.name_scope('digit5/'):\n",
    "            classifier5 = tf.matmul(hidden, softmax5_weights) + softmax5_biases\n",
    "        \n",
    "        return [classifier1, classifier2, classifier3, classifier4, classifier5]\n",
    "  \n",
    "    # Training computation.\n",
    "    logits = model(tf_dataset)\n",
    "    \n",
    "    total_loss = 0\n",
    "    for i in range(len(logits)):\n",
    "        with tf.name_scope(f'digit{i+1}/'):\n",
    "            loss = tf.reduce_mean(tf.nn.softmax_cross_entropy_with_logits_v2(\n",
    "                labels=tf_labels[:, i], logits=logits[i]))\n",
    "            tf.summary.scalar('loss', loss)\n",
    "            total_loss += loss\n",
    "    tf.summary.scalar('total_loss', total_loss)\n",
    "    \n",
    "    # Optimizer.\n",
    "    optimizer = tf.train.GradientDescentOptimizer(tf_learning_rate)\n",
    "    grads_and_vars = optimizer.compute_gradients(total_loss)\n",
    "    minimize = optimizer.minimize(total_loss)\n",
    "    \n",
    "    # Gradient norm summary\n",
    "    for g,v in grads_and_vars:\n",
    "        if 'fc2_w' in v.name:\n",
    "            with tf.name_scope('gradients'):\n",
    "                tf_last_grad_norm = tf.sqrt(tf.reduce_mean(g**2))\n",
    "                tf.summary.scalar('grad_norm', tf_last_grad_norm)\n",
    "                break\n",
    "  \n",
    "    merged = tf.summary.merge_all()\n",
    "    # Predictions\n",
    "    def prediction(logits):\n",
    "        prediction = []\n",
    "        for i in range(len(logits)):\n",
    "            with tf.name_scope(f'prediction{i+1}'):\n",
    "                prediction.append(tf.nn.softmax(logits[i]))\n",
    "        return tf.stack(prediction)\n",
    "    \n",
    "    predictions = prediction(logits)"
   ]
  },
  {
   "cell_type": "code",
   "execution_count": 14,
   "metadata": {},
   "outputs": [],
   "source": [
    "def printStatistics(dataset ,loss, accuracies):\n",
    "    print(f'\\t{dataset} loss: {loss}')\n",
    "    print(f'\\t{dataset} accuracy: global - {accuracies[0]:.2f}% --- average - {np.mean(accuracies[1]):.2f}%')\n",
    "    for i in range(len(accuracies[1])):\n",
    "        print(f'\\tDigit{i}: {accuracies[1][i]:.2f}%')            "
   ]
  },
  {
   "cell_type": "code",
   "execution_count": 17,
   "metadata": {},
   "outputs": [
    {
     "name": "stdout",
     "output_type": "stream",
     "text": [
      "Initialized\n",
      "step 0:\n",
      "\tTrain loss: 12.458427429199219\n",
      "\tTrain accuracy: global - 0.00% --- average - 2.50%\n",
      "\tDigit0: 0.00%\n",
      "\tDigit1: 3.12%\n",
      "\tDigit2: 6.25%\n",
      "\tDigit3: 0.00%\n",
      "\tDigit4: 3.12%\n",
      "\tValidation loss: 12.291093826293945\n",
      "\tValidation accuracy: global - 0.00% --- average - 5.70%\n",
      "\tDigit0: 8.06%\n",
      "\tDigit1: 8.30%\n",
      "\tDigit2: 6.36%\n",
      "\tDigit3: 3.90%\n",
      "\tDigit4: 1.90%\n",
      "step 100:\n",
      "\tTrain loss: 8.792525291442871\n",
      "\tTrain accuracy: global - 3.12% --- average - 48.12%\n",
      "\tDigit0: 3.12%\n",
      "\tDigit1: 28.12%\n",
      "\tDigit2: 56.25%\n",
      "\tDigit3: 71.88%\n",
      "\tDigit4: 81.25%\n",
      "\tValidation loss: 9.517447471618652\n",
      "\tValidation accuracy: global - 1.88% --- average - 41.94%\n",
      "\tDigit0: 10.80%\n",
      "\tDigit1: 20.14%\n",
      "\tDigit2: 39.94%\n",
      "\tDigit3: 59.28%\n",
      "\tDigit4: 79.56%\n",
      "step 200:\n",
      "\tTrain loss: 9.00647258758545\n",
      "\tTrain accuracy: global - 0.00% --- average - 42.50%\n",
      "\tDigit0: 15.62%\n",
      "\tDigit1: 18.75%\n",
      "\tDigit2: 40.62%\n",
      "\tDigit3: 59.38%\n",
      "\tDigit4: 78.12%\n",
      "\tValidation loss: 8.974225044250488\n",
      "\tValidation accuracy: global - 2.62% --- average - 41.90%\n",
      "\tDigit0: 10.60%\n",
      "\tDigit1: 20.14%\n",
      "\tDigit2: 39.94%\n",
      "\tDigit3: 59.28%\n",
      "\tDigit4: 79.56%\n",
      "step 300:\n",
      "\tTrain loss: 8.212151527404785\n",
      "\tTrain accuracy: global - 3.12% --- average - 45.00%\n",
      "\tDigit0: 12.50%\n",
      "\tDigit1: 31.25%\n",
      "\tDigit2: 43.75%\n",
      "\tDigit3: 65.62%\n",
      "\tDigit4: 71.88%\n",
      "\tValidation loss: 8.284423828125\n",
      "\tValidation accuracy: global - 2.20% --- average - 42.83%\n",
      "\tDigit0: 13.00%\n",
      "\tDigit1: 21.12%\n",
      "\tDigit2: 40.98%\n",
      "\tDigit3: 59.50%\n",
      "\tDigit4: 79.56%\n",
      "step 400:\n",
      "\tTrain loss: 8.699540138244629\n",
      "\tTrain accuracy: global - 0.00% --- average - 41.88%\n",
      "\tDigit0: 21.88%\n",
      "\tDigit1: 25.00%\n",
      "\tDigit2: 34.38%\n",
      "\tDigit3: 56.25%\n",
      "\tDigit4: 71.88%\n",
      "\tValidation loss: 7.911473274230957\n",
      "\tValidation accuracy: global - 2.72% --- average - 44.64%\n",
      "\tDigit0: 15.26%\n",
      "\tDigit1: 24.80%\n",
      "\tDigit2: 43.06%\n",
      "\tDigit3: 60.46%\n",
      "\tDigit4: 79.60%\n",
      "step 500:\n",
      "\tTrain loss: 8.596583366394043\n",
      "\tTrain accuracy: global - 0.00% --- average - 40.00%\n",
      "\tDigit0: 9.38%\n",
      "\tDigit1: 21.88%\n",
      "\tDigit2: 40.62%\n",
      "\tDigit3: 46.88%\n",
      "\tDigit4: 81.25%\n",
      "\tValidation loss: 7.721091270446777\n",
      "\tValidation accuracy: global - 4.50% --- average - 45.41%\n",
      "\tDigit0: 14.64%\n",
      "\tDigit1: 26.78%\n",
      "\tDigit2: 45.16%\n",
      "\tDigit3: 60.78%\n",
      "\tDigit4: 79.68%\n",
      "step 600:\n",
      "\tTrain loss: 7.176152229309082\n",
      "\tTrain accuracy: global - 3.12% --- average - 52.50%\n",
      "\tDigit0: 28.12%\n",
      "\tDigit1: 28.12%\n",
      "\tDigit2: 56.25%\n",
      "\tDigit3: 65.62%\n",
      "\tDigit4: 84.38%\n",
      "\tValidation loss: 7.596709728240967\n",
      "\tValidation accuracy: global - 4.76% --- average - 47.36%\n",
      "\tDigit0: 23.48%\n",
      "\tDigit1: 27.44%\n",
      "\tDigit2: 45.12%\n",
      "\tDigit3: 61.16%\n",
      "\tDigit4: 79.60%\n",
      "step 700:\n",
      "\tTrain loss: 7.87689733505249\n",
      "\tTrain accuracy: global - 6.25% --- average - 42.50%\n",
      "\tDigit0: 21.88%\n",
      "\tDigit1: 25.00%\n",
      "\tDigit2: 40.62%\n",
      "\tDigit3: 53.12%\n",
      "\tDigit4: 71.88%\n",
      "\tValidation loss: 7.357885360717773\n",
      "\tValidation accuracy: global - 5.06% --- average - 48.37%\n",
      "\tDigit0: 25.12%\n",
      "\tDigit1: 28.16%\n",
      "\tDigit2: 46.46%\n",
      "\tDigit3: 62.40%\n",
      "\tDigit4: 79.72%\n",
      "step 800:\n",
      "\tTrain loss: 7.165067195892334\n",
      "\tTrain accuracy: global - 9.38% --- average - 46.25%\n",
      "\tDigit0: 25.00%\n",
      "\tDigit1: 28.12%\n",
      "\tDigit2: 40.62%\n",
      "\tDigit3: 62.50%\n",
      "\tDigit4: 75.00%\n",
      "\tValidation loss: 7.144885063171387\n",
      "\tValidation accuracy: global - 7.58% --- average - 50.42%\n",
      "\tDigit0: 30.92%\n",
      "\tDigit1: 31.40%\n",
      "\tDigit2: 46.86%\n",
      "\tDigit3: 62.92%\n",
      "\tDigit4: 79.98%\n",
      "step 900:\n",
      "\tTrain loss: 7.244363307952881\n",
      "\tTrain accuracy: global - 3.12% --- average - 48.12%\n",
      "\tDigit0: 34.38%\n",
      "\tDigit1: 28.12%\n",
      "\tDigit2: 53.12%\n",
      "\tDigit3: 59.38%\n",
      "\tDigit4: 65.62%\n",
      "\tValidation loss: 7.063692092895508\n",
      "\tValidation accuracy: global - 7.12% --- average - 50.80%\n",
      "\tDigit0: 30.76%\n",
      "\tDigit1: 32.40%\n",
      "\tDigit2: 47.12%\n",
      "\tDigit3: 63.48%\n",
      "\tDigit4: 80.24%\n",
      "step 1000:\n",
      "\tTrain loss: 5.6569366455078125\n",
      "\tTrain accuracy: global - 9.38% --- average - 61.88%\n",
      "\tDigit0: 46.88%\n",
      "\tDigit1: 34.38%\n",
      "\tDigit2: 56.25%\n",
      "\tDigit3: 81.25%\n",
      "\tDigit4: 90.62%\n",
      "\tValidation loss: 6.83289098739624\n",
      "\tValidation accuracy: global - 8.34% --- average - 52.34%\n",
      "\tDigit0: 35.28%\n",
      "\tDigit1: 34.72%\n",
      "\tDigit2: 48.00%\n",
      "\tDigit3: 63.68%\n",
      "\tDigit4: 80.02%\n",
      "step 1100:\n",
      "\tTrain loss: 7.224748134613037\n",
      "\tTrain accuracy: global - 6.25% --- average - 48.75%\n",
      "\tDigit0: 34.38%\n",
      "\tDigit1: 40.62%\n",
      "\tDigit2: 37.50%\n",
      "\tDigit3: 50.00%\n",
      "\tDigit4: 81.25%\n",
      "\tValidation loss: 6.765645980834961\n",
      "\tValidation accuracy: global - 11.02% --- average - 53.22%\n",
      "\tDigit0: 38.02%\n",
      "\tDigit1: 35.06%\n",
      "\tDigit2: 48.16%\n",
      "\tDigit3: 63.94%\n",
      "\tDigit4: 80.94%\n",
      "step 1200:\n",
      "\tTrain loss: 5.945035934448242\n",
      "\tTrain accuracy: global - 9.38% --- average - 60.00%\n",
      "\tDigit0: 43.75%\n",
      "\tDigit1: 28.12%\n",
      "\tDigit2: 65.62%\n",
      "\tDigit3: 75.00%\n",
      "\tDigit4: 87.50%\n",
      "\tValidation loss: 6.607287883758545\n",
      "\tValidation accuracy: global - 12.02% --- average - 55.06%\n",
      "\tDigit0: 44.06%\n",
      "\tDigit1: 37.60%\n",
      "\tDigit2: 49.32%\n",
      "\tDigit3: 64.08%\n",
      "\tDigit4: 80.26%\n",
      "step 1300:\n",
      "\tTrain loss: 5.197558403015137\n",
      "\tTrain accuracy: global - 21.88% --- average - 66.25%\n",
      "\tDigit0: 56.25%\n",
      "\tDigit1: 50.00%\n",
      "\tDigit2: 62.50%\n",
      "\tDigit3: 71.88%\n",
      "\tDigit4: 90.62%\n",
      "\tValidation loss: 6.333998203277588\n",
      "\tValidation accuracy: global - 16.14% --- average - 57.02%\n",
      "\tDigit0: 47.36%\n",
      "\tDigit1: 40.12%\n",
      "\tDigit2: 50.84%\n",
      "\tDigit3: 66.18%\n",
      "\tDigit4: 80.62%\n",
      "step 1400:\n",
      "\tTrain loss: 7.368802547454834\n",
      "\tTrain accuracy: global - 12.50% --- average - 47.50%\n",
      "\tDigit0: 43.75%\n",
      "\tDigit1: 31.25%\n",
      "\tDigit2: 43.75%\n",
      "\tDigit3: 46.88%\n",
      "\tDigit4: 71.88%\n",
      "\tValidation loss: 6.188752174377441\n",
      "\tValidation accuracy: global - 16.78% --- average - 57.86%\n",
      "\tDigit0: 48.30%\n",
      "\tDigit1: 40.58%\n",
      "\tDigit2: 52.34%\n",
      "\tDigit3: 66.90%\n",
      "\tDigit4: 81.20%\n",
      "step 1500:\n",
      "\tTrain loss: 6.971945762634277\n",
      "\tTrain accuracy: global - 9.38% --- average - 51.88%\n",
      "\tDigit0: 59.38%\n",
      "\tDigit1: 25.00%\n",
      "\tDigit2: 46.88%\n",
      "\tDigit3: 59.38%\n",
      "\tDigit4: 68.75%\n",
      "\tValidation loss: 6.105157852172852\n",
      "\tValidation accuracy: global - 17.64% --- average - 58.94%\n",
      "\tDigit0: 50.84%\n",
      "\tDigit1: 42.92%\n",
      "\tDigit2: 53.10%\n",
      "\tDigit3: 65.46%\n",
      "\tDigit4: 82.36%\n",
      "step 1600:\n",
      "\tTrain loss: 5.910564422607422\n",
      "\tTrain accuracy: global - 12.50% --- average - 56.25%\n",
      "\tDigit0: 53.12%\n",
      "\tDigit1: 53.12%\n",
      "\tDigit2: 40.62%\n",
      "\tDigit3: 59.38%\n",
      "\tDigit4: 75.00%\n",
      "\tValidation loss: 5.816449165344238\n",
      "\tValidation accuracy: global - 19.42% --- average - 60.73%\n",
      "\tDigit0: 52.82%\n",
      "\tDigit1: 45.68%\n",
      "\tDigit2: 55.10%\n",
      "\tDigit3: 67.70%\n",
      "\tDigit4: 82.34%\n",
      "step 1700:\n",
      "\tTrain loss: 4.532209873199463\n",
      "\tTrain accuracy: global - 31.25% --- average - 74.38%\n",
      "\tDigit0: 68.75%\n",
      "\tDigit1: 56.25%\n",
      "\tDigit2: 71.88%\n",
      "\tDigit3: 84.38%\n",
      "\tDigit4: 90.62%\n",
      "\tValidation loss: 5.853682041168213\n",
      "\tValidation accuracy: global - 19.16% --- average - 60.81%\n",
      "\tDigit0: 55.02%\n",
      "\tDigit1: 45.26%\n",
      "\tDigit2: 54.80%\n",
      "\tDigit3: 67.70%\n",
      "\tDigit4: 81.28%\n",
      "step 1800:\n",
      "\tTrain loss: 6.6912312507629395\n",
      "\tTrain accuracy: global - 9.38% --- average - 54.38%\n",
      "\tDigit0: 50.00%\n",
      "\tDigit1: 34.38%\n",
      "\tDigit2: 43.75%\n",
      "\tDigit3: 68.75%\n",
      "\tDigit4: 75.00%\n",
      "\tValidation loss: 5.583002090454102\n",
      "\tValidation accuracy: global - 20.84% --- average - 62.62%\n",
      "\tDigit0: 55.40%\n",
      "\tDigit1: 47.84%\n",
      "\tDigit2: 56.74%\n",
      "\tDigit3: 69.94%\n",
      "\tDigit4: 83.18%\n",
      "step 1900:\n",
      "\tTrain loss: 5.3018479347229\n",
      "\tTrain accuracy: global - 25.00% --- average - 67.50%\n",
      "\tDigit0: 56.25%\n",
      "\tDigit1: 59.38%\n",
      "\tDigit2: 53.12%\n",
      "\tDigit3: 75.00%\n",
      "\tDigit4: 93.75%\n",
      "\tValidation loss: 5.5572099685668945\n",
      "\tValidation accuracy: global - 21.30% --- average - 62.94%\n",
      "\tDigit0: 57.22%\n",
      "\tDigit1: 47.62%\n",
      "\tDigit2: 57.88%\n",
      "\tDigit3: 69.46%\n",
      "\tDigit4: 82.52%\n",
      "step 2000:\n",
      "\tTrain loss: 5.27065372467041\n",
      "\tTrain accuracy: global - 25.00% --- average - 60.00%\n",
      "\tDigit0: 56.25%\n",
      "\tDigit1: 56.25%\n",
      "\tDigit2: 53.12%\n",
      "\tDigit3: 56.25%\n",
      "\tDigit4: 78.12%\n",
      "\tValidation loss: 5.392715930938721\n",
      "\tValidation accuracy: global - 22.66% --- average - 64.04%\n",
      "\tDigit0: 57.40%\n",
      "\tDigit1: 51.52%\n",
      "\tDigit2: 57.58%\n",
      "\tDigit3: 70.08%\n",
      "\tDigit4: 83.60%\n",
      "step 2100:\n",
      "\tTrain loss: 5.665214538574219\n",
      "\tTrain accuracy: global - 28.12% --- average - 61.25%\n",
      "\tDigit0: 56.25%\n",
      "\tDigit1: 59.38%\n",
      "\tDigit2: 53.12%\n",
      "\tDigit3: 59.38%\n",
      "\tDigit4: 78.12%\n",
      "\tValidation loss: 5.257015705108643\n",
      "\tValidation accuracy: global - 23.54% --- average - 65.08%\n",
      "\tDigit0: 59.96%\n",
      "\tDigit1: 50.20%\n",
      "\tDigit2: 58.90%\n",
      "\tDigit3: 71.88%\n",
      "\tDigit4: 84.48%\n",
      "step 2200:\n",
      "\tTrain loss: 5.996091365814209\n",
      "\tTrain accuracy: global - 15.62% --- average - 61.25%\n",
      "\tDigit0: 50.00%\n",
      "\tDigit1: 46.88%\n",
      "\tDigit2: 56.25%\n",
      "\tDigit3: 75.00%\n",
      "\tDigit4: 78.12%\n",
      "\tValidation loss: 5.290549278259277\n",
      "\tValidation accuracy: global - 22.36% --- average - 65.29%\n",
      "\tDigit0: 57.46%\n",
      "\tDigit1: 52.36%\n",
      "\tDigit2: 60.46%\n",
      "\tDigit3: 71.74%\n",
      "\tDigit4: 84.44%\n",
      "step 2300:\n",
      "\tTrain loss: 4.5912652015686035\n",
      "\tTrain accuracy: global - 25.00% --- average - 70.62%\n",
      "\tDigit0: 68.75%\n",
      "\tDigit1: 53.12%\n",
      "\tDigit2: 62.50%\n",
      "\tDigit3: 81.25%\n",
      "\tDigit4: 87.50%\n"
     ]
    },
    {
     "name": "stdout",
     "output_type": "stream",
     "text": [
      "\tValidation loss: 5.127609729766846\n",
      "\tValidation accuracy: global - 22.50% --- average - 65.94%\n",
      "\tDigit0: 59.04%\n",
      "\tDigit1: 53.20%\n",
      "\tDigit2: 59.84%\n",
      "\tDigit3: 72.54%\n",
      "\tDigit4: 85.08%\n",
      "step 2400:\n",
      "\tTrain loss: 4.908709526062012\n",
      "\tTrain accuracy: global - 25.00% --- average - 67.50%\n",
      "\tDigit0: 46.88%\n",
      "\tDigit1: 68.75%\n",
      "\tDigit2: 65.62%\n",
      "\tDigit3: 78.12%\n",
      "\tDigit4: 78.12%\n",
      "\tValidation loss: 4.9353718757629395\n",
      "\tValidation accuracy: global - 25.74% --- average - 67.75%\n",
      "\tDigit0: 62.00%\n",
      "\tDigit1: 54.64%\n",
      "\tDigit2: 62.06%\n",
      "\tDigit3: 73.64%\n",
      "\tDigit4: 86.42%\n",
      "step 2500:\n",
      "\tTrain loss: 5.957791805267334\n",
      "\tTrain accuracy: global - 9.38% --- average - 57.50%\n",
      "\tDigit0: 40.62%\n",
      "\tDigit1: 53.12%\n",
      "\tDigit2: 56.25%\n",
      "\tDigit3: 56.25%\n",
      "\tDigit4: 81.25%\n",
      "\tValidation loss: 4.854820251464844\n",
      "\tValidation accuracy: global - 25.46% --- average - 68.10%\n",
      "\tDigit0: 62.28%\n",
      "\tDigit1: 56.20%\n",
      "\tDigit2: 62.06%\n",
      "\tDigit3: 73.54%\n",
      "\tDigit4: 86.44%\n",
      "step 2600:\n",
      "\tTrain loss: 5.178800582885742\n",
      "\tTrain accuracy: global - 15.62% --- average - 67.50%\n",
      "\tDigit0: 65.62%\n",
      "\tDigit1: 50.00%\n",
      "\tDigit2: 59.38%\n",
      "\tDigit3: 78.12%\n",
      "\tDigit4: 84.38%\n",
      "\tValidation loss: 4.78287410736084\n",
      "\tValidation accuracy: global - 25.78% --- average - 68.71%\n",
      "\tDigit0: 63.40%\n",
      "\tDigit1: 56.62%\n",
      "\tDigit2: 62.70%\n",
      "\tDigit3: 74.20%\n",
      "\tDigit4: 86.62%\n",
      "step 2700:\n",
      "\tTrain loss: 4.467540264129639\n",
      "\tTrain accuracy: global - 34.38% --- average - 70.62%\n",
      "\tDigit0: 65.62%\n",
      "\tDigit1: 62.50%\n",
      "\tDigit2: 71.88%\n",
      "\tDigit3: 68.75%\n",
      "\tDigit4: 84.38%\n",
      "\tValidation loss: 4.715109825134277\n",
      "\tValidation accuracy: global - 25.62% --- average - 68.99%\n",
      "\tDigit0: 62.38%\n",
      "\tDigit1: 56.20%\n",
      "\tDigit2: 64.42%\n",
      "\tDigit3: 75.20%\n",
      "\tDigit4: 86.76%\n",
      "step 2800:\n",
      "\tTrain loss: 4.157200336456299\n",
      "\tTrain accuracy: global - 46.88% --- average - 78.75%\n",
      "\tDigit0: 84.38%\n",
      "\tDigit1: 65.62%\n",
      "\tDigit2: 68.75%\n",
      "\tDigit3: 81.25%\n",
      "\tDigit4: 93.75%\n",
      "\tValidation loss: 4.619433403015137\n",
      "\tValidation accuracy: global - 27.04% --- average - 69.77%\n",
      "\tDigit0: 64.66%\n",
      "\tDigit1: 58.02%\n",
      "\tDigit2: 63.68%\n",
      "\tDigit3: 75.24%\n",
      "\tDigit4: 87.26%\n",
      "step 2900:\n",
      "\tTrain loss: 3.9350991249084473\n",
      "\tTrain accuracy: global - 31.25% --- average - 76.25%\n",
      "\tDigit0: 68.75%\n",
      "\tDigit1: 65.62%\n",
      "\tDigit2: 84.38%\n",
      "\tDigit3: 75.00%\n",
      "\tDigit4: 87.50%\n",
      "\tValidation loss: 4.595123767852783\n",
      "\tValidation accuracy: global - 27.60% --- average - 70.14%\n",
      "\tDigit0: 63.88%\n",
      "\tDigit1: 58.34%\n",
      "\tDigit2: 65.26%\n",
      "\tDigit3: 75.00%\n",
      "\tDigit4: 88.20%\n",
      "step 3000:\n",
      "\tTrain loss: 4.300603866577148\n",
      "\tTrain accuracy: global - 34.38% --- average - 68.12%\n",
      "\tDigit0: 62.50%\n",
      "\tDigit1: 53.12%\n",
      "\tDigit2: 65.62%\n",
      "\tDigit3: 78.12%\n",
      "\tDigit4: 81.25%\n",
      "\tValidation loss: 4.426703453063965\n",
      "\tValidation accuracy: global - 28.66% --- average - 71.39%\n",
      "\tDigit0: 65.82%\n",
      "\tDigit1: 60.14%\n",
      "\tDigit2: 66.32%\n",
      "\tDigit3: 76.22%\n",
      "\tDigit4: 88.44%\n",
      "step 3100:\n",
      "\tTrain loss: 4.883684158325195\n",
      "\tTrain accuracy: global - 21.88% --- average - 70.62%\n",
      "\tDigit0: 65.62%\n",
      "\tDigit1: 53.12%\n",
      "\tDigit2: 68.75%\n",
      "\tDigit3: 75.00%\n",
      "\tDigit4: 90.62%\n",
      "\tValidation loss: 4.44004487991333\n",
      "\tValidation accuracy: global - 27.90% --- average - 70.95%\n",
      "\tDigit0: 65.94%\n",
      "\tDigit1: 59.58%\n",
      "\tDigit2: 66.10%\n",
      "\tDigit3: 75.28%\n",
      "\tDigit4: 87.84%\n",
      "step 3200:\n",
      "\tTrain loss: 4.554042339324951\n",
      "\tTrain accuracy: global - 28.12% --- average - 70.62%\n",
      "\tDigit0: 71.88%\n",
      "\tDigit1: 53.12%\n",
      "\tDigit2: 59.38%\n",
      "\tDigit3: 84.38%\n",
      "\tDigit4: 84.38%\n",
      "\tValidation loss: 4.326836109161377\n",
      "\tValidation accuracy: global - 28.30% --- average - 71.93%\n",
      "\tDigit0: 65.38%\n",
      "\tDigit1: 61.24%\n",
      "\tDigit2: 67.62%\n",
      "\tDigit3: 76.62%\n",
      "\tDigit4: 88.78%\n",
      "step 3300:\n",
      "\tTrain loss: 3.41574764251709\n",
      "\tTrain accuracy: global - 40.62% --- average - 79.38%\n",
      "\tDigit0: 59.38%\n",
      "\tDigit1: 75.00%\n",
      "\tDigit2: 81.25%\n",
      "\tDigit3: 87.50%\n",
      "\tDigit4: 93.75%\n",
      "\tValidation loss: 4.315711498260498\n",
      "\tValidation accuracy: global - 28.70% --- average - 72.34%\n",
      "\tDigit0: 66.96%\n",
      "\tDigit1: 60.78%\n",
      "\tDigit2: 68.12%\n",
      "\tDigit3: 76.94%\n",
      "\tDigit4: 88.90%\n",
      "step 3400:\n",
      "\tTrain loss: 4.996098041534424\n",
      "\tTrain accuracy: global - 21.88% --- average - 68.12%\n",
      "\tDigit0: 68.75%\n",
      "\tDigit1: 46.88%\n",
      "\tDigit2: 59.38%\n",
      "\tDigit3: 81.25%\n",
      "\tDigit4: 84.38%\n",
      "\tValidation loss: 4.323960304260254\n",
      "\tValidation accuracy: global - 29.44% --- average - 71.88%\n",
      "\tDigit0: 66.34%\n",
      "\tDigit1: 59.28%\n",
      "\tDigit2: 67.38%\n",
      "\tDigit3: 77.04%\n",
      "\tDigit4: 89.34%\n",
      "step 3500:\n",
      "\tTrain loss: 2.795344591140747\n",
      "\tTrain accuracy: global - 40.62% --- average - 83.75%\n",
      "\tDigit0: 81.25%\n",
      "\tDigit1: 68.75%\n",
      "\tDigit2: 78.12%\n",
      "\tDigit3: 93.75%\n",
      "\tDigit4: 96.88%\n",
      "\tValidation loss: 4.092214107513428\n",
      "\tValidation accuracy: global - 31.28% --- average - 74.02%\n",
      "\tDigit0: 68.32%\n",
      "\tDigit1: 64.04%\n",
      "\tDigit2: 69.34%\n",
      "\tDigit3: 78.74%\n",
      "\tDigit4: 89.68%\n",
      "step 3600:\n",
      "\tTrain loss: 3.426510810852051\n",
      "\tTrain accuracy: global - 28.12% --- average - 76.25%\n",
      "\tDigit0: 75.00%\n",
      "\tDigit1: 53.12%\n",
      "\tDigit2: 78.12%\n",
      "\tDigit3: 84.38%\n",
      "\tDigit4: 90.62%\n",
      "\tValidation loss: 4.109088897705078\n",
      "\tValidation accuracy: global - 30.68% --- average - 73.58%\n",
      "\tDigit0: 67.64%\n",
      "\tDigit1: 63.50%\n",
      "\tDigit2: 69.36%\n",
      "\tDigit3: 78.28%\n",
      "\tDigit4: 89.12%\n",
      "step 3700:\n",
      "\tTrain loss: 3.5536229610443115\n",
      "\tTrain accuracy: global - 43.75% --- average - 78.12%\n",
      "\tDigit0: 78.12%\n",
      "\tDigit1: 62.50%\n",
      "\tDigit2: 71.88%\n",
      "\tDigit3: 81.25%\n",
      "\tDigit4: 96.88%\n",
      "\tValidation loss: 4.057215690612793\n",
      "\tValidation accuracy: global - 31.38% --- average - 74.24%\n",
      "\tDigit0: 68.42%\n",
      "\tDigit1: 64.48%\n",
      "\tDigit2: 69.92%\n",
      "\tDigit3: 79.00%\n",
      "\tDigit4: 89.40%\n",
      "step 3800:\n",
      "\tTrain loss: 4.67310094833374\n",
      "\tTrain accuracy: global - 21.88% --- average - 69.38%\n",
      "\tDigit0: 68.75%\n",
      "\tDigit1: 59.38%\n",
      "\tDigit2: 68.75%\n",
      "\tDigit3: 56.25%\n",
      "\tDigit4: 93.75%\n",
      "\tValidation loss: 3.9575178623199463\n",
      "\tValidation accuracy: global - 31.48% --- average - 74.74%\n",
      "\tDigit0: 70.02%\n",
      "\tDigit1: 65.32%\n",
      "\tDigit2: 69.46%\n",
      "\tDigit3: 78.92%\n",
      "\tDigit4: 89.98%\n",
      "step 3900:\n",
      "\tTrain loss: 3.754866123199463\n",
      "\tTrain accuracy: global - 43.75% --- average - 76.88%\n",
      "\tDigit0: 65.62%\n",
      "\tDigit1: 68.75%\n",
      "\tDigit2: 78.12%\n",
      "\tDigit3: 78.12%\n",
      "\tDigit4: 93.75%\n",
      "\tValidation loss: 3.9148519039154053\n",
      "\tValidation accuracy: global - 31.86% --- average - 74.84%\n",
      "\tDigit0: 70.16%\n",
      "\tDigit1: 64.84%\n",
      "\tDigit2: 70.06%\n",
      "\tDigit3: 79.26%\n",
      "\tDigit4: 89.90%\n",
      "step 4000:\n",
      "\tTrain loss: 3.1618175506591797\n",
      "\tTrain accuracy: global - 43.75% --- average - 78.75%\n",
      "\tDigit0: 65.62%\n",
      "\tDigit1: 78.12%\n",
      "\tDigit2: 75.00%\n",
      "\tDigit3: 87.50%\n",
      "\tDigit4: 87.50%\n",
      "\tValidation loss: 3.878048896789551\n",
      "\tValidation accuracy: global - 32.96% --- average - 75.33%\n",
      "\tDigit0: 70.04%\n",
      "\tDigit1: 65.50%\n",
      "\tDigit2: 70.96%\n",
      "\tDigit3: 80.04%\n",
      "\tDigit4: 90.12%\n",
      "step 4100:\n",
      "\tTrain loss: 3.225306272506714\n",
      "\tTrain accuracy: global - 31.25% --- average - 78.12%\n",
      "\tDigit0: 71.88%\n",
      "\tDigit1: 59.38%\n",
      "\tDigit2: 78.12%\n",
      "\tDigit3: 93.75%\n",
      "\tDigit4: 87.50%\n",
      "\tValidation loss: 3.8519139289855957\n",
      "\tValidation accuracy: global - 32.80% --- average - 75.74%\n",
      "\tDigit0: 69.48%\n",
      "\tDigit1: 66.78%\n",
      "\tDigit2: 71.60%\n",
      "\tDigit3: 80.28%\n",
      "\tDigit4: 90.54%\n",
      "step 4200:\n",
      "\tTrain loss: 4.43438196182251\n",
      "\tTrain accuracy: global - 25.00% --- average - 72.50%\n",
      "\tDigit0: 59.38%\n",
      "\tDigit1: 56.25%\n",
      "\tDigit2: 75.00%\n",
      "\tDigit3: 84.38%\n",
      "\tDigit4: 87.50%\n",
      "\tValidation loss: 3.8096675872802734\n",
      "\tValidation accuracy: global - 33.30% --- average - 76.18%\n",
      "\tDigit0: 70.28%\n",
      "\tDigit1: 67.36%\n",
      "\tDigit2: 72.12%\n",
      "\tDigit3: 80.92%\n",
      "\tDigit4: 90.24%\n",
      "step 4300:\n",
      "\tTrain loss: 2.6606075763702393\n",
      "\tTrain accuracy: global - 40.62% --- average - 83.12%\n",
      "\tDigit0: 71.88%\n",
      "\tDigit1: 81.25%\n",
      "\tDigit2: 78.12%\n",
      "\tDigit3: 87.50%\n",
      "\tDigit4: 96.88%\n",
      "\tValidation loss: 3.7408905029296875\n",
      "\tValidation accuracy: global - 33.84% --- average - 76.58%\n",
      "\tDigit0: 71.22%\n",
      "\tDigit1: 66.96%\n",
      "\tDigit2: 72.94%\n",
      "\tDigit3: 81.20%\n",
      "\tDigit4: 90.56%\n",
      "step 4400:\n",
      "\tTrain loss: 3.2482266426086426\n",
      "\tTrain accuracy: global - 40.62% --- average - 78.75%\n",
      "\tDigit0: 81.25%\n",
      "\tDigit1: 68.75%\n",
      "\tDigit2: 81.25%\n",
      "\tDigit3: 75.00%\n",
      "\tDigit4: 87.50%\n",
      "\tValidation loss: 3.734727144241333\n",
      "\tValidation accuracy: global - 33.24% --- average - 76.78%\n",
      "\tDigit0: 71.50%\n",
      "\tDigit1: 66.04%\n",
      "\tDigit2: 73.96%\n",
      "\tDigit3: 81.40%\n",
      "\tDigit4: 90.98%\n",
      "step 4500:\n",
      "\tTrain loss: 3.2805657386779785\n",
      "\tTrain accuracy: global - 34.38% --- average - 80.62%\n",
      "\tDigit0: 71.88%\n",
      "\tDigit1: 62.50%\n",
      "\tDigit2: 81.25%\n",
      "\tDigit3: 90.62%\n",
      "\tDigit4: 96.88%\n",
      "\tValidation loss: 3.6569409370422363\n",
      "\tValidation accuracy: global - 34.40% --- average - 77.18%\n",
      "\tDigit0: 71.40%\n",
      "\tDigit1: 68.78%\n",
      "\tDigit2: 73.46%\n",
      "\tDigit3: 81.36%\n",
      "\tDigit4: 90.92%\n",
      "step 4600:\n",
      "\tTrain loss: 4.177154064178467\n",
      "\tTrain accuracy: global - 21.88% --- average - 74.38%\n",
      "\tDigit0: 53.12%\n",
      "\tDigit1: 68.75%\n",
      "\tDigit2: 68.75%\n",
      "\tDigit3: 84.38%\n",
      "\tDigit4: 96.88%\n",
      "\tValidation loss: 3.679234504699707\n",
      "\tValidation accuracy: global - 34.60% --- average - 76.91%\n",
      "\tDigit0: 70.22%\n",
      "\tDigit1: 68.16%\n",
      "\tDigit2: 73.68%\n",
      "\tDigit3: 81.80%\n",
      "\tDigit4: 90.68%\n"
     ]
    },
    {
     "name": "stdout",
     "output_type": "stream",
     "text": [
      "step 4700:\n",
      "\tTrain loss: 3.8082261085510254\n",
      "\tTrain accuracy: global - 28.12% --- average - 74.38%\n",
      "\tDigit0: 65.62%\n",
      "\tDigit1: 59.38%\n",
      "\tDigit2: 75.00%\n",
      "\tDigit3: 78.12%\n",
      "\tDigit4: 93.75%\n",
      "\tValidation loss: 3.65447735786438\n",
      "\tValidation accuracy: global - 33.48% --- average - 77.30%\n",
      "\tDigit0: 71.30%\n",
      "\tDigit1: 69.22%\n",
      "\tDigit2: 73.98%\n",
      "\tDigit3: 81.22%\n",
      "\tDigit4: 90.76%\n",
      "step 4800:\n",
      "\tTrain loss: 3.0680136680603027\n",
      "\tTrain accuracy: global - 46.88% --- average - 82.50%\n",
      "\tDigit0: 71.88%\n",
      "\tDigit1: 75.00%\n",
      "\tDigit2: 75.00%\n",
      "\tDigit3: 100.00%\n",
      "\tDigit4: 90.62%\n",
      "\tValidation loss: 3.557133436203003\n",
      "\tValidation accuracy: global - 36.00% --- average - 78.14%\n",
      "\tDigit0: 73.82%\n",
      "\tDigit1: 68.58%\n",
      "\tDigit2: 74.50%\n",
      "\tDigit3: 82.30%\n",
      "\tDigit4: 91.50%\n",
      "step 4900:\n",
      "\tTrain loss: 3.5258052349090576\n",
      "\tTrain accuracy: global - 31.25% --- average - 76.88%\n",
      "\tDigit0: 65.62%\n",
      "\tDigit1: 62.50%\n",
      "\tDigit2: 75.00%\n",
      "\tDigit3: 90.62%\n",
      "\tDigit4: 90.62%\n",
      "\tValidation loss: 3.513265609741211\n",
      "\tValidation accuracy: global - 35.50% --- average - 78.32%\n",
      "\tDigit0: 73.36%\n",
      "\tDigit1: 69.10%\n",
      "\tDigit2: 74.68%\n",
      "\tDigit3: 82.84%\n",
      "\tDigit4: 91.64%\n",
      "step 5000:\n",
      "\tTrain loss: 3.011315107345581\n",
      "\tTrain accuracy: global - 40.62% --- average - 80.62%\n",
      "\tDigit0: 78.12%\n",
      "\tDigit1: 65.62%\n",
      "\tDigit2: 75.00%\n",
      "\tDigit3: 84.38%\n",
      "\tDigit4: 100.00%\n",
      "\tValidation loss: 3.482598304748535\n",
      "\tValidation accuracy: global - 36.28% --- average - 78.33%\n",
      "\tDigit0: 73.88%\n",
      "\tDigit1: 68.96%\n",
      "\tDigit2: 75.62%\n",
      "\tDigit3: 81.46%\n",
      "\tDigit4: 91.72%\n",
      "step 5100:\n",
      "\tTrain loss: 3.630704164505005\n",
      "\tTrain accuracy: global - 37.50% --- average - 78.12%\n",
      "\tDigit0: 68.75%\n",
      "\tDigit1: 87.50%\n",
      "\tDigit2: 78.12%\n",
      "\tDigit3: 68.75%\n",
      "\tDigit4: 87.50%\n",
      "\tValidation loss: 3.4247992038726807\n",
      "\tValidation accuracy: global - 36.76% --- average - 79.02%\n",
      "\tDigit0: 73.12%\n",
      "\tDigit1: 70.46%\n",
      "\tDigit2: 76.42%\n",
      "\tDigit3: 83.04%\n",
      "\tDigit4: 92.08%\n",
      "step 5200:\n",
      "\tTrain loss: 4.276434421539307\n",
      "\tTrain accuracy: global - 31.25% --- average - 76.88%\n",
      "\tDigit0: 65.62%\n",
      "\tDigit1: 75.00%\n",
      "\tDigit2: 68.75%\n",
      "\tDigit3: 78.12%\n",
      "\tDigit4: 96.88%\n",
      "\tValidation loss: 3.4331841468811035\n",
      "\tValidation accuracy: global - 36.18% --- average - 78.84%\n",
      "\tDigit0: 73.24%\n",
      "\tDigit1: 71.00%\n",
      "\tDigit2: 75.30%\n",
      "\tDigit3: 82.72%\n",
      "\tDigit4: 91.92%\n",
      "step 5300:\n",
      "\tTrain loss: 3.383814811706543\n",
      "\tTrain accuracy: global - 46.88% --- average - 83.75%\n",
      "\tDigit0: 78.12%\n",
      "\tDigit1: 75.00%\n",
      "\tDigit2: 81.25%\n",
      "\tDigit3: 93.75%\n",
      "\tDigit4: 90.62%\n",
      "\tValidation loss: 3.4466795921325684\n",
      "\tValidation accuracy: global - 36.16% --- average - 78.49%\n",
      "\tDigit0: 73.92%\n",
      "\tDigit1: 69.98%\n",
      "\tDigit2: 74.32%\n",
      "\tDigit3: 82.34%\n",
      "\tDigit4: 91.88%\n",
      "step 5400:\n",
      "\tTrain loss: 3.3168106079101562\n",
      "\tTrain accuracy: global - 37.50% --- average - 73.75%\n",
      "\tDigit0: 65.62%\n",
      "\tDigit1: 68.75%\n",
      "\tDigit2: 71.88%\n",
      "\tDigit3: 78.12%\n",
      "\tDigit4: 84.38%\n",
      "\tValidation loss: 3.380488872528076\n",
      "\tValidation accuracy: global - 37.52% --- average - 79.33%\n",
      "\tDigit0: 74.40%\n",
      "\tDigit1: 71.34%\n",
      "\tDigit2: 76.70%\n",
      "\tDigit3: 82.44%\n",
      "\tDigit4: 91.78%\n",
      "step 5500:\n",
      "\tTrain loss: 3.176140069961548\n",
      "\tTrain accuracy: global - 40.62% --- average - 81.25%\n",
      "\tDigit0: 87.50%\n",
      "\tDigit1: 75.00%\n",
      "\tDigit2: 71.88%\n",
      "\tDigit3: 84.38%\n",
      "\tDigit4: 87.50%\n",
      "\tValidation loss: 3.2926411628723145\n",
      "\tValidation accuracy: global - 38.06% --- average - 79.78%\n",
      "\tDigit0: 74.90%\n",
      "\tDigit1: 71.02%\n",
      "\tDigit2: 77.24%\n",
      "\tDigit3: 83.66%\n",
      "\tDigit4: 92.10%\n",
      "step 5600:\n",
      "\tTrain loss: 3.1706442832946777\n",
      "\tTrain accuracy: global - 37.50% --- average - 81.88%\n",
      "\tDigit0: 90.62%\n",
      "\tDigit1: 65.62%\n",
      "\tDigit2: 65.62%\n",
      "\tDigit3: 90.62%\n",
      "\tDigit4: 96.88%\n",
      "\tValidation loss: 3.3146281242370605\n",
      "\tValidation accuracy: global - 37.68% --- average - 79.59%\n",
      "\tDigit0: 73.94%\n",
      "\tDigit1: 71.40%\n",
      "\tDigit2: 77.38%\n",
      "\tDigit3: 83.22%\n",
      "\tDigit4: 92.02%\n",
      "step 5700:\n",
      "\tTrain loss: 3.619290351867676\n",
      "\tTrain accuracy: global - 31.25% --- average - 78.12%\n",
      "\tDigit0: 71.88%\n",
      "\tDigit1: 78.12%\n",
      "\tDigit2: 75.00%\n",
      "\tDigit3: 84.38%\n",
      "\tDigit4: 81.25%\n",
      "\tValidation loss: 3.2749266624450684\n",
      "\tValidation accuracy: global - 38.56% --- average - 80.24%\n",
      "\tDigit0: 75.20%\n",
      "\tDigit1: 72.56%\n",
      "\tDigit2: 77.58%\n",
      "\tDigit3: 83.14%\n",
      "\tDigit4: 92.72%\n",
      "step 5800:\n",
      "\tTrain loss: 3.7684292793273926\n",
      "\tTrain accuracy: global - 25.00% --- average - 78.12%\n",
      "\tDigit0: 71.88%\n",
      "\tDigit1: 71.88%\n",
      "\tDigit2: 71.88%\n",
      "\tDigit3: 84.38%\n",
      "\tDigit4: 90.62%\n",
      "\tValidation loss: 3.2790510654449463\n",
      "\tValidation accuracy: global - 36.82% --- average - 79.69%\n",
      "\tDigit0: 73.18%\n",
      "\tDigit1: 72.82%\n",
      "\tDigit2: 77.48%\n",
      "\tDigit3: 83.24%\n",
      "\tDigit4: 91.72%\n",
      "step 5900:\n",
      "\tTrain loss: 3.445650577545166\n",
      "\tTrain accuracy: global - 31.25% --- average - 78.12%\n",
      "\tDigit0: 71.88%\n",
      "\tDigit1: 75.00%\n",
      "\tDigit2: 71.88%\n",
      "\tDigit3: 81.25%\n",
      "\tDigit4: 90.62%\n",
      "\tValidation loss: 3.2232887744903564\n",
      "\tValidation accuracy: global - 38.38% --- average - 80.43%\n",
      "\tDigit0: 75.38%\n",
      "\tDigit1: 72.68%\n",
      "\tDigit2: 77.78%\n",
      "\tDigit3: 83.68%\n",
      "\tDigit4: 92.62%\n",
      "step 6000:\n",
      "\tTrain loss: 3.3909952640533447\n",
      "\tTrain accuracy: global - 31.25% --- average - 79.38%\n",
      "\tDigit0: 62.50%\n",
      "\tDigit1: 84.38%\n",
      "\tDigit2: 65.62%\n",
      "\tDigit3: 90.62%\n",
      "\tDigit4: 93.75%\n",
      "\tValidation loss: 3.281860113143921\n",
      "\tValidation accuracy: global - 38.62% --- average - 80.21%\n",
      "\tDigit0: 74.16%\n",
      "\tDigit1: 72.88%\n",
      "\tDigit2: 77.44%\n",
      "\tDigit3: 83.86%\n",
      "\tDigit4: 92.72%\n",
      "step 6100:\n",
      "\tTrain loss: 2.8552162647247314\n",
      "\tTrain accuracy: global - 43.75% --- average - 82.50%\n",
      "\tDigit0: 78.12%\n",
      "\tDigit1: 75.00%\n",
      "\tDigit2: 75.00%\n",
      "\tDigit3: 90.62%\n",
      "\tDigit4: 93.75%\n",
      "\tValidation loss: 3.118741273880005\n",
      "\tValidation accuracy: global - 39.86% --- average - 81.33%\n",
      "\tDigit0: 75.94%\n",
      "\tDigit1: 73.28%\n",
      "\tDigit2: 79.78%\n",
      "\tDigit3: 84.40%\n",
      "\tDigit4: 93.24%\n",
      "step 6200:\n",
      "\tTrain loss: 3.5241587162017822\n",
      "\tTrain accuracy: global - 31.25% --- average - 79.38%\n",
      "\tDigit0: 78.12%\n",
      "\tDigit1: 71.88%\n",
      "\tDigit2: 68.75%\n",
      "\tDigit3: 87.50%\n",
      "\tDigit4: 90.62%\n",
      "\tValidation loss: 3.276172161102295\n",
      "\tValidation accuracy: global - 38.14% --- average - 79.99%\n",
      "\tDigit0: 72.48%\n",
      "\tDigit1: 74.40%\n",
      "\tDigit2: 76.68%\n",
      "\tDigit3: 83.74%\n",
      "\tDigit4: 92.64%\n",
      "step 6300:\n",
      "\tTrain loss: 3.685894250869751\n",
      "\tTrain accuracy: global - 28.12% --- average - 76.25%\n",
      "\tDigit0: 75.00%\n",
      "\tDigit1: 71.88%\n",
      "\tDigit2: 75.00%\n",
      "\tDigit3: 71.88%\n",
      "\tDigit4: 87.50%\n",
      "\tValidation loss: 3.1905479431152344\n",
      "\tValidation accuracy: global - 38.36% --- average - 80.54%\n",
      "\tDigit0: 73.50%\n",
      "\tDigit1: 73.24%\n",
      "\tDigit2: 78.22%\n",
      "\tDigit3: 85.02%\n",
      "\tDigit4: 92.72%\n",
      "step 6400:\n",
      "\tTrain loss: 3.2171881198883057\n",
      "\tTrain accuracy: global - 46.88% --- average - 81.88%\n",
      "\tDigit0: 75.00%\n",
      "\tDigit1: 84.38%\n",
      "\tDigit2: 68.75%\n",
      "\tDigit3: 96.88%\n",
      "\tDigit4: 84.38%\n",
      "\tValidation loss: 3.056593656539917\n",
      "\tValidation accuracy: global - 40.40% --- average - 81.67%\n",
      "\tDigit0: 76.04%\n",
      "\tDigit1: 74.54%\n",
      "\tDigit2: 79.96%\n",
      "\tDigit3: 84.76%\n",
      "\tDigit4: 93.04%\n",
      "step 6500:\n",
      "\tTrain loss: 3.034864664077759\n",
      "\tTrain accuracy: global - 40.62% --- average - 83.75%\n",
      "\tDigit0: 68.75%\n",
      "\tDigit1: 78.12%\n",
      "\tDigit2: 84.38%\n",
      "\tDigit3: 87.50%\n",
      "\tDigit4: 100.00%\n",
      "\tValidation loss: 3.1151866912841797\n",
      "\tValidation accuracy: global - 40.44% --- average - 81.52%\n",
      "\tDigit0: 76.10%\n",
      "\tDigit1: 74.94%\n",
      "\tDigit2: 79.08%\n",
      "\tDigit3: 84.44%\n",
      "\tDigit4: 93.06%\n",
      "step 6600:\n",
      "\tTrain loss: 3.110389471054077\n",
      "\tTrain accuracy: global - 43.75% --- average - 82.50%\n",
      "\tDigit0: 65.62%\n",
      "\tDigit1: 81.25%\n",
      "\tDigit2: 87.50%\n",
      "\tDigit3: 90.62%\n",
      "\tDigit4: 87.50%\n",
      "\tValidation loss: 3.0454914569854736\n",
      "\tValidation accuracy: global - 41.18% --- average - 81.83%\n",
      "\tDigit0: 76.34%\n",
      "\tDigit1: 74.04%\n",
      "\tDigit2: 79.96%\n",
      "\tDigit3: 85.08%\n",
      "\tDigit4: 93.74%\n",
      "step 6700:\n",
      "\tTrain loss: 2.677049160003662\n",
      "\tTrain accuracy: global - 53.12% --- average - 85.00%\n",
      "\tDigit0: 87.50%\n",
      "\tDigit1: 75.00%\n",
      "\tDigit2: 75.00%\n",
      "\tDigit3: 87.50%\n",
      "\tDigit4: 100.00%\n",
      "\tValidation loss: 3.0266048908233643\n",
      "\tValidation accuracy: global - 40.80% --- average - 81.92%\n",
      "\tDigit0: 76.60%\n",
      "\tDigit1: 73.62%\n",
      "\tDigit2: 80.76%\n",
      "\tDigit3: 85.28%\n",
      "\tDigit4: 93.32%\n",
      "step 6800:\n",
      "\tTrain loss: 3.0720834732055664\n",
      "\tTrain accuracy: global - 46.88% --- average - 85.00%\n",
      "\tDigit0: 71.88%\n",
      "\tDigit1: 75.00%\n",
      "\tDigit2: 90.62%\n",
      "\tDigit3: 90.62%\n",
      "\tDigit4: 96.88%\n",
      "\tValidation loss: 2.986902952194214\n",
      "\tValidation accuracy: global - 41.94% --- average - 82.34%\n",
      "\tDigit0: 77.20%\n",
      "\tDigit1: 75.56%\n",
      "\tDigit2: 80.86%\n",
      "\tDigit3: 84.86%\n",
      "\tDigit4: 93.22%\n",
      "step 6900:\n",
      "\tTrain loss: 2.926940441131592\n",
      "\tTrain accuracy: global - 46.88% --- average - 85.00%\n",
      "\tDigit0: 81.25%\n",
      "\tDigit1: 71.88%\n",
      "\tDigit2: 84.38%\n",
      "\tDigit3: 93.75%\n",
      "\tDigit4: 93.75%\n",
      "\tValidation loss: 3.0420570373535156\n",
      "\tValidation accuracy: global - 41.06% --- average - 81.72%\n",
      "\tDigit0: 74.24%\n",
      "\tDigit1: 75.32%\n",
      "\tDigit2: 80.38%\n",
      "\tDigit3: 85.10%\n",
      "\tDigit4: 93.58%\n",
      "step 7000:\n",
      "\tTrain loss: 3.3660409450531006\n",
      "\tTrain accuracy: global - 43.75% --- average - 78.75%\n",
      "\tDigit0: 75.00%\n",
      "\tDigit1: 84.38%\n",
      "\tDigit2: 68.75%\n",
      "\tDigit3: 75.00%\n",
      "\tDigit4: 90.62%\n"
     ]
    },
    {
     "name": "stdout",
     "output_type": "stream",
     "text": [
      "\tValidation loss: 3.0032155513763428\n",
      "\tValidation accuracy: global - 41.68% --- average - 82.10%\n",
      "\tDigit0: 77.16%\n",
      "\tDigit1: 76.38%\n",
      "\tDigit2: 79.00%\n",
      "\tDigit3: 85.60%\n",
      "\tDigit4: 92.38%\n",
      "\tTest loss: 2.3187379837036133\n",
      "\tTest accuracy: global - 50.47% --- average - 85.76%\n",
      "\tDigit0: 83.44%\n",
      "\tDigit1: 81.61%\n",
      "\tDigit2: 82.52%\n",
      "\tDigit3: 87.85%\n",
      "\tDigit4: 93.37%\n"
     ]
    }
   ],
   "source": [
    "num_steps = 7001\n",
    "train_dir = 'summaries/train/lr=005-xavier'\n",
    "valid_dir = 'summaries/valid/lr=005-xavier'\n",
    "\n",
    "with tf.Session(graph=graph) as session:\n",
    "    os.makedirs(train_dir, exist_ok=True)\n",
    "    os.makedirs(valid_dir, exist_ok=True)\n",
    "    \n",
    "    train_writer = tf.summary.FileWriter(train_dir, session.graph)\n",
    "    valid_writer = tf.summary.FileWriter(valid_dir, session.graph)\n",
    "    \n",
    "    tf.global_variables_initializer().run()\n",
    "    print('Initialized')\n",
    "    for step in range(num_steps):\n",
    "        offset = (step * batch_size) % (train_labels.shape[0] - batch_size)\n",
    "        batch_data = train_dataset[offset:(offset + batch_size), :, :, :]\n",
    "        batch_labels = train_labels[offset:(offset + batch_size), :]\n",
    "        feed_dict = {tf_dataset: batch_data, tf_labels: batch_labels, tf_learning_rate: 0.005}\n",
    "        _, t_loss, t_predictions, t_summary = session.run(\n",
    "            [minimize, total_loss, predictions, merged], feed_dict=feed_dict)\n",
    "        if (step % 10 ==0):\n",
    "            train_writer.add_summary(t_summary, step)\n",
    "            \n",
    "            if (step % 100 == 0):\n",
    "                print(f'step {step}:')\n",
    "                t_accuracies = accuracy(t_predictions, batch_labels)\n",
    "                printStatistics('Train', t_loss, t_accuracies)\n",
    "\n",
    "                # Validation\n",
    "                feed_dict = {tf_dataset: valid_dataset, tf_labels: valid_labels}\n",
    "                v_loss, v_predictions, v_summary = session.run([total_loss, predictions, merged], feed_dict=feed_dict)\n",
    "                valid_writer.add_summary(v_summary, step)\n",
    "                v_accuracies = accuracy(v_predictions, valid_labels)\n",
    "                printStatistics('Validation', v_loss, v_accuracies)\n",
    "                \n",
    "            \n",
    "    # Test\n",
    "    feed_dict = {tf_dataset: test_dataset, tf_labels: test_labels}\n",
    "    test_loss, test_predictions = session.run([total_loss, predictions], feed_dict=feed_dict)\n",
    "    test_accuracies = accuracy(test_predictions, test_labels)\n",
    "    printStatistics('Test', test_loss, test_accuracies)"
   ]
  },
  {
   "cell_type": "code",
   "execution_count": null,
   "metadata": {},
   "outputs": [],
   "source": []
  }
 ],
 "metadata": {
  "kernelspec": {
   "display_name": "Python 3",
   "language": "python",
   "name": "python3"
  },
  "language_info": {
   "codemirror_mode": {
    "name": "ipython",
    "version": 3
   },
   "file_extension": ".py",
   "mimetype": "text/x-python",
   "name": "python",
   "nbconvert_exporter": "python",
   "pygments_lexer": "ipython3",
   "version": "3.6.6"
  }
 },
 "nbformat": 4,
 "nbformat_minor": 2
}
