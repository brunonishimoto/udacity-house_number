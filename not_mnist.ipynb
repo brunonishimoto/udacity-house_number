{
 "cells": [
  {
   "cell_type": "code",
   "execution_count": 1,
   "metadata": {},
   "outputs": [],
   "source": [
    "# These are all the modules we'll be using later. Make sure you can import them\n",
    "# before proceeding further.\n",
    "from __future__ import print_function\n",
    "import imageio\n",
    "import matplotlib.pyplot as plt\n",
    "import numpy as np\n",
    "import os\n",
    "import sys\n",
    "import tarfile\n",
    "import scipy\n",
    "import skimage\n",
    "import tensorflow as tf\n",
    "from IPython.display import display, Image\n",
    "from sklearn.linear_model import LogisticRegression\n",
    "from six.moves.urllib.request import urlretrieve\n",
    "from six.moves import cPickle as pickle\n",
    "\n",
    "# Config the matplotlib backend as plotting inline in IPython\n",
    "%matplotlib inline"
   ]
  },
  {
   "cell_type": "code",
   "execution_count": 2,
   "metadata": {},
   "outputs": [
    {
     "name": "stdout",
     "output_type": "stream",
     "text": [
      "Found and verified ./dataset/notmnist/notMNIST_large.tar.gz\n",
      "Found and verified ./dataset/notmnist/notMNIST_small.tar.gz\n"
     ]
    }
   ],
   "source": [
    "url = 'https://commondatastorage.googleapis.com/books1000/'\n",
    "last_percent_reported = None\n",
    "data_root = './dataset/notmnist' # Change me to store data elsewhere\n",
    "\n",
    "def download_progress_hook(count, blockSize, totalSize):\n",
    "    \"\"\"A hook to report the progress of a download. This is mostly intended for users with\n",
    "    slow internet connections. Reports every 5% change in download progress.\n",
    "    \"\"\"\n",
    "    global last_percent_reported\n",
    "    percent = int(count * blockSize * 100 / totalSize)\n",
    "\n",
    "    if last_percent_reported != percent:\n",
    "        if percent % 5 == 0:\n",
    "            sys.stdout.write(\"%s%%\" % percent)\n",
    "            sys.stdout.flush()\n",
    "        else:\n",
    "            sys.stdout.write(\".\")\n",
    "            sys.stdout.flush()\n",
    "      \n",
    "        last_percent_reported = percent\n",
    "        \n",
    "def maybe_download(filename, expected_bytes, force=False):\n",
    "    \"\"\"Download a file if not present, and make sure it's the right size.\"\"\"\n",
    "    dest_filename = os.path.join(data_root, filename)\n",
    "    if force or not os.path.exists(dest_filename):\n",
    "        print('Attempting to download:', filename) \n",
    "        filename, _ = urlretrieve(url + filename, dest_filename, reporthook=download_progress_hook)\n",
    "        print('\\nDownload Complete!')\n",
    "    statinfo = os.stat(dest_filename)\n",
    "    if statinfo.st_size == expected_bytes:\n",
    "        print('Found and verified', dest_filename)\n",
    "    else:\n",
    "        raise Exception('Failed to verify ' + dest_filename + '. Can you get to it with a browser?')\n",
    "    return dest_filename\n",
    "\n",
    "train_filename = maybe_download('notMNIST_large.tar.gz', 247336696)\n",
    "test_filename = maybe_download('notMNIST_small.tar.gz', 8458043)"
   ]
  },
  {
   "cell_type": "code",
   "execution_count": 3,
   "metadata": {},
   "outputs": [
    {
     "name": "stdout",
     "output_type": "stream",
     "text": [
      "./dataset/notmnist/notMNIST_large already present - Skipping extraction of ./dataset/notmnist/notMNIST_large.tar.gz.\n",
      "['./dataset/notmnist/notMNIST_large/A', './dataset/notmnist/notMNIST_large/B', './dataset/notmnist/notMNIST_large/C', './dataset/notmnist/notMNIST_large/D', './dataset/notmnist/notMNIST_large/E', './dataset/notmnist/notMNIST_large/F', './dataset/notmnist/notMNIST_large/G', './dataset/notmnist/notMNIST_large/H', './dataset/notmnist/notMNIST_large/I', './dataset/notmnist/notMNIST_large/J']\n",
      "./dataset/notmnist/notMNIST_small already present - Skipping extraction of ./dataset/notmnist/notMNIST_small.tar.gz.\n",
      "['./dataset/notmnist/notMNIST_small/A', './dataset/notmnist/notMNIST_small/B', './dataset/notmnist/notMNIST_small/C', './dataset/notmnist/notMNIST_small/D', './dataset/notmnist/notMNIST_small/E', './dataset/notmnist/notMNIST_small/F', './dataset/notmnist/notMNIST_small/G', './dataset/notmnist/notMNIST_small/H', './dataset/notmnist/notMNIST_small/I', './dataset/notmnist/notMNIST_small/J']\n"
     ]
    }
   ],
   "source": [
    "num_classes = 10\n",
    "np.random.seed(133)\n",
    "\n",
    "def maybe_extract(filename, force=False):\n",
    "    root = os.path.splitext(os.path.splitext(filename)[0])[0]  # remove .tar.gz\n",
    "    if os.path.isdir(root) and not force:\n",
    "        # You may override by setting force=True.\n",
    "        print('%s already present - Skipping extraction of %s.' % (root, filename))\n",
    "    else:\n",
    "        print('Extracting data for %s. This may take a while. Please wait.' % root)\n",
    "        tar = tarfile.open(filename)\n",
    "        sys.stdout.flush()\n",
    "        tar.extractall(data_root)\n",
    "        tar.close()\n",
    "    data_folders = [\n",
    "        os.path.join(root, d) for d in sorted(os.listdir(root)) if os.path.isdir(os.path.join(root, d))]\n",
    "    if len(data_folders) != num_classes:\n",
    "        raise Exception('Expected %d folders, one per class. Found %d instead.' % (num_classes, len(data_folders)))\n",
    "    print(data_folders)\n",
    "    return data_folders\n",
    "  \n",
    "train_folders = maybe_extract(train_filename)\n",
    "test_folders  = maybe_extract(test_filename)"
   ]
  },
  {
   "cell_type": "code",
   "execution_count": 4,
   "metadata": {},
   "outputs": [
    {
     "name": "stdout",
     "output_type": "stream",
     "text": [
      "Displaying images in:  notMNIST_large\n",
      "Label:  A\n"
     ]
    },
    {
     "data": {
      "image/png": "[encoded data removed]",
      "text/plain": [
       "<IPython.core.display.Image object>"
      ]
     },
     "metadata": {
      "image/png": {
       "height": 20,
       "width": 20
      }
     },
     "output_type": "display_data"
    },
    {
     "data": {
      "image/png": "[encoded data removed]",
      "text/plain": [
       "<IPython.core.display.Image object>"
      ]
     },
     "metadata": {
      "image/png": {
       "height": 20,
       "width": 20
      }
     },
     "output_type": "display_data"
    },
    {
     "data": {
      "image/png": "[encoded data removed]",
      "text/plain": [
       "<IPython.core.display.Image object>"
      ]
     },
     "metadata": {
      "image/png": {
       "height": 20,
       "width": 20
      }
     },
     "output_type": "display_data"
    },
    {
     "data": {
      "image/png": "[encoded data removed]",
      "text/plain": [
       "<IPython.core.display.Image object>"
      ]
     },
     "metadata": {
      "image/png": {
       "height": 20,
       "width": 20
      }
     },
     "output_type": "display_data"
    },
    {
     "data": {
      "image/png": "[encoded data removed]",
      "text/plain": [
       "<IPython.core.display.Image object>"
      ]
     },
     "metadata": {
      "image/png": {
       "height": 20,
       "width": 20
      }
     },
     "output_type": "display_data"
    },
    {
     "name": "stdout",
     "output_type": "stream",
     "text": [
      "Label:  B\n"
     ]
    },
    {
     "data": {
      "image/png": "[encoded data removed]",
      "text/plain": [
       "<IPython.core.display.Image object>"
      ]
     },
     "metadata": {
      "image/png": {
       "height": 20,
       "width": 20
      }
     },
     "output_type": "display_data"
    },
    {
     "data": {
      "image/png": "[encoded data removed]",
      "text/plain": [
       "<IPython.core.display.Image object>"
      ]
     },
     "metadata": {
      "image/png": {
       "height": 20,
       "width": 20
      }
     },
     "output_type": "display_data"
    },
    {
     "data": {
      "image/png": "[encoded data removed]",
      "text/plain": [
       "<IPython.core.display.Image object>"
      ]
     },
     "metadata": {
      "image/png": {
       "height": 20,
       "width": 20
      }
     },
     "output_type": "display_data"
    },
    {
     "data": {
      "image/png": "[encoded data removed]",
      "text/plain": [
       "<IPython.core.display.Image object>"
      ]
     },
     "metadata": {
      "image/png": {
       "height": 20,
       "width": 20
      }
     },
     "output_type": "display_data"
    },
    {
     "data": {
      "image/png": "[encoded data removed]",
      "text/plain": [
       "<IPython.core.display.Image object>"
      ]
     },
     "metadata": {
      "image/png": {
       "height": 20,
       "width": 20
      }
     },
     "output_type": "display_data"
    },
    {
     "name": "stdout",
     "output_type": "stream",
     "text": [
      "Label:  C\n"
     ]
    },
    {
     "data": {
      "image/png": "[encoded data removed]",
      "text/plain": [
       "<IPython.core.display.Image object>"
      ]
     },
     "metadata": {
      "image/png": {
       "height": 20,
       "width": 20
      }
     },
     "output_type": "display_data"
    },
    {
     "data": {
      "image/png": "[encoded data removed]",
      "text/plain": [
       "<IPython.core.display.Image object>"
      ]
     },
     "metadata": {
      "image/png": {
       "height": 20,
       "width": 20
      }
     },
     "output_type": "display_data"
    },
    {
     "data": {
      "image/png": "[encoded data removed]",
      "text/plain": [
       "<IPython.core.display.Image object>"
      ]
     },
     "metadata": {
      "image/png": {
       "height": 20,
       "width": 20
      }
     },
     "output_type": "display_data"
    },
    {
     "data": {
      "image/png": "[encoded data removed]",
      "text/plain": [
       "<IPython.core.display.Image object>"
      ]
     },
     "metadata": {
      "image/png": {
       "height": 20,
       "width": 20
      }
     },
     "output_type": "display_data"
    },
    {
     "data": {
      "image/png": "[encoded data removed]",
      "text/plain": [
       "<IPython.core.display.Image object>"
      ]
     },
     "metadata": {
      "image/png": {
       "height": 20,
       "width": 20
      }
     },
     "output_type": "display_data"
    },
    {
     "name": "stdout",
     "output_type": "stream",
     "text": [
      "Label:  D\n"
     ]
    },
    {
     "data": {
      "image/png": "[encoded data removed]",
      "text/plain": [
       "<IPython.core.display.Image object>"
      ]
     },
     "metadata": {
      "image/png": {
       "height": 20,
       "width": 20
      }
     },
     "output_type": "display_data"
    },
    {
     "data": {
      "image/png": "[encoded data removed]",
      "text/plain": [
       "<IPython.core.display.Image object>"
      ]
     },
     "metadata": {
      "image/png": {
       "height": 20,
       "width": 20
      }
     },
     "output_type": "display_data"
    },
    {
     "data": {
      "image/png": "[encoded data removed]",
      "text/plain": [
       "<IPython.core.display.Image object>"
      ]
     },
     "metadata": {
      "image/png": {
       "height": 20,
       "width": 20
      }
     },
     "output_type": "display_data"
    },
    {
     "data": {
      "image/png": "[encoded data removed]",
      "text/plain": [
       "<IPython.core.display.Image object>"
      ]
     },
     "metadata": {
      "image/png": {
       "height": 20,
       "width": 20
      }
     },
     "output_type": "display_data"
    },
    {
     "data": {
      "image/png": "[encoded data removed]",
      "text/plain": [
       "<IPython.core.display.Image object>"
      ]
     },
     "metadata": {
      "image/png": {
       "height": 20,
       "width": 20
      }
     },
     "output_type": "display_data"
    },
    {
     "name": "stdout",
     "output_type": "stream",
     "text": [
      "Label:  E\n"
     ]
    },
    {
     "data": {
      "image/png": "[encoded data removed]",
      "text/plain": [
       "<IPython.core.display.Image object>"
      ]
     },
     "metadata": {
      "image/png": {
       "height": 20,
       "width": 20
      }
     },
     "output_type": "display_data"
    },
    {
     "data": {
      "image/png": "[encoded data removed]",
      "text/plain": [
       "<IPython.core.display.Image object>"
      ]
     },
     "metadata": {
      "image/png": {
       "height": 20,
       "width": 20
      }
     },
     "output_type": "display_data"
    },
    {
     "data": {
      "image/png": "[encoded data removed]",
      "text/plain": [
       "<IPython.core.display.Image object>"
      ]
     },
     "metadata": {
      "image/png": {
       "height": 20,
       "width": 20
      }
     },
     "output_type": "display_data"
    },
    {
     "data": {
      "image/png": "[encoded data removed]",
      "text/plain": [
       "<IPython.core.display.Image object>"
      ]
     },
     "metadata": {
      "image/png": {
       "height": 20,
       "width": 20
      }
     },
     "output_type": "display_data"
    },
    {
     "data": {
      "image/png": "[encoded data removed]",
      "text/plain": [
       "<IPython.core.display.Image object>"
      ]
     },
     "metadata": {
      "image/png": {
       "height": 20,
       "width": 20
      }
     },
     "output_type": "display_data"
    },
    {
     "name": "stdout",
     "output_type": "stream",
     "text": [
      "Label:  F\n"
     ]
    },
    {
     "data": {
      "image/png": "[encoded data removed]",
      "text/plain": [
       "<IPython.core.display.Image object>"
      ]
     },
     "metadata": {
      "image/png": {
       "height": 20,
       "width": 20
      }
     },
     "output_type": "display_data"
    },
    {
     "data": {
      "image/png": "[encoded data removed]",
      "text/plain": [
       "<IPython.core.display.Image object>"
      ]
     },
     "metadata": {
      "image/png": {
       "height": 20,
       "width": 20
      }
     },
     "output_type": "display_data"
    },
    {
     "data": {
      "image/png": "[encoded data removed]",
      "text/plain": [
       "<IPython.core.display.Image object>"
      ]
     },
     "metadata": {
      "image/png": {
       "height": 20,
       "width": 20
      }
     },
     "output_type": "display_data"
    },
    {
     "data": {
      "image/png": "[encoded data removed]",
      "text/plain": [
       "<IPython.core.display.Image object>"
      ]
     },
     "metadata": {
      "image/png": {
       "height": 20,
       "width": 20
      }
     },
     "output_type": "display_data"
    },
    {
     "data": {
      "image/png": "[encoded data removed]",
      "text/plain": [
       "<IPython.core.display.Image object>"
      ]
     },
     "metadata": {
      "image/png": {
       "height": 20,
       "width": 20
      }
     },
     "output_type": "display_data"
    },
    {
     "name": "stdout",
     "output_type": "stream",
     "text": [
      "Label:  G\n"
     ]
    },
    {
     "data": {
      "image/png": "[encoded data removed]",
      "text/plain": [
       "<IPython.core.display.Image object>"
      ]
     },
     "metadata": {
      "image/png": {
       "height": 20,
       "width": 20
      }
     },
     "output_type": "display_data"
    },
    {
     "data": {
      "image/png": "[encoded data removed]",
      "text/plain": [
       "<IPython.core.display.Image object>"
      ]
     },
     "metadata": {
      "image/png": {
       "height": 20,
       "width": 20
      }
     },
     "output_type": "display_data"
    },
    {
     "data": {
      "image/png": "[encoded data removed]",
      "text/plain": [
       "<IPython.core.display.Image object>"
      ]
     },
     "metadata": {
      "image/png": {
       "height": 20,
       "width": 20
      }
     },
     "output_type": "display_data"
    },
    {
     "data": {
      "image/png": "[encoded data removed]",
      "text/plain": [
       "<IPython.core.display.Image object>"
      ]
     },
     "metadata": {
      "image/png": {
       "height": 20,
       "width": 20
      }
     },
     "output_type": "display_data"
    },
    {
     "data": {
      "image/png": "[encoded data removed]",
      "text/plain": [
       "<IPython.core.display.Image object>"
      ]
     },
     "metadata": {
      "image/png": {
       "height": 20,
       "width": 20
      }
     },
     "output_type": "display_data"
    },
    {
     "name": "stdout",
     "output_type": "stream",
     "text": [
      "Label:  H\n"
     ]
    },
    {
     "data": {
      "image/png": "[encoded data removed]",
      "text/plain": [
       "<IPython.core.display.Image object>"
      ]
     },
     "metadata": {
      "image/png": {
       "height": 20,
       "width": 20
      }
     },
     "output_type": "display_data"
    },
    {
     "data": {
      "image/png": "[encoded data removed]",
      "text/plain": [
       "<IPython.core.display.Image object>"
      ]
     },
     "metadata": {
      "image/png": {
       "height": 20,
       "width": 20
      }
     },
     "output_type": "display_data"
    },
    {
     "data": {
      "image/png": "[encoded data removed]",
      "text/plain": [
       "<IPython.core.display.Image object>"
      ]
     },
     "metadata": {
      "image/png": {
       "height": 20,
       "width": 20
      }
     },
     "output_type": "display_data"
    },
    {
     "data": {
      "image/png": "[encoded data removed]",
      "text/plain": [
       "<IPython.core.display.Image object>"
      ]
     },
     "metadata": {
      "image/png": {
       "height": 20,
       "width": 20
      }
     },
     "output_type": "display_data"
    },
    {
     "data": {
      "image/png": "[encoded data removed]",
      "text/plain": [
       "<IPython.core.display.Image object>"
      ]
     },
     "metadata": {
      "image/png": {
       "height": 20,
       "width": 20
      }
     },
     "output_type": "display_data"
    },
    {
     "name": "stdout",
     "output_type": "stream",
     "text": [
      "Label:  I\n"
     ]
    },
    {
     "data": {
      "image/png": "[encoded data removed]",
      "text/plain": [
       "<IPython.core.display.Image object>"
      ]
     },
     "metadata": {
      "image/png": {
       "height": 20,
       "width": 20
      }
     },
     "output_type": "display_data"
    },
    {
     "data": {
      "image/png": "[encoded data removed]",
      "text/plain": [
       "<IPython.core.display.Image object>"
      ]
     },
     "metadata": {
      "image/png": {
       "height": 20,
       "width": 20
      }
     },
     "output_type": "display_data"
    },
    {
     "data": {
      "image/png": "[encoded data removed]",
      "text/plain": [
       "<IPython.core.display.Image object>"
      ]
     },
     "metadata": {
      "image/png": {
       "height": 20,
       "width": 20
      }
     },
     "output_type": "display_data"
    },
    {
     "data": {
      "image/png": "[encoded data removed]",
      "text/plain": [
       "<IPython.core.display.Image object>"
      ]
     },
     "metadata": {
      "image/png": {
       "height": 20,
       "width": 20
      }
     },
     "output_type": "display_data"
    },
    {
     "data": {
      "image/png": "[encoded data removed]",
      "text/plain": [
       "<IPython.core.display.Image object>"
      ]
     },
     "metadata": {
      "image/png": {
       "height": 20,
       "width": 20
      }
     },
     "output_type": "display_data"
    },
    {
     "name": "stdout",
     "output_type": "stream",
     "text": [
      "Label:  J\n"
     ]
    },
    {
     "data": {
      "image/png": "[encoded data removed]",
      "text/plain": [
       "<IPython.core.display.Image object>"
      ]
     },
     "metadata": {
      "image/png": {
       "height": 20,
       "width": 20
      }
     },
     "output_type": "display_data"
    },
    {
     "data": {
      "image/png": "[encoded data removed]",
      "text/plain": [
       "<IPython.core.display.Image object>"
      ]
     },
     "metadata": {
      "image/png": {
       "height": 20,
       "width": 20
      }
     },
     "output_type": "display_data"
    },
    {
     "data": {
      "image/png": "[encoded data removed]",
      "text/plain": [
       "<IPython.core.display.Image object>"
      ]
     },
     "metadata": {
      "image/png": {
       "height": 20,
       "width": 20
      }
     },
     "output_type": "display_data"
    },
    {
     "data": {
      "image/png": "[encoded data removed]",
      "text/plain": [
       "<IPython.core.display.Image object>"
      ]
     },
     "metadata": {
      "image/png": {
       "height": 20,
       "width": 20
      }
     },
     "output_type": "display_data"
    },
    {
     "data": {
      "image/png": "[encoded data removed]",
      "text/plain": [
       "<IPython.core.display.Image object>"
      ]
     },
     "metadata": {
      "image/png": {
       "height": 20,
       "width": 20
      }
     },
     "output_type": "display_data"
    },
    {
     "name": "stdout",
     "output_type": "stream",
     "text": [
      "Displaying images in:  notMNIST_small\n",
      "Label:  A\n"
     ]
    },
    {
     "data": {
      "image/png": "[encoded data removed]",
      "text/plain": [
       "<IPython.core.display.Image object>"
      ]
     },
     "metadata": {
      "image/png": {
       "height": 20,
       "width": 20
      }
     },
     "output_type": "display_data"
    },
    {
     "data": {
      "image/png": "[encoded data removed]",
      "text/plain": [
       "<IPython.core.display.Image object>"
      ]
     },
     "metadata": {
      "image/png": {
       "height": 20,
       "width": 20
      }
     },
     "output_type": "display_data"
    },
    {
     "data": {
      "image/png": "[encoded data removed]",
      "text/plain": [
       "<IPython.core.display.Image object>"
      ]
     },
     "metadata": {
      "image/png": {
       "height": 20,
       "width": 20
      }
     },
     "output_type": "display_data"
    },
    {
     "data": {
      "image/png": "[encoded data removed]",
      "text/plain": [
       "<IPython.core.display.Image object>"
      ]
     },
     "metadata": {
      "image/png": {
       "height": 20,
       "width": 20
      }
     },
     "output_type": "display_data"
    },
    {
     "data": {
      "image/png": "[encoded data removed]",
      "text/plain": [
       "<IPython.core.display.Image object>"
      ]
     },
     "metadata": {
      "image/png": {
       "height": 20,
       "width": 20
      }
     },
     "output_type": "display_data"
    },
    {
     "name": "stdout",
     "output_type": "stream",
     "text": [
      "Label:  B\n"
     ]
    },
    {
     "data": {
      "image/png": "[encoded data removed]",
      "text/plain": [
       "<IPython.core.display.Image object>"
      ]
     },
     "metadata": {
      "image/png": {
       "height": 20,
       "width": 20
      }
     },
     "output_type": "display_data"
    },
    {
     "data": {
      "image/png": "[encoded data removed]",
      "text/plain": [
       "<IPython.core.display.Image object>"
      ]
     },
     "metadata": {
      "image/png": {
       "height": 20,
       "width": 20
      }
     },
     "output_type": "display_data"
    },
    {
     "data": {
      "image/png": "[encoded data removed]",
      "text/plain": [
       "<IPython.core.display.Image object>"
      ]
     },
     "metadata": {
      "image/png": {
       "height": 20,
       "width": 20
      }
     },
     "output_type": "display_data"
    },
    {
     "data": {
      "image/png": "[encoded data removed]",
      "text/plain": [
       "<IPython.core.display.Image object>"
      ]
     },
     "metadata": {
      "image/png": {
       "height": 20,
       "width": 20
      }
     },
     "output_type": "display_data"
    },
    {
     "data": {
      "image/png": "[encoded data removed]",
      "text/plain": [
       "<IPython.core.display.Image object>"
      ]
     },
     "metadata": {
      "image/png": {
       "height": 20,
       "width": 20
      }
     },
     "output_type": "display_data"
    },
    {
     "name": "stdout",
     "output_type": "stream",
     "text": [
      "Label:  C\n"
     ]
    },
    {
     "data": {
      "image/png": "[encoded data removed]",
      "text/plain": [
       "<IPython.core.display.Image object>"
      ]
     },
     "metadata": {
      "image/png": {
       "height": 20,
       "width": 20
      }
     },
     "output_type": "display_data"
    },
    {
     "data": {
      "image/png": "[encoded data removed]",
      "text/plain": [
       "<IPython.core.display.Image object>"
      ]
     },
     "metadata": {
      "image/png": {
       "height": 20,
       "width": 20
      }
     },
     "output_type": "display_data"
    },
    {
     "data": {
      "image/png": "[encoded data removed]",
      "text/plain": [
       "<IPython.core.display.Image object>"
      ]
     },
     "metadata": {
      "image/png": {
       "height": 20,
       "width": 20
      }
     },
     "output_type": "display_data"
    },
    {
     "data": {
      "image/png": "[encoded data removed]",
      "text/plain": [
       "<IPython.core.display.Image object>"
      ]
     },
     "metadata": {
      "image/png": {
       "height": 20,
       "width": 20
      }
     },
     "output_type": "display_data"
    },
    {
     "data": {
      "image/png": "[encoded data removed]",
      "text/plain": [
       "<IPython.core.display.Image object>"
      ]
     },
     "metadata": {
      "image/png": {
       "height": 20,
       "width": 20
      }
     },
     "output_type": "display_data"
    },
    {
     "name": "stdout",
     "output_type": "stream",
     "text": [
      "Label:  D\n"
     ]
    },
    {
     "data": {
      "image/png": "[encoded data removed]",
      "text/plain": [
       "<IPython.core.display.Image object>"
      ]
     },
     "metadata": {
      "image/png": {
       "height": 20,
       "width": 20
      }
     },
     "output_type": "display_data"
    },
    {
     "data": {
      "image/png": "[encoded data removed]",
      "text/plain": [
       "<IPython.core.display.Image object>"
      ]
     },
     "metadata": {
      "image/png": {
       "height": 20,
       "width": 20
      }
     },
     "output_type": "display_data"
    },
    {
     "data": {
      "image/png": "[encoded data removed]",
      "text/plain": [
       "<IPython.core.display.Image object>"
      ]
     },
     "metadata": {
      "image/png": {
       "height": 20,
       "width": 20
      }
     },
     "output_type": "display_data"
    },
    {
     "data": {
      "image/png": "[encoded data removed]",
      "text/plain": [
       "<IPython.core.display.Image object>"
      ]
     },
     "metadata": {
      "image/png": {
       "height": 20,
       "width": 20
      }
     },
     "output_type": "display_data"
    },
    {
     "data": {
      "image/png": "[encoded data removed]",
      "text/plain": [
       "<IPython.core.display.Image object>"
      ]
     },
     "metadata": {
      "image/png": {
       "height": 20,
       "width": 20
      }
     },
     "output_type": "display_data"
    },
    {
     "name": "stdout",
     "output_type": "stream",
     "text": [
      "Label:  E\n"
     ]
    },
    {
     "data": {
      "image/png": "[encoded data removed]",
      "text/plain": [
       "<IPython.core.display.Image object>"
      ]
     },
     "metadata": {
      "image/png": {
       "height": 20,
       "width": 20
      }
     },
     "output_type": "display_data"
    },
    {
     "data": {
      "image/png": "[encoded data removed]",
      "text/plain": [
       "<IPython.core.display.Image object>"
      ]
     },
     "metadata": {
      "image/png": {
       "height": 20,
       "width": 20
      }
     },
     "output_type": "display_data"
    },
    {
     "data": {
      "image/png": "[encoded data removed]",
      "text/plain": [
       "<IPython.core.display.Image object>"
      ]
     },
     "metadata": {
      "image/png": {
       "height": 20,
       "width": 20
      }
     },
     "output_type": "display_data"
    },
    {
     "data": {
      "image/png": "[encoded data removed]",
      "text/plain": [
       "<IPython.core.display.Image object>"
      ]
     },
     "metadata": {
      "image/png": {
       "height": 20,
       "width": 20
      }
     },
     "output_type": "display_data"
    },
    {
     "data": {
      "image/png": "[encoded data removed]",
      "text/plain": [
       "<IPython.core.display.Image object>"
      ]
     },
     "metadata": {
      "image/png": {
       "height": 20,
       "width": 20
      }
     },
     "output_type": "display_data"
    },
    {
     "name": "stdout",
     "output_type": "stream",
     "text": [
      "Label:  F\n"
     ]
    },
    {
     "data": {
      "image/png": "[encoded data removed]",
      "text/plain": [
       "<IPython.core.display.Image object>"
      ]
     },
     "metadata": {
      "image/png": {
       "height": 20,
       "width": 20
      }
     },
     "output_type": "display_data"
    },
    {
     "data": {
      "image/png": "[encoded data removed]",
      "text/plain": [
       "<IPython.core.display.Image object>"
      ]
     },
     "metadata": {
      "image/png": {
       "height": 20,
       "width": 20
      }
     },
     "output_type": "display_data"
    },
    {
     "data": {
      "image/png": "[encoded data removed]",
      "text/plain": [
       "<IPython.core.display.Image object>"
      ]
     },
     "metadata": {
      "image/png": {
       "height": 20,
       "width": 20
      }
     },
     "output_type": "display_data"
    },
    {
     "data": {
      "image/png": "[encoded data removed]",
      "text/plain": [
       "<IPython.core.display.Image object>"
      ]
     },
     "metadata": {
      "image/png": {
       "height": 20,
       "width": 20
      }
     },
     "output_type": "display_data"
    },
    {
     "data": {
      "image/png": "[encoded data removed]",
      "text/plain": [
       "<IPython.core.display.Image object>"
      ]
     },
     "metadata": {
      "image/png": {
       "height": 20,
       "width": 20
      }
     },
     "output_type": "display_data"
    },
    {
     "name": "stdout",
     "output_type": "stream",
     "text": [
      "Label:  G\n"
     ]
    },
    {
     "data": {
      "image/png": "[encoded data removed]",
      "text/plain": [
       "<IPython.core.display.Image object>"
      ]
     },
     "metadata": {
      "image/png": {
       "height": 20,
       "width": 20
      }
     },
     "output_type": "display_data"
    },
    {
     "data": {
      "image/png": "[encoded data removed]",
      "text/plain": [
       "<IPython.core.display.Image object>"
      ]
     },
     "metadata": {
      "image/png": {
       "height": 20,
       "width": 20
      }
     },
     "output_type": "display_data"
    },
    {
     "data": {
      "image/png": "[encoded data removed]",
      "text/plain": [
       "<IPython.core.display.Image object>"
      ]
     },
     "metadata": {
      "image/png": {
       "height": 20,
       "width": 20
      }
     },
     "output_type": "display_data"
    },
    {
     "data": {
      "image/png": "[encoded data removed]",
      "text/plain": [
       "<IPython.core.display.Image object>"
      ]
     },
     "metadata": {
      "image/png": {
       "height": 20,
       "width": 20
      }
     },
     "output_type": "display_data"
    },
    {
     "data": {
      "image/png": "[encoded data removed]",
      "text/plain": [
       "<IPython.core.display.Image object>"
      ]
     },
     "metadata": {
      "image/png": {
       "height": 20,
       "width": 20
      }
     },
     "output_type": "display_data"
    },
    {
     "name": "stdout",
     "output_type": "stream",
     "text": [
      "Label:  H\n"
     ]
    },
    {
     "data": {
      "image/png": "[encoded data removed]",
      "text/plain": [
       "<IPython.core.display.Image object>"
      ]
     },
     "metadata": {
      "image/png": {
       "height": 20,
       "width": 20
      }
     },
     "output_type": "display_data"
    },
    {
     "data": {
      "image/png": "[encoded data removed]",
      "text/plain": [
       "<IPython.core.display.Image object>"
      ]
     },
     "metadata": {
      "image/png": {
       "height": 20,
       "width": 20
      }
     },
     "output_type": "display_data"
    },
    {
     "data": {
      "image/png": "[encoded data removed]",
      "text/plain": [
       "<IPython.core.display.Image object>"
      ]
     },
     "metadata": {
      "image/png": {
       "height": 20,
       "width": 20
      }
     },
     "output_type": "display_data"
    },
    {
     "data": {
      "image/png": "[encoded data removed]",
      "text/plain": [
       "<IPython.core.display.Image object>"
      ]
     },
     "metadata": {
      "image/png": {
       "height": 20,
       "width": 20
      }
     },
     "output_type": "display_data"
    },
    {
     "data": {
      "image/png": "[encoded data removed]",
      "text/plain": [
       "<IPython.core.display.Image object>"
      ]
     },
     "metadata": {
      "image/png": {
       "height": 20,
       "width": 20
      }
     },
     "output_type": "display_data"
    },
    {
     "name": "stdout",
     "output_type": "stream",
     "text": [
      "Label:  I\n"
     ]
    },
    {
     "data": {
      "image/png": "[encoded data removed]",
      "text/plain": [
       "<IPython.core.display.Image object>"
      ]
     },
     "metadata": {
      "image/png": {
       "height": 20,
       "width": 20
      }
     },
     "output_type": "display_data"
    },
    {
     "data": {
      "image/png": "[encoded data removed]",
      "text/plain": [
       "<IPython.core.display.Image object>"
      ]
     },
     "metadata": {
      "image/png": {
       "height": 20,
       "width": 20
      }
     },
     "output_type": "display_data"
    },
    {
     "data": {
      "image/png": "[encoded data removed]",
      "text/plain": [
       "<IPython.core.display.Image object>"
      ]
     },
     "metadata": {
      "image/png": {
       "height": 20,
       "width": 20
      }
     },
     "output_type": "display_data"
    },
    {
     "data": {
      "image/png": "[encoded data removed]",
      "text/plain": [
       "<IPython.core.display.Image object>"
      ]
     },
     "metadata": {
      "image/png": {
       "height": 20,
       "width": 20
      }
     },
     "output_type": "display_data"
    },
    {
     "data": {
      "image/png": "[encoded data removed]",
      "text/plain": [
       "<IPython.core.display.Image object>"
      ]
     },
     "metadata": {
      "image/png": {
       "height": 20,
       "width": 20
      }
     },
     "output_type": "display_data"
    },
    {
     "name": "stdout",
     "output_type": "stream",
     "text": [
      "Label:  J\n"
     ]
    },
    {
     "data": {
      "image/png": "[encoded data removed]",
      "text/plain": [
       "<IPython.core.display.Image object>"
      ]
     },
     "metadata": {
      "image/png": {
       "height": 20,
       "width": 20
      }
     },
     "output_type": "display_data"
    },
    {
     "data": {
      "image/png": "[encoded data removed]",
      "text/plain": [
       "<IPython.core.display.Image object>"
      ]
     },
     "metadata": {
      "image/png": {
       "height": 20,
       "width": 20
      }
     },
     "output_type": "display_data"
    },
    {
     "data": {
      "image/png": "[encoded data removed]",
      "text/plain": [
       "<IPython.core.display.Image object>"
      ]
     },
     "metadata": {
      "image/png": {
       "height": 20,
       "width": 20
      }
     },
     "output_type": "display_data"
    },
    {
     "data": {
      "image/png": "[encoded data removed]",
      "text/plain": [
       "<IPython.core.display.Image object>"
      ]
     },
     "metadata": {
      "image/png": {
       "height": 20,
       "width": 20
      }
     },
     "output_type": "display_data"
    },
    {
     "data": {
      "image/png": "[encoded data removed]",
      "text/plain": [
       "<IPython.core.display.Image object>"
      ]
     },
     "metadata": {
      "image/png": {
       "height": 20,
       "width": 20
      }
     },
     "output_type": "display_data"
    }
   ],
   "source": [
    "import random\n",
    "\n",
    "# Visualise a sample of each label\n",
    "def display_images(filename, samples_per_label):\n",
    "    print ('Displaying images in: ', filename)\n",
    "    folder = os.path.join(data_root, filename)\n",
    "    for label in sorted(os.listdir(folder)):\n",
    "        if(label.endswith('.pickle') == False):\n",
    "            print ('Label: ', label)\n",
    "            label_folder = os.path.join(folder, label)\n",
    "            dirs = os.listdir(label_folder)\n",
    "            random.shuffle(dirs)\n",
    "            for image in dirs[:samples_per_label]:\n",
    "                display(Image(filename=os.path.join(label_folder, image), width=20.0, height=20.0))\n",
    "            \n",
    "display_images('notMNIST_large', 5)\n",
    "display_images('notMNIST_small', 5)"
   ]
  },
  {
   "cell_type": "code",
   "execution_count": 5,
   "metadata": {},
   "outputs": [],
   "source": [
    "def saveAsPickle(data,filename):\n",
    "    try:\n",
    "        with open(filename, 'wb') as f:\n",
    "            pickle.dump(data, f, pickle.HIGHEST_PROTOCOL)\n",
    "            print (filename + \" pickled!\")\n",
    "    except Exception as e:\n",
    "        print('Unable to save data to', filename, ':', e)\n",
    "        \n",
    "def loadPickle(file):\n",
    "    with open(file, 'rb') as pickle_file:\n",
    "        return pickle.load(pickle_file)"
   ]
  },
  {
   "cell_type": "code",
   "execution_count": 6,
   "metadata": {},
   "outputs": [
    {
     "name": "stdout",
     "output_type": "stream",
     "text": [
      "./dataset/notmnist/notMNIST_large/A.pickle already present - Skipping pickling.\n",
      "./dataset/notmnist/notMNIST_large/B.pickle already present - Skipping pickling.\n",
      "./dataset/notmnist/notMNIST_large/C.pickle already present - Skipping pickling.\n",
      "./dataset/notmnist/notMNIST_large/D.pickle already present - Skipping pickling.\n",
      "./dataset/notmnist/notMNIST_large/E.pickle already present - Skipping pickling.\n",
      "./dataset/notmnist/notMNIST_large/F.pickle already present - Skipping pickling.\n",
      "./dataset/notmnist/notMNIST_large/G.pickle already present - Skipping pickling.\n",
      "./dataset/notmnist/notMNIST_large/H.pickle already present - Skipping pickling.\n",
      "./dataset/notmnist/notMNIST_large/I.pickle already present - Skipping pickling.\n",
      "./dataset/notmnist/notMNIST_large/J.pickle already present - Skipping pickling.\n",
      "./dataset/notmnist/notMNIST_small/A.pickle already present - Skipping pickling.\n",
      "./dataset/notmnist/notMNIST_small/B.pickle already present - Skipping pickling.\n",
      "./dataset/notmnist/notMNIST_small/C.pickle already present - Skipping pickling.\n",
      "./dataset/notmnist/notMNIST_small/D.pickle already present - Skipping pickling.\n",
      "./dataset/notmnist/notMNIST_small/E.pickle already present - Skipping pickling.\n",
      "./dataset/notmnist/notMNIST_small/F.pickle already present - Skipping pickling.\n",
      "./dataset/notmnist/notMNIST_small/G.pickle already present - Skipping pickling.\n",
      "./dataset/notmnist/notMNIST_small/H.pickle already present - Skipping pickling.\n",
      "./dataset/notmnist/notMNIST_small/I.pickle already present - Skipping pickling.\n",
      "./dataset/notmnist/notMNIST_small/J.pickle already present - Skipping pickling.\n"
     ]
    }
   ],
   "source": [
    "image_size = 28  # Pixel width and height.\n",
    "pixel_depth = 255.0  # Number of levels per pixel.\n",
    "\n",
    "def load_letter(folder, min_num_images):\n",
    "    \"\"\"Load the data for a single letter label.\"\"\"\n",
    "    image_files = os.listdir(folder)\n",
    "    dataset = np.ndarray(shape=(len(image_files), image_size, image_size), dtype=np.float32)\n",
    "    print(folder)\n",
    "    num_images = 0\n",
    "    for image in image_files:\n",
    "        image_file = os.path.join(folder, image)\n",
    "        try:\n",
    "            image_data = (imageio.imread(image_file).astype(float) - pixel_depth / 2) / pixel_depth\n",
    "            if image_data.shape != (image_size, image_size):\n",
    "                raise Exception('Unexpected image shape: %s' % str(image_data.shape))\n",
    "            dataset[num_images, :, :] = image_data\n",
    "            num_images = num_images + 1\n",
    "        except (IOError, ValueError) as e:\n",
    "            print('Could not read:', image_file, ':', e, '- it\\'s ok, skipping.')\n",
    "    \n",
    "    dataset = dataset[0:num_images, :, :]\n",
    "    if num_images < min_num_images:\n",
    "        raise Exception('Many fewer images than expected: %d < %d' % (num_images, min_num_images))\n",
    "    \n",
    "    print('Full dataset tensor:', dataset.shape)\n",
    "    print('Mean:', np.mean(dataset))\n",
    "    print('Standard deviation:', np.std(dataset))\n",
    "    return dataset\n",
    "        \n",
    "def maybe_pickle(data_folders, min_num_images_per_class, force=False):\n",
    "    dataset_names = []\n",
    "    for folder in data_folders:\n",
    "        set_filename = folder + '.pickle'\n",
    "        dataset_names.append(set_filename)\n",
    "        if os.path.exists(set_filename) and not force:\n",
    "            # You may override by setting force=True.\n",
    "            print('%s already present - Skipping pickling.' % set_filename)\n",
    "        else:\n",
    "            print('Pickling %s.' % set_filename)\n",
    "            dataset = load_letter(folder, min_num_images_per_class)\n",
    "            try:\n",
    "                with open(set_filename, 'wb') as f:\n",
    "                    pickle.dump(dataset, f, pickle.HIGHEST_PROTOCOL)\n",
    "            except Exception as e:\n",
    "                print('Unable to save data to', set_filename, ':', e)\n",
    "  \n",
    "    return dataset_names\n",
    "\n",
    "train_datasets = maybe_pickle(train_folders, 45000)\n",
    "test_datasets = maybe_pickle(test_folders, 1800)"
   ]
  },
  {
   "cell_type": "code",
   "execution_count": 7,
   "metadata": {},
   "outputs": [
    {
     "name": "stdout",
     "output_type": "stream",
     "text": [
      "Displaying pickles from train dataset\n"
     ]
    },
    {
     "data": {
      "image/png": "[encoded data removed]",
      "text/plain": [
       "<Figure size 720x720 with 50 Axes>"
      ]
     },
     "metadata": {
      "needs_background": "light"
     },
     "output_type": "display_data"
    },
    {
     "name": "stdout",
     "output_type": "stream",
     "text": [
      "Displaying pickles from test dataset\n"
     ]
    },
    {
     "data": {
      "image/png": "[encoded data removed]",
      "text/plain": [
       "<Figure size 720x720 with 50 Axes>"
      ]
     },
     "metadata": {
      "needs_background": "light"
     },
     "output_type": "display_data"
    }
   ],
   "source": [
    "plt.rcParams['figure.figsize'] = (10.0, 10.0) # set default size of plots\n",
    "labels = ['A', 'B', 'C', 'D', 'E', 'F', 'G', 'H', 'I', 'J']\n",
    "num_labels = len(labels)\n",
    "\n",
    "def display_pickle(dataset, samples_per_label):\n",
    "    for y, label in enumerate(labels):\n",
    "        pickles = pickle.load(open(dataset[y], 'rb'))\n",
    "        idxs = np.random.choice(pickles.shape[0], samples_per_label, replace=False)\n",
    "        for i, idx in enumerate(idxs):\n",
    "            plt_idx = i * num_labels + y + 1\n",
    "            plt.subplot(samples_per_label, num_labels, plt_idx)\n",
    "            plt.imshow(pickles[idx, :, :])\n",
    "            plt.axis('off')\n",
    "            if i == 0:\n",
    "                plt.title(label)\n",
    "    plt.show()\n",
    "    \n",
    "\n",
    "print ('Displaying pickles from train dataset')\n",
    "display_pickle(train_datasets, 5)\n",
    "print ('Displaying pickles from test dataset')\n",
    "display_pickle(test_datasets, 5)"
   ]
  },
  {
   "cell_type": "code",
   "execution_count": 8,
   "metadata": {},
   "outputs": [
    {
     "name": "stdout",
     "output_type": "stream",
     "text": [
      "Train dataset already exists\n",
      "Validation dataset already exists\n",
      "Test dataset already exists\n"
     ]
    }
   ],
   "source": [
    "img_size = image_size\n",
    "new_size = (28, 56)\n",
    "\n",
    "def make_arrays(nb_rows, size):\n",
    "    if nb_rows:\n",
    "        dataset = np.ndarray((nb_rows, size[0], size[1]), dtype=np.float32)\n",
    "        labels = np.ndarray((nb_rows, 5), dtype=np.int32)\n",
    "    else:\n",
    "        dataset, labels = None, None\n",
    "    return dataset, labels\n",
    "\n",
    "def merge_datasets(pickle_files, dataset_size):\n",
    "    dataset, labels = make_arrays(dataset_size, new_size)\n",
    "    pickles = []\n",
    "    for i in range(10):\n",
    "        pickles.append(pickle.load(open(pickle_files[i], 'rb')))\n",
    "\n",
    "    for i in range(dataset_size):\n",
    "        # Generate a random label with max length 5 chars\n",
    "        data_length  = np.random.choice(5, 1)[0] + 1\n",
    "#         data_length = 5\n",
    "        random_chars = np.random.choice(10, data_length)\n",
    "#         random_chars = np.random.choice(9, data_length)\n",
    "        data_label   = np.append(random_chars, np.full(5 - data_length, 10, dtype=int))\n",
    "        \n",
    "        chars = []\n",
    "        \n",
    "        for char in random_chars:\n",
    "            index = np.random.choice(len(pickles[char]), 1)\n",
    "            chars.append(np.reshape(pickles[char][index, :, :], (img_size, img_size)))\n",
    "\n",
    "        image = np.ndarray((img_size, data_length * img_size))\n",
    "        \n",
    "        for idx, char in enumerate(chars):\n",
    "            image[:, img_size*idx:img_size*(idx+1)] = char\n",
    "\n",
    "        image = skimage.transform.resize(image, new_size)\n",
    "\n",
    "        dataset[i] = image\n",
    "        labels[i]  = data_label\n",
    "    return (dataset, labels)\n",
    "\n",
    "if not os.path.exists(os.path.join(data_root, 'train_no_length.pickle')):\n",
    "    train = merge_datasets(train_datasets, 200000)\n",
    "    saveAsPickle(train, os.path.join(data_root, 'train_no_length.pickle'))\n",
    "else:\n",
    "    print('Train dataset already exists')\n",
    "    train = loadPickle(os.path.join(data_root, 'train_no_length.pickle'))\n",
    "if not os.path.exists(os.path.join(data_root, 'valid_no_length.pickle')):\n",
    "    valid = merge_datasets(train_datasets, 5000)\n",
    "    saveAsPickle(valid, os.path.join(data_root, 'valid_no_length.pickle'))\n",
    "else:\n",
    "    print('Validation dataset already exists')\n",
    "    valid = loadPickle(os.path.join(data_root, 'valid_no_length.pickle'))\n",
    "if not os.path.exists(os.path.join(data_root, 'test_no_length.pickle')):\n",
    "    test  = merge_datasets(test_datasets, 10000)\n",
    "    saveAsPickle(test, os.path.join(data_root, 'test_no_length.pickle'))\n",
    "else:\n",
    "    print('Test dataset already exists')\n",
    "    test  = loadPickle(os.path.join(data_root, 'test_no_length.pickle'))"
   ]
  },
  {
   "cell_type": "code",
   "execution_count": 9,
   "metadata": {},
   "outputs": [],
   "source": [
    "def randomize(dataset, labels):\n",
    "    permutation = np.random.permutation(labels.shape[0])\n",
    "    shuffled_dataset = dataset[permutation,:,:]\n",
    "    shuffled_labels = labels[permutation]\n",
    "    return shuffled_dataset, shuffled_labels\n",
    "\n",
    "train_dataset, train_labels = randomize(train[0], train[1])\n",
    "test_dataset, test_labels = randomize(test[0], test[1])\n",
    "valid_dataset, valid_labels = randomize(valid[0], valid[1])"
   ]
  },
  {
   "cell_type": "code",
   "execution_count": 10,
   "metadata": {},
   "outputs": [
    {
     "name": "stdout",
     "output_type": "stream",
     "text": [
      "Displaying training images\n",
      "[[5 8 6 3 6]\n",
      " [8 5 3 4 1]\n",
      " [6 8 0 0 6]]\n"
     ]
    },
    {
     "data": {
      "image/png": "[encoded data removed]",
      "text/plain": [
       "<Figure size 720x720 with 3 Axes>"
      ]
     },
     "metadata": {
      "needs_background": "light"
     },
     "output_type": "display_data"
    },
    {
     "name": "stdout",
     "output_type": "stream",
     "text": [
      "Displaying test images\n",
      "[[1 8 5 2 5]\n",
      " [0 0 7 0 1]\n",
      " [0 4 1 6 7]]\n"
     ]
    },
    {
     "data": {
      "image/png": "[encoded data removed]",
      "text/plain": [
       "<Figure size 720x720 with 3 Axes>"
      ]
     },
     "metadata": {
      "needs_background": "light"
     },
     "output_type": "display_data"
    },
    {
     "name": "stdout",
     "output_type": "stream",
     "text": [
      "Displaying validation images\n",
      "[[0 5 4 0 0]\n",
      " [5 4 2 0 6]\n",
      " [2 8 6 2 8]]\n"
     ]
    },
    {
     "data": {
      "image/png": "[encoded data removed]",
      "text/plain": [
       "<Figure size 720x720 with 3 Axes>"
      ]
     },
     "metadata": {
      "needs_background": "light"
     },
     "output_type": "display_data"
    }
   ],
   "source": [
    "def display_dataset(dataset, labels, samples_per_label):\n",
    "    idxs = np.random.choice(dataset.shape[0], samples_per_label, replace=False)\n",
    "    for i, idx in enumerate(idxs):\n",
    "        plt_idx = i + 1\n",
    "        plt.subplot(1, samples_per_label, plt_idx)\n",
    "        plt.imshow(dataset[idx])\n",
    "        plt.axis('off')\n",
    "    print(labels[idxs])\n",
    "    plt.show()\n",
    "    \n",
    "print ('Displaying training images')\n",
    "display_dataset(train_dataset, train_labels, 3)\n",
    "print ('Displaying test images')\n",
    "display_dataset(test_dataset, test_labels, 3)\n",
    "print ('Displaying validation images')\n",
    "display_dataset(valid_dataset, valid_labels, 3)"
   ]
  },
  {
   "cell_type": "code",
   "execution_count": 11,
   "metadata": {},
   "outputs": [
    {
     "name": "stdout",
     "output_type": "stream",
     "text": [
      "Training set (200000, 28, 56, 1) (200000, 5, 11)\n",
      "Validation set (5000, 28, 56, 1) (5000, 5, 11)\n",
      "Test set (10000, 28, 56, 1) (10000, 5, 11)\n"
     ]
    }
   ],
   "source": [
    "new_size = (28, 56)\n",
    "num_labels = 11\n",
    "num_channels = 1 # grayscale\n",
    "\n",
    "import numpy as np\n",
    "\n",
    "def reformat(dataset, labels):\n",
    "    dataset = dataset.reshape((-1, new_size[0], new_size[1], num_channels)).astype(np.float32)\n",
    "    labels = np.eye(11)[labels]\n",
    "    \n",
    "    return dataset, labels\n",
    "\n",
    "train_dataset, train_labels = reformat(train_dataset, train_labels)\n",
    "valid_dataset, valid_labels = reformat(valid_dataset, valid_labels)\n",
    "test_dataset, test_labels = reformat(test_dataset, test_labels)\n",
    "\n",
    "print('Training set', train_dataset.shape, train_labels.shape)\n",
    "print('Validation set', valid_dataset.shape, valid_labels.shape)\n",
    "print('Test set', test_dataset.shape, test_labels.shape)"
   ]
  },
  {
   "cell_type": "markdown",
   "metadata": {},
   "source": [
    "## Network"
   ]
  },
  {
   "cell_type": "code",
   "execution_count": 12,
   "metadata": {},
   "outputs": [],
   "source": [
    "def accuracy(predictions, labels):\n",
    "    predictions = np.transpose(predictions, (1, 0, 2))\n",
    "    global_acc = 100.0 * np.mean(np.prod(np.argmax(predictions, 2) == np.argmax(labels, 2), 1))\n",
    "    individual_acc = 100 *np.mean(np.argmax(predictions,2) == np.argmax(labels, 2), 0)\n",
    "    return [global_acc, individual_acc]"
   ]
  },
  {
   "cell_type": "code",
   "execution_count": 27,
   "metadata": {},
   "outputs": [],
   "source": [
    "batch_size = 32\n",
    "patch_size = 5\n",
    "depth = 16\n",
    "num_hidden = 64\n",
    "image_size = (28, 56)\n",
    "num_outputs = 5\n",
    "\n",
    "graph = tf.Graph()\n",
    "\n",
    "with graph.as_default():\n",
    "\n",
    "    # Input data.\n",
    "    tf_dataset = tf.placeholder(tf.float32, shape=(None, image_size[0], image_size[1], num_channels), name='data')\n",
    "    tf_labels  = tf.placeholder(tf.float32, shape=(None, num_outputs, num_labels), name='labels')\n",
    "    tf_learning_rate = tf.placeholder(tf.float32, name='learning_rate')\n",
    "  \n",
    "    # Variables.\n",
    "    ## First convolutional layer\n",
    "    with tf.name_scope('conv1/'):\n",
    "        conv1_weights = tf.Variable(tf.truncated_normal(\n",
    "            [patch_size, patch_size, num_channels, depth], stddev=0.1), name='conv1_w')\n",
    "        conv1_biases  = tf.Variable(tf.zeros(shape=[depth]), name='conv1_b')\n",
    "    \n",
    "    ## Second convolutional layer\n",
    "    with tf.name_scope('conv2/'):\n",
    "        conv2_weights = tf.Variable(tf.truncated_normal(\n",
    "            [patch_size, patch_size, depth, depth], stddev=0.1), name='conv2_w')\n",
    "        conv2_biases  = tf.Variable(tf.constant(1.0, shape=[depth]), name='conv2_b')\n",
    "    \n",
    "    ## fully connected layer\n",
    "    with tf.name_scope('fc1/'):\n",
    "        fc1_weights = tf.Variable(tf.truncated_normal(\n",
    "            [image_size[0] // 4 * image_size[1] // 4 * depth, num_hidden], stddev=0.1), name='fc1_w')\n",
    "        fc1_biases  = tf.Variable(tf.constant(1.0, shape=[num_hidden]), name= 'fc1_b')\n",
    "                                \n",
    "    with tf.name_scope('fc2/'):\n",
    "        fc2_weights = tf.Variable(tf.truncated_normal(\n",
    "            [num_hidden, num_hidden], stddev=0.1), name='fc2_w')\n",
    "        fc2_biases  = tf.Variable(tf.constant(1.0, shape=[num_hidden]), name= 'fc2_b')\n",
    "    \n",
    "    ## softmax\n",
    "    with tf.name_scope('digit1/'):\n",
    "        softmax1_weights = tf.Variable(tf.truncated_normal([num_hidden, num_labels], stddev=0.1), name='digit1_w')\n",
    "        softmax1_biases  = tf.Variable(tf.constant(1.0, shape=[num_labels]), name='digit1_b')\n",
    "    \n",
    "    with tf.name_scope('digit2/'):\n",
    "        softmax2_weights = tf.Variable(tf.truncated_normal([num_hidden, num_labels], stddev=0.1), name='digit2_w')\n",
    "        softmax2_biases  = tf.Variable(tf.constant(1.0, shape=[num_labels]), name='digit2_b')\n",
    "    \n",
    "    with tf.name_scope('digit3/'):\n",
    "        softmax3_weights = tf.Variable(tf.truncated_normal([num_hidden, num_labels], stddev=0.1), name='digit3_w')\n",
    "        softmax3_biases  = tf.Variable(tf.constant(1.0, shape=[num_labels]), name='digit3_b')\n",
    "    \n",
    "    with tf.name_scope('digit4/'):\n",
    "        softmax4_weights = tf.Variable(tf.truncated_normal([num_hidden, num_labels], stddev=0.1), name='digit4_w')\n",
    "        softmax4_biases  = tf.Variable(tf.constant(1.0, shape=[num_labels]), name='digit4_b')\n",
    "    \n",
    "    with tf.name_scope('digit5/'):\n",
    "        softmax5_weights = tf.Variable(tf.truncated_normal([num_hidden, num_labels], stddev=0.1), name='digit5_w')\n",
    "        softmax5_biases  = tf.Variable(tf.constant(1.0, shape=[num_labels]), name='digit5_b')\n",
    "  \n",
    "    # Model.\n",
    "    def model(data):\n",
    "        # first conv\n",
    "        with tf.name_scope('conv1/'):\n",
    "            conv   = tf.nn.conv2d(data, conv1_weights, [1, 1, 1, 1], padding='SAME')\n",
    "            conv   = tf.nn.relu(conv + conv1_biases)\n",
    "            hidden = tf.nn.max_pool(conv, ksize=[1, 2, 2, 1], strides=[1, 2, 2, 1], padding='SAME')\n",
    "        \n",
    "        # second conv\n",
    "        with tf.name_scope('conv2/'):\n",
    "            conv   = tf.nn.conv2d(hidden, conv2_weights, [1, 1, 1, 1], padding='SAME')\n",
    "            conv   = tf.nn.relu(conv + conv2_biases)\n",
    "            hidden = tf.nn.max_pool(conv, ksize=[1, 2, 2, 1], strides=[1, 2, 2, 1], padding='SAME')\n",
    "        \n",
    "        # flatten\n",
    "        with tf.name_scope('flatten/'):\n",
    "            shape   = hidden.get_shape().as_list()\n",
    "            reshape = tf.reshape(hidden, [-1, shape[1] * shape[2] * shape[3]])\n",
    "        \n",
    "        # fc1\n",
    "        with tf.name_scope('fc1/'):\n",
    "            hidden  = tf.nn.relu(tf.matmul(reshape, fc1_weights) + fc1_biases)\n",
    "        \n",
    "        # fc2\n",
    "        with tf.name_scope('fc2/'):\n",
    "            hidden = tf.nn.relu(tf.matmul(hidden, fc2_weights) + fc2_biases)\n",
    "        \n",
    "        # classifiers\n",
    "        with tf.name_scope('digit1/'):\n",
    "            classifier1 = tf.matmul(hidden, softmax1_weights) + softmax1_biases\n",
    "        with tf.name_scope('digit2/'):\n",
    "            classifier2 = tf.matmul(hidden, softmax2_weights) + softmax2_biases\n",
    "        with tf.name_scope('digit3/'):\n",
    "            classifier3 = tf.matmul(hidden, softmax3_weights) + softmax3_biases\n",
    "        with tf.name_scope('digit4/'):\n",
    "            classifier4 = tf.matmul(hidden, softmax4_weights) + softmax4_biases\n",
    "        with tf.name_scope('digit5/'):\n",
    "            classifier5 = tf.matmul(hidden, softmax5_weights) + softmax5_biases\n",
    "        \n",
    "        return [classifier1, classifier2, classifier3, classifier4, classifier5]\n",
    "  \n",
    "    # Training computation.\n",
    "    logits = model(tf_dataset)\n",
    "    \n",
    "    total_loss = 0\n",
    "    for i in range(len(logits)):\n",
    "        with tf.name_scope(f'digit{i+1}/'):\n",
    "            loss = tf.reduce_mean(tf.nn.softmax_cross_entropy_with_logits_v2(\n",
    "                labels=tf_labels[:, i], logits=logits[i]))\n",
    "            tf.summary.scalar(f'loss{i+1}', loss)\n",
    "            total_loss += loss\n",
    "    tf.summary.scalar('total_loss', total_loss)\n",
    "    \n",
    "    # Optimizer.\n",
    "    optimizer = tf.train.GradientDescentOptimizer(tf_learning_rate)\n",
    "    grads_and_vars = optimizer.compute_gradients(total_loss)\n",
    "    minimize = optimizer.minimize(total_loss)\n",
    "    \n",
    "    # Gradient norm summary\n",
    "    for g,v in grads_and_vars:\n",
    "        if 'fc2_w' in v.name:\n",
    "            with tf.name_scope('gradients'):\n",
    "                tf_last_grad_norm = tf.sqrt(tf.reduce_mean(g**2))\n",
    "                tf.summary.scalar('grad_norm', tf_last_grad_norm)\n",
    "                break\n",
    "  \n",
    "    merged = tf.summary.merge_all()\n",
    "    # Predictions\n",
    "    def prediction(logits):\n",
    "        prediction = []\n",
    "        for i in range(len(logits)):\n",
    "            with tf.name_scope(f'prediction{i+1}'):\n",
    "                prediction.append(tf.nn.softmax(logits[i]))\n",
    "        return tf.stack(prediction)\n",
    "    \n",
    "    predictions = prediction(logits)\n"
   ]
  },
  {
   "cell_type": "code",
   "execution_count": 28,
   "metadata": {},
   "outputs": [],
   "source": [
    "def printStatistics(dataset ,loss, accuracies):\n",
    "    print(f'\\t{dataset} loss: {loss}')\n",
    "    print(f'\\t{dataset} accuracy: {accuracies[0]:.2f}%')\n",
    "    for i in range(len(accuracies[1])):\n",
    "        print(f'\\tDigit{i}: {accuracies[1][i]:.2f}%')\n",
    "            "
   ]
  },
  {
   "cell_type": "code",
   "execution_count": null,
   "metadata": {},
   "outputs": [
    {
     "name": "stdout",
     "output_type": "stream",
     "text": [
      "Initialized\n",
      "step 0:\n",
      "\tTrain loss: 16.47400665283203\n",
      "\tTrain accuracy: 0.00%\n",
      "\tDigit0: 12.50%\n",
      "\tDigit1: 0.00%\n",
      "\tDigit2: 3.12%\n",
      "\tDigit3: 6.25%\n",
      "\tDigit4: 0.00%\n",
      "\tValidation loss: 24.695037841796875\n",
      "\tValidation accuracy: 0.00%\n",
      "\tDigit0: 11.88%\n",
      "\tDigit1: 11.62%\n",
      "\tDigit2: 10.48%\n",
      "\tDigit3: 11.72%\n",
      "\tDigit4: 11.16%\n",
      "step 100:\n",
      "\tTrain loss: 11.07287883758545\n",
      "\tTrain accuracy: 0.00%\n",
      "\tDigit0: 9.38%\n",
      "\tDigit1: 12.50%\n",
      "\tDigit2: 12.50%\n",
      "\tDigit3: 15.62%\n",
      "\tDigit4: 21.88%\n",
      "\tValidation loss: 11.081823348999023\n",
      "\tValidation accuracy: 0.00%\n",
      "\tDigit0: 11.48%\n",
      "\tDigit1: 12.04%\n",
      "\tDigit2: 11.50%\n",
      "\tDigit3: 11.70%\n",
      "\tDigit4: 11.32%\n",
      "step 200:\n",
      "\tTrain loss: 10.447803497314453\n",
      "\tTrain accuracy: 3.12%\n",
      "\tDigit0: 31.25%\n",
      "\tDigit1: 12.50%\n",
      "\tDigit2: 18.75%\n",
      "\tDigit3: 15.62%\n",
      "\tDigit4: 25.00%\n",
      "\tValidation loss: 10.572127342224121\n",
      "\tValidation accuracy: 0.00%\n",
      "\tDigit0: 20.54%\n",
      "\tDigit1: 17.28%\n",
      "\tDigit2: 18.34%\n",
      "\tDigit3: 19.30%\n",
      "\tDigit4: 21.66%\n",
      "step 300:\n",
      "\tTrain loss: 9.515077590942383\n",
      "\tTrain accuracy: 0.00%\n",
      "\tDigit0: 18.75%\n",
      "\tDigit1: 31.25%\n",
      "\tDigit2: 43.75%\n",
      "\tDigit3: 28.12%\n",
      "\tDigit4: 34.38%\n",
      "\tValidation loss: 9.202491760253906\n",
      "\tValidation accuracy: 0.24%\n",
      "\tDigit0: 29.38%\n",
      "\tDigit1: 24.62%\n",
      "\tDigit2: 36.64%\n",
      "\tDigit3: 39.36%\n",
      "\tDigit4: 34.20%\n",
      "step 400:\n",
      "\tTrain loss: 8.043278694152832\n",
      "\tTrain accuracy: 0.00%\n",
      "\tDigit0: 28.12%\n",
      "\tDigit1: 28.12%\n",
      "\tDigit2: 40.62%\n",
      "\tDigit3: 40.62%\n",
      "\tDigit4: 59.38%\n",
      "\tValidation loss: 9.5689058303833\n",
      "\tValidation accuracy: 0.16%\n",
      "\tDigit0: 28.64%\n",
      "\tDigit1: 35.36%\n",
      "\tDigit2: 19.34%\n",
      "\tDigit3: 32.72%\n",
      "\tDigit4: 36.60%\n",
      "step 500:\n",
      "\tTrain loss: 6.577394485473633\n",
      "\tTrain accuracy: 6.25%\n",
      "\tDigit0: 65.62%\n",
      "\tDigit1: 59.38%\n",
      "\tDigit2: 53.12%\n",
      "\tDigit3: 53.12%\n",
      "\tDigit4: 53.12%\n",
      "\tValidation loss: 7.104189395904541\n",
      "\tValidation accuracy: 2.12%\n",
      "\tDigit0: 53.24%\n",
      "\tDigit1: 47.50%\n",
      "\tDigit2: 52.86%\n",
      "\tDigit3: 46.24%\n",
      "\tDigit4: 51.52%\n",
      "step 600:\n",
      "\tTrain loss: 6.18305778503418\n",
      "\tTrain accuracy: 12.50%\n",
      "\tDigit0: 59.38%\n",
      "\tDigit1: 56.25%\n",
      "\tDigit2: 59.38%\n",
      "\tDigit3: 53.12%\n",
      "\tDigit4: 68.75%\n",
      "\tValidation loss: 6.195615291595459\n",
      "\tValidation accuracy: 5.36%\n",
      "\tDigit0: 57.06%\n",
      "\tDigit1: 52.56%\n",
      "\tDigit2: 58.98%\n",
      "\tDigit3: 57.46%\n",
      "\tDigit4: 62.56%\n",
      "step 700:\n",
      "\tTrain loss: 5.552310466766357\n",
      "\tTrain accuracy: 6.25%\n",
      "\tDigit0: 56.25%\n",
      "\tDigit1: 68.75%\n",
      "\tDigit2: 56.25%\n",
      "\tDigit3: 71.88%\n",
      "\tDigit4: 62.50%\n",
      "\tValidation loss: 5.386534690856934\n",
      "\tValidation accuracy: 9.88%\n",
      "\tDigit0: 61.60%\n",
      "\tDigit1: 61.56%\n",
      "\tDigit2: 64.08%\n",
      "\tDigit3: 69.24%\n",
      "\tDigit4: 65.78%\n",
      "step 800:\n",
      "\tTrain loss: 5.224832534790039\n",
      "\tTrain accuracy: 6.25%\n",
      "\tDigit0: 50.00%\n",
      "\tDigit1: 65.62%\n",
      "\tDigit2: 56.25%\n",
      "\tDigit3: 68.75%\n",
      "\tDigit4: 75.00%\n",
      "\tValidation loss: 5.358016014099121\n",
      "\tValidation accuracy: 10.76%\n",
      "\tDigit0: 65.68%\n",
      "\tDigit1: 61.74%\n",
      "\tDigit2: 65.66%\n",
      "\tDigit3: 62.40%\n",
      "\tDigit4: 70.38%\n",
      "step 900:\n",
      "\tTrain loss: 4.1517014503479\n",
      "\tTrain accuracy: 15.62%\n",
      "\tDigit0: 59.38%\n",
      "\tDigit1: 68.75%\n",
      "\tDigit2: 84.38%\n",
      "\tDigit3: 71.88%\n",
      "\tDigit4: 84.38%\n",
      "\tValidation loss: 4.698704719543457\n",
      "\tValidation accuracy: 16.56%\n",
      "\tDigit0: 70.52%\n",
      "\tDigit1: 69.52%\n",
      "\tDigit2: 71.78%\n",
      "\tDigit3: 69.94%\n",
      "\tDigit4: 74.70%\n",
      "step 1000:\n",
      "\tTrain loss: 3.675408363342285\n",
      "\tTrain accuracy: 31.25%\n",
      "\tDigit0: 68.75%\n",
      "\tDigit1: 90.62%\n",
      "\tDigit2: 84.38%\n",
      "\tDigit3: 84.38%\n",
      "\tDigit4: 71.88%\n",
      "\tValidation loss: 4.2128472328186035\n",
      "\tValidation accuracy: 21.64%\n",
      "\tDigit0: 76.20%\n",
      "\tDigit1: 74.12%\n",
      "\tDigit2: 72.94%\n",
      "\tDigit3: 74.82%\n",
      "\tDigit4: 74.42%\n",
      "step 1100:\n",
      "\tTrain loss: 4.342464923858643\n",
      "\tTrain accuracy: 15.62%\n",
      "\tDigit0: 75.00%\n",
      "\tDigit1: 62.50%\n",
      "\tDigit2: 78.12%\n",
      "\tDigit3: 81.25%\n",
      "\tDigit4: 65.62%\n",
      "\tValidation loss: 4.518028736114502\n",
      "\tValidation accuracy: 20.10%\n",
      "\tDigit0: 69.22%\n",
      "\tDigit1: 73.16%\n",
      "\tDigit2: 74.72%\n",
      "\tDigit3: 74.30%\n",
      "\tDigit4: 75.14%\n",
      "step 1200:\n",
      "\tTrain loss: 3.5160787105560303\n",
      "\tTrain accuracy: 34.38%\n",
      "\tDigit0: 71.88%\n",
      "\tDigit1: 68.75%\n",
      "\tDigit2: 78.12%\n",
      "\tDigit3: 84.38%\n",
      "\tDigit4: 84.38%\n",
      "\tValidation loss: 3.958977222442627\n",
      "\tValidation accuracy: 26.00%\n",
      "\tDigit0: 78.16%\n",
      "\tDigit1: 75.76%\n",
      "\tDigit2: 76.26%\n",
      "\tDigit3: 77.08%\n",
      "\tDigit4: 77.90%\n",
      "step 1300:\n",
      "\tTrain loss: 3.120595932006836\n",
      "\tTrain accuracy: 37.50%\n",
      "\tDigit0: 81.25%\n",
      "\tDigit1: 71.88%\n",
      "\tDigit2: 84.38%\n",
      "\tDigit3: 84.38%\n",
      "\tDigit4: 78.12%\n",
      "\tValidation loss: 3.6604723930358887\n",
      "\tValidation accuracy: 29.08%\n",
      "\tDigit0: 77.88%\n",
      "\tDigit1: 77.30%\n",
      "\tDigit2: 78.96%\n",
      "\tDigit3: 80.28%\n",
      "\tDigit4: 79.08%\n",
      "step 1400:\n",
      "\tTrain loss: 4.015152454376221\n",
      "\tTrain accuracy: 31.25%\n",
      "\tDigit0: 75.00%\n",
      "\tDigit1: 90.62%\n",
      "\tDigit2: 68.75%\n",
      "\tDigit3: 84.38%\n",
      "\tDigit4: 78.12%\n",
      "\tValidation loss: 3.6541175842285156\n",
      "\tValidation accuracy: 29.06%\n",
      "\tDigit0: 78.84%\n",
      "\tDigit1: 77.98%\n",
      "\tDigit2: 79.52%\n",
      "\tDigit3: 78.76%\n",
      "\tDigit4: 79.24%\n",
      "step 1500:\n",
      "\tTrain loss: 4.1400041580200195\n",
      "\tTrain accuracy: 31.25%\n",
      "\tDigit0: 78.12%\n",
      "\tDigit1: 87.50%\n",
      "\tDigit2: 75.00%\n",
      "\tDigit3: 75.00%\n",
      "\tDigit4: 62.50%\n",
      "\tValidation loss: 3.96433687210083\n",
      "\tValidation accuracy: 23.90%\n",
      "\tDigit0: 79.00%\n",
      "\tDigit1: 78.28%\n",
      "\tDigit2: 68.44%\n",
      "\tDigit3: 76.52%\n",
      "\tDigit4: 77.68%\n",
      "step 1600:\n",
      "\tTrain loss: 2.6785871982574463\n",
      "\tTrain accuracy: 46.88%\n",
      "\tDigit0: 68.75%\n",
      "\tDigit1: 87.50%\n",
      "\tDigit2: 84.38%\n",
      "\tDigit3: 84.38%\n",
      "\tDigit4: 93.75%\n",
      "\tValidation loss: 3.491370439529419\n",
      "\tValidation accuracy: 31.54%\n",
      "\tDigit0: 77.76%\n",
      "\tDigit1: 78.82%\n",
      "\tDigit2: 81.04%\n",
      "\tDigit3: 79.16%\n",
      "\tDigit4: 81.40%\n",
      "step 1700:\n",
      "\tTrain loss: 3.319624423980713\n",
      "\tTrain accuracy: 28.12%\n",
      "\tDigit0: 87.50%\n",
      "\tDigit1: 75.00%\n",
      "\tDigit2: 81.25%\n",
      "\tDigit3: 81.25%\n",
      "\tDigit4: 71.88%\n",
      "\tValidation loss: 3.3859992027282715\n",
      "\tValidation accuracy: 31.92%\n",
      "\tDigit0: 81.98%\n",
      "\tDigit1: 79.60%\n",
      "\tDigit2: 77.48%\n",
      "\tDigit3: 81.92%\n",
      "\tDigit4: 80.28%\n",
      "step 1800:\n",
      "\tTrain loss: 2.2581639289855957\n",
      "\tTrain accuracy: 40.62%\n",
      "\tDigit0: 84.38%\n",
      "\tDigit1: 81.25%\n",
      "\tDigit2: 93.75%\n",
      "\tDigit3: 81.25%\n",
      "\tDigit4: 81.25%\n",
      "\tValidation loss: 3.498448610305786\n",
      "\tValidation accuracy: 32.14%\n",
      "\tDigit0: 77.88%\n",
      "\tDigit1: 79.80%\n",
      "\tDigit2: 81.12%\n",
      "\tDigit3: 80.60%\n",
      "\tDigit4: 80.40%\n",
      "step 1900:\n",
      "\tTrain loss: 2.466954231262207\n",
      "\tTrain accuracy: 40.62%\n",
      "\tDigit0: 84.38%\n",
      "\tDigit1: 93.75%\n",
      "\tDigit2: 81.25%\n",
      "\tDigit3: 81.25%\n",
      "\tDigit4: 81.25%\n",
      "\tValidation loss: 3.1345882415771484\n",
      "\tValidation accuracy: 35.62%\n",
      "\tDigit0: 82.02%\n",
      "\tDigit1: 80.86%\n",
      "\tDigit2: 82.52%\n",
      "\tDigit3: 82.12%\n",
      "\tDigit4: 81.04%\n",
      "step 2000:\n",
      "\tTrain loss: 1.8598511219024658\n",
      "\tTrain accuracy: 53.12%\n",
      "\tDigit0: 84.38%\n",
      "\tDigit1: 90.62%\n",
      "\tDigit2: 90.62%\n",
      "\tDigit3: 87.50%\n",
      "\tDigit4: 87.50%\n",
      "\tValidation loss: 3.104978084564209\n",
      "\tValidation accuracy: 36.86%\n",
      "\tDigit0: 82.16%\n",
      "\tDigit1: 81.26%\n",
      "\tDigit2: 82.44%\n",
      "\tDigit3: 82.88%\n",
      "\tDigit4: 81.66%\n",
      "step 2100:\n",
      "\tTrain loss: 2.9267358779907227\n",
      "\tTrain accuracy: 40.62%\n",
      "\tDigit0: 75.00%\n",
      "\tDigit1: 81.25%\n",
      "\tDigit2: 87.50%\n",
      "\tDigit3: 90.62%\n",
      "\tDigit4: 90.62%\n",
      "\tValidation loss: 3.1578712463378906\n",
      "\tValidation accuracy: 35.58%\n",
      "\tDigit0: 80.40%\n",
      "\tDigit1: 81.30%\n",
      "\tDigit2: 81.46%\n",
      "\tDigit3: 82.62%\n",
      "\tDigit4: 82.14%\n",
      "step 2200:\n",
      "\tTrain loss: 3.0645925998687744\n",
      "\tTrain accuracy: 43.75%\n",
      "\tDigit0: 81.25%\n",
      "\tDigit1: 78.12%\n",
      "\tDigit2: 93.75%\n",
      "\tDigit3: 78.12%\n",
      "\tDigit4: 90.62%\n",
      "\tValidation loss: 3.125044584274292\n",
      "\tValidation accuracy: 34.98%\n",
      "\tDigit0: 80.86%\n",
      "\tDigit1: 81.40%\n",
      "\tDigit2: 83.12%\n",
      "\tDigit3: 80.56%\n",
      "\tDigit4: 81.60%\n",
      "step 2300:\n",
      "\tTrain loss: 2.3525166511535645\n",
      "\tTrain accuracy: 56.25%\n",
      "\tDigit0: 78.12%\n",
      "\tDigit1: 90.62%\n",
      "\tDigit2: 84.38%\n",
      "\tDigit3: 93.75%\n",
      "\tDigit4: 87.50%\n",
      "\tValidation loss: 3.191202163696289\n",
      "\tValidation accuracy: 34.94%\n",
      "\tDigit0: 80.14%\n",
      "\tDigit1: 80.44%\n",
      "\tDigit2: 81.40%\n",
      "\tDigit3: 83.10%\n",
      "\tDigit4: 82.08%\n",
      "step 2400:\n",
      "\tTrain loss: 2.9845004081726074\n",
      "\tTrain accuracy: 40.62%\n",
      "\tDigit0: 84.38%\n",
      "\tDigit1: 78.12%\n",
      "\tDigit2: 81.25%\n",
      "\tDigit3: 81.25%\n",
      "\tDigit4: 90.62%\n",
      "\tValidation loss: 2.9721553325653076\n",
      "\tValidation accuracy: 37.10%\n",
      "\tDigit0: 83.10%\n",
      "\tDigit1: 81.48%\n",
      "\tDigit2: 80.50%\n",
      "\tDigit3: 83.32%\n",
      "\tDigit4: 83.30%\n",
      "step 2500:\n",
      "\tTrain loss: 2.8692760467529297\n",
      "\tTrain accuracy: 37.50%\n",
      "\tDigit0: 68.75%\n",
      "\tDigit1: 84.38%\n",
      "\tDigit2: 90.62%\n",
      "\tDigit3: 87.50%\n",
      "\tDigit4: 81.25%\n",
      "\tValidation loss: 3.023653745651245\n",
      "\tValidation accuracy: 36.74%\n",
      "\tDigit0: 82.14%\n",
      "\tDigit1: 82.06%\n",
      "\tDigit2: 82.14%\n",
      "\tDigit3: 82.36%\n",
      "\tDigit4: 83.22%\n",
      "step 2600:\n",
      "\tTrain loss: 2.7761754989624023\n",
      "\tTrain accuracy: 37.50%\n",
      "\tDigit0: 90.62%\n",
      "\tDigit1: 84.38%\n",
      "\tDigit2: 78.12%\n",
      "\tDigit3: 93.75%\n",
      "\tDigit4: 71.88%\n",
      "\tValidation loss: 2.861513376235962\n",
      "\tValidation accuracy: 39.94%\n",
      "\tDigit0: 83.88%\n",
      "\tDigit1: 83.00%\n",
      "\tDigit2: 83.52%\n",
      "\tDigit3: 84.08%\n",
      "\tDigit4: 82.18%\n",
      "step 2700:\n",
      "\tTrain loss: 2.756761074066162\n",
      "\tTrain accuracy: 53.12%\n",
      "\tDigit0: 78.12%\n",
      "\tDigit1: 93.75%\n",
      "\tDigit2: 84.38%\n",
      "\tDigit3: 90.62%\n",
      "\tDigit4: 90.62%\n",
      "\tValidation loss: 2.9134464263916016\n",
      "\tValidation accuracy: 38.66%\n",
      "\tDigit0: 82.00%\n",
      "\tDigit1: 82.74%\n",
      "\tDigit2: 83.40%\n",
      "\tDigit3: 83.22%\n",
      "\tDigit4: 82.86%\n",
      "step 2800:\n",
      "\tTrain loss: 3.209731101989746\n",
      "\tTrain accuracy: 37.50%\n",
      "\tDigit0: 75.00%\n",
      "\tDigit1: 84.38%\n",
      "\tDigit2: 84.38%\n",
      "\tDigit3: 71.88%\n",
      "\tDigit4: 84.38%\n"
     ]
    },
    {
     "name": "stdout",
     "output_type": "stream",
     "text": [
      "\tValidation loss: 2.9598324298858643\n",
      "\tValidation accuracy: 38.34%\n",
      "\tDigit0: 83.68%\n",
      "\tDigit1: 82.30%\n",
      "\tDigit2: 83.82%\n",
      "\tDigit3: 83.92%\n",
      "\tDigit4: 80.68%\n",
      "step 2900:\n",
      "\tTrain loss: 2.9569292068481445\n",
      "\tTrain accuracy: 34.38%\n",
      "\tDigit0: 87.50%\n",
      "\tDigit1: 90.62%\n",
      "\tDigit2: 81.25%\n",
      "\tDigit3: 81.25%\n",
      "\tDigit4: 71.88%\n",
      "\tValidation loss: 2.94423246383667\n",
      "\tValidation accuracy: 37.40%\n",
      "\tDigit0: 83.28%\n",
      "\tDigit1: 83.30%\n",
      "\tDigit2: 81.74%\n",
      "\tDigit3: 83.84%\n",
      "\tDigit4: 81.30%\n",
      "step 3000:\n",
      "\tTrain loss: 2.271864891052246\n",
      "\tTrain accuracy: 37.50%\n",
      "\tDigit0: 90.62%\n",
      "\tDigit1: 87.50%\n",
      "\tDigit2: 75.00%\n",
      "\tDigit3: 84.38%\n",
      "\tDigit4: 84.38%\n",
      "\tValidation loss: 2.8642914295196533\n",
      "\tValidation accuracy: 38.86%\n",
      "\tDigit0: 83.18%\n",
      "\tDigit1: 81.60%\n",
      "\tDigit2: 83.38%\n",
      "\tDigit3: 83.90%\n",
      "\tDigit4: 84.04%\n",
      "step 3100:\n",
      "\tTrain loss: 2.028778076171875\n",
      "\tTrain accuracy: 59.38%\n",
      "\tDigit0: 90.62%\n",
      "\tDigit1: 84.38%\n",
      "\tDigit2: 96.88%\n",
      "\tDigit3: 90.62%\n",
      "\tDigit4: 90.62%\n",
      "\tValidation loss: 2.897639036178589\n",
      "\tValidation accuracy: 38.14%\n",
      "\tDigit0: 83.62%\n",
      "\tDigit1: 81.62%\n",
      "\tDigit2: 83.26%\n",
      "\tDigit3: 83.26%\n",
      "\tDigit4: 82.94%\n",
      "step 3200:\n",
      "\tTrain loss: 2.406575918197632\n",
      "\tTrain accuracy: 46.88%\n",
      "\tDigit0: 87.50%\n",
      "\tDigit1: 81.25%\n",
      "\tDigit2: 87.50%\n",
      "\tDigit3: 84.38%\n",
      "\tDigit4: 78.12%\n",
      "\tValidation loss: 2.919675827026367\n",
      "\tValidation accuracy: 38.72%\n",
      "\tDigit0: 82.94%\n",
      "\tDigit1: 82.74%\n",
      "\tDigit2: 83.72%\n",
      "\tDigit3: 83.56%\n",
      "\tDigit4: 81.96%\n",
      "step 3300:\n",
      "\tTrain loss: 2.9314680099487305\n",
      "\tTrain accuracy: 43.75%\n",
      "\tDigit0: 87.50%\n",
      "\tDigit1: 84.38%\n",
      "\tDigit2: 68.75%\n",
      "\tDigit3: 81.25%\n",
      "\tDigit4: 84.38%\n",
      "\tValidation loss: 2.886927843093872\n",
      "\tValidation accuracy: 39.90%\n",
      "\tDigit0: 83.12%\n",
      "\tDigit1: 82.22%\n",
      "\tDigit2: 83.80%\n",
      "\tDigit3: 83.92%\n",
      "\tDigit4: 83.66%\n",
      "step 3400:\n",
      "\tTrain loss: 3.233994483947754\n",
      "\tTrain accuracy: 28.12%\n",
      "\tDigit0: 84.38%\n",
      "\tDigit1: 68.75%\n",
      "\tDigit2: 84.38%\n",
      "\tDigit3: 81.25%\n",
      "\tDigit4: 78.12%\n",
      "\tValidation loss: 2.9589526653289795\n",
      "\tValidation accuracy: 38.46%\n",
      "\tDigit0: 82.96%\n",
      "\tDigit1: 84.04%\n",
      "\tDigit2: 84.38%\n",
      "\tDigit3: 82.54%\n",
      "\tDigit4: 81.04%\n",
      "step 3500:\n",
      "\tTrain loss: 2.9355764389038086\n",
      "\tTrain accuracy: 34.38%\n",
      "\tDigit0: 84.38%\n",
      "\tDigit1: 84.38%\n",
      "\tDigit2: 84.38%\n",
      "\tDigit3: 81.25%\n",
      "\tDigit4: 78.12%\n",
      "\tValidation loss: 2.8065216541290283\n",
      "\tValidation accuracy: 40.34%\n",
      "\tDigit0: 83.64%\n",
      "\tDigit1: 83.10%\n",
      "\tDigit2: 84.16%\n",
      "\tDigit3: 84.72%\n",
      "\tDigit4: 82.80%\n",
      "step 3600:\n",
      "\tTrain loss: 2.422760248184204\n",
      "\tTrain accuracy: 31.25%\n",
      "\tDigit0: 75.00%\n",
      "\tDigit1: 84.38%\n",
      "\tDigit2: 81.25%\n",
      "\tDigit3: 84.38%\n",
      "\tDigit4: 93.75%\n",
      "\tValidation loss: 2.778397560119629\n",
      "\tValidation accuracy: 40.28%\n",
      "\tDigit0: 83.48%\n",
      "\tDigit1: 83.02%\n",
      "\tDigit2: 83.10%\n",
      "\tDigit3: 85.08%\n",
      "\tDigit4: 83.58%\n",
      "step 3700:\n",
      "\tTrain loss: 3.1983909606933594\n",
      "\tTrain accuracy: 37.50%\n",
      "\tDigit0: 68.75%\n",
      "\tDigit1: 81.25%\n",
      "\tDigit2: 96.88%\n",
      "\tDigit3: 81.25%\n",
      "\tDigit4: 87.50%\n",
      "\tValidation loss: 2.8192057609558105\n",
      "\tValidation accuracy: 39.78%\n",
      "\tDigit0: 82.06%\n",
      "\tDigit1: 82.46%\n",
      "\tDigit2: 84.56%\n",
      "\tDigit3: 84.26%\n",
      "\tDigit4: 84.22%\n",
      "step 3800:\n",
      "\tTrain loss: 3.41568660736084\n",
      "\tTrain accuracy: 31.25%\n",
      "\tDigit0: 71.88%\n",
      "\tDigit1: 96.88%\n",
      "\tDigit2: 81.25%\n",
      "\tDigit3: 71.88%\n",
      "\tDigit4: 81.25%\n",
      "\tValidation loss: 2.7696046829223633\n",
      "\tValidation accuracy: 40.52%\n",
      "\tDigit0: 82.56%\n",
      "\tDigit1: 83.72%\n",
      "\tDigit2: 84.62%\n",
      "\tDigit3: 83.82%\n",
      "\tDigit4: 83.60%\n",
      "step 3900:\n",
      "\tTrain loss: 2.707836389541626\n",
      "\tTrain accuracy: 50.00%\n",
      "\tDigit0: 87.50%\n",
      "\tDigit1: 100.00%\n",
      "\tDigit2: 75.00%\n",
      "\tDigit3: 90.62%\n",
      "\tDigit4: 78.12%\n",
      "\tValidation loss: 2.741591691970825\n",
      "\tValidation accuracy: 39.54%\n",
      "\tDigit0: 84.26%\n",
      "\tDigit1: 82.70%\n",
      "\tDigit2: 85.10%\n",
      "\tDigit3: 83.22%\n",
      "\tDigit4: 83.30%\n",
      "step 4000:\n",
      "\tTrain loss: 3.039177417755127\n",
      "\tTrain accuracy: 40.62%\n",
      "\tDigit0: 81.25%\n",
      "\tDigit1: 75.00%\n",
      "\tDigit2: 90.62%\n",
      "\tDigit3: 90.62%\n",
      "\tDigit4: 75.00%\n",
      "\tValidation loss: 2.722414493560791\n",
      "\tValidation accuracy: 41.46%\n",
      "\tDigit0: 84.44%\n",
      "\tDigit1: 83.10%\n",
      "\tDigit2: 84.58%\n",
      "\tDigit3: 85.22%\n",
      "\tDigit4: 84.42%\n",
      "step 4100:\n",
      "\tTrain loss: 2.3555240631103516\n",
      "\tTrain accuracy: 50.00%\n",
      "\tDigit0: 96.88%\n",
      "\tDigit1: 81.25%\n",
      "\tDigit2: 84.38%\n",
      "\tDigit3: 81.25%\n",
      "\tDigit4: 90.62%\n",
      "\tValidation loss: 2.7117762565612793\n",
      "\tValidation accuracy: 41.84%\n",
      "\tDigit0: 83.20%\n",
      "\tDigit1: 84.60%\n",
      "\tDigit2: 85.46%\n",
      "\tDigit3: 83.04%\n",
      "\tDigit4: 84.88%\n",
      "step 4200:\n",
      "\tTrain loss: 2.0126304626464844\n",
      "\tTrain accuracy: 53.12%\n",
      "\tDigit0: 93.75%\n",
      "\tDigit1: 93.75%\n",
      "\tDigit2: 84.38%\n",
      "\tDigit3: 87.50%\n",
      "\tDigit4: 87.50%\n",
      "\tValidation loss: 2.568856716156006\n",
      "\tValidation accuracy: 43.66%\n",
      "\tDigit0: 84.14%\n",
      "\tDigit1: 85.16%\n",
      "\tDigit2: 85.36%\n",
      "\tDigit3: 85.14%\n",
      "\tDigit4: 85.02%\n",
      "step 4300:\n",
      "\tTrain loss: 2.9071402549743652\n",
      "\tTrain accuracy: 37.50%\n",
      "\tDigit0: 90.62%\n",
      "\tDigit1: 93.75%\n",
      "\tDigit2: 71.88%\n",
      "\tDigit3: 81.25%\n",
      "\tDigit4: 75.00%\n",
      "\tValidation loss: 2.739738702774048\n",
      "\tValidation accuracy: 40.52%\n",
      "\tDigit0: 84.12%\n",
      "\tDigit1: 83.88%\n",
      "\tDigit2: 84.66%\n",
      "\tDigit3: 85.48%\n",
      "\tDigit4: 81.12%\n",
      "step 4400:\n",
      "\tTrain loss: 2.8570556640625\n",
      "\tTrain accuracy: 31.25%\n",
      "\tDigit0: 75.00%\n",
      "\tDigit1: 84.38%\n",
      "\tDigit2: 81.25%\n",
      "\tDigit3: 90.62%\n",
      "\tDigit4: 81.25%\n",
      "\tValidation loss: 2.703051805496216\n",
      "\tValidation accuracy: 41.46%\n",
      "\tDigit0: 83.26%\n",
      "\tDigit1: 85.02%\n",
      "\tDigit2: 85.60%\n",
      "\tDigit3: 83.36%\n",
      "\tDigit4: 84.34%\n",
      "step 4500:\n",
      "\tTrain loss: 2.794368267059326\n",
      "\tTrain accuracy: 34.38%\n",
      "\tDigit0: 90.62%\n",
      "\tDigit1: 78.12%\n",
      "\tDigit2: 87.50%\n",
      "\tDigit3: 87.50%\n",
      "\tDigit4: 78.12%\n",
      "\tValidation loss: 2.755164623260498\n",
      "\tValidation accuracy: 41.92%\n",
      "\tDigit0: 83.98%\n",
      "\tDigit1: 82.68%\n",
      "\tDigit2: 85.30%\n",
      "\tDigit3: 84.64%\n",
      "\tDigit4: 84.34%\n",
      "step 4600:\n",
      "\tTrain loss: 2.8511290550231934\n",
      "\tTrain accuracy: 37.50%\n",
      "\tDigit0: 81.25%\n",
      "\tDigit1: 84.38%\n",
      "\tDigit2: 84.38%\n",
      "\tDigit3: 84.38%\n",
      "\tDigit4: 78.12%\n",
      "\tValidation loss: 2.5486867427825928\n",
      "\tValidation accuracy: 44.14%\n",
      "\tDigit0: 85.04%\n",
      "\tDigit1: 84.88%\n",
      "\tDigit2: 85.52%\n",
      "\tDigit3: 85.14%\n",
      "\tDigit4: 85.02%\n",
      "step 4700:\n",
      "\tTrain loss: 2.634207010269165\n",
      "\tTrain accuracy: 50.00%\n",
      "\tDigit0: 90.62%\n",
      "\tDigit1: 84.38%\n",
      "\tDigit2: 75.00%\n",
      "\tDigit3: 87.50%\n",
      "\tDigit4: 90.62%\n",
      "\tValidation loss: 2.631770133972168\n",
      "\tValidation accuracy: 42.58%\n",
      "\tDigit0: 84.92%\n",
      "\tDigit1: 83.34%\n",
      "\tDigit2: 84.90%\n",
      "\tDigit3: 85.50%\n",
      "\tDigit4: 84.28%\n",
      "step 4800:\n",
      "\tTrain loss: 2.7255921363830566\n",
      "\tTrain accuracy: 31.25%\n",
      "\tDigit0: 93.75%\n",
      "\tDigit1: 65.62%\n",
      "\tDigit2: 90.62%\n",
      "\tDigit3: 78.12%\n",
      "\tDigit4: 90.62%\n",
      "\tValidation loss: 2.5327301025390625\n",
      "\tValidation accuracy: 44.68%\n",
      "\tDigit0: 85.00%\n",
      "\tDigit1: 84.88%\n",
      "\tDigit2: 86.42%\n",
      "\tDigit3: 86.14%\n",
      "\tDigit4: 84.30%\n",
      "step 4900:\n",
      "\tTrain loss: 2.3373119831085205\n",
      "\tTrain accuracy: 53.12%\n",
      "\tDigit0: 78.12%\n",
      "\tDigit1: 90.62%\n",
      "\tDigit2: 87.50%\n",
      "\tDigit3: 84.38%\n",
      "\tDigit4: 93.75%\n",
      "\tValidation loss: 2.6124486923217773\n",
      "\tValidation accuracy: 44.04%\n",
      "\tDigit0: 85.16%\n",
      "\tDigit1: 85.16%\n",
      "\tDigit2: 85.76%\n",
      "\tDigit3: 84.20%\n",
      "\tDigit4: 84.80%\n",
      "step 5000:\n",
      "\tTrain loss: 2.029745578765869\n",
      "\tTrain accuracy: 46.88%\n",
      "\tDigit0: 87.50%\n",
      "\tDigit1: 90.62%\n",
      "\tDigit2: 81.25%\n",
      "\tDigit3: 87.50%\n",
      "\tDigit4: 87.50%\n",
      "\tValidation loss: 2.692600965499878\n",
      "\tValidation accuracy: 41.52%\n",
      "\tDigit0: 84.84%\n",
      "\tDigit1: 83.64%\n",
      "\tDigit2: 84.54%\n",
      "\tDigit3: 85.48%\n",
      "\tDigit4: 82.36%\n",
      "step 5100:\n",
      "\tTrain loss: 2.7667484283447266\n",
      "\tTrain accuracy: 34.38%\n",
      "\tDigit0: 87.50%\n",
      "\tDigit1: 78.12%\n",
      "\tDigit2: 84.38%\n",
      "\tDigit3: 84.38%\n",
      "\tDigit4: 84.38%\n",
      "\tValidation loss: 2.546626091003418\n",
      "\tValidation accuracy: 44.32%\n",
      "\tDigit0: 85.46%\n",
      "\tDigit1: 85.16%\n",
      "\tDigit2: 84.88%\n",
      "\tDigit3: 86.00%\n",
      "\tDigit4: 84.98%\n",
      "step 5200:\n",
      "\tTrain loss: 2.7891407012939453\n",
      "\tTrain accuracy: 31.25%\n",
      "\tDigit0: 81.25%\n",
      "\tDigit1: 81.25%\n",
      "\tDigit2: 87.50%\n",
      "\tDigit3: 75.00%\n",
      "\tDigit4: 84.38%\n",
      "\tValidation loss: 2.579526901245117\n",
      "\tValidation accuracy: 42.14%\n",
      "\tDigit0: 84.08%\n",
      "\tDigit1: 84.28%\n",
      "\tDigit2: 85.54%\n",
      "\tDigit3: 85.04%\n",
      "\tDigit4: 84.92%\n",
      "step 5300:\n",
      "\tTrain loss: 2.388644218444824\n",
      "\tTrain accuracy: 43.75%\n",
      "\tDigit0: 84.38%\n",
      "\tDigit1: 87.50%\n",
      "\tDigit2: 81.25%\n",
      "\tDigit3: 75.00%\n",
      "\tDigit4: 93.75%\n",
      "\tValidation loss: 2.4868476390838623\n",
      "\tValidation accuracy: 44.46%\n",
      "\tDigit0: 84.58%\n",
      "\tDigit1: 85.36%\n",
      "\tDigit2: 85.88%\n",
      "\tDigit3: 85.16%\n",
      "\tDigit4: 85.90%\n",
      "step 5400:\n",
      "\tTrain loss: 3.084902286529541\n",
      "\tTrain accuracy: 37.50%\n",
      "\tDigit0: 81.25%\n",
      "\tDigit1: 87.50%\n",
      "\tDigit2: 78.12%\n",
      "\tDigit3: 81.25%\n",
      "\tDigit4: 75.00%\n",
      "\tValidation loss: 2.5606417655944824\n",
      "\tValidation accuracy: 44.18%\n",
      "\tDigit0: 85.10%\n",
      "\tDigit1: 82.94%\n",
      "\tDigit2: 86.08%\n",
      "\tDigit3: 86.10%\n",
      "\tDigit4: 85.54%\n",
      "step 5500:\n",
      "\tTrain loss: 2.4623446464538574\n",
      "\tTrain accuracy: 59.38%\n",
      "\tDigit0: 78.12%\n",
      "\tDigit1: 78.12%\n",
      "\tDigit2: 90.62%\n",
      "\tDigit3: 96.88%\n",
      "\tDigit4: 87.50%\n",
      "\tValidation loss: 2.5474534034729004\n",
      "\tValidation accuracy: 43.28%\n",
      "\tDigit0: 84.66%\n",
      "\tDigit1: 84.46%\n",
      "\tDigit2: 86.18%\n",
      "\tDigit3: 85.02%\n",
      "\tDigit4: 84.68%\n",
      "step 5600:\n",
      "\tTrain loss: 1.551795244216919\n",
      "\tTrain accuracy: 65.62%\n",
      "\tDigit0: 84.38%\n",
      "\tDigit1: 100.00%\n",
      "\tDigit2: 87.50%\n",
      "\tDigit3: 100.00%\n",
      "\tDigit4: 81.25%\n",
      "\tValidation loss: 2.5052566528320312\n",
      "\tValidation accuracy: 44.74%\n",
      "\tDigit0: 85.22%\n",
      "\tDigit1: 85.02%\n",
      "\tDigit2: 85.94%\n",
      "\tDigit3: 86.22%\n",
      "\tDigit4: 84.68%\n"
     ]
    },
    {
     "name": "stdout",
     "output_type": "stream",
     "text": [
      "step 5700:\n",
      "\tTrain loss: 3.531794548034668\n",
      "\tTrain accuracy: 34.38%\n",
      "\tDigit0: 84.38%\n",
      "\tDigit1: 84.38%\n",
      "\tDigit2: 87.50%\n",
      "\tDigit3: 87.50%\n",
      "\tDigit4: 78.12%\n",
      "\tValidation loss: 2.533970832824707\n",
      "\tValidation accuracy: 44.46%\n",
      "\tDigit0: 85.70%\n",
      "\tDigit1: 84.86%\n",
      "\tDigit2: 85.30%\n",
      "\tDigit3: 85.60%\n",
      "\tDigit4: 85.40%\n",
      "step 5800:\n",
      "\tTrain loss: 1.735201120376587\n",
      "\tTrain accuracy: 75.00%\n",
      "\tDigit0: 93.75%\n",
      "\tDigit1: 87.50%\n",
      "\tDigit2: 96.88%\n",
      "\tDigit3: 96.88%\n",
      "\tDigit4: 96.88%\n",
      "\tValidation loss: 2.56758189201355\n",
      "\tValidation accuracy: 44.36%\n",
      "\tDigit0: 84.88%\n",
      "\tDigit1: 84.34%\n",
      "\tDigit2: 85.86%\n",
      "\tDigit3: 85.30%\n",
      "\tDigit4: 85.88%\n",
      "step 5900:\n",
      "\tTrain loss: 2.8645753860473633\n",
      "\tTrain accuracy: 37.50%\n",
      "\tDigit0: 87.50%\n",
      "\tDigit1: 90.62%\n",
      "\tDigit2: 78.12%\n",
      "\tDigit3: 78.12%\n",
      "\tDigit4: 84.38%\n",
      "\tValidation loss: 2.5232362747192383\n",
      "\tValidation accuracy: 44.76%\n",
      "\tDigit0: 84.80%\n",
      "\tDigit1: 85.82%\n",
      "\tDigit2: 85.86%\n",
      "\tDigit3: 84.94%\n",
      "\tDigit4: 85.58%\n",
      "step 6000:\n",
      "\tTrain loss: 1.4960745573043823\n",
      "\tTrain accuracy: 68.75%\n",
      "\tDigit0: 84.38%\n",
      "\tDigit1: 96.88%\n",
      "\tDigit2: 96.88%\n",
      "\tDigit3: 87.50%\n",
      "\tDigit4: 96.88%\n",
      "\tValidation loss: 2.5285634994506836\n",
      "\tValidation accuracy: 44.26%\n",
      "\tDigit0: 85.96%\n",
      "\tDigit1: 84.88%\n",
      "\tDigit2: 85.58%\n",
      "\tDigit3: 84.70%\n",
      "\tDigit4: 85.28%\n",
      "step 6100:\n",
      "\tTrain loss: 2.3888614177703857\n",
      "\tTrain accuracy: 46.88%\n",
      "\tDigit0: 84.38%\n",
      "\tDigit1: 78.12%\n",
      "\tDigit2: 84.38%\n",
      "\tDigit3: 84.38%\n",
      "\tDigit4: 90.62%\n",
      "\tValidation loss: 2.5223565101623535\n",
      "\tValidation accuracy: 44.54%\n",
      "\tDigit0: 83.96%\n",
      "\tDigit1: 84.46%\n",
      "\tDigit2: 86.32%\n",
      "\tDigit3: 86.06%\n",
      "\tDigit4: 86.08%\n",
      "step 6200:\n",
      "\tTrain loss: 2.616684913635254\n",
      "\tTrain accuracy: 40.62%\n",
      "\tDigit0: 78.12%\n",
      "\tDigit1: 81.25%\n",
      "\tDigit2: 90.62%\n",
      "\tDigit3: 78.12%\n",
      "\tDigit4: 90.62%\n",
      "\tValidation loss: 2.525672435760498\n",
      "\tValidation accuracy: 44.58%\n",
      "\tDigit0: 84.58%\n",
      "\tDigit1: 84.62%\n",
      "\tDigit2: 85.42%\n",
      "\tDigit3: 86.38%\n",
      "\tDigit4: 85.48%\n",
      "step 6300:\n",
      "\tTrain loss: 1.9090325832366943\n",
      "\tTrain accuracy: 62.50%\n",
      "\tDigit0: 87.50%\n",
      "\tDigit1: 100.00%\n",
      "\tDigit2: 84.38%\n",
      "\tDigit3: 90.62%\n",
      "\tDigit4: 96.88%\n",
      "\tValidation loss: 2.4452133178710938\n",
      "\tValidation accuracy: 45.56%\n",
      "\tDigit0: 84.88%\n",
      "\tDigit1: 85.60%\n",
      "\tDigit2: 86.06%\n",
      "\tDigit3: 86.28%\n",
      "\tDigit4: 86.04%\n",
      "step 6400:\n",
      "\tTrain loss: 1.9912388324737549\n",
      "\tTrain accuracy: 50.00%\n",
      "\tDigit0: 87.50%\n",
      "\tDigit1: 90.62%\n",
      "\tDigit2: 90.62%\n",
      "\tDigit3: 87.50%\n",
      "\tDigit4: 81.25%\n",
      "\tValidation loss: 2.474630117416382\n",
      "\tValidation accuracy: 45.26%\n",
      "\tDigit0: 84.40%\n",
      "\tDigit1: 85.74%\n",
      "\tDigit2: 85.82%\n",
      "\tDigit3: 85.90%\n",
      "\tDigit4: 85.66%\n",
      "step 6500:\n",
      "\tTrain loss: 2.631577491760254\n",
      "\tTrain accuracy: 46.88%\n",
      "\tDigit0: 81.25%\n",
      "\tDigit1: 87.50%\n",
      "\tDigit2: 78.12%\n",
      "\tDigit3: 93.75%\n",
      "\tDigit4: 81.25%\n",
      "\tValidation loss: 2.4464919567108154\n",
      "\tValidation accuracy: 45.06%\n",
      "\tDigit0: 85.02%\n",
      "\tDigit1: 85.18%\n",
      "\tDigit2: 85.64%\n",
      "\tDigit3: 85.44%\n",
      "\tDigit4: 85.82%\n",
      "step 6600:\n",
      "\tTrain loss: 2.5520830154418945\n",
      "\tTrain accuracy: 50.00%\n",
      "\tDigit0: 84.38%\n",
      "\tDigit1: 90.62%\n",
      "\tDigit2: 75.00%\n",
      "\tDigit3: 87.50%\n",
      "\tDigit4: 87.50%\n",
      "\tValidation loss: 2.5254359245300293\n",
      "\tValidation accuracy: 43.48%\n",
      "\tDigit0: 83.94%\n",
      "\tDigit1: 84.74%\n",
      "\tDigit2: 85.20%\n",
      "\tDigit3: 86.18%\n",
      "\tDigit4: 85.62%\n"
     ]
    }
   ],
   "source": [
    "num_steps = 7001\n",
    "\n",
    "with tf.Session(graph=graph) as session:\n",
    "    if not os.path.exists('summaries'):\n",
    "        os.mkdir('summaries')\n",
    "    writer = tf.summary.FileWriter('summaries', session.graph)\n",
    "    \n",
    "    tf.global_variables_initializer().run()\n",
    "    print('Initialized')\n",
    "    for step in range(num_steps):\n",
    "        offset = (step * batch_size) % (train_labels.shape[0] - batch_size)\n",
    "        batch_data = train_dataset[offset:(offset + batch_size), :, :, :]\n",
    "        batch_labels = train_labels[offset:(offset + batch_size), :]\n",
    "        feed_dict = {tf_dataset: batch_data, tf_labels: batch_labels, tf_learning_rate: 0.05}\n",
    "        _, t_loss, t_predictions, summary = session.run(\n",
    "            [minimize, total_loss, predictions, merged], feed_dict=feed_dict)\n",
    "        if (step % 10 ==0):\n",
    "            writer.add_summary(summary, step)\n",
    "            if (step % 100 == 0):\n",
    "                print(f'step {step}:')\n",
    "                t_accuracies = accuracy(t_predictions, batch_labels)\n",
    "                printStatistics('Train', t_loss, t_accuracies)\n",
    "\n",
    "                # Validation\n",
    "                feed_dict = {tf_dataset: valid_dataset, tf_labels: valid_labels}\n",
    "                v_loss, v_predictions = session.run([total_loss, predictions], feed_dict=feed_dict)\n",
    "                v_accuracies = accuracy(v_predictions, valid_labels)\n",
    "                printStatistics('Validation', v_loss, v_accuracies)\n",
    "            \n",
    "    # Test\n",
    "    feed_dict = {tf_dataset: test_dataset, tf_labels: test_labels}\n",
    "    test_loss, test_predictions = session.run([total_loss, predictions], feed_dict=feed_dict)\n",
    "    test_accuracies = accuracy(test_predictions, test_labels)\n",
    "    printStatistics('Test', test_loss, test_accuracies)"
   ]
  },
  {
   "cell_type": "code",
   "execution_count": null,
   "metadata": {},
   "outputs": [],
   "source": []
  }
 ],
 "metadata": {
  "kernelspec": {
   "display_name": "Python 3",
   "language": "python",
   "name": "python3"
  },
  "language_info": {
   "codemirror_mode": {
    "name": "ipython",
    "version": 3
   },
   "file_extension": ".py",
   "mimetype": "text/x-python",
   "name": "python",
   "nbconvert_exporter": "python",
   "pygments_lexer": "ipython3",
   "version": "3.6.6"
  }
 },
 "nbformat": 4,
 "nbformat_minor": 2
}
